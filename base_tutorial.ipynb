{
 "cells": [
  {
   "cell_type": "markdown",
   "metadata": {},
   "source": [
    "# Julia Tutorial\n",
    "## Why Julia\n",
    "Not all scientific code is vectorizable for easy writing with python.\n",
    "\n",
    "### Example Problem\n",
    "suppose we want to simulate the random variable $X$ with pdf $P(x) = 2x$ where $x\\in[0,1]$, with Metropolis-Hastings, assuming you have access to a uniform random number generator."
   ]
  },
  {
   "cell_type": "code",
   "execution_count": 43,
   "metadata": {},
   "outputs": [
    {
     "data": {
      "text/plain": [
       "10000000"
      ]
     },
     "metadata": {},
     "output_type": "display_data"
    }
   ],
   "source": [
    "using Random\n",
    "rng = MersenneTwister(1234);\n",
    "\n",
    "function target(x)\n",
    "    if 0 <= x <= 1\n",
    "        return 2x\n",
    "    else\n",
    "        return 0\n",
    "    end\n",
    "end\n",
    "\n",
    "function proposal(x)\n",
    "    return x + 0.1 * (rand(rng) - 0.5)\n",
    "end\n",
    "\n",
    "function metropolis(nsamples)\n",
    "    samples = Float64[]\n",
    "    curr = rand()\n",
    "    for _ = 1:nsamples\n",
    "        next = proposal(curr)\n",
    "        accept_ratio = target(next) / target(curr)\n",
    "        if rand(rng) < accept_ratio\n",
    "            curr = next\n",
    "        end\n",
    "        push!(samples, curr)\n",
    "    end\n",
    "    return samples\n",
    "end\n",
    "\n",
    "n_samples = Int(1e7)"
   ]
  },
  {
   "cell_type": "code",
   "execution_count": 44,
   "metadata": {},
   "outputs": [
    {
     "name": "stdout",
     "output_type": "stream",
     "text": [
      "  0.011074 seconds (134 allocations: 6.141 KiB, 99.63% compilation time)\n"
     ]
    },
    {
     "name": "stdout",
     "output_type": "stream",
     "text": [
      "  2.416996 seconds (89.75 M allocations: 1.347 GiB, 3.10% gc time)\n"
     ]
    }
   ],
   "source": [
    "@time pdf = metropolis(1) # compile\n",
    "@time pdf = metropolis(n_samples); # Much faster than python!"
   ]
  },
  {
   "cell_type": "markdown",
   "metadata": {},
   "source": [
    "Also plots take less time (out of the box)"
   ]
  },
  {
   "cell_type": "code",
   "execution_count": 45,
   "metadata": {},
   "outputs": [
    {
     "name": "stdout",
     "output_type": "stream",
     "text": [
      "  0.392537 seconds (5.62 k allocations: 76.490 MiB, 0.46% gc time)\n"
     ]
    },
    {
     "data": {
      "image/png": "[encoded data removed]",
      "image/svg+xml": [
       "<?xml version=\"1.0\" encoding=\"utf-8\"?>\n",
       "<svg xmlns=\"http://www.w3.org/2000/svg\" xmlns:xlink=\"http://www.w3.org/1999/xlink\" width=\"600\" height=\"400\" viewBox=\"0 0 2400 1600\">\n",
       "<defs>\n",
       "  <clipPath id=\"clip260\">\n",
       "    <rect x=\"0\" y=\"0\" width=\"2400\" height=\"1600\"/>\n",
       "  </clipPath>\n",
       "</defs>\n",
       "<path clip-path=\"url(#clip260)\" d=\"M0 1600 L2400 1600 L2400 0 L0 0  Z\" fill=\"#ffffff\" fill-rule=\"evenodd\" fill-opacity=\"1\"/>\n",
       "<defs>\n",
       "  <clipPath id=\"clip261\">\n",
       "    <rect x=\"480\" y=\"0\" width=\"1681\" height=\"1600\"/>\n",
       "  </clipPath>\n",
       "</defs>\n",
       "<path clip-path=\"url(#clip260)\" d=\"M156.112 1486.45 L2352.76 1486.45 L2352.76 47.2441 L156.112 47.2441  Z\" fill=\"#ffffff\" fill-rule=\"evenodd\" fill-opacity=\"1\"/>\n",
       "<defs>\n",
       "  <clipPath id=\"clip262\">\n",
       "    <rect x=\"156\" y=\"47\" width=\"2198\" height=\"1440\"/>\n",
       "  </clipPath>\n",
       "</defs>\n",
       "<polyline clip-path=\"url(#clip262)\" style=\"stroke:#000000; stroke-linecap:round; stroke-linejoin:round; stroke-width:2; stroke-opacity:0.1; fill:none\" points=\"218.281,1486.45 218.281,47.2441 \"/>\n",
       "<polyline clip-path=\"url(#clip262)\" style=\"stroke:#000000; stroke-linecap:round; stroke-linejoin:round; stroke-width:2; stroke-opacity:0.1; fill:none\" points=\"736.358,1486.45 736.358,47.2441 \"/>\n",
       "<polyline clip-path=\"url(#clip262)\" style=\"stroke:#000000; stroke-linecap:round; stroke-linejoin:round; stroke-width:2; stroke-opacity:0.1; fill:none\" points=\"1254.43,1486.45 1254.43,47.2441 \"/>\n",
       "<polyline clip-path=\"url(#clip262)\" style=\"stroke:#000000; stroke-linecap:round; stroke-linejoin:round; stroke-width:2; stroke-opacity:0.1; fill:none\" points=\"1772.51,1486.45 1772.51,47.2441 \"/>\n",
       "<polyline clip-path=\"url(#clip262)\" style=\"stroke:#000000; stroke-linecap:round; stroke-linejoin:round; stroke-width:2; stroke-opacity:0.1; fill:none\" points=\"2290.59,1486.45 2290.59,47.2441 \"/>\n",
       "<polyline clip-path=\"url(#clip260)\" style=\"stroke:#000000; stroke-linecap:round; stroke-linejoin:round; stroke-width:4; stroke-opacity:1; fill:none\" points=\"156.112,1486.45 2352.76,1486.45 \"/>\n",
       "<polyline clip-path=\"url(#clip260)\" style=\"stroke:#000000; stroke-linecap:round; stroke-linejoin:round; stroke-width:4; stroke-opacity:1; fill:none\" points=\"218.281,1486.45 218.281,1467.55 \"/>\n",
       "<polyline clip-path=\"url(#clip260)\" style=\"stroke:#000000; stroke-linecap:round; stroke-linejoin:round; stroke-width:4; stroke-opacity:1; fill:none\" points=\"736.358,1486.45 736.358,1467.55 \"/>\n",
       "<polyline clip-path=\"url(#clip260)\" style=\"stroke:#000000; stroke-linecap:round; stroke-linejoin:round; stroke-width:4; stroke-opacity:1; fill:none\" points=\"1254.43,1486.45 1254.43,1467.55 \"/>\n",
       "<polyline clip-path=\"url(#clip260)\" style=\"stroke:#000000; stroke-linecap:round; stroke-linejoin:round; stroke-width:4; stroke-opacity:1; fill:none\" points=\"1772.51,1486.45 1772.51,1467.55 \"/>\n",
       "<polyline clip-path=\"url(#clip260)\" style=\"stroke:#000000; stroke-linecap:round; stroke-linejoin:round; stroke-width:4; stroke-opacity:1; fill:none\" points=\"2290.59,1486.45 2290.59,1467.55 \"/>\n",
       "<path clip-path=\"url(#clip260)\" d=\"M180.585 1517.37 Q176.974 1517.37 175.145 1520.93 Q173.339 1524.47 173.339 1531.6 Q173.339 1538.71 175.145 1542.27 Q176.974 1545.82 180.585 1545.82 Q184.219 1545.82 186.025 1542.27 Q187.853 1538.71 187.853 1531.6 Q187.853 1524.47 186.025 1520.93 Q184.219 1517.37 180.585 1517.37 M180.585 1513.66 Q186.395 1513.66 189.45 1518.27 Q192.529 1522.85 192.529 1531.6 Q192.529 1540.33 189.45 1544.94 Q186.395 1549.52 180.585 1549.52 Q174.775 1549.52 171.696 1544.94 Q168.64 1540.33 168.64 1531.6 Q168.64 1522.85 171.696 1518.27 Q174.775 1513.66 180.585 1513.66 Z\" fill=\"#000000\" fill-rule=\"nonzero\" fill-opacity=\"1\" /><path clip-path=\"url(#clip260)\" d=\"M200.747 1542.97 L205.631 1542.97 L205.631 1548.85 L200.747 1548.85 L200.747 1542.97 Z\" fill=\"#000000\" fill-rule=\"nonzero\" fill-opacity=\"1\" /><path clip-path=\"url(#clip260)\" d=\"M225.816 1517.37 Q222.205 1517.37 220.376 1520.93 Q218.571 1524.47 218.571 1531.6 Q218.571 1538.71 220.376 1542.27 Q222.205 1545.82 225.816 1545.82 Q229.45 1545.82 231.256 1542.27 Q233.084 1538.71 233.084 1531.6 Q233.084 1524.47 231.256 1520.93 Q229.45 1517.37 225.816 1517.37 M225.816 1513.66 Q231.626 1513.66 234.682 1518.27 Q237.76 1522.85 237.76 1531.6 Q237.76 1540.33 234.682 1544.94 Q231.626 1549.52 225.816 1549.52 Q220.006 1549.52 216.927 1544.94 Q213.872 1540.33 213.872 1531.6 Q213.872 1522.85 216.927 1518.27 Q220.006 1513.66 225.816 1513.66 Z\" fill=\"#000000\" fill-rule=\"nonzero\" fill-opacity=\"1\" /><path clip-path=\"url(#clip260)\" d=\"M255.978 1517.37 Q252.367 1517.37 250.538 1520.93 Q248.733 1524.47 248.733 1531.6 Q248.733 1538.71 250.538 1542.27 Q252.367 1545.82 255.978 1545.82 Q259.612 1545.82 261.418 1542.27 Q263.246 1538.71 263.246 1531.6 Q263.246 1524.47 261.418 1520.93 Q259.612 1517.37 255.978 1517.37 M255.978 1513.66 Q261.788 1513.66 264.844 1518.27 Q267.922 1522.85 267.922 1531.6 Q267.922 1540.33 264.844 1544.94 Q261.788 1549.52 255.978 1549.52 Q250.168 1549.52 247.089 1544.94 Q244.033 1540.33 244.033 1531.6 Q244.033 1522.85 247.089 1518.27 Q250.168 1513.66 255.978 1513.66 Z\" fill=\"#000000\" fill-rule=\"nonzero\" fill-opacity=\"1\" /><path clip-path=\"url(#clip260)\" d=\"M699.159 1517.37 Q695.548 1517.37 693.719 1520.93 Q691.913 1524.47 691.913 1531.6 Q691.913 1538.71 693.719 1542.27 Q695.548 1545.82 699.159 1545.82 Q702.793 1545.82 704.599 1542.27 Q706.427 1538.71 706.427 1531.6 Q706.427 1524.47 704.599 1520.93 Q702.793 1517.37 699.159 1517.37 M699.159 1513.66 Q704.969 1513.66 708.024 1518.27 Q711.103 1522.85 711.103 1531.6 Q711.103 1540.33 708.024 1544.94 Q704.969 1549.52 699.159 1549.52 Q693.349 1549.52 690.27 1544.94 Q687.214 1540.33 687.214 1531.6 Q687.214 1522.85 690.27 1518.27 Q693.349 1513.66 699.159 1513.66 Z\" fill=\"#000000\" fill-rule=\"nonzero\" fill-opacity=\"1\" /><path clip-path=\"url(#clip260)\" d=\"M719.321 1542.97 L724.205 1542.97 L724.205 1548.85 L719.321 1548.85 L719.321 1542.97 Z\" fill=\"#000000\" fill-rule=\"nonzero\" fill-opacity=\"1\" /><path clip-path=\"url(#clip260)\" d=\"M738.418 1544.91 L754.737 1544.91 L754.737 1548.85 L732.793 1548.85 L732.793 1544.91 Q735.455 1542.16 740.038 1537.53 Q744.645 1532.88 745.825 1531.53 Q748.071 1529.01 748.95 1527.27 Q749.853 1525.51 749.853 1523.82 Q749.853 1521.07 747.909 1519.33 Q745.987 1517.6 742.885 1517.6 Q740.686 1517.6 738.233 1518.36 Q735.802 1519.13 733.024 1520.68 L733.024 1515.95 Q735.848 1514.82 738.302 1514.24 Q740.756 1513.66 742.793 1513.66 Q748.163 1513.66 751.358 1516.35 Q754.552 1519.03 754.552 1523.52 Q754.552 1525.65 753.742 1527.57 Q752.955 1529.47 750.848 1532.07 Q750.27 1532.74 747.168 1535.95 Q744.066 1539.15 738.418 1544.91 Z\" fill=\"#000000\" fill-rule=\"nonzero\" fill-opacity=\"1\" /><path clip-path=\"url(#clip260)\" d=\"M764.598 1514.29 L782.955 1514.29 L782.955 1518.22 L768.881 1518.22 L768.881 1526.7 Q769.899 1526.35 770.918 1526.19 Q771.936 1526 772.955 1526 Q778.742 1526 782.121 1529.17 Q785.501 1532.34 785.501 1537.76 Q785.501 1543.34 782.029 1546.44 Q778.557 1549.52 772.237 1549.52 Q770.061 1549.52 767.793 1549.15 Q765.547 1548.78 763.14 1548.04 L763.14 1543.34 Q765.223 1544.47 767.445 1545.03 Q769.668 1545.58 772.144 1545.58 Q776.149 1545.58 778.487 1543.48 Q780.825 1541.37 780.825 1537.76 Q780.825 1534.15 778.487 1532.04 Q776.149 1529.94 772.144 1529.94 Q770.27 1529.94 768.395 1530.35 Q766.543 1530.77 764.598 1531.65 L764.598 1514.29 Z\" fill=\"#000000\" fill-rule=\"nonzero\" fill-opacity=\"1\" /><path clip-path=\"url(#clip260)\" d=\"M1216.74 1517.37 Q1213.13 1517.37 1211.3 1520.93 Q1209.49 1524.47 1209.49 1531.6 Q1209.49 1538.71 1211.3 1542.27 Q1213.13 1545.82 1216.74 1545.82 Q1220.37 1545.82 1222.18 1542.27 Q1224.01 1538.71 1224.01 1531.6 Q1224.01 1524.47 1222.18 1520.93 Q1220.37 1517.37 1216.74 1517.37 M1216.74 1513.66 Q1222.55 1513.66 1225.6 1518.27 Q1228.68 1522.85 1228.68 1531.6 Q1228.68 1540.33 1225.6 1544.94 Q1222.55 1549.52 1216.74 1549.52 Q1210.93 1549.52 1207.85 1544.94 Q1204.79 1540.33 1204.79 1531.6 Q1204.79 1522.85 1207.85 1518.27 Q1210.93 1513.66 1216.74 1513.66 Z\" fill=\"#000000\" fill-rule=\"nonzero\" fill-opacity=\"1\" /><path clip-path=\"url(#clip260)\" d=\"M1236.9 1542.97 L1241.78 1542.97 L1241.78 1548.85 L1236.9 1548.85 L1236.9 1542.97 Z\" fill=\"#000000\" fill-rule=\"nonzero\" fill-opacity=\"1\" /><path clip-path=\"url(#clip260)\" d=\"M1252.02 1514.29 L1270.37 1514.29 L1270.37 1518.22 L1256.3 1518.22 L1256.3 1526.7 Q1257.32 1526.35 1258.33 1526.19 Q1259.35 1526 1260.37 1526 Q1266.16 1526 1269.54 1529.17 Q1272.92 1532.34 1272.92 1537.76 Q1272.92 1543.34 1269.45 1546.44 Q1265.97 1549.52 1259.65 1549.52 Q1257.48 1549.52 1255.21 1549.15 Q1252.96 1548.78 1250.56 1548.04 L1250.56 1543.34 Q1252.64 1544.47 1254.86 1545.03 Q1257.08 1545.58 1259.56 1545.58 Q1263.57 1545.58 1265.9 1543.48 Q1268.24 1541.37 1268.24 1537.76 Q1268.24 1534.15 1265.9 1532.04 Q1263.57 1529.94 1259.56 1529.94 Q1257.69 1529.94 1255.81 1530.35 Q1253.96 1530.77 1252.02 1531.65 L1252.02 1514.29 Z\" fill=\"#000000\" fill-rule=\"nonzero\" fill-opacity=\"1\" /><path clip-path=\"url(#clip260)\" d=\"M1292.13 1517.37 Q1288.52 1517.37 1286.69 1520.93 Q1284.89 1524.47 1284.89 1531.6 Q1284.89 1538.71 1286.69 1542.27 Q1288.52 1545.82 1292.13 1545.82 Q1295.76 1545.82 1297.57 1542.27 Q1299.4 1538.71 1299.4 1531.6 Q1299.4 1524.47 1297.57 1520.93 Q1295.76 1517.37 1292.13 1517.37 M1292.13 1513.66 Q1297.94 1513.66 1301 1518.27 Q1304.07 1522.85 1304.07 1531.6 Q1304.07 1540.33 1301 1544.94 Q1297.94 1549.52 1292.13 1549.52 Q1286.32 1549.52 1283.24 1544.94 Q1280.19 1540.33 1280.19 1531.6 Q1280.19 1522.85 1283.24 1518.27 Q1286.32 1513.66 1292.13 1513.66 Z\" fill=\"#000000\" fill-rule=\"nonzero\" fill-opacity=\"1\" /><path clip-path=\"url(#clip260)\" d=\"M1735.31 1517.37 Q1731.7 1517.37 1729.87 1520.93 Q1728.07 1524.47 1728.07 1531.6 Q1728.07 1538.71 1729.87 1542.27 Q1731.7 1545.82 1735.31 1545.82 Q1738.95 1545.82 1740.75 1542.27 Q1742.58 1538.71 1742.58 1531.6 Q1742.58 1524.47 1740.75 1520.93 Q1738.95 1517.37 1735.31 1517.37 M1735.31 1513.66 Q1741.12 1513.66 1744.18 1518.27 Q1747.26 1522.85 1747.26 1531.6 Q1747.26 1540.33 1744.18 1544.94 Q1741.12 1549.52 1735.31 1549.52 Q1729.5 1549.52 1726.42 1544.94 Q1723.37 1540.33 1723.37 1531.6 Q1723.37 1522.85 1726.42 1518.27 Q1729.5 1513.66 1735.31 1513.66 Z\" fill=\"#000000\" fill-rule=\"nonzero\" fill-opacity=\"1\" /><path clip-path=\"url(#clip260)\" d=\"M1755.47 1542.97 L1760.36 1542.97 L1760.36 1548.85 L1755.47 1548.85 L1755.47 1542.97 Z\" fill=\"#000000\" fill-rule=\"nonzero\" fill-opacity=\"1\" /><path clip-path=\"url(#clip260)\" d=\"M1769.36 1514.29 L1791.58 1514.29 L1791.58 1516.28 L1779.04 1548.85 L1774.15 1548.85 L1785.96 1518.22 L1769.36 1518.22 L1769.36 1514.29 Z\" fill=\"#000000\" fill-rule=\"nonzero\" fill-opacity=\"1\" /><path clip-path=\"url(#clip260)\" d=\"M1800.75 1514.29 L1819.11 1514.29 L1819.11 1518.22 L1805.03 1518.22 L1805.03 1526.7 Q1806.05 1526.35 1807.07 1526.19 Q1808.09 1526 1809.11 1526 Q1814.89 1526 1818.27 1529.17 Q1821.65 1532.34 1821.65 1537.76 Q1821.65 1543.34 1818.18 1546.44 Q1814.71 1549.52 1808.39 1549.52 Q1806.21 1549.52 1803.95 1549.15 Q1801.7 1548.78 1799.29 1548.04 L1799.29 1543.34 Q1801.38 1544.47 1803.6 1545.03 Q1805.82 1545.58 1808.3 1545.58 Q1812.3 1545.58 1814.64 1543.48 Q1816.98 1541.37 1816.98 1537.76 Q1816.98 1534.15 1814.64 1532.04 Q1812.3 1529.94 1808.3 1529.94 Q1806.42 1529.94 1804.55 1530.35 Q1802.7 1530.77 1800.75 1531.65 L1800.75 1514.29 Z\" fill=\"#000000\" fill-rule=\"nonzero\" fill-opacity=\"1\" /><path clip-path=\"url(#clip260)\" d=\"M2242.66 1544.91 L2250.3 1544.91 L2250.3 1518.55 L2241.99 1520.21 L2241.99 1515.95 L2250.25 1514.29 L2254.93 1514.29 L2254.93 1544.91 L2262.57 1544.91 L2262.57 1548.85 L2242.66 1548.85 L2242.66 1544.91 Z\" fill=\"#000000\" fill-rule=\"nonzero\" fill-opacity=\"1\" /><path clip-path=\"url(#clip260)\" d=\"M2272.01 1542.97 L2276.89 1542.97 L2276.89 1548.85 L2272.01 1548.85 L2272.01 1542.97 Z\" fill=\"#000000\" fill-rule=\"nonzero\" fill-opacity=\"1\" /><path clip-path=\"url(#clip260)\" d=\"M2297.08 1517.37 Q2293.47 1517.37 2291.64 1520.93 Q2289.83 1524.47 2289.83 1531.6 Q2289.83 1538.71 2291.64 1542.27 Q2293.47 1545.82 2297.08 1545.82 Q2300.71 1545.82 2302.52 1542.27 Q2304.35 1538.71 2304.35 1531.6 Q2304.35 1524.47 2302.52 1520.93 Q2300.71 1517.37 2297.08 1517.37 M2297.08 1513.66 Q2302.89 1513.66 2305.95 1518.27 Q2309.02 1522.85 2309.02 1531.6 Q2309.02 1540.33 2305.95 1544.94 Q2302.89 1549.52 2297.08 1549.52 Q2291.27 1549.52 2288.19 1544.94 Q2285.14 1540.33 2285.14 1531.6 Q2285.14 1522.85 2288.19 1518.27 Q2291.27 1513.66 2297.08 1513.66 Z\" fill=\"#000000\" fill-rule=\"nonzero\" fill-opacity=\"1\" /><path clip-path=\"url(#clip260)\" d=\"M2327.24 1517.37 Q2323.63 1517.37 2321.8 1520.93 Q2320 1524.47 2320 1531.6 Q2320 1538.71 2321.8 1542.27 Q2323.63 1545.82 2327.24 1545.82 Q2330.88 1545.82 2332.68 1542.27 Q2334.51 1538.71 2334.51 1531.6 Q2334.51 1524.47 2332.68 1520.93 Q2330.88 1517.37 2327.24 1517.37 M2327.24 1513.66 Q2333.05 1513.66 2336.11 1518.27 Q2339.19 1522.85 2339.19 1531.6 Q2339.19 1540.33 2336.11 1544.94 Q2333.05 1549.52 2327.24 1549.52 Q2321.43 1549.52 2318.35 1544.94 Q2315.3 1540.33 2315.3 1531.6 Q2315.3 1522.85 2318.35 1518.27 Q2321.43 1513.66 2327.24 1513.66 Z\" fill=\"#000000\" fill-rule=\"nonzero\" fill-opacity=\"1\" /><polyline clip-path=\"url(#clip262)\" style=\"stroke:#000000; stroke-linecap:round; stroke-linejoin:round; stroke-width:2; stroke-opacity:0.1; fill:none\" points=\"156.112,1445.72 2352.76,1445.72 \"/>\n",
       "<polyline clip-path=\"url(#clip262)\" style=\"stroke:#000000; stroke-linecap:round; stroke-linejoin:round; stroke-width:2; stroke-opacity:0.1; fill:none\" points=\"156.112,1099.95 2352.76,1099.95 \"/>\n",
       "<polyline clip-path=\"url(#clip262)\" style=\"stroke:#000000; stroke-linecap:round; stroke-linejoin:round; stroke-width:2; stroke-opacity:0.1; fill:none\" points=\"156.112,754.188 2352.76,754.188 \"/>\n",
       "<polyline clip-path=\"url(#clip262)\" style=\"stroke:#000000; stroke-linecap:round; stroke-linejoin:round; stroke-width:2; stroke-opacity:0.1; fill:none\" points=\"156.112,408.423 2352.76,408.423 \"/>\n",
       "<polyline clip-path=\"url(#clip262)\" style=\"stroke:#000000; stroke-linecap:round; stroke-linejoin:round; stroke-width:2; stroke-opacity:0.1; fill:none\" points=\"156.112,62.6594 2352.76,62.6594 \"/>\n",
       "<polyline clip-path=\"url(#clip260)\" style=\"stroke:#000000; stroke-linecap:round; stroke-linejoin:round; stroke-width:4; stroke-opacity:1; fill:none\" points=\"156.112,1486.45 156.112,47.2441 \"/>\n",
       "<polyline clip-path=\"url(#clip260)\" style=\"stroke:#000000; stroke-linecap:round; stroke-linejoin:round; stroke-width:4; stroke-opacity:1; fill:none\" points=\"156.112,1445.72 175.01,1445.72 \"/>\n",
       "<polyline clip-path=\"url(#clip260)\" style=\"stroke:#000000; stroke-linecap:round; stroke-linejoin:round; stroke-width:4; stroke-opacity:1; fill:none\" points=\"156.112,1099.95 175.01,1099.95 \"/>\n",
       "<polyline clip-path=\"url(#clip260)\" style=\"stroke:#000000; stroke-linecap:round; stroke-linejoin:round; stroke-width:4; stroke-opacity:1; fill:none\" points=\"156.112,754.188 175.01,754.188 \"/>\n",
       "<polyline clip-path=\"url(#clip260)\" style=\"stroke:#000000; stroke-linecap:round; stroke-linejoin:round; stroke-width:4; stroke-opacity:1; fill:none\" points=\"156.112,408.423 175.01,408.423 \"/>\n",
       "<polyline clip-path=\"url(#clip260)\" style=\"stroke:#000000; stroke-linecap:round; stroke-linejoin:round; stroke-width:4; stroke-opacity:1; fill:none\" points=\"156.112,62.6594 175.01,62.6594 \"/>\n",
       "<path clip-path=\"url(#clip260)\" d=\"M62.9365 1431.51 Q59.3254 1431.51 57.4967 1435.08 Q55.6912 1438.62 55.6912 1445.75 Q55.6912 1452.86 57.4967 1456.42 Q59.3254 1459.96 62.9365 1459.96 Q66.5707 1459.96 68.3763 1456.42 Q70.205 1452.86 70.205 1445.75 Q70.205 1438.62 68.3763 1435.08 Q66.5707 1431.51 62.9365 1431.51 M62.9365 1427.81 Q68.7467 1427.81 71.8022 1432.42 Q74.8809 1437 74.8809 1445.75 Q74.8809 1454.48 71.8022 1459.08 Q68.7467 1463.67 62.9365 1463.67 Q57.1264 1463.67 54.0477 1459.08 Q50.9921 1454.48 50.9921 1445.75 Q50.9921 1437 54.0477 1432.42 Q57.1264 1427.81 62.9365 1427.81 Z\" fill=\"#000000\" fill-rule=\"nonzero\" fill-opacity=\"1\" /><path clip-path=\"url(#clip260)\" d=\"M83.0984 1457.12 L87.9827 1457.12 L87.9827 1463 L83.0984 1463 L83.0984 1457.12 Z\" fill=\"#000000\" fill-rule=\"nonzero\" fill-opacity=\"1\" /><path clip-path=\"url(#clip260)\" d=\"M108.168 1431.51 Q104.557 1431.51 102.728 1435.08 Q100.922 1438.62 100.922 1445.75 Q100.922 1452.86 102.728 1456.42 Q104.557 1459.96 108.168 1459.96 Q111.802 1459.96 113.608 1456.42 Q115.436 1452.86 115.436 1445.75 Q115.436 1438.62 113.608 1435.08 Q111.802 1431.51 108.168 1431.51 M108.168 1427.81 Q113.978 1427.81 117.033 1432.42 Q120.112 1437 120.112 1445.75 Q120.112 1454.48 117.033 1459.08 Q113.978 1463.67 108.168 1463.67 Q102.358 1463.67 99.2789 1459.08 Q96.2234 1454.48 96.2234 1445.75 Q96.2234 1437 99.2789 1432.42 Q102.358 1427.81 108.168 1427.81 Z\" fill=\"#000000\" fill-rule=\"nonzero\" fill-opacity=\"1\" /><path clip-path=\"url(#clip260)\" d=\"M63.9319 1085.75 Q60.3208 1085.75 58.4921 1089.32 Q56.6865 1092.86 56.6865 1099.99 Q56.6865 1107.09 58.4921 1110.66 Q60.3208 1114.2 63.9319 1114.2 Q67.5661 1114.2 69.3717 1110.66 Q71.2004 1107.09 71.2004 1099.99 Q71.2004 1092.86 69.3717 1089.32 Q67.5661 1085.75 63.9319 1085.75 M63.9319 1082.05 Q69.742 1082.05 72.7976 1086.65 Q75.8763 1091.24 75.8763 1099.99 Q75.8763 1108.71 72.7976 1113.32 Q69.742 1117.9 63.9319 1117.9 Q58.1217 1117.9 55.043 1113.32 Q51.9875 1108.71 51.9875 1099.99 Q51.9875 1091.24 55.043 1086.65 Q58.1217 1082.05 63.9319 1082.05 Z\" fill=\"#000000\" fill-rule=\"nonzero\" fill-opacity=\"1\" /><path clip-path=\"url(#clip260)\" d=\"M84.0938 1111.35 L88.978 1111.35 L88.978 1117.23 L84.0938 1117.23 L84.0938 1111.35 Z\" fill=\"#000000\" fill-rule=\"nonzero\" fill-opacity=\"1\" /><path clip-path=\"url(#clip260)\" d=\"M99.2095 1082.67 L117.566 1082.67 L117.566 1086.61 L103.492 1086.61 L103.492 1095.08 Q104.51 1094.73 105.529 1094.57 Q106.547 1094.38 107.566 1094.38 Q113.353 1094.38 116.733 1097.56 Q120.112 1100.73 120.112 1106.14 Q120.112 1111.72 116.64 1114.82 Q113.168 1117.9 106.848 1117.9 Q104.672 1117.9 102.404 1117.53 Q100.159 1117.16 97.7511 1116.42 L97.7511 1111.72 Q99.8345 1112.86 102.057 1113.41 Q104.279 1113.97 106.756 1113.97 Q110.76 1113.97 113.098 1111.86 Q115.436 1109.75 115.436 1106.14 Q115.436 1102.53 113.098 1100.43 Q110.76 1098.32 106.756 1098.32 Q104.881 1098.32 103.006 1098.74 Q101.154 1099.15 99.2095 1100.03 L99.2095 1082.67 Z\" fill=\"#000000\" fill-rule=\"nonzero\" fill-opacity=\"1\" /><path clip-path=\"url(#clip260)\" d=\"M53.7467 767.532 L61.3856 767.532 L61.3856 741.167 L53.0754 742.833 L53.0754 738.574 L61.3393 736.908 L66.0152 736.908 L66.0152 767.532 L73.654 767.532 L73.654 771.468 L53.7467 771.468 L53.7467 767.532 Z\" fill=\"#000000\" fill-rule=\"nonzero\" fill-opacity=\"1\" /><path clip-path=\"url(#clip260)\" d=\"M83.0984 765.588 L87.9827 765.588 L87.9827 771.468 L83.0984 771.468 L83.0984 765.588 Z\" fill=\"#000000\" fill-rule=\"nonzero\" fill-opacity=\"1\" /><path clip-path=\"url(#clip260)\" d=\"M108.168 739.986 Q104.557 739.986 102.728 743.551 Q100.922 747.093 100.922 754.222 Q100.922 761.329 102.728 764.894 Q104.557 768.435 108.168 768.435 Q111.802 768.435 113.608 764.894 Q115.436 761.329 115.436 754.222 Q115.436 747.093 113.608 743.551 Q111.802 739.986 108.168 739.986 M108.168 736.283 Q113.978 736.283 117.033 740.889 Q120.112 745.472 120.112 754.222 Q120.112 762.949 117.033 767.556 Q113.978 772.139 108.168 772.139 Q102.358 772.139 99.2789 767.556 Q96.2234 762.949 96.2234 754.222 Q96.2234 745.472 99.2789 740.889 Q102.358 736.283 108.168 736.283 Z\" fill=\"#000000\" fill-rule=\"nonzero\" fill-opacity=\"1\" /><path clip-path=\"url(#clip260)\" d=\"M54.7421 421.768 L62.381 421.768 L62.381 395.403 L54.0708 397.069 L54.0708 392.81 L62.3347 391.143 L67.0106 391.143 L67.0106 421.768 L74.6494 421.768 L74.6494 425.703 L54.7421 425.703 L54.7421 421.768 Z\" fill=\"#000000\" fill-rule=\"nonzero\" fill-opacity=\"1\" /><path clip-path=\"url(#clip260)\" d=\"M84.0938 419.824 L88.978 419.824 L88.978 425.703 L84.0938 425.703 L84.0938 419.824 Z\" fill=\"#000000\" fill-rule=\"nonzero\" fill-opacity=\"1\" /><path clip-path=\"url(#clip260)\" d=\"M99.2095 391.143 L117.566 391.143 L117.566 395.079 L103.492 395.079 L103.492 403.551 Q104.51 403.204 105.529 403.042 Q106.547 402.856 107.566 402.856 Q113.353 402.856 116.733 406.028 Q120.112 409.199 120.112 414.616 Q120.112 420.194 116.64 423.296 Q113.168 426.375 106.848 426.375 Q104.672 426.375 102.404 426.004 Q100.159 425.634 97.7511 424.893 L97.7511 420.194 Q99.8345 421.329 102.057 421.884 Q104.279 422.44 106.756 422.44 Q110.76 422.44 113.098 420.333 Q115.436 418.227 115.436 414.616 Q115.436 411.005 113.098 408.898 Q110.76 406.792 106.756 406.792 Q104.881 406.792 103.006 407.208 Q101.154 407.625 99.2095 408.505 L99.2095 391.143 Z\" fill=\"#000000\" fill-rule=\"nonzero\" fill-opacity=\"1\" /><path clip-path=\"url(#clip260)\" d=\"M56.9643 76.0043 L73.2837 76.0043 L73.2837 79.9394 L51.3393 79.9394 L51.3393 76.0043 Q54.0014 73.2497 58.5847 68.62 Q63.1911 63.9673 64.3717 62.6247 Q66.617 60.1016 67.4967 58.3655 Q68.3994 56.6062 68.3994 54.9164 Q68.3994 52.1618 66.455 50.4257 Q64.5337 48.6896 61.4319 48.6896 Q59.2328 48.6896 56.7791 49.4535 Q54.3486 50.2174 51.5708 51.7683 L51.5708 47.0461 Q54.3949 45.9118 56.8486 45.3331 Q59.3023 44.7544 61.3393 44.7544 Q66.7096 44.7544 69.9041 47.4396 Q73.0985 50.1248 73.0985 54.6155 Q73.0985 56.7451 72.2883 58.6664 Q71.5013 60.5645 69.3948 63.1571 Q68.8161 63.8284 65.7143 67.046 Q62.6124 70.2404 56.9643 76.0043 Z\" fill=\"#000000\" fill-rule=\"nonzero\" fill-opacity=\"1\" /><path clip-path=\"url(#clip260)\" d=\"M83.0984 74.0598 L87.9827 74.0598 L87.9827 79.9394 L83.0984 79.9394 L83.0984 74.0598 Z\" fill=\"#000000\" fill-rule=\"nonzero\" fill-opacity=\"1\" /><path clip-path=\"url(#clip260)\" d=\"M108.168 48.4581 Q104.557 48.4581 102.728 52.0229 Q100.922 55.5646 100.922 62.6942 Q100.922 69.8006 102.728 73.3654 Q104.557 76.907 108.168 76.907 Q111.802 76.907 113.608 73.3654 Q115.436 69.8006 115.436 62.6942 Q115.436 55.5646 113.608 52.0229 Q111.802 48.4581 108.168 48.4581 M108.168 44.7544 Q113.978 44.7544 117.033 49.3609 Q120.112 53.9442 120.112 62.6942 Q120.112 71.421 117.033 76.0274 Q113.978 80.6107 108.168 80.6107 Q102.358 80.6107 99.2789 76.0274 Q96.2234 71.421 96.2234 62.6942 Q96.2234 53.9442 99.2789 49.3609 Q102.358 44.7544 108.168 44.7544 Z\" fill=\"#000000\" fill-rule=\"nonzero\" fill-opacity=\"1\" /><polyline clip-path=\"url(#clip262)\" style=\"stroke:#009af9; stroke-linecap:round; stroke-linejoin:round; stroke-width:4; stroke-opacity:1; fill:none\" points=\"218.281,1445.72 218.281,1439.22 239.004,1439.22 239.004,1425.03 259.727,1425.03 259.727,1412.2 280.45,1412.2 280.45,1397.46 301.174,1397.46 301.174,1381.04 321.897,1381.04 321.897,1368.24 342.62,1368.24 342.62,1354.56 363.343,1354.56 363.343,1340.93 384.066,1340.93 384.066,1326.33 404.789,1326.33 404.789,1312.98 425.512,1312.98 425.512,1296.5 446.235,1296.5 446.235,1284.62 466.958,1284.62 466.958,1270.12 487.681,1270.12 487.681,1254.9 508.404,1254.9 508.404,1245.02 529.127,1245.02 529.127,1229.47 549.85,1229.47 549.85,1216.51 570.573,1216.51 570.573,1202.71 591.296,1202.71 591.296,1189.83 612.019,1189.83 612.019,1176.3 632.742,1176.3 632.742,1159.47 653.465,1159.47 653.465,1149.28 674.188,1149.28 674.188,1135.08 694.912,1135.08 694.912,1121.81 715.635,1121.81 715.635,1107.1 736.358,1107.1 736.358,1094.83 757.081,1094.83 757.081,1081.1 777.804,1081.1 777.804,1070.64 798.527,1070.64 798.527,1055.39 819.25,1055.39 819.25,1041.17 839.973,1041.17 839.973,1024.83 860.696,1024.83 860.696,1010.55 881.419,1010.55 881.419,997.184 902.142,997.184 902.142,986.977 922.865,986.977 922.865,966.597 943.588,966.597 943.588,955.284 964.311,955.284 964.311,939.489 985.034,939.489 985.034,928.556 1005.76,928.556 1005.76,908.917 1026.48,908.917 1026.48,896.539 1047.2,896.539 1047.2,884.81 1067.93,884.81 1067.93,870.461 1088.65,870.461 1088.65,855.42 1109.37,855.42 1109.37,837.925 1130.1,837.925 1130.1,826.445 1150.82,826.445 1150.82,809.42 1171.54,809.42 1171.54,800.727 1192.26,800.727 1192.26,786.164 1212.99,786.164 1212.99,770.466 1233.71,770.466 1233.71,752.203 1254.43,752.203 1254.43,742.017 1275.16,742.017 1275.16,724.666 1295.88,724.666 1295.88,711.154 1316.6,711.154 1316.6,699.121 1337.33,699.121 1337.33,685.775 1358.05,685.775 1358.05,673.88 1378.77,673.88 1378.77,656.06 1399.5,656.06 1399.5,644.732 1420.22,644.732 1420.22,632.306 1440.94,632.306 1440.94,616.705 1461.66,616.705 1461.66,600.765 1482.39,600.765 1482.39,588.318 1503.11,588.318 1503.11,574.197 1523.83,574.197 1523.83,562.42 1544.56,562.42 1544.56,548.41 1565.28,548.41 1565.28,533.196 1586,533.196 1586,519.87 1606.73,519.87 1606.73,507.139 1627.45,507.139 1627.45,491.843 1648.17,491.843 1648.17,485.072 1668.9,485.072 1668.9,472.293 1689.62,472.293 1689.62,453.11 1710.34,453.11 1710.34,438.069 1731.06,438.069 1731.06,429.37 1751.79,429.37 1751.79,416.259 1772.51,416.259 1772.51,403.099 1793.23,403.099 1793.23,383.432 1813.96,383.432 1813.96,368.702 1834.68,368.702 1834.68,359.207 1855.4,359.207 1855.4,337.742 1876.13,337.742 1876.13,327.895 1896.85,327.895 1896.85,313.345 1917.57,313.345 1917.57,299.418 1938.29,299.418 1938.29,291.611 1959.02,291.611 1959.02,274.737 1979.74,274.737 1979.74,264.994 2000.46,264.994 2000.46,256.391 2021.19,256.391 2021.19,245.555 2041.91,245.555 2041.91,233.121 2062.63,233.121 2062.63,224.394 2083.36,224.394 2083.36,207.417 2104.08,207.417 2104.08,190.931 2124.8,190.931 2124.8,184.189 2145.53,184.189 2145.53,166.389 2166.25,166.389 2166.25,156.078 2186.97,156.078 2186.97,140.062 2207.69,140.062 2207.69,127.573 2228.42,127.573 2228.42,118.078 2249.14,118.078 2249.14,100.866 2269.86,100.866 2269.86,87.9763 2290.59,87.9763 2290.59,1445.72 \"/>\n",
       "<path clip-path=\"url(#clip260)\" d=\"M229.334 198.898 L688.279 198.898 L688.279 95.2176 L229.334 95.2176  Z\" fill=\"#ffffff\" fill-rule=\"evenodd\" fill-opacity=\"1\"/>\n",
       "<polyline clip-path=\"url(#clip260)\" style=\"stroke:#000000; stroke-linecap:round; stroke-linejoin:round; stroke-width:4; stroke-opacity:1; fill:none\" points=\"229.334,198.898 688.279,198.898 688.279,95.2176 229.334,95.2176 229.334,198.898 \"/>\n",
       "<polyline clip-path=\"url(#clip260)\" style=\"stroke:#009af9; stroke-linecap:round; stroke-linejoin:round; stroke-width:4; stroke-opacity:1; fill:none\" points=\"253.741,147.058 400.184,147.058 \"/>\n",
       "<path clip-path=\"url(#clip260)\" d=\"M424.591 129.778 L431.558 129.778 L440.378 153.296 L449.243 129.778 L456.211 129.778 L456.211 164.338 L451.651 164.338 L451.651 133.99 L442.739 157.694 L438.04 157.694 L429.128 133.99 L429.128 164.338 L424.591 164.338 L424.591 129.778 Z\" fill=\"#000000\" fill-rule=\"nonzero\" fill-opacity=\"1\" /><path clip-path=\"url(#clip260)\" d=\"M487.484 150.31 L487.484 152.393 L467.901 152.393 Q468.179 156.791 470.54 159.106 Q472.924 161.398 477.16 161.398 Q479.614 161.398 481.905 160.796 Q484.22 160.194 486.489 158.99 L486.489 163.018 Q484.197 163.99 481.79 164.5 Q479.382 165.009 476.905 165.009 Q470.702 165.009 467.067 161.398 Q463.456 157.787 463.456 151.629 Q463.456 145.264 466.882 141.537 Q470.331 137.787 476.165 137.787 Q481.396 137.787 484.428 141.166 Q487.484 144.523 487.484 150.31 M483.225 149.06 Q483.178 145.565 481.257 143.481 Q479.359 141.398 476.211 141.398 Q472.646 141.398 470.493 143.412 Q468.364 145.426 468.04 149.083 L483.225 149.06 Z\" fill=\"#000000\" fill-rule=\"nonzero\" fill-opacity=\"1\" /><path clip-path=\"url(#clip260)\" d=\"M498.688 131.051 L498.688 138.412 L507.461 138.412 L507.461 141.722 L498.688 141.722 L498.688 155.796 Q498.688 158.967 499.544 159.87 Q500.424 160.773 503.086 160.773 L507.461 160.773 L507.461 164.338 L503.086 164.338 Q498.155 164.338 496.28 162.509 Q494.405 160.657 494.405 155.796 L494.405 141.722 L491.28 141.722 L491.28 138.412 L494.405 138.412 L494.405 131.051 L498.688 131.051 Z\" fill=\"#000000\" fill-rule=\"nonzero\" fill-opacity=\"1\" /><path clip-path=\"url(#clip260)\" d=\"M528.086 142.393 Q527.368 141.977 526.512 141.791 Q525.678 141.583 524.66 141.583 Q521.049 141.583 519.104 143.944 Q517.183 146.282 517.183 150.68 L517.183 164.338 L512.901 164.338 L512.901 138.412 L517.183 138.412 L517.183 142.44 Q518.525 140.078 520.678 138.944 Q522.831 137.787 525.91 137.787 Q526.35 137.787 526.882 137.856 Q527.414 137.903 528.062 138.018 L528.086 142.393 Z\" fill=\"#000000\" fill-rule=\"nonzero\" fill-opacity=\"1\" /><path clip-path=\"url(#clip260)\" d=\"M541.558 141.398 Q538.132 141.398 536.141 144.083 Q534.15 146.745 534.15 151.398 Q534.15 156.051 536.118 158.736 Q538.109 161.398 541.558 161.398 Q544.961 161.398 546.951 158.713 Q548.942 156.027 548.942 151.398 Q548.942 146.791 546.951 144.106 Q544.961 141.398 541.558 141.398 M541.558 137.787 Q547.113 137.787 550.285 141.398 Q553.456 145.009 553.456 151.398 Q553.456 157.764 550.285 161.398 Q547.113 165.009 541.558 165.009 Q535.979 165.009 532.808 161.398 Q529.66 157.764 529.66 151.398 Q529.66 145.009 532.808 141.398 Q535.979 137.787 541.558 137.787 Z\" fill=\"#000000\" fill-rule=\"nonzero\" fill-opacity=\"1\" /><path clip-path=\"url(#clip260)\" d=\"M564.636 160.449 L564.636 174.199 L560.354 174.199 L560.354 138.412 L564.636 138.412 L564.636 142.347 Q565.979 140.032 568.016 138.921 Q570.076 137.787 572.923 137.787 Q577.646 137.787 580.585 141.537 Q583.548 145.287 583.548 151.398 Q583.548 157.509 580.585 161.259 Q577.646 165.009 572.923 165.009 Q570.076 165.009 568.016 163.898 Q565.979 162.763 564.636 160.449 M579.127 151.398 Q579.127 146.699 577.183 144.037 Q575.261 141.352 571.882 141.352 Q568.502 141.352 566.558 144.037 Q564.636 146.699 564.636 151.398 Q564.636 156.097 566.558 158.782 Q568.502 161.444 571.882 161.444 Q575.261 161.444 577.183 158.782 Q579.127 156.097 579.127 151.398 Z\" fill=\"#000000\" fill-rule=\"nonzero\" fill-opacity=\"1\" /><path clip-path=\"url(#clip260)\" d=\"M600.655 141.398 Q597.229 141.398 595.238 144.083 Q593.247 146.745 593.247 151.398 Q593.247 156.051 595.215 158.736 Q597.206 161.398 600.655 161.398 Q604.057 161.398 606.048 158.713 Q608.039 156.027 608.039 151.398 Q608.039 146.791 606.048 144.106 Q604.057 141.398 600.655 141.398 M600.655 137.787 Q606.21 137.787 609.381 141.398 Q612.553 145.009 612.553 151.398 Q612.553 157.764 609.381 161.398 Q606.21 165.009 600.655 165.009 Q595.076 165.009 591.905 161.398 Q588.757 157.764 588.757 151.398 Q588.757 145.009 591.905 141.398 Q595.076 137.787 600.655 137.787 Z\" fill=\"#000000\" fill-rule=\"nonzero\" fill-opacity=\"1\" /><path clip-path=\"url(#clip260)\" d=\"M619.613 128.319 L623.872 128.319 L623.872 164.338 L619.613 164.338 L619.613 128.319 Z\" fill=\"#000000\" fill-rule=\"nonzero\" fill-opacity=\"1\" /><path clip-path=\"url(#clip260)\" d=\"M632.784 138.412 L637.043 138.412 L637.043 164.338 L632.784 164.338 L632.784 138.412 M632.784 128.319 L637.043 128.319 L637.043 133.713 L632.784 133.713 L632.784 128.319 Z\" fill=\"#000000\" fill-rule=\"nonzero\" fill-opacity=\"1\" /><path clip-path=\"url(#clip260)\" d=\"M662.483 139.176 L662.483 143.203 Q660.678 142.277 658.733 141.815 Q656.789 141.352 654.705 141.352 Q651.534 141.352 649.937 142.324 Q648.363 143.296 648.363 145.24 Q648.363 146.722 649.497 147.578 Q650.631 148.412 654.057 149.176 L655.515 149.5 Q660.053 150.472 661.951 152.254 Q663.872 154.014 663.872 157.185 Q663.872 160.796 661.002 162.902 Q658.154 165.009 653.154 165.009 Q651.071 165.009 648.803 164.592 Q646.557 164.199 644.057 163.388 L644.057 158.99 Q646.418 160.217 648.71 160.842 Q651.002 161.444 653.247 161.444 Q656.256 161.444 657.877 160.426 Q659.497 159.384 659.497 157.509 Q659.497 155.773 658.316 154.847 Q657.159 153.921 653.201 153.064 L651.719 152.717 Q647.761 151.884 646.002 150.171 Q644.242 148.435 644.242 145.426 Q644.242 141.768 646.835 139.778 Q649.428 137.787 654.196 137.787 Q656.557 137.787 658.64 138.134 Q660.724 138.481 662.483 139.176 Z\" fill=\"#000000\" fill-rule=\"nonzero\" fill-opacity=\"1\" /></svg>\n"
      ],
      "text/html": [
       "<?xml version=\"1.0\" encoding=\"utf-8\"?>\n",
       "<svg xmlns=\"http://www.w3.org/2000/svg\" xmlns:xlink=\"http://www.w3.org/1999/xlink\" width=\"600\" height=\"400\" viewBox=\"0 0 2400 1600\">\n",
       "<defs>\n",
       "  <clipPath id=\"clip310\">\n",
       "    <rect x=\"0\" y=\"0\" width=\"2400\" height=\"1600\"/>\n",
       "  </clipPath>\n",
       "</defs>\n",
       "<path clip-path=\"url(#clip310)\" d=\"M0 1600 L2400 1600 L2400 0 L0 0  Z\" fill=\"#ffffff\" fill-rule=\"evenodd\" fill-opacity=\"1\"/>\n",
       "<defs>\n",
       "  <clipPath id=\"clip311\">\n",
       "    <rect x=\"480\" y=\"0\" width=\"1681\" height=\"1600\"/>\n",
       "  </clipPath>\n",
       "</defs>\n",
       "<path clip-path=\"url(#clip310)\" d=\"M156.112 1486.45 L2352.76 1486.45 L2352.76 47.2441 L156.112 47.2441  Z\" fill=\"#ffffff\" fill-rule=\"evenodd\" fill-opacity=\"1\"/>\n",
       "<defs>\n",
       "  <clipPath id=\"clip312\">\n",
       "    <rect x=\"156\" y=\"47\" width=\"2198\" height=\"1440\"/>\n",
       "  </clipPath>\n",
       "</defs>\n",
       "<polyline clip-path=\"url(#clip312)\" style=\"stroke:#000000; stroke-linecap:round; stroke-linejoin:round; stroke-width:2; stroke-opacity:0.1; fill:none\" points=\"218.281,1486.45 218.281,47.2441 \"/>\n",
       "<polyline clip-path=\"url(#clip312)\" style=\"stroke:#000000; stroke-linecap:round; stroke-linejoin:round; stroke-width:2; stroke-opacity:0.1; fill:none\" points=\"736.358,1486.45 736.358,47.2441 \"/>\n",
       "<polyline clip-path=\"url(#clip312)\" style=\"stroke:#000000; stroke-linecap:round; stroke-linejoin:round; stroke-width:2; stroke-opacity:0.1; fill:none\" points=\"1254.43,1486.45 1254.43,47.2441 \"/>\n",
       "<polyline clip-path=\"url(#clip312)\" style=\"stroke:#000000; stroke-linecap:round; stroke-linejoin:round; stroke-width:2; stroke-opacity:0.1; fill:none\" points=\"1772.51,1486.45 1772.51,47.2441 \"/>\n",
       "<polyline clip-path=\"url(#clip312)\" style=\"stroke:#000000; stroke-linecap:round; stroke-linejoin:round; stroke-width:2; stroke-opacity:0.1; fill:none\" points=\"2290.59,1486.45 2290.59,47.2441 \"/>\n",
       "<polyline clip-path=\"url(#clip310)\" style=\"stroke:#000000; stroke-linecap:round; stroke-linejoin:round; stroke-width:4; stroke-opacity:1; fill:none\" points=\"156.112,1486.45 2352.76,1486.45 \"/>\n",
       "<polyline clip-path=\"url(#clip310)\" style=\"stroke:#000000; stroke-linecap:round; stroke-linejoin:round; stroke-width:4; stroke-opacity:1; fill:none\" points=\"218.281,1486.45 218.281,1467.55 \"/>\n",
       "<polyline clip-path=\"url(#clip310)\" style=\"stroke:#000000; stroke-linecap:round; stroke-linejoin:round; stroke-width:4; stroke-opacity:1; fill:none\" points=\"736.358,1486.45 736.358,1467.55 \"/>\n",
       "<polyline clip-path=\"url(#clip310)\" style=\"stroke:#000000; stroke-linecap:round; stroke-linejoin:round; stroke-width:4; stroke-opacity:1; fill:none\" points=\"1254.43,1486.45 1254.43,1467.55 \"/>\n",
       "<polyline clip-path=\"url(#clip310)\" style=\"stroke:#000000; stroke-linecap:round; stroke-linejoin:round; stroke-width:4; stroke-opacity:1; fill:none\" points=\"1772.51,1486.45 1772.51,1467.55 \"/>\n",
       "<polyline clip-path=\"url(#clip310)\" style=\"stroke:#000000; stroke-linecap:round; stroke-linejoin:round; stroke-width:4; stroke-opacity:1; fill:none\" points=\"2290.59,1486.45 2290.59,1467.55 \"/>\n",
       "<path clip-path=\"url(#clip310)\" d=\"M180.585 1517.37 Q176.974 1517.37 175.145 1520.93 Q173.339 1524.47 173.339 1531.6 Q173.339 1538.71 175.145 1542.27 Q176.974 1545.82 180.585 1545.82 Q184.219 1545.82 186.025 1542.27 Q187.853 1538.71 187.853 1531.6 Q187.853 1524.47 186.025 1520.93 Q184.219 1517.37 180.585 1517.37 M180.585 1513.66 Q186.395 1513.66 189.45 1518.27 Q192.529 1522.85 192.529 1531.6 Q192.529 1540.33 189.45 1544.94 Q186.395 1549.52 180.585 1549.52 Q174.775 1549.52 171.696 1544.94 Q168.64 1540.33 168.64 1531.6 Q168.64 1522.85 171.696 1518.27 Q174.775 1513.66 180.585 1513.66 Z\" fill=\"#000000\" fill-rule=\"nonzero\" fill-opacity=\"1\" /><path clip-path=\"url(#clip310)\" d=\"M200.747 1542.97 L205.631 1542.97 L205.631 1548.85 L200.747 1548.85 L200.747 1542.97 Z\" fill=\"#000000\" fill-rule=\"nonzero\" fill-opacity=\"1\" /><path clip-path=\"url(#clip310)\" d=\"M225.816 1517.37 Q222.205 1517.37 220.376 1520.93 Q218.571 1524.47 218.571 1531.6 Q218.571 1538.71 220.376 1542.27 Q222.205 1545.82 225.816 1545.82 Q229.45 1545.82 231.256 1542.27 Q233.084 1538.71 233.084 1531.6 Q233.084 1524.47 231.256 1520.93 Q229.45 1517.37 225.816 1517.37 M225.816 1513.66 Q231.626 1513.66 234.682 1518.27 Q237.76 1522.85 237.76 1531.6 Q237.76 1540.33 234.682 1544.94 Q231.626 1549.52 225.816 1549.52 Q220.006 1549.52 216.927 1544.94 Q213.872 1540.33 213.872 1531.6 Q213.872 1522.85 216.927 1518.27 Q220.006 1513.66 225.816 1513.66 Z\" fill=\"#000000\" fill-rule=\"nonzero\" fill-opacity=\"1\" /><path clip-path=\"url(#clip310)\" d=\"M255.978 1517.37 Q252.367 1517.37 250.538 1520.93 Q248.733 1524.47 248.733 1531.6 Q248.733 1538.71 250.538 1542.27 Q252.367 1545.82 255.978 1545.82 Q259.612 1545.82 261.418 1542.27 Q263.246 1538.71 263.246 1531.6 Q263.246 1524.47 261.418 1520.93 Q259.612 1517.37 255.978 1517.37 M255.978 1513.66 Q261.788 1513.66 264.844 1518.27 Q267.922 1522.85 267.922 1531.6 Q267.922 1540.33 264.844 1544.94 Q261.788 1549.52 255.978 1549.52 Q250.168 1549.52 247.089 1544.94 Q244.033 1540.33 244.033 1531.6 Q244.033 1522.85 247.089 1518.27 Q250.168 1513.66 255.978 1513.66 Z\" fill=\"#000000\" fill-rule=\"nonzero\" fill-opacity=\"1\" /><path clip-path=\"url(#clip310)\" d=\"M699.159 1517.37 Q695.548 1517.37 693.719 1520.93 Q691.913 1524.47 691.913 1531.6 Q691.913 1538.71 693.719 1542.27 Q695.548 1545.82 699.159 1545.82 Q702.793 1545.82 704.599 1542.27 Q706.427 1538.71 706.427 1531.6 Q706.427 1524.47 704.599 1520.93 Q702.793 1517.37 699.159 1517.37 M699.159 1513.66 Q704.969 1513.66 708.024 1518.27 Q711.103 1522.85 711.103 1531.6 Q711.103 1540.33 708.024 1544.94 Q704.969 1549.52 699.159 1549.52 Q693.349 1549.52 690.27 1544.94 Q687.214 1540.33 687.214 1531.6 Q687.214 1522.85 690.27 1518.27 Q693.349 1513.66 699.159 1513.66 Z\" fill=\"#000000\" fill-rule=\"nonzero\" fill-opacity=\"1\" /><path clip-path=\"url(#clip310)\" d=\"M719.321 1542.97 L724.205 1542.97 L724.205 1548.85 L719.321 1548.85 L719.321 1542.97 Z\" fill=\"#000000\" fill-rule=\"nonzero\" fill-opacity=\"1\" /><path clip-path=\"url(#clip310)\" d=\"M738.418 1544.91 L754.737 1544.91 L754.737 1548.85 L732.793 1548.85 L732.793 1544.91 Q735.455 1542.16 740.038 1537.53 Q744.645 1532.88 745.825 1531.53 Q748.071 1529.01 748.95 1527.27 Q749.853 1525.51 749.853 1523.82 Q749.853 1521.07 747.909 1519.33 Q745.987 1517.6 742.885 1517.6 Q740.686 1517.6 738.233 1518.36 Q735.802 1519.13 733.024 1520.68 L733.024 1515.95 Q735.848 1514.82 738.302 1514.24 Q740.756 1513.66 742.793 1513.66 Q748.163 1513.66 751.358 1516.35 Q754.552 1519.03 754.552 1523.52 Q754.552 1525.65 753.742 1527.57 Q752.955 1529.47 750.848 1532.07 Q750.27 1532.74 747.168 1535.95 Q744.066 1539.15 738.418 1544.91 Z\" fill=\"#000000\" fill-rule=\"nonzero\" fill-opacity=\"1\" /><path clip-path=\"url(#clip310)\" d=\"M764.598 1514.29 L782.955 1514.29 L782.955 1518.22 L768.881 1518.22 L768.881 1526.7 Q769.899 1526.35 770.918 1526.19 Q771.936 1526 772.955 1526 Q778.742 1526 782.121 1529.17 Q785.501 1532.34 785.501 1537.76 Q785.501 1543.34 782.029 1546.44 Q778.557 1549.52 772.237 1549.52 Q770.061 1549.52 767.793 1549.15 Q765.547 1548.78 763.14 1548.04 L763.14 1543.34 Q765.223 1544.47 767.445 1545.03 Q769.668 1545.58 772.144 1545.58 Q776.149 1545.58 778.487 1543.48 Q780.825 1541.37 780.825 1537.76 Q780.825 1534.15 778.487 1532.04 Q776.149 1529.94 772.144 1529.94 Q770.27 1529.94 768.395 1530.35 Q766.543 1530.77 764.598 1531.65 L764.598 1514.29 Z\" fill=\"#000000\" fill-rule=\"nonzero\" fill-opacity=\"1\" /><path clip-path=\"url(#clip310)\" d=\"M1216.74 1517.37 Q1213.13 1517.37 1211.3 1520.93 Q1209.49 1524.47 1209.49 1531.6 Q1209.49 1538.71 1211.3 1542.27 Q1213.13 1545.82 1216.74 1545.82 Q1220.37 1545.82 1222.18 1542.27 Q1224.01 1538.71 1224.01 1531.6 Q1224.01 1524.47 1222.18 1520.93 Q1220.37 1517.37 1216.74 1517.37 M1216.74 1513.66 Q1222.55 1513.66 1225.6 1518.27 Q1228.68 1522.85 1228.68 1531.6 Q1228.68 1540.33 1225.6 1544.94 Q1222.55 1549.52 1216.74 1549.52 Q1210.93 1549.52 1207.85 1544.94 Q1204.79 1540.33 1204.79 1531.6 Q1204.79 1522.85 1207.85 1518.27 Q1210.93 1513.66 1216.74 1513.66 Z\" fill=\"#000000\" fill-rule=\"nonzero\" fill-opacity=\"1\" /><path clip-path=\"url(#clip310)\" d=\"M1236.9 1542.97 L1241.78 1542.97 L1241.78 1548.85 L1236.9 1548.85 L1236.9 1542.97 Z\" fill=\"#000000\" fill-rule=\"nonzero\" fill-opacity=\"1\" /><path clip-path=\"url(#clip310)\" d=\"M1252.02 1514.29 L1270.37 1514.29 L1270.37 1518.22 L1256.3 1518.22 L1256.3 1526.7 Q1257.32 1526.35 1258.33 1526.19 Q1259.35 1526 1260.37 1526 Q1266.16 1526 1269.54 1529.17 Q1272.92 1532.34 1272.92 1537.76 Q1272.92 1543.34 1269.45 1546.44 Q1265.97 1549.52 1259.65 1549.52 Q1257.48 1549.52 1255.21 1549.15 Q1252.96 1548.78 1250.56 1548.04 L1250.56 1543.34 Q1252.64 1544.47 1254.86 1545.03 Q1257.08 1545.58 1259.56 1545.58 Q1263.57 1545.58 1265.9 1543.48 Q1268.24 1541.37 1268.24 1537.76 Q1268.24 1534.15 1265.9 1532.04 Q1263.57 1529.94 1259.56 1529.94 Q1257.69 1529.94 1255.81 1530.35 Q1253.96 1530.77 1252.02 1531.65 L1252.02 1514.29 Z\" fill=\"#000000\" fill-rule=\"nonzero\" fill-opacity=\"1\" /><path clip-path=\"url(#clip310)\" d=\"M1292.13 1517.37 Q1288.52 1517.37 1286.69 1520.93 Q1284.89 1524.47 1284.89 1531.6 Q1284.89 1538.71 1286.69 1542.27 Q1288.52 1545.82 1292.13 1545.82 Q1295.76 1545.82 1297.57 1542.27 Q1299.4 1538.71 1299.4 1531.6 Q1299.4 1524.47 1297.57 1520.93 Q1295.76 1517.37 1292.13 1517.37 M1292.13 1513.66 Q1297.94 1513.66 1301 1518.27 Q1304.07 1522.85 1304.07 1531.6 Q1304.07 1540.33 1301 1544.94 Q1297.94 1549.52 1292.13 1549.52 Q1286.32 1549.52 1283.24 1544.94 Q1280.19 1540.33 1280.19 1531.6 Q1280.19 1522.85 1283.24 1518.27 Q1286.32 1513.66 1292.13 1513.66 Z\" fill=\"#000000\" fill-rule=\"nonzero\" fill-opacity=\"1\" /><path clip-path=\"url(#clip310)\" d=\"M1735.31 1517.37 Q1731.7 1517.37 1729.87 1520.93 Q1728.07 1524.47 1728.07 1531.6 Q1728.07 1538.71 1729.87 1542.27 Q1731.7 1545.82 1735.31 1545.82 Q1738.95 1545.82 1740.75 1542.27 Q1742.58 1538.71 1742.58 1531.6 Q1742.58 1524.47 1740.75 1520.93 Q1738.95 1517.37 1735.31 1517.37 M1735.31 1513.66 Q1741.12 1513.66 1744.18 1518.27 Q1747.26 1522.85 1747.26 1531.6 Q1747.26 1540.33 1744.18 1544.94 Q1741.12 1549.52 1735.31 1549.52 Q1729.5 1549.52 1726.42 1544.94 Q1723.37 1540.33 1723.37 1531.6 Q1723.37 1522.85 1726.42 1518.27 Q1729.5 1513.66 1735.31 1513.66 Z\" fill=\"#000000\" fill-rule=\"nonzero\" fill-opacity=\"1\" /><path clip-path=\"url(#clip310)\" d=\"M1755.47 1542.97 L1760.36 1542.97 L1760.36 1548.85 L1755.47 1548.85 L1755.47 1542.97 Z\" fill=\"#000000\" fill-rule=\"nonzero\" fill-opacity=\"1\" /><path clip-path=\"url(#clip310)\" d=\"M1769.36 1514.29 L1791.58 1514.29 L1791.58 1516.28 L1779.04 1548.85 L1774.15 1548.85 L1785.96 1518.22 L1769.36 1518.22 L1769.36 1514.29 Z\" fill=\"#000000\" fill-rule=\"nonzero\" fill-opacity=\"1\" /><path clip-path=\"url(#clip310)\" d=\"M1800.75 1514.29 L1819.11 1514.29 L1819.11 1518.22 L1805.03 1518.22 L1805.03 1526.7 Q1806.05 1526.35 1807.07 1526.19 Q1808.09 1526 1809.11 1526 Q1814.89 1526 1818.27 1529.17 Q1821.65 1532.34 1821.65 1537.76 Q1821.65 1543.34 1818.18 1546.44 Q1814.71 1549.52 1808.39 1549.52 Q1806.21 1549.52 1803.95 1549.15 Q1801.7 1548.78 1799.29 1548.04 L1799.29 1543.34 Q1801.38 1544.47 1803.6 1545.03 Q1805.82 1545.58 1808.3 1545.58 Q1812.3 1545.58 1814.64 1543.48 Q1816.98 1541.37 1816.98 1537.76 Q1816.98 1534.15 1814.64 1532.04 Q1812.3 1529.94 1808.3 1529.94 Q1806.42 1529.94 1804.55 1530.35 Q1802.7 1530.77 1800.75 1531.65 L1800.75 1514.29 Z\" fill=\"#000000\" fill-rule=\"nonzero\" fill-opacity=\"1\" /><path clip-path=\"url(#clip310)\" d=\"M2242.66 1544.91 L2250.3 1544.91 L2250.3 1518.55 L2241.99 1520.21 L2241.99 1515.95 L2250.25 1514.29 L2254.93 1514.29 L2254.93 1544.91 L2262.57 1544.91 L2262.57 1548.85 L2242.66 1548.85 L2242.66 1544.91 Z\" fill=\"#000000\" fill-rule=\"nonzero\" fill-opacity=\"1\" /><path clip-path=\"url(#clip310)\" d=\"M2272.01 1542.97 L2276.89 1542.97 L2276.89 1548.85 L2272.01 1548.85 L2272.01 1542.97 Z\" fill=\"#000000\" fill-rule=\"nonzero\" fill-opacity=\"1\" /><path clip-path=\"url(#clip310)\" d=\"M2297.08 1517.37 Q2293.47 1517.37 2291.64 1520.93 Q2289.83 1524.47 2289.83 1531.6 Q2289.83 1538.71 2291.64 1542.27 Q2293.47 1545.82 2297.08 1545.82 Q2300.71 1545.82 2302.52 1542.27 Q2304.35 1538.71 2304.35 1531.6 Q2304.35 1524.47 2302.52 1520.93 Q2300.71 1517.37 2297.08 1517.37 M2297.08 1513.66 Q2302.89 1513.66 2305.95 1518.27 Q2309.02 1522.85 2309.02 1531.6 Q2309.02 1540.33 2305.95 1544.94 Q2302.89 1549.52 2297.08 1549.52 Q2291.27 1549.52 2288.19 1544.94 Q2285.14 1540.33 2285.14 1531.6 Q2285.14 1522.85 2288.19 1518.27 Q2291.27 1513.66 2297.08 1513.66 Z\" fill=\"#000000\" fill-rule=\"nonzero\" fill-opacity=\"1\" /><path clip-path=\"url(#clip310)\" d=\"M2327.24 1517.37 Q2323.63 1517.37 2321.8 1520.93 Q2320 1524.47 2320 1531.6 Q2320 1538.71 2321.8 1542.27 Q2323.63 1545.82 2327.24 1545.82 Q2330.88 1545.82 2332.68 1542.27 Q2334.51 1538.71 2334.51 1531.6 Q2334.51 1524.47 2332.68 1520.93 Q2330.88 1517.37 2327.24 1517.37 M2327.24 1513.66 Q2333.05 1513.66 2336.11 1518.27 Q2339.19 1522.85 2339.19 1531.6 Q2339.19 1540.33 2336.11 1544.94 Q2333.05 1549.52 2327.24 1549.52 Q2321.43 1549.52 2318.35 1544.94 Q2315.3 1540.33 2315.3 1531.6 Q2315.3 1522.85 2318.35 1518.27 Q2321.43 1513.66 2327.24 1513.66 Z\" fill=\"#000000\" fill-rule=\"nonzero\" fill-opacity=\"1\" /><polyline clip-path=\"url(#clip312)\" style=\"stroke:#000000; stroke-linecap:round; stroke-linejoin:round; stroke-width:2; stroke-opacity:0.1; fill:none\" points=\"156.112,1445.72 2352.76,1445.72 \"/>\n",
       "<polyline clip-path=\"url(#clip312)\" style=\"stroke:#000000; stroke-linecap:round; stroke-linejoin:round; stroke-width:2; stroke-opacity:0.1; fill:none\" points=\"156.112,1099.95 2352.76,1099.95 \"/>\n",
       "<polyline clip-path=\"url(#clip312)\" style=\"stroke:#000000; stroke-linecap:round; stroke-linejoin:round; stroke-width:2; stroke-opacity:0.1; fill:none\" points=\"156.112,754.188 2352.76,754.188 \"/>\n",
       "<polyline clip-path=\"url(#clip312)\" style=\"stroke:#000000; stroke-linecap:round; stroke-linejoin:round; stroke-width:2; stroke-opacity:0.1; fill:none\" points=\"156.112,408.423 2352.76,408.423 \"/>\n",
       "<polyline clip-path=\"url(#clip312)\" style=\"stroke:#000000; stroke-linecap:round; stroke-linejoin:round; stroke-width:2; stroke-opacity:0.1; fill:none\" points=\"156.112,62.6594 2352.76,62.6594 \"/>\n",
       "<polyline clip-path=\"url(#clip310)\" style=\"stroke:#000000; stroke-linecap:round; stroke-linejoin:round; stroke-width:4; stroke-opacity:1; fill:none\" points=\"156.112,1486.45 156.112,47.2441 \"/>\n",
       "<polyline clip-path=\"url(#clip310)\" style=\"stroke:#000000; stroke-linecap:round; stroke-linejoin:round; stroke-width:4; stroke-opacity:1; fill:none\" points=\"156.112,1445.72 175.01,1445.72 \"/>\n",
       "<polyline clip-path=\"url(#clip310)\" style=\"stroke:#000000; stroke-linecap:round; stroke-linejoin:round; stroke-width:4; stroke-opacity:1; fill:none\" points=\"156.112,1099.95 175.01,1099.95 \"/>\n",
       "<polyline clip-path=\"url(#clip310)\" style=\"stroke:#000000; stroke-linecap:round; stroke-linejoin:round; stroke-width:4; stroke-opacity:1; fill:none\" points=\"156.112,754.188 175.01,754.188 \"/>\n",
       "<polyline clip-path=\"url(#clip310)\" style=\"stroke:#000000; stroke-linecap:round; stroke-linejoin:round; stroke-width:4; stroke-opacity:1; fill:none\" points=\"156.112,408.423 175.01,408.423 \"/>\n",
       "<polyline clip-path=\"url(#clip310)\" style=\"stroke:#000000; stroke-linecap:round; stroke-linejoin:round; stroke-width:4; stroke-opacity:1; fill:none\" points=\"156.112,62.6594 175.01,62.6594 \"/>\n",
       "<path clip-path=\"url(#clip310)\" d=\"M62.9365 1431.51 Q59.3254 1431.51 57.4967 1435.08 Q55.6912 1438.62 55.6912 1445.75 Q55.6912 1452.86 57.4967 1456.42 Q59.3254 1459.96 62.9365 1459.96 Q66.5707 1459.96 68.3763 1456.42 Q70.205 1452.86 70.205 1445.75 Q70.205 1438.62 68.3763 1435.08 Q66.5707 1431.51 62.9365 1431.51 M62.9365 1427.81 Q68.7467 1427.81 71.8022 1432.42 Q74.8809 1437 74.8809 1445.75 Q74.8809 1454.48 71.8022 1459.08 Q68.7467 1463.67 62.9365 1463.67 Q57.1264 1463.67 54.0477 1459.08 Q50.9921 1454.48 50.9921 1445.75 Q50.9921 1437 54.0477 1432.42 Q57.1264 1427.81 62.9365 1427.81 Z\" fill=\"#000000\" fill-rule=\"nonzero\" fill-opacity=\"1\" /><path clip-path=\"url(#clip310)\" d=\"M83.0984 1457.12 L87.9827 1457.12 L87.9827 1463 L83.0984 1463 L83.0984 1457.12 Z\" fill=\"#000000\" fill-rule=\"nonzero\" fill-opacity=\"1\" /><path clip-path=\"url(#clip310)\" d=\"M108.168 1431.51 Q104.557 1431.51 102.728 1435.08 Q100.922 1438.62 100.922 1445.75 Q100.922 1452.86 102.728 1456.42 Q104.557 1459.96 108.168 1459.96 Q111.802 1459.96 113.608 1456.42 Q115.436 1452.86 115.436 1445.75 Q115.436 1438.62 113.608 1435.08 Q111.802 1431.51 108.168 1431.51 M108.168 1427.81 Q113.978 1427.81 117.033 1432.42 Q120.112 1437 120.112 1445.75 Q120.112 1454.48 117.033 1459.08 Q113.978 1463.67 108.168 1463.67 Q102.358 1463.67 99.2789 1459.08 Q96.2234 1454.48 96.2234 1445.75 Q96.2234 1437 99.2789 1432.42 Q102.358 1427.81 108.168 1427.81 Z\" fill=\"#000000\" fill-rule=\"nonzero\" fill-opacity=\"1\" /><path clip-path=\"url(#clip310)\" d=\"M63.9319 1085.75 Q60.3208 1085.75 58.4921 1089.32 Q56.6865 1092.86 56.6865 1099.99 Q56.6865 1107.09 58.4921 1110.66 Q60.3208 1114.2 63.9319 1114.2 Q67.5661 1114.2 69.3717 1110.66 Q71.2004 1107.09 71.2004 1099.99 Q71.2004 1092.86 69.3717 1089.32 Q67.5661 1085.75 63.9319 1085.75 M63.9319 1082.05 Q69.742 1082.05 72.7976 1086.65 Q75.8763 1091.24 75.8763 1099.99 Q75.8763 1108.71 72.7976 1113.32 Q69.742 1117.9 63.9319 1117.9 Q58.1217 1117.9 55.043 1113.32 Q51.9875 1108.71 51.9875 1099.99 Q51.9875 1091.24 55.043 1086.65 Q58.1217 1082.05 63.9319 1082.05 Z\" fill=\"#000000\" fill-rule=\"nonzero\" fill-opacity=\"1\" /><path clip-path=\"url(#clip310)\" d=\"M84.0938 1111.35 L88.978 1111.35 L88.978 1117.23 L84.0938 1117.23 L84.0938 1111.35 Z\" fill=\"#000000\" fill-rule=\"nonzero\" fill-opacity=\"1\" /><path clip-path=\"url(#clip310)\" d=\"M99.2095 1082.67 L117.566 1082.67 L117.566 1086.61 L103.492 1086.61 L103.492 1095.08 Q104.51 1094.73 105.529 1094.57 Q106.547 1094.38 107.566 1094.38 Q113.353 1094.38 116.733 1097.56 Q120.112 1100.73 120.112 1106.14 Q120.112 1111.72 116.64 1114.82 Q113.168 1117.9 106.848 1117.9 Q104.672 1117.9 102.404 1117.53 Q100.159 1117.16 97.7511 1116.42 L97.7511 1111.72 Q99.8345 1112.86 102.057 1113.41 Q104.279 1113.97 106.756 1113.97 Q110.76 1113.97 113.098 1111.86 Q115.436 1109.75 115.436 1106.14 Q115.436 1102.53 113.098 1100.43 Q110.76 1098.32 106.756 1098.32 Q104.881 1098.32 103.006 1098.74 Q101.154 1099.15 99.2095 1100.03 L99.2095 1082.67 Z\" fill=\"#000000\" fill-rule=\"nonzero\" fill-opacity=\"1\" /><path clip-path=\"url(#clip310)\" d=\"M53.7467 767.532 L61.3856 767.532 L61.3856 741.167 L53.0754 742.833 L53.0754 738.574 L61.3393 736.908 L66.0152 736.908 L66.0152 767.532 L73.654 767.532 L73.654 771.468 L53.7467 771.468 L53.7467 767.532 Z\" fill=\"#000000\" fill-rule=\"nonzero\" fill-opacity=\"1\" /><path clip-path=\"url(#clip310)\" d=\"M83.0984 765.588 L87.9827 765.588 L87.9827 771.468 L83.0984 771.468 L83.0984 765.588 Z\" fill=\"#000000\" fill-rule=\"nonzero\" fill-opacity=\"1\" /><path clip-path=\"url(#clip310)\" d=\"M108.168 739.986 Q104.557 739.986 102.728 743.551 Q100.922 747.093 100.922 754.222 Q100.922 761.329 102.728 764.894 Q104.557 768.435 108.168 768.435 Q111.802 768.435 113.608 764.894 Q115.436 761.329 115.436 754.222 Q115.436 747.093 113.608 743.551 Q111.802 739.986 108.168 739.986 M108.168 736.283 Q113.978 736.283 117.033 740.889 Q120.112 745.472 120.112 754.222 Q120.112 762.949 117.033 767.556 Q113.978 772.139 108.168 772.139 Q102.358 772.139 99.2789 767.556 Q96.2234 762.949 96.2234 754.222 Q96.2234 745.472 99.2789 740.889 Q102.358 736.283 108.168 736.283 Z\" fill=\"#000000\" fill-rule=\"nonzero\" fill-opacity=\"1\" /><path clip-path=\"url(#clip310)\" d=\"M54.7421 421.768 L62.381 421.768 L62.381 395.403 L54.0708 397.069 L54.0708 392.81 L62.3347 391.143 L67.0106 391.143 L67.0106 421.768 L74.6494 421.768 L74.6494 425.703 L54.7421 425.703 L54.7421 421.768 Z\" fill=\"#000000\" fill-rule=\"nonzero\" fill-opacity=\"1\" /><path clip-path=\"url(#clip310)\" d=\"M84.0938 419.824 L88.978 419.824 L88.978 425.703 L84.0938 425.703 L84.0938 419.824 Z\" fill=\"#000000\" fill-rule=\"nonzero\" fill-opacity=\"1\" /><path clip-path=\"url(#clip310)\" d=\"M99.2095 391.143 L117.566 391.143 L117.566 395.079 L103.492 395.079 L103.492 403.551 Q104.51 403.204 105.529 403.042 Q106.547 402.856 107.566 402.856 Q113.353 402.856 116.733 406.028 Q120.112 409.199 120.112 414.616 Q120.112 420.194 116.64 423.296 Q113.168 426.375 106.848 426.375 Q104.672 426.375 102.404 426.004 Q100.159 425.634 97.7511 424.893 L97.7511 420.194 Q99.8345 421.329 102.057 421.884 Q104.279 422.44 106.756 422.44 Q110.76 422.44 113.098 420.333 Q115.436 418.227 115.436 414.616 Q115.436 411.005 113.098 408.898 Q110.76 406.792 106.756 406.792 Q104.881 406.792 103.006 407.208 Q101.154 407.625 99.2095 408.505 L99.2095 391.143 Z\" fill=\"#000000\" fill-rule=\"nonzero\" fill-opacity=\"1\" /><path clip-path=\"url(#clip310)\" d=\"M56.9643 76.0043 L73.2837 76.0043 L73.2837 79.9394 L51.3393 79.9394 L51.3393 76.0043 Q54.0014 73.2497 58.5847 68.62 Q63.1911 63.9673 64.3717 62.6247 Q66.617 60.1016 67.4967 58.3655 Q68.3994 56.6062 68.3994 54.9164 Q68.3994 52.1618 66.455 50.4257 Q64.5337 48.6896 61.4319 48.6896 Q59.2328 48.6896 56.7791 49.4535 Q54.3486 50.2174 51.5708 51.7683 L51.5708 47.0461 Q54.3949 45.9118 56.8486 45.3331 Q59.3023 44.7544 61.3393 44.7544 Q66.7096 44.7544 69.9041 47.4396 Q73.0985 50.1248 73.0985 54.6155 Q73.0985 56.7451 72.2883 58.6664 Q71.5013 60.5645 69.3948 63.1571 Q68.8161 63.8284 65.7143 67.046 Q62.6124 70.2404 56.9643 76.0043 Z\" fill=\"#000000\" fill-rule=\"nonzero\" fill-opacity=\"1\" /><path clip-path=\"url(#clip310)\" d=\"M83.0984 74.0598 L87.9827 74.0598 L87.9827 79.9394 L83.0984 79.9394 L83.0984 74.0598 Z\" fill=\"#000000\" fill-rule=\"nonzero\" fill-opacity=\"1\" /><path clip-path=\"url(#clip310)\" d=\"M108.168 48.4581 Q104.557 48.4581 102.728 52.0229 Q100.922 55.5646 100.922 62.6942 Q100.922 69.8006 102.728 73.3654 Q104.557 76.907 108.168 76.907 Q111.802 76.907 113.608 73.3654 Q115.436 69.8006 115.436 62.6942 Q115.436 55.5646 113.608 52.0229 Q111.802 48.4581 108.168 48.4581 M108.168 44.7544 Q113.978 44.7544 117.033 49.3609 Q120.112 53.9442 120.112 62.6942 Q120.112 71.421 117.033 76.0274 Q113.978 80.6107 108.168 80.6107 Q102.358 80.6107 99.2789 76.0274 Q96.2234 71.421 96.2234 62.6942 Q96.2234 53.9442 99.2789 49.3609 Q102.358 44.7544 108.168 44.7544 Z\" fill=\"#000000\" fill-rule=\"nonzero\" fill-opacity=\"1\" /><polyline clip-path=\"url(#clip312)\" style=\"stroke:#009af9; stroke-linecap:round; stroke-linejoin:round; stroke-width:4; stroke-opacity:1; fill:none\" points=\"218.281,1445.72 218.281,1439.22 239.004,1439.22 239.004,1425.03 259.727,1425.03 259.727,1412.2 280.45,1412.2 280.45,1397.46 301.174,1397.46 301.174,1381.04 321.897,1381.04 321.897,1368.24 342.62,1368.24 342.62,1354.56 363.343,1354.56 363.343,1340.93 384.066,1340.93 384.066,1326.33 404.789,1326.33 404.789,1312.98 425.512,1312.98 425.512,1296.5 446.235,1296.5 446.235,1284.62 466.958,1284.62 466.958,1270.12 487.681,1270.12 487.681,1254.9 508.404,1254.9 508.404,1245.02 529.127,1245.02 529.127,1229.47 549.85,1229.47 549.85,1216.51 570.573,1216.51 570.573,1202.71 591.296,1202.71 591.296,1189.83 612.019,1189.83 612.019,1176.3 632.742,1176.3 632.742,1159.47 653.465,1159.47 653.465,1149.28 674.188,1149.28 674.188,1135.08 694.912,1135.08 694.912,1121.81 715.635,1121.81 715.635,1107.1 736.358,1107.1 736.358,1094.83 757.081,1094.83 757.081,1081.1 777.804,1081.1 777.804,1070.64 798.527,1070.64 798.527,1055.39 819.25,1055.39 819.25,1041.17 839.973,1041.17 839.973,1024.83 860.696,1024.83 860.696,1010.55 881.419,1010.55 881.419,997.184 902.142,997.184 902.142,986.977 922.865,986.977 922.865,966.597 943.588,966.597 943.588,955.284 964.311,955.284 964.311,939.489 985.034,939.489 985.034,928.556 1005.76,928.556 1005.76,908.917 1026.48,908.917 1026.48,896.539 1047.2,896.539 1047.2,884.81 1067.93,884.81 1067.93,870.461 1088.65,870.461 1088.65,855.42 1109.37,855.42 1109.37,837.925 1130.1,837.925 1130.1,826.445 1150.82,826.445 1150.82,809.42 1171.54,809.42 1171.54,800.727 1192.26,800.727 1192.26,786.164 1212.99,786.164 1212.99,770.466 1233.71,770.466 1233.71,752.203 1254.43,752.203 1254.43,742.017 1275.16,742.017 1275.16,724.666 1295.88,724.666 1295.88,711.154 1316.6,711.154 1316.6,699.121 1337.33,699.121 1337.33,685.775 1358.05,685.775 1358.05,673.88 1378.77,673.88 1378.77,656.06 1399.5,656.06 1399.5,644.732 1420.22,644.732 1420.22,632.306 1440.94,632.306 1440.94,616.705 1461.66,616.705 1461.66,600.765 1482.39,600.765 1482.39,588.318 1503.11,588.318 1503.11,574.197 1523.83,574.197 1523.83,562.42 1544.56,562.42 1544.56,548.41 1565.28,548.41 1565.28,533.196 1586,533.196 1586,519.87 1606.73,519.87 1606.73,507.139 1627.45,507.139 1627.45,491.843 1648.17,491.843 1648.17,485.072 1668.9,485.072 1668.9,472.293 1689.62,472.293 1689.62,453.11 1710.34,453.11 1710.34,438.069 1731.06,438.069 1731.06,429.37 1751.79,429.37 1751.79,416.259 1772.51,416.259 1772.51,403.099 1793.23,403.099 1793.23,383.432 1813.96,383.432 1813.96,368.702 1834.68,368.702 1834.68,359.207 1855.4,359.207 1855.4,337.742 1876.13,337.742 1876.13,327.895 1896.85,327.895 1896.85,313.345 1917.57,313.345 1917.57,299.418 1938.29,299.418 1938.29,291.611 1959.02,291.611 1959.02,274.737 1979.74,274.737 1979.74,264.994 2000.46,264.994 2000.46,256.391 2021.19,256.391 2021.19,245.555 2041.91,245.555 2041.91,233.121 2062.63,233.121 2062.63,224.394 2083.36,224.394 2083.36,207.417 2104.08,207.417 2104.08,190.931 2124.8,190.931 2124.8,184.189 2145.53,184.189 2145.53,166.389 2166.25,166.389 2166.25,156.078 2186.97,156.078 2186.97,140.062 2207.69,140.062 2207.69,127.573 2228.42,127.573 2228.42,118.078 2249.14,118.078 2249.14,100.866 2269.86,100.866 2269.86,87.9763 2290.59,87.9763 2290.59,1445.72 \"/>\n",
       "<path clip-path=\"url(#clip310)\" d=\"M229.334 198.898 L688.279 198.898 L688.279 95.2176 L229.334 95.2176  Z\" fill=\"#ffffff\" fill-rule=\"evenodd\" fill-opacity=\"1\"/>\n",
       "<polyline clip-path=\"url(#clip310)\" style=\"stroke:#000000; stroke-linecap:round; stroke-linejoin:round; stroke-width:4; stroke-opacity:1; fill:none\" points=\"229.334,198.898 688.279,198.898 688.279,95.2176 229.334,95.2176 229.334,198.898 \"/>\n",
       "<polyline clip-path=\"url(#clip310)\" style=\"stroke:#009af9; stroke-linecap:round; stroke-linejoin:round; stroke-width:4; stroke-opacity:1; fill:none\" points=\"253.741,147.058 400.184,147.058 \"/>\n",
       "<path clip-path=\"url(#clip310)\" d=\"M424.591 129.778 L431.558 129.778 L440.378 153.296 L449.243 129.778 L456.211 129.778 L456.211 164.338 L451.651 164.338 L451.651 133.99 L442.739 157.694 L438.04 157.694 L429.128 133.99 L429.128 164.338 L424.591 164.338 L424.591 129.778 Z\" fill=\"#000000\" fill-rule=\"nonzero\" fill-opacity=\"1\" /><path clip-path=\"url(#clip310)\" d=\"M487.484 150.31 L487.484 152.393 L467.901 152.393 Q468.179 156.791 470.54 159.106 Q472.924 161.398 477.16 161.398 Q479.614 161.398 481.905 160.796 Q484.22 160.194 486.489 158.99 L486.489 163.018 Q484.197 163.99 481.79 164.5 Q479.382 165.009 476.905 165.009 Q470.702 165.009 467.067 161.398 Q463.456 157.787 463.456 151.629 Q463.456 145.264 466.882 141.537 Q470.331 137.787 476.165 137.787 Q481.396 137.787 484.428 141.166 Q487.484 144.523 487.484 150.31 M483.225 149.06 Q483.178 145.565 481.257 143.481 Q479.359 141.398 476.211 141.398 Q472.646 141.398 470.493 143.412 Q468.364 145.426 468.04 149.083 L483.225 149.06 Z\" fill=\"#000000\" fill-rule=\"nonzero\" fill-opacity=\"1\" /><path clip-path=\"url(#clip310)\" d=\"M498.688 131.051 L498.688 138.412 L507.461 138.412 L507.461 141.722 L498.688 141.722 L498.688 155.796 Q498.688 158.967 499.544 159.87 Q500.424 160.773 503.086 160.773 L507.461 160.773 L507.461 164.338 L503.086 164.338 Q498.155 164.338 496.28 162.509 Q494.405 160.657 494.405 155.796 L494.405 141.722 L491.28 141.722 L491.28 138.412 L494.405 138.412 L494.405 131.051 L498.688 131.051 Z\" fill=\"#000000\" fill-rule=\"nonzero\" fill-opacity=\"1\" /><path clip-path=\"url(#clip310)\" d=\"M528.086 142.393 Q527.368 141.977 526.512 141.791 Q525.678 141.583 524.66 141.583 Q521.049 141.583 519.104 143.944 Q517.183 146.282 517.183 150.68 L517.183 164.338 L512.901 164.338 L512.901 138.412 L517.183 138.412 L517.183 142.44 Q518.525 140.078 520.678 138.944 Q522.831 137.787 525.91 137.787 Q526.35 137.787 526.882 137.856 Q527.414 137.903 528.062 138.018 L528.086 142.393 Z\" fill=\"#000000\" fill-rule=\"nonzero\" fill-opacity=\"1\" /><path clip-path=\"url(#clip310)\" d=\"M541.558 141.398 Q538.132 141.398 536.141 144.083 Q534.15 146.745 534.15 151.398 Q534.15 156.051 536.118 158.736 Q538.109 161.398 541.558 161.398 Q544.961 161.398 546.951 158.713 Q548.942 156.027 548.942 151.398 Q548.942 146.791 546.951 144.106 Q544.961 141.398 541.558 141.398 M541.558 137.787 Q547.113 137.787 550.285 141.398 Q553.456 145.009 553.456 151.398 Q553.456 157.764 550.285 161.398 Q547.113 165.009 541.558 165.009 Q535.979 165.009 532.808 161.398 Q529.66 157.764 529.66 151.398 Q529.66 145.009 532.808 141.398 Q535.979 137.787 541.558 137.787 Z\" fill=\"#000000\" fill-rule=\"nonzero\" fill-opacity=\"1\" /><path clip-path=\"url(#clip310)\" d=\"M564.636 160.449 L564.636 174.199 L560.354 174.199 L560.354 138.412 L564.636 138.412 L564.636 142.347 Q565.979 140.032 568.016 138.921 Q570.076 137.787 572.923 137.787 Q577.646 137.787 580.585 141.537 Q583.548 145.287 583.548 151.398 Q583.548 157.509 580.585 161.259 Q577.646 165.009 572.923 165.009 Q570.076 165.009 568.016 163.898 Q565.979 162.763 564.636 160.449 M579.127 151.398 Q579.127 146.699 577.183 144.037 Q575.261 141.352 571.882 141.352 Q568.502 141.352 566.558 144.037 Q564.636 146.699 564.636 151.398 Q564.636 156.097 566.558 158.782 Q568.502 161.444 571.882 161.444 Q575.261 161.444 577.183 158.782 Q579.127 156.097 579.127 151.398 Z\" fill=\"#000000\" fill-rule=\"nonzero\" fill-opacity=\"1\" /><path clip-path=\"url(#clip310)\" d=\"M600.655 141.398 Q597.229 141.398 595.238 144.083 Q593.247 146.745 593.247 151.398 Q593.247 156.051 595.215 158.736 Q597.206 161.398 600.655 161.398 Q604.057 161.398 606.048 158.713 Q608.039 156.027 608.039 151.398 Q608.039 146.791 606.048 144.106 Q604.057 141.398 600.655 141.398 M600.655 137.787 Q606.21 137.787 609.381 141.398 Q612.553 145.009 612.553 151.398 Q612.553 157.764 609.381 161.398 Q606.21 165.009 600.655 165.009 Q595.076 165.009 591.905 161.398 Q588.757 157.764 588.757 151.398 Q588.757 145.009 591.905 141.398 Q595.076 137.787 600.655 137.787 Z\" fill=\"#000000\" fill-rule=\"nonzero\" fill-opacity=\"1\" /><path clip-path=\"url(#clip310)\" d=\"M619.613 128.319 L623.872 128.319 L623.872 164.338 L619.613 164.338 L619.613 128.319 Z\" fill=\"#000000\" fill-rule=\"nonzero\" fill-opacity=\"1\" /><path clip-path=\"url(#clip310)\" d=\"M632.784 138.412 L637.043 138.412 L637.043 164.338 L632.784 164.338 L632.784 138.412 M632.784 128.319 L637.043 128.319 L637.043 133.713 L632.784 133.713 L632.784 128.319 Z\" fill=\"#000000\" fill-rule=\"nonzero\" fill-opacity=\"1\" /><path clip-path=\"url(#clip310)\" d=\"M662.483 139.176 L662.483 143.203 Q660.678 142.277 658.733 141.815 Q656.789 141.352 654.705 141.352 Q651.534 141.352 649.937 142.324 Q648.363 143.296 648.363 145.24 Q648.363 146.722 649.497 147.578 Q650.631 148.412 654.057 149.176 L655.515 149.5 Q660.053 150.472 661.951 152.254 Q663.872 154.014 663.872 157.185 Q663.872 160.796 661.002 162.902 Q658.154 165.009 653.154 165.009 Q651.071 165.009 648.803 164.592 Q646.557 164.199 644.057 163.388 L644.057 158.99 Q646.418 160.217 648.71 160.842 Q651.002 161.444 653.247 161.444 Q656.256 161.444 657.877 160.426 Q659.497 159.384 659.497 157.509 Q659.497 155.773 658.316 154.847 Q657.159 153.921 653.201 153.064 L651.719 152.717 Q647.761 151.884 646.002 150.171 Q644.242 148.435 644.242 145.426 Q644.242 141.768 646.835 139.778 Q649.428 137.787 654.196 137.787 Q656.557 137.787 658.64 138.134 Q660.724 138.481 662.483 139.176 Z\" fill=\"#000000\" fill-rule=\"nonzero\" fill-opacity=\"1\" /></svg>\n"
      ]
     },
     "metadata": {},
     "output_type": "display_data"
    }
   ],
   "source": [
    "# plot histogram\n",
    "using Plots\n",
    "@time histogram(pdf, bins = 100, normed = true, label = \"Metropolis\")"
   ]
  },
  {
   "cell_type": "markdown",
   "metadata": {},
   "source": [
    "## Assign variables"
   ]
  },
  {
   "cell_type": "code",
   "execution_count": 46,
   "metadata": {},
   "outputs": [
    {
     "data": {
      "text/plain": [
       "42"
      ]
     },
     "metadata": {},
     "output_type": "display_data"
    }
   ],
   "source": [
    "a = 42"
   ]
  },
  {
   "cell_type": "code",
   "execution_count": 47,
   "metadata": {},
   "outputs": [],
   "source": [
    "b = 42;"
   ]
  },
  {
   "cell_type": "markdown",
   "metadata": {},
   "source": [
    "you can use math symbols. personal opinion: readability takes a hit. Naming your variable `stopping_tolerance` is so much more descriptive than $\\delta$. but you could do this in cases where the variable meaning is clear, like $\\psi$ for a wavefunction."
   ]
  },
  {
   "cell_type": "code",
   "execution_count": 48,
   "metadata": {},
   "outputs": [
    {
     "data": {
      "text/plain": [
       "1.4"
      ]
     },
     "metadata": {},
     "output_type": "display_data"
    }
   ],
   "source": [
    "γ = 1.4"
   ]
  },
  {
   "cell_type": "markdown",
   "metadata": {},
   "source": [
    "but also emojis (if you want to torture anyone else who reads your code)"
   ]
  },
  {
   "cell_type": "code",
   "execution_count": 49,
   "metadata": {},
   "outputs": [
    {
     "data": {
      "text/plain": [
       "3"
      ]
     },
     "metadata": {},
     "output_type": "display_data"
    }
   ],
   "source": [
    "😺 = 3"
   ]
  },
  {
   "cell_type": "code",
   "execution_count": 50,
   "metadata": {},
   "outputs": [
    {
     "data": {
      "text/plain": [
       "Int64"
      ]
     },
     "metadata": {},
     "output_type": "display_data"
    }
   ],
   "source": [
    "typeof(😺)"
   ]
  },
  {
   "cell_type": "markdown",
   "metadata": {},
   "source": [
    "### Getting help"
   ]
  },
  {
   "cell_type": "code",
   "execution_count": 51,
   "metadata": {},
   "outputs": [
    {
     "ename": "ErrorException",
     "evalue": "syntax: invalid identifier name \"?\"",
     "output_type": "error",
     "traceback": [
      "syntax: invalid identifier name \"?\"\n",
      "\n",
      "Stacktrace:\n",
      " [1] top-level scope\n",
      "   @ ~/Dropbox/julia_tutorial/base_tutorial.ipynb:2"
     ]
    }
   ],
   "source": [
    "# seems to only work in REPL\n",
    "?typeof"
   ]
  },
  {
   "cell_type": "markdown",
   "metadata": {},
   "source": [
    "### Linear Algebra"
   ]
  },
  {
   "cell_type": "code",
   "execution_count": 52,
   "metadata": {},
   "outputs": [],
   "source": [
    "using LinearAlgebra"
   ]
  },
  {
   "cell_type": "code",
   "execution_count": 53,
   "metadata": {},
   "outputs": [
    {
     "data": {
      "text/plain": [
       "3×3 Matrix{Int64}:\n",
       " 1  2  3\n",
       " 4  5  6\n",
       " 7  8  9"
      ]
     },
     "metadata": {},
     "output_type": "display_data"
    }
   ],
   "source": [
    "A = [1 2 3; 4 5 6; 7 8 9]"
   ]
  },
  {
   "cell_type": "code",
   "execution_count": 54,
   "metadata": {},
   "outputs": [
    {
     "data": {
      "text/plain": [
       "4"
      ]
     },
     "metadata": {},
     "output_type": "display_data"
    }
   ],
   "source": [
    "A[2] # Julia is column major like fortran"
   ]
  },
  {
   "cell_type": "code",
   "execution_count": 55,
   "metadata": {},
   "outputs": [
    {
     "data": {
      "text/plain": [
       "2"
      ]
     },
     "metadata": {},
     "output_type": "display_data"
    }
   ],
   "source": [
    "A[1, 2]"
   ]
  },
  {
   "cell_type": "code",
   "execution_count": 56,
   "metadata": {},
   "outputs": [
    {
     "data": {
      "text/plain": [
       "3-element Vector{Int64}:\n",
       " 1\n",
       " 2\n",
       " 3"
      ]
     },
     "metadata": {},
     "output_type": "display_data"
    }
   ],
   "source": [
    "A[1, :]"
   ]
  },
  {
   "cell_type": "code",
   "execution_count": 57,
   "metadata": {},
   "outputs": [
    {
     "data": {
      "text/plain": [
       "1×3 Matrix{Int64}:\n",
       " 1  2  3"
      ]
     },
     "metadata": {},
     "output_type": "display_data"
    }
   ],
   "source": [
    "B = [1 2 3]"
   ]
  },
  {
   "cell_type": "code",
   "execution_count": 58,
   "metadata": {},
   "outputs": [
    {
     "data": {
      "text/plain": [
       "3-element Vector{Int64}:\n",
       " 1\n",
       " 2\n",
       " 3"
      ]
     },
     "metadata": {},
     "output_type": "display_data"
    }
   ],
   "source": [
    "B = [1;2;3]"
   ]
  },
  {
   "cell_type": "code",
   "execution_count": 59,
   "metadata": {},
   "outputs": [
    {
     "data": {
      "text/plain": [
       "3-element Vector{Int64}:\n",
       " 1\n",
       " 2\n",
       " 3"
      ]
     },
     "metadata": {},
     "output_type": "display_data"
    }
   ],
   "source": [
    "v = [1, 2, 3]"
   ]
  },
  {
   "cell_type": "markdown",
   "metadata": {},
   "source": [
    "Note that for vectorized operations you need to use `.`. Otherwise julia will just matrix multiply"
   ]
  },
  {
   "cell_type": "code",
   "execution_count": 60,
   "metadata": {},
   "outputs": [
    {
     "data": {
      "text/plain": [
       "3-element Vector{Int64}:\n",
       " 14\n",
       " 32\n",
       " 50"
      ]
     },
     "metadata": {},
     "output_type": "display_data"
    },
    {
     "data": {
      "text/plain": [
       "3×3 Matrix{Int64}:\n",
       "  1   2   3\n",
       "  8  10  12\n",
       " 21  24  27"
      ]
     },
     "metadata": {},
     "output_type": "display_data"
    }
   ],
   "source": [
    "s = A*v\n",
    "display(s)\n",
    "broadcast_s = A .* v\n",
    "display(broadcast_s)"
   ]
  },
  {
   "cell_type": "markdown",
   "metadata": {},
   "source": [
    "But you can also do `@.` to vectorize everything"
   ]
  },
  {
   "cell_type": "code",
   "execution_count": 61,
   "metadata": {},
   "outputs": [
    {
     "data": {
      "text/plain": [
       "3×3 Matrix{Int64}:\n",
       "  2   6  10\n",
       " 12  20  28\n",
       " 30  42  54"
      ]
     },
     "metadata": {},
     "output_type": "display_data"
    },
    {
     "data": {
      "text/plain": [
       "3-element Vector{Int64}:\n",
       " 44\n",
       " 68\n",
       " 92"
      ]
     },
     "metadata": {},
     "output_type": "display_data"
    }
   ],
   "source": [
    "broadcast_multiple = @. A * v + A' * v # ' is transpose\n",
    "multiple = A * v + A' * v\n",
    "display(broadcast_multiple)\n",
    "display(multiple)"
   ]
  },
  {
   "cell_type": "markdown",
   "metadata": {},
   "source": [
    "You can also vectorize over functions"
   ]
  },
  {
   "cell_type": "code",
   "execution_count": 83,
   "metadata": {},
   "outputs": [
    {
     "data": {
      "text/plain": [
       "3×3 Matrix{Int64}:\n",
       "  30   36   42\n",
       "  66   81   96\n",
       " 102  126  150"
      ]
     },
     "metadata": {},
     "output_type": "display_data"
    },
    {
     "data": {
      "text/plain": [
       "3×3 Matrix{Int64}:\n",
       "  1   4   9\n",
       " 16  25  36\n",
       " 49  64  81"
      ]
     },
     "metadata": {},
     "output_type": "display_data"
    }
   ],
   "source": [
    "square(x) = x^2\n",
    "display(square(A))\n",
    "display(square.(A))"
   ]
  },
  {
   "cell_type": "code",
   "execution_count": 63,
   "metadata": {},
   "outputs": [
    {
     "data": {
      "text/plain": [
       "4×4 Matrix{Float64}:\n",
       " 1.31313   1.11902   1.34697   0.218313\n",
       " 1.11902   0.047987  0.662962  0.378445\n",
       " 1.34697   0.662962  0.933942  1.11619\n",
       " 0.218313  0.378445  1.11619   0.288116"
      ]
     },
     "metadata": {},
     "output_type": "display_data"
    }
   ],
   "source": [
    "# Solve A x = b\n",
    "problem_dim = 4\n",
    "b = rand(problem_dim)\n",
    "Y = rand(problem_dim, problem_dim)\n",
    "Y = Y + Y' # prime is the transpose operator"
   ]
  },
  {
   "cell_type": "code",
   "execution_count": 64,
   "metadata": {},
   "outputs": [
    {
     "name": "stdout",
     "output_type": "stream",
     "text": [
      "  0.000015 seconds (3 allocations: 384 bytes)\n"
     ]
    },
    {
     "data": {
      "text/plain": [
       "4-element Vector{Float64}:\n",
       " -0.3138498233478776\n",
       "  0.24530690020361828\n",
       "  0.5756043657286244\n",
       "  0.2077008179342493"
      ]
     },
     "metadata": {},
     "output_type": "display_data"
    }
   ],
   "source": [
    "@time x = Y \\ b"
   ]
  },
  {
   "cell_type": "markdown",
   "metadata": {},
   "source": [
    "### Factorizations"
   ]
  },
  {
   "cell_type": "code",
   "execution_count": 65,
   "metadata": {},
   "outputs": [
    {
     "data": {
      "text/plain": [
       "LinearAlgebra.QRCompactWY{Float64, Matrix{Float64}, Matrix{Float64}}\n",
       "Q factor:\n",
       "4×4 LinearAlgebra.QRCompactWYQ{Float64, Matrix{Float64}, Matrix{Float64}}:\n",
       " -0.596968    0.596208   -0.201045  -0.497742\n",
       " -0.508724   -0.71658     0.301418  -0.369945\n",
       " -0.612355   -0.0441502  -0.201893   0.763093\n",
       " -0.0992485   0.359305    0.909927   0.181886\n",
       "R factor:\n",
       "4×4 Matrix{Float64}:\n",
       " -2.19966  -1.13596   -1.82405   -1.03495\n",
       "  0.0       0.739489   0.68783   -0.0867844\n",
       "  0.0       0.0        0.756124   0.106993\n",
       "  0.0       0.0        0.0        0.655496"
      ]
     },
     "metadata": {},
     "output_type": "display_data"
    }
   ],
   "source": [
    "Ylu = lu(Y)\n",
    "Yqr = qr(Y)"
   ]
  },
  {
   "cell_type": "markdown",
   "metadata": {},
   "source": [
    "You can also do these \"in-place\" (i.e. without allocating new memory)"
   ]
  },
  {
   "cell_type": "code",
   "execution_count": 66,
   "metadata": {},
   "outputs": [
    {
     "data": {
      "text/plain": [
       "4×4 Matrix{Float64}:\n",
       " 1.31313   1.11902   1.34697   0.218313\n",
       " 1.11902   0.047987  0.662962  0.378445\n",
       " 1.34697   0.662962  0.933942  1.11619\n",
       " 0.218313  0.378445  1.11619   0.288116"
      ]
     },
     "metadata": {},
     "output_type": "display_data"
    },
    {
     "data": {
      "text/plain": [
       "LU{Float64, Matrix{Float64}, Vector{Int64}}\n",
       "L factor:\n",
       "4×4 Matrix{Float64}:\n",
       " 1.0        0.0       0.0       0.0\n",
       " 0.830767   1.0       0.0       0.0\n",
       " 0.162077  -0.538991  1.0       0.0\n",
       " 0.974872  -0.940207  0.365422  1.0\n",
       "U factor:\n",
       "4×4 Matrix{Float64}:\n",
       " 1.34697   0.662962   0.933942   1.11619\n",
       " 0.0      -0.50278   -0.112926  -0.548851\n",
       " 0.0       0.0        0.903957  -0.188619\n",
       " 0.0       0.0        0.0       -1.31694"
      ]
     },
     "metadata": {},
     "output_type": "display_data"
    },
    {
     "data": {
      "text/plain": [
       "4×4 Matrix{Float64}:\n",
       " 1.34697    0.662962   0.933942   1.11619\n",
       " 0.830767  -0.50278   -0.112926  -0.548851\n",
       " 0.162077  -0.538991   0.903957  -0.188619\n",
       " 0.974872  -0.940207   0.365422  -1.31694"
      ]
     },
     "metadata": {},
     "output_type": "display_data"
    }
   ],
   "source": [
    "display(Y)\n",
    "s = lu!(Y)\n",
    "display(s)\n",
    "display(Y)"
   ]
  },
  {
   "cell_type": "markdown",
   "metadata": {},
   "source": [
    "## Functions and structs"
   ]
  },
  {
   "cell_type": "code",
   "execution_count": 68,
   "metadata": {},
   "outputs": [],
   "source": [
    "struct Point\n",
    "    x::Int\n",
    "    y\n",
    "end"
   ]
  },
  {
   "cell_type": "code",
   "execution_count": 69,
   "metadata": {},
   "outputs": [
    {
     "data": {
      "text/plain": [
       "Point(1, 2.0)"
      ]
     },
     "metadata": {},
     "output_type": "display_data"
    }
   ],
   "source": [
    "s = Point(1, 2.0)"
   ]
  },
  {
   "cell_type": "code",
   "execution_count": 70,
   "metadata": {},
   "outputs": [
    {
     "name": "stdout",
     "output_type": "stream",
     "text": [
      "s.x: 1 s.y: 2.0\n"
     ]
    }
   ],
   "source": [
    "println(\"s.x: \", s.x, \" s.y: \", s.y)"
   ]
  },
  {
   "cell_type": "markdown",
   "metadata": {},
   "source": [
    "You can choose to or not choose to specify types"
   ]
  },
  {
   "cell_type": "code",
   "execution_count": 71,
   "metadata": {},
   "outputs": [
    {
     "ename": "InexactError",
     "evalue": "InexactError: Int64(3.5)",
     "output_type": "error",
     "traceback": [
      "InexactError: Int64(3.5)\n",
      "\n",
      "Stacktrace:\n",
      " [1] Int64\n",
      "   @ ./float.jl:900 [inlined]\n",
      " [2] convert\n",
      "   @ ./number.jl:7 [inlined]\n",
      " [3] Point(x::Float64, y::Float64)\n",
      "   @ Main ~/Dropbox/julia_tutorial/base_tutorial.ipynb:2\n",
      " [4] top-level scope\n",
      "   @ ~/Dropbox/julia_tutorial/base_tutorial.ipynb:1"
     ]
    }
   ],
   "source": [
    "Point(3.5, 1.0) # raises error"
   ]
  },
  {
   "cell_type": "markdown",
   "metadata": {},
   "source": [
    "You can also add functions to construct the struct"
   ]
  },
  {
   "cell_type": "code",
   "execution_count": 72,
   "metadata": {},
   "outputs": [
    {
     "data": {
      "text/plain": [
       "Point"
      ]
     },
     "metadata": {},
     "output_type": "display_data"
    }
   ],
   "source": [
    "Point() = Point(0, 0)\n",
    "Point(x) = Point(x, 0)\n",
    "\n",
    "function Point(x, y, z)\n",
    "    println(\"last two arguments have been added\")\n",
    "    return Point(x, y+z)\n",
    "end"
   ]
  },
  {
   "cell_type": "code",
   "execution_count": 73,
   "metadata": {},
   "outputs": [
    {
     "name": "stdout",
     "output_type": "stream",
     "text": [
      "Point(0, 0)\n",
      "Point(3, 0)\n",
      "last two arguments have been added\n",
      "Point(3, 9)\n"
     ]
    }
   ],
   "source": [
    "println(Point())\n",
    "println(Point(3))\n",
    "println(Point(3, 4, 5))"
   ]
  },
  {
   "cell_type": "markdown",
   "metadata": {},
   "source": [
    "However you cannot change data after an (immutable) struct is constructed. You need to define an mutable struct"
   ]
  },
  {
   "cell_type": "code",
   "execution_count": 74,
   "metadata": {},
   "outputs": [
    {
     "ename": "ErrorException",
     "evalue": "setfield!: immutable struct of type Point cannot be changed",
     "output_type": "error",
     "traceback": [
      "setfield!: immutable struct of type Point cannot be changed\n",
      "\n",
      "Stacktrace:\n",
      " [1] setproperty!(x::Point, f::Symbol, v::Int64)\n",
      "   @ Base ./Base.jl:38\n",
      " [2] top-level scope\n",
      "   @ ~/Dropbox/julia_tutorial/base_tutorial.ipynb:2"
     ]
    }
   ],
   "source": [
    "s = Point(3, 4)\n",
    "s.x += 1 # raises error"
   ]
  },
  {
   "cell_type": "code",
   "execution_count": 75,
   "metadata": {},
   "outputs": [],
   "source": [
    "mutable struct MutablePoint\n",
    "    x::Int\n",
    "    y::Int\n",
    "end # tip: specifying types for mutable structs helps with speed"
   ]
  },
  {
   "cell_type": "code",
   "execution_count": 76,
   "metadata": {},
   "outputs": [
    {
     "name": "stdout",
     "output_type": "stream",
     "text": [
      "MutablePoint(2, 2)\n"
     ]
    }
   ],
   "source": [
    "m = MutablePoint(1, 2)\n",
    "m.x += 1\n",
    "println(m)"
   ]
  },
  {
   "cell_type": "markdown",
   "metadata": {},
   "source": [
    "### Types\n",
    "Refer to [types](https://docs.julialang.org/en/v1/manual/types/) for more info.\n",
    "\n",
    "Everything has a type, for example a 64 bit floating point number is `Float64`.\n",
    "A struct is a composite type, it's made up of a collection of other types, example: `Complex128` is a struct made up of two `Float64`s. In general usually you don't need to specify types, because Julia will infer types and generate optimized code for you.\n",
    "\n",
    "But specifying types is useful in some cases for performance (refer to [performance tips](https://docs.julialang.org/en/v1/manual/performance-tips/)) and also for ensuring correctness (at the cost of flexibility). \n",
    "\n"
   ]
  },
  {
   "cell_type": "markdown",
   "metadata": {},
   "source": [
    "### Abstract Types\n",
    "How do you specify Float64 is a number?\n",
    "\n",
    "```julia\n",
    "abstract type Number end\n",
    "abstract type Real     <: Number end\n",
    "abstract type AbstractFloat <: Real end\n",
    "abstract type Float64 <: AbstractFloat end\n",
    "```"
   ]
  },
  {
   "cell_type": "code",
   "execution_count": 77,
   "metadata": {},
   "outputs": [],
   "source": [
    "struct MyComplex128 <: Number\n",
    "    re::Float64\n",
    "    im::Float64\n",
    "end\n",
    "\n",
    "struct GeneralComplex{T <: Number}\n",
    "    re::T\n",
    "    im::T\n",
    "end"
   ]
  },
  {
   "cell_type": "markdown",
   "metadata": {},
   "source": [
    "In general complex we instantiated this with a parameter `T`, so if you want to do your calculations with a special 500 bit floating point number `Float500`, you can do complex arithmetic with GeneralComplex{Float500}. or If you feel like Float8s are enough, you can do GeneralComplex{Float8}.\n",
    "\n",
    "A lot of this generalizability is useful under the hood. Ex: You can use arbitrary precision arithmetic with Julia's Differential equation solvers (which is shown in `useful_packages.ipynb`)\n",
    "\n",
    "(so if you want to figure out whether your calculations are sensitive to numerical precision, you can just change the type of your numbers and see if the results change)"
   ]
  },
  {
   "cell_type": "markdown",
   "metadata": {},
   "source": [
    "## Multiple dispatch\n",
    "Julia chooses functions based on the types of the arguments. (Example from wikipedia)"
   ]
  },
  {
   "cell_type": "code",
   "execution_count": 78,
   "metadata": {},
   "outputs": [],
   "source": [
    "abstract type SpaceObject end\n",
    "\n",
    "struct Asteroid <: SpaceObject\n",
    "    size::Int    \n",
    "end\n",
    "struct Spaceship <: SpaceObject\n",
    "    size::Int                  \n",
    "end\n",
    "\n",
    "struct Astronaut <: SpaceObject\n",
    "    size::Int\n",
    "end\n",
    "\n",
    "collide_with(::Asteroid, ::Spaceship) = \"a/s\"\n",
    "collide_with(::Spaceship, ::Asteroid) = \"s/a\"\n",
    "collide_with(::Spaceship, ::Spaceship) = \"s/s\"\n",
    "collide_with(::Asteroid, ::Asteroid) = \"a/a\"\n",
    "collide_with(::SpaceObject, ::SpaceObject) = \"?\"\n",
    "\n",
    "collide(x::SpaceObject, y::SpaceObject) = (x.size > 100 && y.size > 100) ? \"Big boom!\" : collide_with(x, y);"
   ]
  },
  {
   "cell_type": "code",
   "execution_count": 79,
   "metadata": {},
   "outputs": [
    {
     "data": {
      "text/plain": [
       "\"Big boom!\""
      ]
     },
     "metadata": {},
     "output_type": "display_data"
    }
   ],
   "source": [
    "collide(Asteroid(200), Spaceship(200))"
   ]
  },
  {
   "cell_type": "code",
   "execution_count": 80,
   "metadata": {},
   "outputs": [
    {
     "data": {
      "text/plain": [
       "\"?\""
      ]
     },
     "metadata": {},
     "output_type": "display_data"
    }
   ],
   "source": [
    "collide(Astronaut(10), Astronaut(10))"
   ]
  },
  {
   "cell_type": "code",
   "execution_count": 81,
   "metadata": {},
   "outputs": [
    {
     "data": {
      "text/plain": [
       "\"s/s\""
      ]
     },
     "metadata": {},
     "output_type": "display_data"
    }
   ],
   "source": [
    "collide(Spaceship(10), Spaceship(10))"
   ]
  },
  {
   "cell_type": "markdown",
   "metadata": {},
   "source": [
    "In practice example from [DiffeqBase](https://github.com/SciML/DiffEqBase.jl/blob/782a88b91ea9f7fef5be19a913c8e323fbe87e37/src/internal_euler.jl#L15C1-L16C22)\n",
    "\n",
    "```julia\n",
    "\n",
    "function DiffEqBase.solve(prob::DiffEqBase.AbstractODEProblem{uType, tType, isinplace},\n",
    "    Alg::FwdEulerAlg; args...)\n",
    "```\n",
    "\n",
    "the \"solve\" function specializes to problem and algorithm types"
   ]
  }
 ],
 "metadata": {
  "kernelspec": {
   "display_name": "Julia 1.9.0",
   "language": "julia",
   "name": "julia-1.9"
  },
  "language_info": {
   "file_extension": ".jl",
   "mimetype": "application/julia",
   "name": "julia",
   "version": "1.9.0"
  },
  "orig_nbformat": 4
 },
 "nbformat": 4,
 "nbformat_minor": 2
}
