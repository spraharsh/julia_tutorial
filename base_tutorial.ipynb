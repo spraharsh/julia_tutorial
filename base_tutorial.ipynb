{
 "cells": [
  {
   "cell_type": "markdown",
   "metadata": {},
   "source": [
    "# Julia Tutorial\n",
    "## Why Julia\n",
    "Not all scientific code is vectorizable for easy writing with python.\n",
    "\n",
    "### Example Problem\n",
    "suppose we want to simulate the random variable $X$ with pdf $P(x) = 2x$ where $x\\in[0,1]$, with Metropolis-Hastings, assuming you have access to a uniform random number generator."
   ]
  },
  {
   "cell_type": "code",
   "execution_count": 72,
   "metadata": {},
   "outputs": [
    {
     "data": {
      "text/plain": [
       "10000000"
      ]
     },
     "metadata": {},
     "output_type": "display_data"
    }
   ],
   "source": [
    "using Random\n",
    "rng = MersenneTwister(1234);\n",
    "\n",
    "function target(x)\n",
    "    if 0 <= x <= 1\n",
    "        return 2x\n",
    "    else\n",
    "        return 0\n",
    "    end\n",
    "end\n",
    "\n",
    "function proposal(x)\n",
    "    return x + 0.1 * (rand(rng) - 0.5)\n",
    "end\n",
    "\n",
    "function metropolis(nsamples)\n",
    "    samples = Float64[]\n",
    "    curr = rand()\n",
    "    for _ = 1:nsamples\n",
    "        next = proposal(curr)\n",
    "        accept_ratio = target(next) / target(curr)\n",
    "        if rand(rng) < accept_ratio\n",
    "            curr = next\n",
    "        end\n",
    "        push!(samples, curr)\n",
    "    end\n",
    "    return samples\n",
    "end\n",
    "\n",
    "n_samples = Int(1e7)"
   ]
  },
  {
   "cell_type": "code",
   "execution_count": 73,
   "metadata": {},
   "outputs": [
    {
     "name": "stdout",
     "output_type": "stream",
     "text": [
      "  0.011367 seconds (134 allocations: 6.141 KiB, 99.52% compilation time)\n"
     ]
    },
    {
     "name": "stdout",
     "output_type": "stream",
     "text": [
      "  2.386757 seconds (89.75 M allocations: 1.409 GiB, 4.43% gc time)\n"
     ]
    }
   ],
   "source": [
    "@time pdf = metropolis(1)\n",
    "@time pdf = metropolis(n_samples);"
   ]
  },
  {
   "cell_type": "markdown",
   "metadata": {},
   "source": [
    "Also plots take less time (out of the box)"
   ]
  },
  {
   "cell_type": "code",
   "execution_count": 74,
   "metadata": {},
   "outputs": [
    {
     "name": "stdout",
     "output_type": "stream",
     "text": [
      "  0.691388 seconds (244.44 k allocations: 91.872 MiB, 48.46% compilation time: 5% of which was recompilation)\n"
     ]
    },
    {
     "data": {
      "image/png": "[encoded data removed]",
      "image/svg+xml": [
       "<?xml version=\"1.0\" encoding=\"utf-8\"?>\n",
       "<svg xmlns=\"http://www.w3.org/2000/svg\" xmlns:xlink=\"http://www.w3.org/1999/xlink\" width=\"600\" height=\"400\" viewBox=\"0 0 2400 1600\">\n",
       "<defs>\n",
       "  <clipPath id=\"clip190\">\n",
       "    <rect x=\"0\" y=\"0\" width=\"2400\" height=\"1600\"/>\n",
       "  </clipPath>\n",
       "</defs>\n",
       "<path clip-path=\"url(#clip190)\" d=\"M0 1600 L2400 1600 L2400 0 L0 0  Z\" fill=\"#ffffff\" fill-rule=\"evenodd\" fill-opacity=\"1\"/>\n",
       "<defs>\n",
       "  <clipPath id=\"clip191\">\n",
       "    <rect x=\"480\" y=\"0\" width=\"1681\" height=\"1600\"/>\n",
       "  </clipPath>\n",
       "</defs>\n",
       "<path clip-path=\"url(#clip190)\" d=\"M156.112 1486.45 L2352.76 1486.45 L2352.76 47.2441 L156.112 47.2441  Z\" fill=\"#ffffff\" fill-rule=\"evenodd\" fill-opacity=\"1\"/>\n",
       "<defs>\n",
       "  <clipPath id=\"clip192\">\n",
       "    <rect x=\"156\" y=\"47\" width=\"2198\" height=\"1440\"/>\n",
       "  </clipPath>\n",
       "</defs>\n",
       "<polyline clip-path=\"url(#clip192)\" style=\"stroke:#000000; stroke-linecap:round; stroke-linejoin:round; stroke-width:2; stroke-opacity:0.1; fill:none\" points=\"218.281,1486.45 218.281,47.2441 \"/>\n",
       "<polyline clip-path=\"url(#clip192)\" style=\"stroke:#000000; stroke-linecap:round; stroke-linejoin:round; stroke-width:2; stroke-opacity:0.1; fill:none\" points=\"736.358,1486.45 736.358,47.2441 \"/>\n",
       "<polyline clip-path=\"url(#clip192)\" style=\"stroke:#000000; stroke-linecap:round; stroke-linejoin:round; stroke-width:2; stroke-opacity:0.1; fill:none\" points=\"1254.43,1486.45 1254.43,47.2441 \"/>\n",
       "<polyline clip-path=\"url(#clip192)\" style=\"stroke:#000000; stroke-linecap:round; stroke-linejoin:round; stroke-width:2; stroke-opacity:0.1; fill:none\" points=\"1772.51,1486.45 1772.51,47.2441 \"/>\n",
       "<polyline clip-path=\"url(#clip192)\" style=\"stroke:#000000; stroke-linecap:round; stroke-linejoin:round; stroke-width:2; stroke-opacity:0.1; fill:none\" points=\"2290.59,1486.45 2290.59,47.2441 \"/>\n",
       "<polyline clip-path=\"url(#clip190)\" style=\"stroke:#000000; stroke-linecap:round; stroke-linejoin:round; stroke-width:4; stroke-opacity:1; fill:none\" points=\"156.112,1486.45 2352.76,1486.45 \"/>\n",
       "<polyline clip-path=\"url(#clip190)\" style=\"stroke:#000000; stroke-linecap:round; stroke-linejoin:round; stroke-width:4; stroke-opacity:1; fill:none\" points=\"218.281,1486.45 218.281,1467.55 \"/>\n",
       "<polyline clip-path=\"url(#clip190)\" style=\"stroke:#000000; stroke-linecap:round; stroke-linejoin:round; stroke-width:4; stroke-opacity:1; fill:none\" points=\"736.358,1486.45 736.358,1467.55 \"/>\n",
       "<polyline clip-path=\"url(#clip190)\" style=\"stroke:#000000; stroke-linecap:round; stroke-linejoin:round; stroke-width:4; stroke-opacity:1; fill:none\" points=\"1254.43,1486.45 1254.43,1467.55 \"/>\n",
       "<polyline clip-path=\"url(#clip190)\" style=\"stroke:#000000; stroke-linecap:round; stroke-linejoin:round; stroke-width:4; stroke-opacity:1; fill:none\" points=\"1772.51,1486.45 1772.51,1467.55 \"/>\n",
       "<polyline clip-path=\"url(#clip190)\" style=\"stroke:#000000; stroke-linecap:round; stroke-linejoin:round; stroke-width:4; stroke-opacity:1; fill:none\" points=\"2290.59,1486.45 2290.59,1467.55 \"/>\n",
       "<path clip-path=\"url(#clip190)\" d=\"M180.585 1517.37 Q176.974 1517.37 175.145 1520.93 Q173.339 1524.47 173.339 1531.6 Q173.339 1538.71 175.145 1542.27 Q176.974 1545.82 180.585 1545.82 Q184.219 1545.82 186.025 1542.27 Q187.853 1538.71 187.853 1531.6 Q187.853 1524.47 186.025 1520.93 Q184.219 1517.37 180.585 1517.37 M180.585 1513.66 Q186.395 1513.66 189.45 1518.27 Q192.529 1522.85 192.529 1531.6 Q192.529 1540.33 189.45 1544.94 Q186.395 1549.52 180.585 1549.52 Q174.775 1549.52 171.696 1544.94 Q168.64 1540.33 168.64 1531.6 Q168.64 1522.85 171.696 1518.27 Q174.775 1513.66 180.585 1513.66 Z\" fill=\"#000000\" fill-rule=\"nonzero\" fill-opacity=\"1\" /><path clip-path=\"url(#clip190)\" d=\"M200.747 1542.97 L205.631 1542.97 L205.631 1548.85 L200.747 1548.85 L200.747 1542.97 Z\" fill=\"#000000\" fill-rule=\"nonzero\" fill-opacity=\"1\" /><path clip-path=\"url(#clip190)\" d=\"M225.816 1517.37 Q222.205 1517.37 220.376 1520.93 Q218.571 1524.47 218.571 1531.6 Q218.571 1538.71 220.376 1542.27 Q222.205 1545.82 225.816 1545.82 Q229.45 1545.82 231.256 1542.27 Q233.084 1538.71 233.084 1531.6 Q233.084 1524.47 231.256 1520.93 Q229.45 1517.37 225.816 1517.37 M225.816 1513.66 Q231.626 1513.66 234.682 1518.27 Q237.76 1522.85 237.76 1531.6 Q237.76 1540.33 234.682 1544.94 Q231.626 1549.52 225.816 1549.52 Q220.006 1549.52 216.927 1544.94 Q213.872 1540.33 213.872 1531.6 Q213.872 1522.85 216.927 1518.27 Q220.006 1513.66 225.816 1513.66 Z\" fill=\"#000000\" fill-rule=\"nonzero\" fill-opacity=\"1\" /><path clip-path=\"url(#clip190)\" d=\"M255.978 1517.37 Q252.367 1517.37 250.538 1520.93 Q248.733 1524.47 248.733 1531.6 Q248.733 1538.71 250.538 1542.27 Q252.367 1545.82 255.978 1545.82 Q259.612 1545.82 261.418 1542.27 Q263.246 1538.71 263.246 1531.6 Q263.246 1524.47 261.418 1520.93 Q259.612 1517.37 255.978 1517.37 M255.978 1513.66 Q261.788 1513.66 264.844 1518.27 Q267.922 1522.85 267.922 1531.6 Q267.922 1540.33 264.844 1544.94 Q261.788 1549.52 255.978 1549.52 Q250.168 1549.52 247.089 1544.94 Q244.033 1540.33 244.033 1531.6 Q244.033 1522.85 247.089 1518.27 Q250.168 1513.66 255.978 1513.66 Z\" fill=\"#000000\" fill-rule=\"nonzero\" fill-opacity=\"1\" /><path clip-path=\"url(#clip190)\" d=\"M699.159 1517.37 Q695.548 1517.37 693.719 1520.93 Q691.913 1524.47 691.913 1531.6 Q691.913 1538.71 693.719 1542.27 Q695.548 1545.82 699.159 1545.82 Q702.793 1545.82 704.599 1542.27 Q706.427 1538.71 706.427 1531.6 Q706.427 1524.47 704.599 1520.93 Q702.793 1517.37 699.159 1517.37 M699.159 1513.66 Q704.969 1513.66 708.024 1518.27 Q711.103 1522.85 711.103 1531.6 Q711.103 1540.33 708.024 1544.94 Q704.969 1549.52 699.159 1549.52 Q693.349 1549.52 690.27 1544.94 Q687.214 1540.33 687.214 1531.6 Q687.214 1522.85 690.27 1518.27 Q693.349 1513.66 699.159 1513.66 Z\" fill=\"#000000\" fill-rule=\"nonzero\" fill-opacity=\"1\" /><path clip-path=\"url(#clip190)\" d=\"M719.321 1542.97 L724.205 1542.97 L724.205 1548.85 L719.321 1548.85 L719.321 1542.97 Z\" fill=\"#000000\" fill-rule=\"nonzero\" fill-opacity=\"1\" /><path clip-path=\"url(#clip190)\" d=\"M738.418 1544.91 L754.737 1544.91 L754.737 1548.85 L732.793 1548.85 L732.793 1544.91 Q735.455 1542.16 740.038 1537.53 Q744.645 1532.88 745.825 1531.53 Q748.071 1529.01 748.95 1527.27 Q749.853 1525.51 749.853 1523.82 Q749.853 1521.07 747.909 1519.33 Q745.987 1517.6 742.885 1517.6 Q740.686 1517.6 738.233 1518.36 Q735.802 1519.13 733.024 1520.68 L733.024 1515.95 Q735.848 1514.82 738.302 1514.24 Q740.756 1513.66 742.793 1513.66 Q748.163 1513.66 751.358 1516.35 Q754.552 1519.03 754.552 1523.52 Q754.552 1525.65 753.742 1527.57 Q752.955 1529.47 750.848 1532.07 Q750.27 1532.74 747.168 1535.95 Q744.066 1539.15 738.418 1544.91 Z\" fill=\"#000000\" fill-rule=\"nonzero\" fill-opacity=\"1\" /><path clip-path=\"url(#clip190)\" d=\"M764.598 1514.29 L782.955 1514.29 L782.955 1518.22 L768.881 1518.22 L768.881 1526.7 Q769.899 1526.35 770.918 1526.19 Q771.936 1526 772.955 1526 Q778.742 1526 782.121 1529.17 Q785.501 1532.34 785.501 1537.76 Q785.501 1543.34 782.029 1546.44 Q778.557 1549.52 772.237 1549.52 Q770.061 1549.52 767.793 1549.15 Q765.547 1548.78 763.14 1548.04 L763.14 1543.34 Q765.223 1544.47 767.445 1545.03 Q769.668 1545.58 772.144 1545.58 Q776.149 1545.58 778.487 1543.48 Q780.825 1541.37 780.825 1537.76 Q780.825 1534.15 778.487 1532.04 Q776.149 1529.94 772.144 1529.94 Q770.27 1529.94 768.395 1530.35 Q766.543 1530.77 764.598 1531.65 L764.598 1514.29 Z\" fill=\"#000000\" fill-rule=\"nonzero\" fill-opacity=\"1\" /><path clip-path=\"url(#clip190)\" d=\"M1216.74 1517.37 Q1213.13 1517.37 1211.3 1520.93 Q1209.49 1524.47 1209.49 1531.6 Q1209.49 1538.71 1211.3 1542.27 Q1213.13 1545.82 1216.74 1545.82 Q1220.37 1545.82 1222.18 1542.27 Q1224.01 1538.71 1224.01 1531.6 Q1224.01 1524.47 1222.18 1520.93 Q1220.37 1517.37 1216.74 1517.37 M1216.74 1513.66 Q1222.55 1513.66 1225.6 1518.27 Q1228.68 1522.85 1228.68 1531.6 Q1228.68 1540.33 1225.6 1544.94 Q1222.55 1549.52 1216.74 1549.52 Q1210.93 1549.52 1207.85 1544.94 Q1204.79 1540.33 1204.79 1531.6 Q1204.79 1522.85 1207.85 1518.27 Q1210.93 1513.66 1216.74 1513.66 Z\" fill=\"#000000\" fill-rule=\"nonzero\" fill-opacity=\"1\" /><path clip-path=\"url(#clip190)\" d=\"M1236.9 1542.97 L1241.78 1542.97 L1241.78 1548.85 L1236.9 1548.85 L1236.9 1542.97 Z\" fill=\"#000000\" fill-rule=\"nonzero\" fill-opacity=\"1\" /><path clip-path=\"url(#clip190)\" d=\"M1252.02 1514.29 L1270.37 1514.29 L1270.37 1518.22 L1256.3 1518.22 L1256.3 1526.7 Q1257.32 1526.35 1258.33 1526.19 Q1259.35 1526 1260.37 1526 Q1266.16 1526 1269.54 1529.17 Q1272.92 1532.34 1272.92 1537.76 Q1272.92 1543.34 1269.45 1546.44 Q1265.97 1549.52 1259.65 1549.52 Q1257.48 1549.52 1255.21 1549.15 Q1252.96 1548.78 1250.56 1548.04 L1250.56 1543.34 Q1252.64 1544.47 1254.86 1545.03 Q1257.08 1545.58 1259.56 1545.58 Q1263.57 1545.58 1265.9 1543.48 Q1268.24 1541.37 1268.24 1537.76 Q1268.24 1534.15 1265.9 1532.04 Q1263.57 1529.94 1259.56 1529.94 Q1257.69 1529.94 1255.81 1530.35 Q1253.96 1530.77 1252.02 1531.65 L1252.02 1514.29 Z\" fill=\"#000000\" fill-rule=\"nonzero\" fill-opacity=\"1\" /><path clip-path=\"url(#clip190)\" d=\"M1292.13 1517.37 Q1288.52 1517.37 1286.69 1520.93 Q1284.89 1524.47 1284.89 1531.6 Q1284.89 1538.71 1286.69 1542.27 Q1288.52 1545.82 1292.13 1545.82 Q1295.76 1545.82 1297.57 1542.27 Q1299.4 1538.71 1299.4 1531.6 Q1299.4 1524.47 1297.57 1520.93 Q1295.76 1517.37 1292.13 1517.37 M1292.13 1513.66 Q1297.94 1513.66 1301 1518.27 Q1304.07 1522.85 1304.07 1531.6 Q1304.07 1540.33 1301 1544.94 Q1297.94 1549.52 1292.13 1549.52 Q1286.32 1549.52 1283.24 1544.94 Q1280.19 1540.33 1280.19 1531.6 Q1280.19 1522.85 1283.24 1518.27 Q1286.32 1513.66 1292.13 1513.66 Z\" fill=\"#000000\" fill-rule=\"nonzero\" fill-opacity=\"1\" /><path clip-path=\"url(#clip190)\" d=\"M1735.31 1517.37 Q1731.7 1517.37 1729.87 1520.93 Q1728.07 1524.47 1728.07 1531.6 Q1728.07 1538.71 1729.87 1542.27 Q1731.7 1545.82 1735.31 1545.82 Q1738.95 1545.82 1740.75 1542.27 Q1742.58 1538.71 1742.58 1531.6 Q1742.58 1524.47 1740.75 1520.93 Q1738.95 1517.37 1735.31 1517.37 M1735.31 1513.66 Q1741.12 1513.66 1744.18 1518.27 Q1747.26 1522.85 1747.26 1531.6 Q1747.26 1540.33 1744.18 1544.94 Q1741.12 1549.52 1735.31 1549.52 Q1729.5 1549.52 1726.42 1544.94 Q1723.37 1540.33 1723.37 1531.6 Q1723.37 1522.85 1726.42 1518.27 Q1729.5 1513.66 1735.31 1513.66 Z\" fill=\"#000000\" fill-rule=\"nonzero\" fill-opacity=\"1\" /><path clip-path=\"url(#clip190)\" d=\"M1755.47 1542.97 L1760.36 1542.97 L1760.36 1548.85 L1755.47 1548.85 L1755.47 1542.97 Z\" fill=\"#000000\" fill-rule=\"nonzero\" fill-opacity=\"1\" /><path clip-path=\"url(#clip190)\" d=\"M1769.36 1514.29 L1791.58 1514.29 L1791.58 1516.28 L1779.04 1548.85 L1774.15 1548.85 L1785.96 1518.22 L1769.36 1518.22 L1769.36 1514.29 Z\" fill=\"#000000\" fill-rule=\"nonzero\" fill-opacity=\"1\" /><path clip-path=\"url(#clip190)\" d=\"M1800.75 1514.29 L1819.11 1514.29 L1819.11 1518.22 L1805.03 1518.22 L1805.03 1526.7 Q1806.05 1526.35 1807.07 1526.19 Q1808.09 1526 1809.11 1526 Q1814.89 1526 1818.27 1529.17 Q1821.65 1532.34 1821.65 1537.76 Q1821.65 1543.34 1818.18 1546.44 Q1814.71 1549.52 1808.39 1549.52 Q1806.21 1549.52 1803.95 1549.15 Q1801.7 1548.78 1799.29 1548.04 L1799.29 1543.34 Q1801.38 1544.47 1803.6 1545.03 Q1805.82 1545.58 1808.3 1545.58 Q1812.3 1545.58 1814.64 1543.48 Q1816.98 1541.37 1816.98 1537.76 Q1816.98 1534.15 1814.64 1532.04 Q1812.3 1529.94 1808.3 1529.94 Q1806.42 1529.94 1804.55 1530.35 Q1802.7 1530.77 1800.75 1531.65 L1800.75 1514.29 Z\" fill=\"#000000\" fill-rule=\"nonzero\" fill-opacity=\"1\" /><path clip-path=\"url(#clip190)\" d=\"M2242.66 1544.91 L2250.3 1544.91 L2250.3 1518.55 L2241.99 1520.21 L2241.99 1515.95 L2250.25 1514.29 L2254.93 1514.29 L2254.93 1544.91 L2262.57 1544.91 L2262.57 1548.85 L2242.66 1548.85 L2242.66 1544.91 Z\" fill=\"#000000\" fill-rule=\"nonzero\" fill-opacity=\"1\" /><path clip-path=\"url(#clip190)\" d=\"M2272.01 1542.97 L2276.89 1542.97 L2276.89 1548.85 L2272.01 1548.85 L2272.01 1542.97 Z\" fill=\"#000000\" fill-rule=\"nonzero\" fill-opacity=\"1\" /><path clip-path=\"url(#clip190)\" d=\"M2297.08 1517.37 Q2293.47 1517.37 2291.64 1520.93 Q2289.83 1524.47 2289.83 1531.6 Q2289.83 1538.71 2291.64 1542.27 Q2293.47 1545.82 2297.08 1545.82 Q2300.71 1545.82 2302.52 1542.27 Q2304.35 1538.71 2304.35 1531.6 Q2304.35 1524.47 2302.52 1520.93 Q2300.71 1517.37 2297.08 1517.37 M2297.08 1513.66 Q2302.89 1513.66 2305.95 1518.27 Q2309.02 1522.85 2309.02 1531.6 Q2309.02 1540.33 2305.95 1544.94 Q2302.89 1549.52 2297.08 1549.52 Q2291.27 1549.52 2288.19 1544.94 Q2285.14 1540.33 2285.14 1531.6 Q2285.14 1522.85 2288.19 1518.27 Q2291.27 1513.66 2297.08 1513.66 Z\" fill=\"#000000\" fill-rule=\"nonzero\" fill-opacity=\"1\" /><path clip-path=\"url(#clip190)\" d=\"M2327.24 1517.37 Q2323.63 1517.37 2321.8 1520.93 Q2320 1524.47 2320 1531.6 Q2320 1538.71 2321.8 1542.27 Q2323.63 1545.82 2327.24 1545.82 Q2330.88 1545.82 2332.68 1542.27 Q2334.51 1538.71 2334.51 1531.6 Q2334.51 1524.47 2332.68 1520.93 Q2330.88 1517.37 2327.24 1517.37 M2327.24 1513.66 Q2333.05 1513.66 2336.11 1518.27 Q2339.19 1522.85 2339.19 1531.6 Q2339.19 1540.33 2336.11 1544.94 Q2333.05 1549.52 2327.24 1549.52 Q2321.43 1549.52 2318.35 1544.94 Q2315.3 1540.33 2315.3 1531.6 Q2315.3 1522.85 2318.35 1518.27 Q2321.43 1513.66 2327.24 1513.66 Z\" fill=\"#000000\" fill-rule=\"nonzero\" fill-opacity=\"1\" /><polyline clip-path=\"url(#clip192)\" style=\"stroke:#000000; stroke-linecap:round; stroke-linejoin:round; stroke-width:2; stroke-opacity:0.1; fill:none\" points=\"156.112,1445.72 2352.76,1445.72 \"/>\n",
       "<polyline clip-path=\"url(#clip192)\" style=\"stroke:#000000; stroke-linecap:round; stroke-linejoin:round; stroke-width:2; stroke-opacity:0.1; fill:none\" points=\"156.112,1099.55 2352.76,1099.55 \"/>\n",
       "<polyline clip-path=\"url(#clip192)\" style=\"stroke:#000000; stroke-linecap:round; stroke-linejoin:round; stroke-width:2; stroke-opacity:0.1; fill:none\" points=\"156.112,753.391 2352.76,753.391 \"/>\n",
       "<polyline clip-path=\"url(#clip192)\" style=\"stroke:#000000; stroke-linecap:round; stroke-linejoin:round; stroke-width:2; stroke-opacity:0.1; fill:none\" points=\"156.112,407.228 2352.76,407.228 \"/>\n",
       "<polyline clip-path=\"url(#clip192)\" style=\"stroke:#000000; stroke-linecap:round; stroke-linejoin:round; stroke-width:2; stroke-opacity:0.1; fill:none\" points=\"156.112,61.0656 2352.76,61.0656 \"/>\n",
       "<polyline clip-path=\"url(#clip190)\" style=\"stroke:#000000; stroke-linecap:round; stroke-linejoin:round; stroke-width:4; stroke-opacity:1; fill:none\" points=\"156.112,1486.45 156.112,47.2441 \"/>\n",
       "<polyline clip-path=\"url(#clip190)\" style=\"stroke:#000000; stroke-linecap:round; stroke-linejoin:round; stroke-width:4; stroke-opacity:1; fill:none\" points=\"156.112,1445.72 175.01,1445.72 \"/>\n",
       "<polyline clip-path=\"url(#clip190)\" style=\"stroke:#000000; stroke-linecap:round; stroke-linejoin:round; stroke-width:4; stroke-opacity:1; fill:none\" points=\"156.112,1099.55 175.01,1099.55 \"/>\n",
       "<polyline clip-path=\"url(#clip190)\" style=\"stroke:#000000; stroke-linecap:round; stroke-linejoin:round; stroke-width:4; stroke-opacity:1; fill:none\" points=\"156.112,753.391 175.01,753.391 \"/>\n",
       "<polyline clip-path=\"url(#clip190)\" style=\"stroke:#000000; stroke-linecap:round; stroke-linejoin:round; stroke-width:4; stroke-opacity:1; fill:none\" points=\"156.112,407.228 175.01,407.228 \"/>\n",
       "<polyline clip-path=\"url(#clip190)\" style=\"stroke:#000000; stroke-linecap:round; stroke-linejoin:round; stroke-width:4; stroke-opacity:1; fill:none\" points=\"156.112,61.0656 175.01,61.0656 \"/>\n",
       "<path clip-path=\"url(#clip190)\" d=\"M62.9365 1431.51 Q59.3254 1431.51 57.4967 1435.08 Q55.6912 1438.62 55.6912 1445.75 Q55.6912 1452.86 57.4967 1456.42 Q59.3254 1459.96 62.9365 1459.96 Q66.5707 1459.96 68.3763 1456.42 Q70.205 1452.86 70.205 1445.75 Q70.205 1438.62 68.3763 1435.08 Q66.5707 1431.51 62.9365 1431.51 M62.9365 1427.81 Q68.7467 1427.81 71.8022 1432.42 Q74.8809 1437 74.8809 1445.75 Q74.8809 1454.48 71.8022 1459.08 Q68.7467 1463.67 62.9365 1463.67 Q57.1264 1463.67 54.0477 1459.08 Q50.9921 1454.48 50.9921 1445.75 Q50.9921 1437 54.0477 1432.42 Q57.1264 1427.81 62.9365 1427.81 Z\" fill=\"#000000\" fill-rule=\"nonzero\" fill-opacity=\"1\" /><path clip-path=\"url(#clip190)\" d=\"M83.0984 1457.12 L87.9827 1457.12 L87.9827 1463 L83.0984 1463 L83.0984 1457.12 Z\" fill=\"#000000\" fill-rule=\"nonzero\" fill-opacity=\"1\" /><path clip-path=\"url(#clip190)\" d=\"M108.168 1431.51 Q104.557 1431.51 102.728 1435.08 Q100.922 1438.62 100.922 1445.75 Q100.922 1452.86 102.728 1456.42 Q104.557 1459.96 108.168 1459.96 Q111.802 1459.96 113.608 1456.42 Q115.436 1452.86 115.436 1445.75 Q115.436 1438.62 113.608 1435.08 Q111.802 1431.51 108.168 1431.51 M108.168 1427.81 Q113.978 1427.81 117.033 1432.42 Q120.112 1437 120.112 1445.75 Q120.112 1454.48 117.033 1459.08 Q113.978 1463.67 108.168 1463.67 Q102.358 1463.67 99.2789 1459.08 Q96.2234 1454.48 96.2234 1445.75 Q96.2234 1437 99.2789 1432.42 Q102.358 1427.81 108.168 1427.81 Z\" fill=\"#000000\" fill-rule=\"nonzero\" fill-opacity=\"1\" /><path clip-path=\"url(#clip190)\" d=\"M63.9319 1085.35 Q60.3208 1085.35 58.4921 1088.92 Q56.6865 1092.46 56.6865 1099.59 Q56.6865 1106.69 58.4921 1110.26 Q60.3208 1113.8 63.9319 1113.8 Q67.5661 1113.8 69.3717 1110.26 Q71.2004 1106.69 71.2004 1099.59 Q71.2004 1092.46 69.3717 1088.92 Q67.5661 1085.35 63.9319 1085.35 M63.9319 1081.65 Q69.742 1081.65 72.7976 1086.25 Q75.8763 1090.84 75.8763 1099.59 Q75.8763 1108.31 72.7976 1112.92 Q69.742 1117.5 63.9319 1117.5 Q58.1217 1117.5 55.043 1112.92 Q51.9875 1108.31 51.9875 1099.59 Q51.9875 1090.84 55.043 1086.25 Q58.1217 1081.65 63.9319 1081.65 Z\" fill=\"#000000\" fill-rule=\"nonzero\" fill-opacity=\"1\" /><path clip-path=\"url(#clip190)\" d=\"M84.0938 1110.95 L88.978 1110.95 L88.978 1116.83 L84.0938 1116.83 L84.0938 1110.95 Z\" fill=\"#000000\" fill-rule=\"nonzero\" fill-opacity=\"1\" /><path clip-path=\"url(#clip190)\" d=\"M99.2095 1082.27 L117.566 1082.27 L117.566 1086.21 L103.492 1086.21 L103.492 1094.68 Q104.51 1094.33 105.529 1094.17 Q106.547 1093.99 107.566 1093.99 Q113.353 1093.99 116.733 1097.16 Q120.112 1100.33 120.112 1105.75 Q120.112 1111.32 116.64 1114.43 Q113.168 1117.5 106.848 1117.5 Q104.672 1117.5 102.404 1117.13 Q100.159 1116.76 97.7511 1116.02 L97.7511 1111.32 Q99.8345 1112.46 102.057 1113.01 Q104.279 1113.57 106.756 1113.57 Q110.76 1113.57 113.098 1111.46 Q115.436 1109.36 115.436 1105.75 Q115.436 1102.13 113.098 1100.03 Q110.76 1097.92 106.756 1097.92 Q104.881 1097.92 103.006 1098.34 Q101.154 1098.75 99.2095 1099.63 L99.2095 1082.27 Z\" fill=\"#000000\" fill-rule=\"nonzero\" fill-opacity=\"1\" /><path clip-path=\"url(#clip190)\" d=\"M53.7467 766.735 L61.3856 766.735 L61.3856 740.37 L53.0754 742.037 L53.0754 737.777 L61.3393 736.111 L66.0152 736.111 L66.0152 766.735 L73.654 766.735 L73.654 770.671 L53.7467 770.671 L53.7467 766.735 Z\" fill=\"#000000\" fill-rule=\"nonzero\" fill-opacity=\"1\" /><path clip-path=\"url(#clip190)\" d=\"M83.0984 764.791 L87.9827 764.791 L87.9827 770.671 L83.0984 770.671 L83.0984 764.791 Z\" fill=\"#000000\" fill-rule=\"nonzero\" fill-opacity=\"1\" /><path clip-path=\"url(#clip190)\" d=\"M108.168 739.189 Q104.557 739.189 102.728 742.754 Q100.922 746.296 100.922 753.425 Q100.922 760.532 102.728 764.097 Q104.557 767.638 108.168 767.638 Q111.802 767.638 113.608 764.097 Q115.436 760.532 115.436 753.425 Q115.436 746.296 113.608 742.754 Q111.802 739.189 108.168 739.189 M108.168 735.486 Q113.978 735.486 117.033 740.092 Q120.112 744.675 120.112 753.425 Q120.112 762.152 117.033 766.759 Q113.978 771.342 108.168 771.342 Q102.358 771.342 99.2789 766.759 Q96.2234 762.152 96.2234 753.425 Q96.2234 744.675 99.2789 740.092 Q102.358 735.486 108.168 735.486 Z\" fill=\"#000000\" fill-rule=\"nonzero\" fill-opacity=\"1\" /><path clip-path=\"url(#clip190)\" d=\"M54.7421 420.573 L62.381 420.573 L62.381 394.207 L54.0708 395.874 L54.0708 391.615 L62.3347 389.948 L67.0106 389.948 L67.0106 420.573 L74.6494 420.573 L74.6494 424.508 L54.7421 424.508 L54.7421 420.573 Z\" fill=\"#000000\" fill-rule=\"nonzero\" fill-opacity=\"1\" /><path clip-path=\"url(#clip190)\" d=\"M84.0938 418.629 L88.978 418.629 L88.978 424.508 L84.0938 424.508 L84.0938 418.629 Z\" fill=\"#000000\" fill-rule=\"nonzero\" fill-opacity=\"1\" /><path clip-path=\"url(#clip190)\" d=\"M99.2095 389.948 L117.566 389.948 L117.566 393.883 L103.492 393.883 L103.492 402.355 Q104.51 402.008 105.529 401.846 Q106.547 401.661 107.566 401.661 Q113.353 401.661 116.733 404.832 Q120.112 408.004 120.112 413.42 Q120.112 418.999 116.64 422.101 Q113.168 425.179 106.848 425.179 Q104.672 425.179 102.404 424.809 Q100.159 424.439 97.7511 423.698 L97.7511 418.999 Q99.8345 420.133 102.057 420.689 Q104.279 421.244 106.756 421.244 Q110.76 421.244 113.098 419.138 Q115.436 417.031 115.436 413.42 Q115.436 409.809 113.098 407.703 Q110.76 405.596 106.756 405.596 Q104.881 405.596 103.006 406.013 Q101.154 406.43 99.2095 407.309 L99.2095 389.948 Z\" fill=\"#000000\" fill-rule=\"nonzero\" fill-opacity=\"1\" /><path clip-path=\"url(#clip190)\" d=\"M56.9643 74.4104 L73.2837 74.4104 L73.2837 78.3456 L51.3393 78.3456 L51.3393 74.4104 Q54.0014 71.6558 58.5847 67.0262 Q63.1911 62.3735 64.3717 61.0309 Q66.617 58.5077 67.4967 56.7716 Q68.3994 55.0124 68.3994 53.3226 Q68.3994 50.568 66.455 48.8319 Q64.5337 47.0958 61.4319 47.0958 Q59.2328 47.0958 56.7791 47.8597 Q54.3486 48.6235 51.5708 50.1745 L51.5708 45.4523 Q54.3949 44.318 56.8486 43.7393 Q59.3023 43.1606 61.3393 43.1606 Q66.7096 43.1606 69.9041 45.8458 Q73.0985 48.5309 73.0985 53.0217 Q73.0985 55.1513 72.2883 57.0726 Q71.5013 58.9707 69.3948 61.5633 Q68.8161 62.2346 65.7143 65.4522 Q62.6124 68.6466 56.9643 74.4104 Z\" fill=\"#000000\" fill-rule=\"nonzero\" fill-opacity=\"1\" /><path clip-path=\"url(#clip190)\" d=\"M83.0984 72.466 L87.9827 72.466 L87.9827 78.3456 L83.0984 78.3456 L83.0984 72.466 Z\" fill=\"#000000\" fill-rule=\"nonzero\" fill-opacity=\"1\" /><path clip-path=\"url(#clip190)\" d=\"M108.168 46.8643 Q104.557 46.8643 102.728 50.4291 Q100.922 53.9707 100.922 61.1003 Q100.922 68.2068 102.728 71.7716 Q104.557 75.3132 108.168 75.3132 Q111.802 75.3132 113.608 71.7716 Q115.436 68.2068 115.436 61.1003 Q115.436 53.9707 113.608 50.4291 Q111.802 46.8643 108.168 46.8643 M108.168 43.1606 Q113.978 43.1606 117.033 47.7671 Q120.112 52.3504 120.112 61.1003 Q120.112 69.8271 117.033 74.4336 Q113.978 79.0169 108.168 79.0169 Q102.358 79.0169 99.2789 74.4336 Q96.2234 69.8271 96.2234 61.1003 Q96.2234 52.3504 99.2789 47.7671 Q102.358 43.1606 108.168 43.1606 Z\" fill=\"#000000\" fill-rule=\"nonzero\" fill-opacity=\"1\" /><polyline clip-path=\"url(#clip192)\" style=\"stroke:#009af9; stroke-linecap:round; stroke-linejoin:round; stroke-width:4; stroke-opacity:1; fill:none\" points=\"218.281,1445.72 218.281,1439.24 239.004,1439.24 239.004,1424.95 259.727,1424.95 259.727,1412.14 280.45,1412.14 280.45,1397.38 301.174,1397.38 301.174,1381 321.897,1381 321.897,1368.47 342.62,1368.47 342.62,1354.58 363.343,1354.58 363.343,1340.76 384.066,1340.76 384.066,1326.08 404.789,1326.08 404.789,1312.65 425.512,1312.65 425.512,1296.96 446.235,1296.96 446.235,1283.79 466.958,1283.79 466.958,1270.06 487.681,1270.06 487.681,1254.37 508.404,1254.37 508.404,1244.32 529.127,1244.32 529.127,1229.43 549.85,1229.43 549.85,1216.2 570.573,1216.2 570.573,1202.29 591.296,1202.29 591.296,1188.98 612.019,1188.98 612.019,1175.95 632.742,1175.95 632.742,1159.02 653.465,1159.02 653.465,1148.29 674.188,1148.29 674.188,1135.13 694.912,1135.13 694.912,1121.13 715.635,1121.13 715.635,1106.26 736.358,1106.26 736.358,1094.74 757.081,1094.74 757.081,1080.71 777.804,1080.71 777.804,1070.42 798.527,1070.42 798.527,1054.34 819.25,1054.34 819.25,1040.94 839.973,1040.94 839.973,1024.46 860.696,1024.46 860.696,1010.28 881.419,1010.28 881.419,996.84 902.142,996.84 902.142,985.285 922.865,985.285 922.865,967.091 943.588,967.091 943.588,954.94 964.311,954.94 964.311,938.131 985.034,938.131 985.034,927.732 1005.76,927.732 1005.76,908.125 1026.48,908.125 1026.48,895.172 1047.2,895.172 1047.2,884.254 1067.93,884.254 1067.93,870.705 1088.65,870.705 1088.65,854.415 1109.37,854.415 1109.37,838.187 1130.1,838.187 1130.1,825.351 1150.82,825.351 1150.82,809.31 1171.54,809.31 1171.54,800.275 1192.26,800.275 1192.26,785.21 1212.99,785.21 1212.99,770.436 1233.71,770.436 1233.71,751.051 1254.43,751.051 1254.43,739.87 1275.16,739.87 1275.16,726.605 1295.88,726.605 1295.88,710.106 1316.6,710.106 1316.6,697.838 1337.33,697.838 1337.33,685.709 1358.05,685.709 1358.05,672.873 1378.77,672.873 1378.77,655.164 1399.5,655.164 1399.5,644.363 1420.22,644.363 1420.22,631.313 1440.94,631.313 1440.94,615.895 1461.66,615.895 1461.66,598.815 1482.39,598.815 1482.39,587.918 1503.11,587.918 1503.11,572.708 1523.83,572.708 1523.83,561.104 1544.56,561.104 1544.56,547.666 1565.28,547.666 1565.28,532.615 1586,532.615 1586,519.731 1606.73,519.731 1606.73,505.241 1627.45,505.241 1627.45,491.983 1648.17,491.983 1648.17,482.283 1668.9,482.283 1668.9,470.444 1689.62,470.444 1689.62,453.282 1710.34,453.282 1710.34,435.039 1731.06,435.039 1731.06,430.463 1751.79,430.463 1751.79,415.384 1772.51,415.384 1772.51,401.669 1793.23,401.669 1793.23,381.508 1813.96,381.508 1813.96,366.499 1834.68,366.499 1834.68,359.028 1855.4,359.028 1855.4,336.14 1876.13,336.14 1876.13,327.458 1896.85,327.458 1896.85,312.477 1917.57,312.477 1917.57,297.017 1938.29,297.017 1938.29,288.363 1959.02,288.363 1959.02,275.472 1979.74,275.472 1979.74,262.768 2000.46,262.768 2000.46,254.238 2021.19,254.238 2021.19,244.871 2041.91,244.871 2041.91,231.751 2062.63,231.751 2062.63,223.139 2083.36,223.139 2083.36,204.619 2104.08,204.619 2104.08,188.294 2124.8,188.294 2124.8,184.521 2145.53,184.521 2145.53,166.251 2166.25,166.251 2166.25,152.494 2186.97,152.494 2186.97,139.291 2207.69,139.291 2207.69,128.138 2228.42,128.138 2228.42,114.236 2249.14,114.236 2249.14,98.5965 2269.86,98.5965 2269.86,87.9763 2290.59,87.9763 2290.59,1445.72 \"/>\n",
       "<path clip-path=\"url(#clip190)\" d=\"M229.334 198.898 L688.279 198.898 L688.279 95.2176 L229.334 95.2176  Z\" fill=\"#ffffff\" fill-rule=\"evenodd\" fill-opacity=\"1\"/>\n",
       "<polyline clip-path=\"url(#clip190)\" style=\"stroke:#000000; stroke-linecap:round; stroke-linejoin:round; stroke-width:4; stroke-opacity:1; fill:none\" points=\"229.334,198.898 688.279,198.898 688.279,95.2176 229.334,95.2176 229.334,198.898 \"/>\n",
       "<polyline clip-path=\"url(#clip190)\" style=\"stroke:#009af9; stroke-linecap:round; stroke-linejoin:round; stroke-width:4; stroke-opacity:1; fill:none\" points=\"253.741,147.058 400.184,147.058 \"/>\n",
       "<path clip-path=\"url(#clip190)\" d=\"M424.591 129.778 L431.558 129.778 L440.378 153.296 L449.243 129.778 L456.211 129.778 L456.211 164.338 L451.651 164.338 L451.651 133.99 L442.739 157.694 L438.04 157.694 L429.128 133.99 L429.128 164.338 L424.591 164.338 L424.591 129.778 Z\" fill=\"#000000\" fill-rule=\"nonzero\" fill-opacity=\"1\" /><path clip-path=\"url(#clip190)\" d=\"M487.484 150.31 L487.484 152.393 L467.901 152.393 Q468.179 156.791 470.54 159.106 Q472.924 161.398 477.16 161.398 Q479.614 161.398 481.905 160.796 Q484.22 160.194 486.489 158.99 L486.489 163.018 Q484.197 163.99 481.79 164.5 Q479.382 165.009 476.905 165.009 Q470.702 165.009 467.067 161.398 Q463.456 157.787 463.456 151.629 Q463.456 145.264 466.882 141.537 Q470.331 137.787 476.165 137.787 Q481.396 137.787 484.428 141.166 Q487.484 144.523 487.484 150.31 M483.225 149.06 Q483.178 145.565 481.257 143.481 Q479.359 141.398 476.211 141.398 Q472.646 141.398 470.493 143.412 Q468.364 145.426 468.04 149.083 L483.225 149.06 Z\" fill=\"#000000\" fill-rule=\"nonzero\" fill-opacity=\"1\" /><path clip-path=\"url(#clip190)\" d=\"M498.688 131.051 L498.688 138.412 L507.461 138.412 L507.461 141.722 L498.688 141.722 L498.688 155.796 Q498.688 158.967 499.544 159.87 Q500.424 160.773 503.086 160.773 L507.461 160.773 L507.461 164.338 L503.086 164.338 Q498.155 164.338 496.28 162.509 Q494.405 160.657 494.405 155.796 L494.405 141.722 L491.28 141.722 L491.28 138.412 L494.405 138.412 L494.405 131.051 L498.688 131.051 Z\" fill=\"#000000\" fill-rule=\"nonzero\" fill-opacity=\"1\" /><path clip-path=\"url(#clip190)\" d=\"M528.086 142.393 Q527.368 141.977 526.512 141.791 Q525.678 141.583 524.66 141.583 Q521.049 141.583 519.104 143.944 Q517.183 146.282 517.183 150.68 L517.183 164.338 L512.901 164.338 L512.901 138.412 L517.183 138.412 L517.183 142.44 Q518.525 140.078 520.678 138.944 Q522.831 137.787 525.91 137.787 Q526.35 137.787 526.882 137.856 Q527.414 137.903 528.062 138.018 L528.086 142.393 Z\" fill=\"#000000\" fill-rule=\"nonzero\" fill-opacity=\"1\" /><path clip-path=\"url(#clip190)\" d=\"M541.558 141.398 Q538.132 141.398 536.141 144.083 Q534.15 146.745 534.15 151.398 Q534.15 156.051 536.118 158.736 Q538.109 161.398 541.558 161.398 Q544.961 161.398 546.951 158.713 Q548.942 156.027 548.942 151.398 Q548.942 146.791 546.951 144.106 Q544.961 141.398 541.558 141.398 M541.558 137.787 Q547.113 137.787 550.285 141.398 Q553.456 145.009 553.456 151.398 Q553.456 157.764 550.285 161.398 Q547.113 165.009 541.558 165.009 Q535.979 165.009 532.808 161.398 Q529.66 157.764 529.66 151.398 Q529.66 145.009 532.808 141.398 Q535.979 137.787 541.558 137.787 Z\" fill=\"#000000\" fill-rule=\"nonzero\" fill-opacity=\"1\" /><path clip-path=\"url(#clip190)\" d=\"M564.636 160.449 L564.636 174.199 L560.354 174.199 L560.354 138.412 L564.636 138.412 L564.636 142.347 Q565.979 140.032 568.016 138.921 Q570.076 137.787 572.923 137.787 Q577.646 137.787 580.585 141.537 Q583.548 145.287 583.548 151.398 Q583.548 157.509 580.585 161.259 Q577.646 165.009 572.923 165.009 Q570.076 165.009 568.016 163.898 Q565.979 162.763 564.636 160.449 M579.127 151.398 Q579.127 146.699 577.183 144.037 Q575.261 141.352 571.882 141.352 Q568.502 141.352 566.558 144.037 Q564.636 146.699 564.636 151.398 Q564.636 156.097 566.558 158.782 Q568.502 161.444 571.882 161.444 Q575.261 161.444 577.183 158.782 Q579.127 156.097 579.127 151.398 Z\" fill=\"#000000\" fill-rule=\"nonzero\" fill-opacity=\"1\" /><path clip-path=\"url(#clip190)\" d=\"M600.655 141.398 Q597.229 141.398 595.238 144.083 Q593.247 146.745 593.247 151.398 Q593.247 156.051 595.215 158.736 Q597.206 161.398 600.655 161.398 Q604.057 161.398 606.048 158.713 Q608.039 156.027 608.039 151.398 Q608.039 146.791 606.048 144.106 Q604.057 141.398 600.655 141.398 M600.655 137.787 Q606.21 137.787 609.381 141.398 Q612.553 145.009 612.553 151.398 Q612.553 157.764 609.381 161.398 Q606.21 165.009 600.655 165.009 Q595.076 165.009 591.905 161.398 Q588.757 157.764 588.757 151.398 Q588.757 145.009 591.905 141.398 Q595.076 137.787 600.655 137.787 Z\" fill=\"#000000\" fill-rule=\"nonzero\" fill-opacity=\"1\" /><path clip-path=\"url(#clip190)\" d=\"M619.613 128.319 L623.872 128.319 L623.872 164.338 L619.613 164.338 L619.613 128.319 Z\" fill=\"#000000\" fill-rule=\"nonzero\" fill-opacity=\"1\" /><path clip-path=\"url(#clip190)\" d=\"M632.784 138.412 L637.043 138.412 L637.043 164.338 L632.784 164.338 L632.784 138.412 M632.784 128.319 L637.043 128.319 L637.043 133.713 L632.784 133.713 L632.784 128.319 Z\" fill=\"#000000\" fill-rule=\"nonzero\" fill-opacity=\"1\" /><path clip-path=\"url(#clip190)\" d=\"M662.483 139.176 L662.483 143.203 Q660.678 142.277 658.733 141.815 Q656.789 141.352 654.705 141.352 Q651.534 141.352 649.937 142.324 Q648.363 143.296 648.363 145.24 Q648.363 146.722 649.497 147.578 Q650.631 148.412 654.057 149.176 L655.515 149.5 Q660.053 150.472 661.951 152.254 Q663.872 154.014 663.872 157.185 Q663.872 160.796 661.002 162.902 Q658.154 165.009 653.154 165.009 Q651.071 165.009 648.803 164.592 Q646.557 164.199 644.057 163.388 L644.057 158.99 Q646.418 160.217 648.71 160.842 Q651.002 161.444 653.247 161.444 Q656.256 161.444 657.877 160.426 Q659.497 159.384 659.497 157.509 Q659.497 155.773 658.316 154.847 Q657.159 153.921 653.201 153.064 L651.719 152.717 Q647.761 151.884 646.002 150.171 Q644.242 148.435 644.242 145.426 Q644.242 141.768 646.835 139.778 Q649.428 137.787 654.196 137.787 Q656.557 137.787 658.64 138.134 Q660.724 138.481 662.483 139.176 Z\" fill=\"#000000\" fill-rule=\"nonzero\" fill-opacity=\"1\" /></svg>\n"
      ],
      "text/html": [
       "<?xml version=\"1.0\" encoding=\"utf-8\"?>\n",
       "<svg xmlns=\"http://www.w3.org/2000/svg\" xmlns:xlink=\"http://www.w3.org/1999/xlink\" width=\"600\" height=\"400\" viewBox=\"0 0 2400 1600\">\n",
       "<defs>\n",
       "  <clipPath id=\"clip240\">\n",
       "    <rect x=\"0\" y=\"0\" width=\"2400\" height=\"1600\"/>\n",
       "  </clipPath>\n",
       "</defs>\n",
       "<path clip-path=\"url(#clip240)\" d=\"M0 1600 L2400 1600 L2400 0 L0 0  Z\" fill=\"#ffffff\" fill-rule=\"evenodd\" fill-opacity=\"1\"/>\n",
       "<defs>\n",
       "  <clipPath id=\"clip241\">\n",
       "    <rect x=\"480\" y=\"0\" width=\"1681\" height=\"1600\"/>\n",
       "  </clipPath>\n",
       "</defs>\n",
       "<path clip-path=\"url(#clip240)\" d=\"M156.112 1486.45 L2352.76 1486.45 L2352.76 47.2441 L156.112 47.2441  Z\" fill=\"#ffffff\" fill-rule=\"evenodd\" fill-opacity=\"1\"/>\n",
       "<defs>\n",
       "  <clipPath id=\"clip242\">\n",
       "    <rect x=\"156\" y=\"47\" width=\"2198\" height=\"1440\"/>\n",
       "  </clipPath>\n",
       "</defs>\n",
       "<polyline clip-path=\"url(#clip242)\" style=\"stroke:#000000; stroke-linecap:round; stroke-linejoin:round; stroke-width:2; stroke-opacity:0.1; fill:none\" points=\"218.281,1486.45 218.281,47.2441 \"/>\n",
       "<polyline clip-path=\"url(#clip242)\" style=\"stroke:#000000; stroke-linecap:round; stroke-linejoin:round; stroke-width:2; stroke-opacity:0.1; fill:none\" points=\"736.358,1486.45 736.358,47.2441 \"/>\n",
       "<polyline clip-path=\"url(#clip242)\" style=\"stroke:#000000; stroke-linecap:round; stroke-linejoin:round; stroke-width:2; stroke-opacity:0.1; fill:none\" points=\"1254.43,1486.45 1254.43,47.2441 \"/>\n",
       "<polyline clip-path=\"url(#clip242)\" style=\"stroke:#000000; stroke-linecap:round; stroke-linejoin:round; stroke-width:2; stroke-opacity:0.1; fill:none\" points=\"1772.51,1486.45 1772.51,47.2441 \"/>\n",
       "<polyline clip-path=\"url(#clip242)\" style=\"stroke:#000000; stroke-linecap:round; stroke-linejoin:round; stroke-width:2; stroke-opacity:0.1; fill:none\" points=\"2290.59,1486.45 2290.59,47.2441 \"/>\n",
       "<polyline clip-path=\"url(#clip240)\" style=\"stroke:#000000; stroke-linecap:round; stroke-linejoin:round; stroke-width:4; stroke-opacity:1; fill:none\" points=\"156.112,1486.45 2352.76,1486.45 \"/>\n",
       "<polyline clip-path=\"url(#clip240)\" style=\"stroke:#000000; stroke-linecap:round; stroke-linejoin:round; stroke-width:4; stroke-opacity:1; fill:none\" points=\"218.281,1486.45 218.281,1467.55 \"/>\n",
       "<polyline clip-path=\"url(#clip240)\" style=\"stroke:#000000; stroke-linecap:round; stroke-linejoin:round; stroke-width:4; stroke-opacity:1; fill:none\" points=\"736.358,1486.45 736.358,1467.55 \"/>\n",
       "<polyline clip-path=\"url(#clip240)\" style=\"stroke:#000000; stroke-linecap:round; stroke-linejoin:round; stroke-width:4; stroke-opacity:1; fill:none\" points=\"1254.43,1486.45 1254.43,1467.55 \"/>\n",
       "<polyline clip-path=\"url(#clip240)\" style=\"stroke:#000000; stroke-linecap:round; stroke-linejoin:round; stroke-width:4; stroke-opacity:1; fill:none\" points=\"1772.51,1486.45 1772.51,1467.55 \"/>\n",
       "<polyline clip-path=\"url(#clip240)\" style=\"stroke:#000000; stroke-linecap:round; stroke-linejoin:round; stroke-width:4; stroke-opacity:1; fill:none\" points=\"2290.59,1486.45 2290.59,1467.55 \"/>\n",
       "<path clip-path=\"url(#clip240)\" d=\"M180.585 1517.37 Q176.974 1517.37 175.145 1520.93 Q173.339 1524.47 173.339 1531.6 Q173.339 1538.71 175.145 1542.27 Q176.974 1545.82 180.585 1545.82 Q184.219 1545.82 186.025 1542.27 Q187.853 1538.71 187.853 1531.6 Q187.853 1524.47 186.025 1520.93 Q184.219 1517.37 180.585 1517.37 M180.585 1513.66 Q186.395 1513.66 189.45 1518.27 Q192.529 1522.85 192.529 1531.6 Q192.529 1540.33 189.45 1544.94 Q186.395 1549.52 180.585 1549.52 Q174.775 1549.52 171.696 1544.94 Q168.64 1540.33 168.64 1531.6 Q168.64 1522.85 171.696 1518.27 Q174.775 1513.66 180.585 1513.66 Z\" fill=\"#000000\" fill-rule=\"nonzero\" fill-opacity=\"1\" /><path clip-path=\"url(#clip240)\" d=\"M200.747 1542.97 L205.631 1542.97 L205.631 1548.85 L200.747 1548.85 L200.747 1542.97 Z\" fill=\"#000000\" fill-rule=\"nonzero\" fill-opacity=\"1\" /><path clip-path=\"url(#clip240)\" d=\"M225.816 1517.37 Q222.205 1517.37 220.376 1520.93 Q218.571 1524.47 218.571 1531.6 Q218.571 1538.71 220.376 1542.27 Q222.205 1545.82 225.816 1545.82 Q229.45 1545.82 231.256 1542.27 Q233.084 1538.71 233.084 1531.6 Q233.084 1524.47 231.256 1520.93 Q229.45 1517.37 225.816 1517.37 M225.816 1513.66 Q231.626 1513.66 234.682 1518.27 Q237.76 1522.85 237.76 1531.6 Q237.76 1540.33 234.682 1544.94 Q231.626 1549.52 225.816 1549.52 Q220.006 1549.52 216.927 1544.94 Q213.872 1540.33 213.872 1531.6 Q213.872 1522.85 216.927 1518.27 Q220.006 1513.66 225.816 1513.66 Z\" fill=\"#000000\" fill-rule=\"nonzero\" fill-opacity=\"1\" /><path clip-path=\"url(#clip240)\" d=\"M255.978 1517.37 Q252.367 1517.37 250.538 1520.93 Q248.733 1524.47 248.733 1531.6 Q248.733 1538.71 250.538 1542.27 Q252.367 1545.82 255.978 1545.82 Q259.612 1545.82 261.418 1542.27 Q263.246 1538.71 263.246 1531.6 Q263.246 1524.47 261.418 1520.93 Q259.612 1517.37 255.978 1517.37 M255.978 1513.66 Q261.788 1513.66 264.844 1518.27 Q267.922 1522.85 267.922 1531.6 Q267.922 1540.33 264.844 1544.94 Q261.788 1549.52 255.978 1549.52 Q250.168 1549.52 247.089 1544.94 Q244.033 1540.33 244.033 1531.6 Q244.033 1522.85 247.089 1518.27 Q250.168 1513.66 255.978 1513.66 Z\" fill=\"#000000\" fill-rule=\"nonzero\" fill-opacity=\"1\" /><path clip-path=\"url(#clip240)\" d=\"M699.159 1517.37 Q695.548 1517.37 693.719 1520.93 Q691.913 1524.47 691.913 1531.6 Q691.913 1538.71 693.719 1542.27 Q695.548 1545.82 699.159 1545.82 Q702.793 1545.82 704.599 1542.27 Q706.427 1538.71 706.427 1531.6 Q706.427 1524.47 704.599 1520.93 Q702.793 1517.37 699.159 1517.37 M699.159 1513.66 Q704.969 1513.66 708.024 1518.27 Q711.103 1522.85 711.103 1531.6 Q711.103 1540.33 708.024 1544.94 Q704.969 1549.52 699.159 1549.52 Q693.349 1549.52 690.27 1544.94 Q687.214 1540.33 687.214 1531.6 Q687.214 1522.85 690.27 1518.27 Q693.349 1513.66 699.159 1513.66 Z\" fill=\"#000000\" fill-rule=\"nonzero\" fill-opacity=\"1\" /><path clip-path=\"url(#clip240)\" d=\"M719.321 1542.97 L724.205 1542.97 L724.205 1548.85 L719.321 1548.85 L719.321 1542.97 Z\" fill=\"#000000\" fill-rule=\"nonzero\" fill-opacity=\"1\" /><path clip-path=\"url(#clip240)\" d=\"M738.418 1544.91 L754.737 1544.91 L754.737 1548.85 L732.793 1548.85 L732.793 1544.91 Q735.455 1542.16 740.038 1537.53 Q744.645 1532.88 745.825 1531.53 Q748.071 1529.01 748.95 1527.27 Q749.853 1525.51 749.853 1523.82 Q749.853 1521.07 747.909 1519.33 Q745.987 1517.6 742.885 1517.6 Q740.686 1517.6 738.233 1518.36 Q735.802 1519.13 733.024 1520.68 L733.024 1515.95 Q735.848 1514.82 738.302 1514.24 Q740.756 1513.66 742.793 1513.66 Q748.163 1513.66 751.358 1516.35 Q754.552 1519.03 754.552 1523.52 Q754.552 1525.65 753.742 1527.57 Q752.955 1529.47 750.848 1532.07 Q750.27 1532.74 747.168 1535.95 Q744.066 1539.15 738.418 1544.91 Z\" fill=\"#000000\" fill-rule=\"nonzero\" fill-opacity=\"1\" /><path clip-path=\"url(#clip240)\" d=\"M764.598 1514.29 L782.955 1514.29 L782.955 1518.22 L768.881 1518.22 L768.881 1526.7 Q769.899 1526.35 770.918 1526.19 Q771.936 1526 772.955 1526 Q778.742 1526 782.121 1529.17 Q785.501 1532.34 785.501 1537.76 Q785.501 1543.34 782.029 1546.44 Q778.557 1549.52 772.237 1549.52 Q770.061 1549.52 767.793 1549.15 Q765.547 1548.78 763.14 1548.04 L763.14 1543.34 Q765.223 1544.47 767.445 1545.03 Q769.668 1545.58 772.144 1545.58 Q776.149 1545.58 778.487 1543.48 Q780.825 1541.37 780.825 1537.76 Q780.825 1534.15 778.487 1532.04 Q776.149 1529.94 772.144 1529.94 Q770.27 1529.94 768.395 1530.35 Q766.543 1530.77 764.598 1531.65 L764.598 1514.29 Z\" fill=\"#000000\" fill-rule=\"nonzero\" fill-opacity=\"1\" /><path clip-path=\"url(#clip240)\" d=\"M1216.74 1517.37 Q1213.13 1517.37 1211.3 1520.93 Q1209.49 1524.47 1209.49 1531.6 Q1209.49 1538.71 1211.3 1542.27 Q1213.13 1545.82 1216.74 1545.82 Q1220.37 1545.82 1222.18 1542.27 Q1224.01 1538.71 1224.01 1531.6 Q1224.01 1524.47 1222.18 1520.93 Q1220.37 1517.37 1216.74 1517.37 M1216.74 1513.66 Q1222.55 1513.66 1225.6 1518.27 Q1228.68 1522.85 1228.68 1531.6 Q1228.68 1540.33 1225.6 1544.94 Q1222.55 1549.52 1216.74 1549.52 Q1210.93 1549.52 1207.85 1544.94 Q1204.79 1540.33 1204.79 1531.6 Q1204.79 1522.85 1207.85 1518.27 Q1210.93 1513.66 1216.74 1513.66 Z\" fill=\"#000000\" fill-rule=\"nonzero\" fill-opacity=\"1\" /><path clip-path=\"url(#clip240)\" d=\"M1236.9 1542.97 L1241.78 1542.97 L1241.78 1548.85 L1236.9 1548.85 L1236.9 1542.97 Z\" fill=\"#000000\" fill-rule=\"nonzero\" fill-opacity=\"1\" /><path clip-path=\"url(#clip240)\" d=\"M1252.02 1514.29 L1270.37 1514.29 L1270.37 1518.22 L1256.3 1518.22 L1256.3 1526.7 Q1257.32 1526.35 1258.33 1526.19 Q1259.35 1526 1260.37 1526 Q1266.16 1526 1269.54 1529.17 Q1272.92 1532.34 1272.92 1537.76 Q1272.92 1543.34 1269.45 1546.44 Q1265.97 1549.52 1259.65 1549.52 Q1257.48 1549.52 1255.21 1549.15 Q1252.96 1548.78 1250.56 1548.04 L1250.56 1543.34 Q1252.64 1544.47 1254.86 1545.03 Q1257.08 1545.58 1259.56 1545.58 Q1263.57 1545.58 1265.9 1543.48 Q1268.24 1541.37 1268.24 1537.76 Q1268.24 1534.15 1265.9 1532.04 Q1263.57 1529.94 1259.56 1529.94 Q1257.69 1529.94 1255.81 1530.35 Q1253.96 1530.77 1252.02 1531.65 L1252.02 1514.29 Z\" fill=\"#000000\" fill-rule=\"nonzero\" fill-opacity=\"1\" /><path clip-path=\"url(#clip240)\" d=\"M1292.13 1517.37 Q1288.52 1517.37 1286.69 1520.93 Q1284.89 1524.47 1284.89 1531.6 Q1284.89 1538.71 1286.69 1542.27 Q1288.52 1545.82 1292.13 1545.82 Q1295.76 1545.82 1297.57 1542.27 Q1299.4 1538.71 1299.4 1531.6 Q1299.4 1524.47 1297.57 1520.93 Q1295.76 1517.37 1292.13 1517.37 M1292.13 1513.66 Q1297.94 1513.66 1301 1518.27 Q1304.07 1522.85 1304.07 1531.6 Q1304.07 1540.33 1301 1544.94 Q1297.94 1549.52 1292.13 1549.52 Q1286.32 1549.52 1283.24 1544.94 Q1280.19 1540.33 1280.19 1531.6 Q1280.19 1522.85 1283.24 1518.27 Q1286.32 1513.66 1292.13 1513.66 Z\" fill=\"#000000\" fill-rule=\"nonzero\" fill-opacity=\"1\" /><path clip-path=\"url(#clip240)\" d=\"M1735.31 1517.37 Q1731.7 1517.37 1729.87 1520.93 Q1728.07 1524.47 1728.07 1531.6 Q1728.07 1538.71 1729.87 1542.27 Q1731.7 1545.82 1735.31 1545.82 Q1738.95 1545.82 1740.75 1542.27 Q1742.58 1538.71 1742.58 1531.6 Q1742.58 1524.47 1740.75 1520.93 Q1738.95 1517.37 1735.31 1517.37 M1735.31 1513.66 Q1741.12 1513.66 1744.18 1518.27 Q1747.26 1522.85 1747.26 1531.6 Q1747.26 1540.33 1744.18 1544.94 Q1741.12 1549.52 1735.31 1549.52 Q1729.5 1549.52 1726.42 1544.94 Q1723.37 1540.33 1723.37 1531.6 Q1723.37 1522.85 1726.42 1518.27 Q1729.5 1513.66 1735.31 1513.66 Z\" fill=\"#000000\" fill-rule=\"nonzero\" fill-opacity=\"1\" /><path clip-path=\"url(#clip240)\" d=\"M1755.47 1542.97 L1760.36 1542.97 L1760.36 1548.85 L1755.47 1548.85 L1755.47 1542.97 Z\" fill=\"#000000\" fill-rule=\"nonzero\" fill-opacity=\"1\" /><path clip-path=\"url(#clip240)\" d=\"M1769.36 1514.29 L1791.58 1514.29 L1791.58 1516.28 L1779.04 1548.85 L1774.15 1548.85 L1785.96 1518.22 L1769.36 1518.22 L1769.36 1514.29 Z\" fill=\"#000000\" fill-rule=\"nonzero\" fill-opacity=\"1\" /><path clip-path=\"url(#clip240)\" d=\"M1800.75 1514.29 L1819.11 1514.29 L1819.11 1518.22 L1805.03 1518.22 L1805.03 1526.7 Q1806.05 1526.35 1807.07 1526.19 Q1808.09 1526 1809.11 1526 Q1814.89 1526 1818.27 1529.17 Q1821.65 1532.34 1821.65 1537.76 Q1821.65 1543.34 1818.18 1546.44 Q1814.71 1549.52 1808.39 1549.52 Q1806.21 1549.52 1803.95 1549.15 Q1801.7 1548.78 1799.29 1548.04 L1799.29 1543.34 Q1801.38 1544.47 1803.6 1545.03 Q1805.82 1545.58 1808.3 1545.58 Q1812.3 1545.58 1814.64 1543.48 Q1816.98 1541.37 1816.98 1537.76 Q1816.98 1534.15 1814.64 1532.04 Q1812.3 1529.94 1808.3 1529.94 Q1806.42 1529.94 1804.55 1530.35 Q1802.7 1530.77 1800.75 1531.65 L1800.75 1514.29 Z\" fill=\"#000000\" fill-rule=\"nonzero\" fill-opacity=\"1\" /><path clip-path=\"url(#clip240)\" d=\"M2242.66 1544.91 L2250.3 1544.91 L2250.3 1518.55 L2241.99 1520.21 L2241.99 1515.95 L2250.25 1514.29 L2254.93 1514.29 L2254.93 1544.91 L2262.57 1544.91 L2262.57 1548.85 L2242.66 1548.85 L2242.66 1544.91 Z\" fill=\"#000000\" fill-rule=\"nonzero\" fill-opacity=\"1\" /><path clip-path=\"url(#clip240)\" d=\"M2272.01 1542.97 L2276.89 1542.97 L2276.89 1548.85 L2272.01 1548.85 L2272.01 1542.97 Z\" fill=\"#000000\" fill-rule=\"nonzero\" fill-opacity=\"1\" /><path clip-path=\"url(#clip240)\" d=\"M2297.08 1517.37 Q2293.47 1517.37 2291.64 1520.93 Q2289.83 1524.47 2289.83 1531.6 Q2289.83 1538.71 2291.64 1542.27 Q2293.47 1545.82 2297.08 1545.82 Q2300.71 1545.82 2302.52 1542.27 Q2304.35 1538.71 2304.35 1531.6 Q2304.35 1524.47 2302.52 1520.93 Q2300.71 1517.37 2297.08 1517.37 M2297.08 1513.66 Q2302.89 1513.66 2305.95 1518.27 Q2309.02 1522.85 2309.02 1531.6 Q2309.02 1540.33 2305.95 1544.94 Q2302.89 1549.52 2297.08 1549.52 Q2291.27 1549.52 2288.19 1544.94 Q2285.14 1540.33 2285.14 1531.6 Q2285.14 1522.85 2288.19 1518.27 Q2291.27 1513.66 2297.08 1513.66 Z\" fill=\"#000000\" fill-rule=\"nonzero\" fill-opacity=\"1\" /><path clip-path=\"url(#clip240)\" d=\"M2327.24 1517.37 Q2323.63 1517.37 2321.8 1520.93 Q2320 1524.47 2320 1531.6 Q2320 1538.71 2321.8 1542.27 Q2323.63 1545.82 2327.24 1545.82 Q2330.88 1545.82 2332.68 1542.27 Q2334.51 1538.71 2334.51 1531.6 Q2334.51 1524.47 2332.68 1520.93 Q2330.88 1517.37 2327.24 1517.37 M2327.24 1513.66 Q2333.05 1513.66 2336.11 1518.27 Q2339.19 1522.85 2339.19 1531.6 Q2339.19 1540.33 2336.11 1544.94 Q2333.05 1549.52 2327.24 1549.52 Q2321.43 1549.52 2318.35 1544.94 Q2315.3 1540.33 2315.3 1531.6 Q2315.3 1522.85 2318.35 1518.27 Q2321.43 1513.66 2327.24 1513.66 Z\" fill=\"#000000\" fill-rule=\"nonzero\" fill-opacity=\"1\" /><polyline clip-path=\"url(#clip242)\" style=\"stroke:#000000; stroke-linecap:round; stroke-linejoin:round; stroke-width:2; stroke-opacity:0.1; fill:none\" points=\"156.112,1445.72 2352.76,1445.72 \"/>\n",
       "<polyline clip-path=\"url(#clip242)\" style=\"stroke:#000000; stroke-linecap:round; stroke-linejoin:round; stroke-width:2; stroke-opacity:0.1; fill:none\" points=\"156.112,1099.55 2352.76,1099.55 \"/>\n",
       "<polyline clip-path=\"url(#clip242)\" style=\"stroke:#000000; stroke-linecap:round; stroke-linejoin:round; stroke-width:2; stroke-opacity:0.1; fill:none\" points=\"156.112,753.391 2352.76,753.391 \"/>\n",
       "<polyline clip-path=\"url(#clip242)\" style=\"stroke:#000000; stroke-linecap:round; stroke-linejoin:round; stroke-width:2; stroke-opacity:0.1; fill:none\" points=\"156.112,407.228 2352.76,407.228 \"/>\n",
       "<polyline clip-path=\"url(#clip242)\" style=\"stroke:#000000; stroke-linecap:round; stroke-linejoin:round; stroke-width:2; stroke-opacity:0.1; fill:none\" points=\"156.112,61.0656 2352.76,61.0656 \"/>\n",
       "<polyline clip-path=\"url(#clip240)\" style=\"stroke:#000000; stroke-linecap:round; stroke-linejoin:round; stroke-width:4; stroke-opacity:1; fill:none\" points=\"156.112,1486.45 156.112,47.2441 \"/>\n",
       "<polyline clip-path=\"url(#clip240)\" style=\"stroke:#000000; stroke-linecap:round; stroke-linejoin:round; stroke-width:4; stroke-opacity:1; fill:none\" points=\"156.112,1445.72 175.01,1445.72 \"/>\n",
       "<polyline clip-path=\"url(#clip240)\" style=\"stroke:#000000; stroke-linecap:round; stroke-linejoin:round; stroke-width:4; stroke-opacity:1; fill:none\" points=\"156.112,1099.55 175.01,1099.55 \"/>\n",
       "<polyline clip-path=\"url(#clip240)\" style=\"stroke:#000000; stroke-linecap:round; stroke-linejoin:round; stroke-width:4; stroke-opacity:1; fill:none\" points=\"156.112,753.391 175.01,753.391 \"/>\n",
       "<polyline clip-path=\"url(#clip240)\" style=\"stroke:#000000; stroke-linecap:round; stroke-linejoin:round; stroke-width:4; stroke-opacity:1; fill:none\" points=\"156.112,407.228 175.01,407.228 \"/>\n",
       "<polyline clip-path=\"url(#clip240)\" style=\"stroke:#000000; stroke-linecap:round; stroke-linejoin:round; stroke-width:4; stroke-opacity:1; fill:none\" points=\"156.112,61.0656 175.01,61.0656 \"/>\n",
       "<path clip-path=\"url(#clip240)\" d=\"M62.9365 1431.51 Q59.3254 1431.51 57.4967 1435.08 Q55.6912 1438.62 55.6912 1445.75 Q55.6912 1452.86 57.4967 1456.42 Q59.3254 1459.96 62.9365 1459.96 Q66.5707 1459.96 68.3763 1456.42 Q70.205 1452.86 70.205 1445.75 Q70.205 1438.62 68.3763 1435.08 Q66.5707 1431.51 62.9365 1431.51 M62.9365 1427.81 Q68.7467 1427.81 71.8022 1432.42 Q74.8809 1437 74.8809 1445.75 Q74.8809 1454.48 71.8022 1459.08 Q68.7467 1463.67 62.9365 1463.67 Q57.1264 1463.67 54.0477 1459.08 Q50.9921 1454.48 50.9921 1445.75 Q50.9921 1437 54.0477 1432.42 Q57.1264 1427.81 62.9365 1427.81 Z\" fill=\"#000000\" fill-rule=\"nonzero\" fill-opacity=\"1\" /><path clip-path=\"url(#clip240)\" d=\"M83.0984 1457.12 L87.9827 1457.12 L87.9827 1463 L83.0984 1463 L83.0984 1457.12 Z\" fill=\"#000000\" fill-rule=\"nonzero\" fill-opacity=\"1\" /><path clip-path=\"url(#clip240)\" d=\"M108.168 1431.51 Q104.557 1431.51 102.728 1435.08 Q100.922 1438.62 100.922 1445.75 Q100.922 1452.86 102.728 1456.42 Q104.557 1459.96 108.168 1459.96 Q111.802 1459.96 113.608 1456.42 Q115.436 1452.86 115.436 1445.75 Q115.436 1438.62 113.608 1435.08 Q111.802 1431.51 108.168 1431.51 M108.168 1427.81 Q113.978 1427.81 117.033 1432.42 Q120.112 1437 120.112 1445.75 Q120.112 1454.48 117.033 1459.08 Q113.978 1463.67 108.168 1463.67 Q102.358 1463.67 99.2789 1459.08 Q96.2234 1454.48 96.2234 1445.75 Q96.2234 1437 99.2789 1432.42 Q102.358 1427.81 108.168 1427.81 Z\" fill=\"#000000\" fill-rule=\"nonzero\" fill-opacity=\"1\" /><path clip-path=\"url(#clip240)\" d=\"M63.9319 1085.35 Q60.3208 1085.35 58.4921 1088.92 Q56.6865 1092.46 56.6865 1099.59 Q56.6865 1106.69 58.4921 1110.26 Q60.3208 1113.8 63.9319 1113.8 Q67.5661 1113.8 69.3717 1110.26 Q71.2004 1106.69 71.2004 1099.59 Q71.2004 1092.46 69.3717 1088.92 Q67.5661 1085.35 63.9319 1085.35 M63.9319 1081.65 Q69.742 1081.65 72.7976 1086.25 Q75.8763 1090.84 75.8763 1099.59 Q75.8763 1108.31 72.7976 1112.92 Q69.742 1117.5 63.9319 1117.5 Q58.1217 1117.5 55.043 1112.92 Q51.9875 1108.31 51.9875 1099.59 Q51.9875 1090.84 55.043 1086.25 Q58.1217 1081.65 63.9319 1081.65 Z\" fill=\"#000000\" fill-rule=\"nonzero\" fill-opacity=\"1\" /><path clip-path=\"url(#clip240)\" d=\"M84.0938 1110.95 L88.978 1110.95 L88.978 1116.83 L84.0938 1116.83 L84.0938 1110.95 Z\" fill=\"#000000\" fill-rule=\"nonzero\" fill-opacity=\"1\" /><path clip-path=\"url(#clip240)\" d=\"M99.2095 1082.27 L117.566 1082.27 L117.566 1086.21 L103.492 1086.21 L103.492 1094.68 Q104.51 1094.33 105.529 1094.17 Q106.547 1093.99 107.566 1093.99 Q113.353 1093.99 116.733 1097.16 Q120.112 1100.33 120.112 1105.75 Q120.112 1111.32 116.64 1114.43 Q113.168 1117.5 106.848 1117.5 Q104.672 1117.5 102.404 1117.13 Q100.159 1116.76 97.7511 1116.02 L97.7511 1111.32 Q99.8345 1112.46 102.057 1113.01 Q104.279 1113.57 106.756 1113.57 Q110.76 1113.57 113.098 1111.46 Q115.436 1109.36 115.436 1105.75 Q115.436 1102.13 113.098 1100.03 Q110.76 1097.92 106.756 1097.92 Q104.881 1097.92 103.006 1098.34 Q101.154 1098.75 99.2095 1099.63 L99.2095 1082.27 Z\" fill=\"#000000\" fill-rule=\"nonzero\" fill-opacity=\"1\" /><path clip-path=\"url(#clip240)\" d=\"M53.7467 766.735 L61.3856 766.735 L61.3856 740.37 L53.0754 742.037 L53.0754 737.777 L61.3393 736.111 L66.0152 736.111 L66.0152 766.735 L73.654 766.735 L73.654 770.671 L53.7467 770.671 L53.7467 766.735 Z\" fill=\"#000000\" fill-rule=\"nonzero\" fill-opacity=\"1\" /><path clip-path=\"url(#clip240)\" d=\"M83.0984 764.791 L87.9827 764.791 L87.9827 770.671 L83.0984 770.671 L83.0984 764.791 Z\" fill=\"#000000\" fill-rule=\"nonzero\" fill-opacity=\"1\" /><path clip-path=\"url(#clip240)\" d=\"M108.168 739.189 Q104.557 739.189 102.728 742.754 Q100.922 746.296 100.922 753.425 Q100.922 760.532 102.728 764.097 Q104.557 767.638 108.168 767.638 Q111.802 767.638 113.608 764.097 Q115.436 760.532 115.436 753.425 Q115.436 746.296 113.608 742.754 Q111.802 739.189 108.168 739.189 M108.168 735.486 Q113.978 735.486 117.033 740.092 Q120.112 744.675 120.112 753.425 Q120.112 762.152 117.033 766.759 Q113.978 771.342 108.168 771.342 Q102.358 771.342 99.2789 766.759 Q96.2234 762.152 96.2234 753.425 Q96.2234 744.675 99.2789 740.092 Q102.358 735.486 108.168 735.486 Z\" fill=\"#000000\" fill-rule=\"nonzero\" fill-opacity=\"1\" /><path clip-path=\"url(#clip240)\" d=\"M54.7421 420.573 L62.381 420.573 L62.381 394.207 L54.0708 395.874 L54.0708 391.615 L62.3347 389.948 L67.0106 389.948 L67.0106 420.573 L74.6494 420.573 L74.6494 424.508 L54.7421 424.508 L54.7421 420.573 Z\" fill=\"#000000\" fill-rule=\"nonzero\" fill-opacity=\"1\" /><path clip-path=\"url(#clip240)\" d=\"M84.0938 418.629 L88.978 418.629 L88.978 424.508 L84.0938 424.508 L84.0938 418.629 Z\" fill=\"#000000\" fill-rule=\"nonzero\" fill-opacity=\"1\" /><path clip-path=\"url(#clip240)\" d=\"M99.2095 389.948 L117.566 389.948 L117.566 393.883 L103.492 393.883 L103.492 402.355 Q104.51 402.008 105.529 401.846 Q106.547 401.661 107.566 401.661 Q113.353 401.661 116.733 404.832 Q120.112 408.004 120.112 413.42 Q120.112 418.999 116.64 422.101 Q113.168 425.179 106.848 425.179 Q104.672 425.179 102.404 424.809 Q100.159 424.439 97.7511 423.698 L97.7511 418.999 Q99.8345 420.133 102.057 420.689 Q104.279 421.244 106.756 421.244 Q110.76 421.244 113.098 419.138 Q115.436 417.031 115.436 413.42 Q115.436 409.809 113.098 407.703 Q110.76 405.596 106.756 405.596 Q104.881 405.596 103.006 406.013 Q101.154 406.43 99.2095 407.309 L99.2095 389.948 Z\" fill=\"#000000\" fill-rule=\"nonzero\" fill-opacity=\"1\" /><path clip-path=\"url(#clip240)\" d=\"M56.9643 74.4104 L73.2837 74.4104 L73.2837 78.3456 L51.3393 78.3456 L51.3393 74.4104 Q54.0014 71.6558 58.5847 67.0262 Q63.1911 62.3735 64.3717 61.0309 Q66.617 58.5077 67.4967 56.7716 Q68.3994 55.0124 68.3994 53.3226 Q68.3994 50.568 66.455 48.8319 Q64.5337 47.0958 61.4319 47.0958 Q59.2328 47.0958 56.7791 47.8597 Q54.3486 48.6235 51.5708 50.1745 L51.5708 45.4523 Q54.3949 44.318 56.8486 43.7393 Q59.3023 43.1606 61.3393 43.1606 Q66.7096 43.1606 69.9041 45.8458 Q73.0985 48.5309 73.0985 53.0217 Q73.0985 55.1513 72.2883 57.0726 Q71.5013 58.9707 69.3948 61.5633 Q68.8161 62.2346 65.7143 65.4522 Q62.6124 68.6466 56.9643 74.4104 Z\" fill=\"#000000\" fill-rule=\"nonzero\" fill-opacity=\"1\" /><path clip-path=\"url(#clip240)\" d=\"M83.0984 72.466 L87.9827 72.466 L87.9827 78.3456 L83.0984 78.3456 L83.0984 72.466 Z\" fill=\"#000000\" fill-rule=\"nonzero\" fill-opacity=\"1\" /><path clip-path=\"url(#clip240)\" d=\"M108.168 46.8643 Q104.557 46.8643 102.728 50.4291 Q100.922 53.9707 100.922 61.1003 Q100.922 68.2068 102.728 71.7716 Q104.557 75.3132 108.168 75.3132 Q111.802 75.3132 113.608 71.7716 Q115.436 68.2068 115.436 61.1003 Q115.436 53.9707 113.608 50.4291 Q111.802 46.8643 108.168 46.8643 M108.168 43.1606 Q113.978 43.1606 117.033 47.7671 Q120.112 52.3504 120.112 61.1003 Q120.112 69.8271 117.033 74.4336 Q113.978 79.0169 108.168 79.0169 Q102.358 79.0169 99.2789 74.4336 Q96.2234 69.8271 96.2234 61.1003 Q96.2234 52.3504 99.2789 47.7671 Q102.358 43.1606 108.168 43.1606 Z\" fill=\"#000000\" fill-rule=\"nonzero\" fill-opacity=\"1\" /><polyline clip-path=\"url(#clip242)\" style=\"stroke:#009af9; stroke-linecap:round; stroke-linejoin:round; stroke-width:4; stroke-opacity:1; fill:none\" points=\"218.281,1445.72 218.281,1439.24 239.004,1439.24 239.004,1424.95 259.727,1424.95 259.727,1412.14 280.45,1412.14 280.45,1397.38 301.174,1397.38 301.174,1381 321.897,1381 321.897,1368.47 342.62,1368.47 342.62,1354.58 363.343,1354.58 363.343,1340.76 384.066,1340.76 384.066,1326.08 404.789,1326.08 404.789,1312.65 425.512,1312.65 425.512,1296.96 446.235,1296.96 446.235,1283.79 466.958,1283.79 466.958,1270.06 487.681,1270.06 487.681,1254.37 508.404,1254.37 508.404,1244.32 529.127,1244.32 529.127,1229.43 549.85,1229.43 549.85,1216.2 570.573,1216.2 570.573,1202.29 591.296,1202.29 591.296,1188.98 612.019,1188.98 612.019,1175.95 632.742,1175.95 632.742,1159.02 653.465,1159.02 653.465,1148.29 674.188,1148.29 674.188,1135.13 694.912,1135.13 694.912,1121.13 715.635,1121.13 715.635,1106.26 736.358,1106.26 736.358,1094.74 757.081,1094.74 757.081,1080.71 777.804,1080.71 777.804,1070.42 798.527,1070.42 798.527,1054.34 819.25,1054.34 819.25,1040.94 839.973,1040.94 839.973,1024.46 860.696,1024.46 860.696,1010.28 881.419,1010.28 881.419,996.84 902.142,996.84 902.142,985.285 922.865,985.285 922.865,967.091 943.588,967.091 943.588,954.94 964.311,954.94 964.311,938.131 985.034,938.131 985.034,927.732 1005.76,927.732 1005.76,908.125 1026.48,908.125 1026.48,895.172 1047.2,895.172 1047.2,884.254 1067.93,884.254 1067.93,870.705 1088.65,870.705 1088.65,854.415 1109.37,854.415 1109.37,838.187 1130.1,838.187 1130.1,825.351 1150.82,825.351 1150.82,809.31 1171.54,809.31 1171.54,800.275 1192.26,800.275 1192.26,785.21 1212.99,785.21 1212.99,770.436 1233.71,770.436 1233.71,751.051 1254.43,751.051 1254.43,739.87 1275.16,739.87 1275.16,726.605 1295.88,726.605 1295.88,710.106 1316.6,710.106 1316.6,697.838 1337.33,697.838 1337.33,685.709 1358.05,685.709 1358.05,672.873 1378.77,672.873 1378.77,655.164 1399.5,655.164 1399.5,644.363 1420.22,644.363 1420.22,631.313 1440.94,631.313 1440.94,615.895 1461.66,615.895 1461.66,598.815 1482.39,598.815 1482.39,587.918 1503.11,587.918 1503.11,572.708 1523.83,572.708 1523.83,561.104 1544.56,561.104 1544.56,547.666 1565.28,547.666 1565.28,532.615 1586,532.615 1586,519.731 1606.73,519.731 1606.73,505.241 1627.45,505.241 1627.45,491.983 1648.17,491.983 1648.17,482.283 1668.9,482.283 1668.9,470.444 1689.62,470.444 1689.62,453.282 1710.34,453.282 1710.34,435.039 1731.06,435.039 1731.06,430.463 1751.79,430.463 1751.79,415.384 1772.51,415.384 1772.51,401.669 1793.23,401.669 1793.23,381.508 1813.96,381.508 1813.96,366.499 1834.68,366.499 1834.68,359.028 1855.4,359.028 1855.4,336.14 1876.13,336.14 1876.13,327.458 1896.85,327.458 1896.85,312.477 1917.57,312.477 1917.57,297.017 1938.29,297.017 1938.29,288.363 1959.02,288.363 1959.02,275.472 1979.74,275.472 1979.74,262.768 2000.46,262.768 2000.46,254.238 2021.19,254.238 2021.19,244.871 2041.91,244.871 2041.91,231.751 2062.63,231.751 2062.63,223.139 2083.36,223.139 2083.36,204.619 2104.08,204.619 2104.08,188.294 2124.8,188.294 2124.8,184.521 2145.53,184.521 2145.53,166.251 2166.25,166.251 2166.25,152.494 2186.97,152.494 2186.97,139.291 2207.69,139.291 2207.69,128.138 2228.42,128.138 2228.42,114.236 2249.14,114.236 2249.14,98.5965 2269.86,98.5965 2269.86,87.9763 2290.59,87.9763 2290.59,1445.72 \"/>\n",
       "<path clip-path=\"url(#clip240)\" d=\"M229.334 198.898 L688.279 198.898 L688.279 95.2176 L229.334 95.2176  Z\" fill=\"#ffffff\" fill-rule=\"evenodd\" fill-opacity=\"1\"/>\n",
       "<polyline clip-path=\"url(#clip240)\" style=\"stroke:#000000; stroke-linecap:round; stroke-linejoin:round; stroke-width:4; stroke-opacity:1; fill:none\" points=\"229.334,198.898 688.279,198.898 688.279,95.2176 229.334,95.2176 229.334,198.898 \"/>\n",
       "<polyline clip-path=\"url(#clip240)\" style=\"stroke:#009af9; stroke-linecap:round; stroke-linejoin:round; stroke-width:4; stroke-opacity:1; fill:none\" points=\"253.741,147.058 400.184,147.058 \"/>\n",
       "<path clip-path=\"url(#clip240)\" d=\"M424.591 129.778 L431.558 129.778 L440.378 153.296 L449.243 129.778 L456.211 129.778 L456.211 164.338 L451.651 164.338 L451.651 133.99 L442.739 157.694 L438.04 157.694 L429.128 133.99 L429.128 164.338 L424.591 164.338 L424.591 129.778 Z\" fill=\"#000000\" fill-rule=\"nonzero\" fill-opacity=\"1\" /><path clip-path=\"url(#clip240)\" d=\"M487.484 150.31 L487.484 152.393 L467.901 152.393 Q468.179 156.791 470.54 159.106 Q472.924 161.398 477.16 161.398 Q479.614 161.398 481.905 160.796 Q484.22 160.194 486.489 158.99 L486.489 163.018 Q484.197 163.99 481.79 164.5 Q479.382 165.009 476.905 165.009 Q470.702 165.009 467.067 161.398 Q463.456 157.787 463.456 151.629 Q463.456 145.264 466.882 141.537 Q470.331 137.787 476.165 137.787 Q481.396 137.787 484.428 141.166 Q487.484 144.523 487.484 150.31 M483.225 149.06 Q483.178 145.565 481.257 143.481 Q479.359 141.398 476.211 141.398 Q472.646 141.398 470.493 143.412 Q468.364 145.426 468.04 149.083 L483.225 149.06 Z\" fill=\"#000000\" fill-rule=\"nonzero\" fill-opacity=\"1\" /><path clip-path=\"url(#clip240)\" d=\"M498.688 131.051 L498.688 138.412 L507.461 138.412 L507.461 141.722 L498.688 141.722 L498.688 155.796 Q498.688 158.967 499.544 159.87 Q500.424 160.773 503.086 160.773 L507.461 160.773 L507.461 164.338 L503.086 164.338 Q498.155 164.338 496.28 162.509 Q494.405 160.657 494.405 155.796 L494.405 141.722 L491.28 141.722 L491.28 138.412 L494.405 138.412 L494.405 131.051 L498.688 131.051 Z\" fill=\"#000000\" fill-rule=\"nonzero\" fill-opacity=\"1\" /><path clip-path=\"url(#clip240)\" d=\"M528.086 142.393 Q527.368 141.977 526.512 141.791 Q525.678 141.583 524.66 141.583 Q521.049 141.583 519.104 143.944 Q517.183 146.282 517.183 150.68 L517.183 164.338 L512.901 164.338 L512.901 138.412 L517.183 138.412 L517.183 142.44 Q518.525 140.078 520.678 138.944 Q522.831 137.787 525.91 137.787 Q526.35 137.787 526.882 137.856 Q527.414 137.903 528.062 138.018 L528.086 142.393 Z\" fill=\"#000000\" fill-rule=\"nonzero\" fill-opacity=\"1\" /><path clip-path=\"url(#clip240)\" d=\"M541.558 141.398 Q538.132 141.398 536.141 144.083 Q534.15 146.745 534.15 151.398 Q534.15 156.051 536.118 158.736 Q538.109 161.398 541.558 161.398 Q544.961 161.398 546.951 158.713 Q548.942 156.027 548.942 151.398 Q548.942 146.791 546.951 144.106 Q544.961 141.398 541.558 141.398 M541.558 137.787 Q547.113 137.787 550.285 141.398 Q553.456 145.009 553.456 151.398 Q553.456 157.764 550.285 161.398 Q547.113 165.009 541.558 165.009 Q535.979 165.009 532.808 161.398 Q529.66 157.764 529.66 151.398 Q529.66 145.009 532.808 141.398 Q535.979 137.787 541.558 137.787 Z\" fill=\"#000000\" fill-rule=\"nonzero\" fill-opacity=\"1\" /><path clip-path=\"url(#clip240)\" d=\"M564.636 160.449 L564.636 174.199 L560.354 174.199 L560.354 138.412 L564.636 138.412 L564.636 142.347 Q565.979 140.032 568.016 138.921 Q570.076 137.787 572.923 137.787 Q577.646 137.787 580.585 141.537 Q583.548 145.287 583.548 151.398 Q583.548 157.509 580.585 161.259 Q577.646 165.009 572.923 165.009 Q570.076 165.009 568.016 163.898 Q565.979 162.763 564.636 160.449 M579.127 151.398 Q579.127 146.699 577.183 144.037 Q575.261 141.352 571.882 141.352 Q568.502 141.352 566.558 144.037 Q564.636 146.699 564.636 151.398 Q564.636 156.097 566.558 158.782 Q568.502 161.444 571.882 161.444 Q575.261 161.444 577.183 158.782 Q579.127 156.097 579.127 151.398 Z\" fill=\"#000000\" fill-rule=\"nonzero\" fill-opacity=\"1\" /><path clip-path=\"url(#clip240)\" d=\"M600.655 141.398 Q597.229 141.398 595.238 144.083 Q593.247 146.745 593.247 151.398 Q593.247 156.051 595.215 158.736 Q597.206 161.398 600.655 161.398 Q604.057 161.398 606.048 158.713 Q608.039 156.027 608.039 151.398 Q608.039 146.791 606.048 144.106 Q604.057 141.398 600.655 141.398 M600.655 137.787 Q606.21 137.787 609.381 141.398 Q612.553 145.009 612.553 151.398 Q612.553 157.764 609.381 161.398 Q606.21 165.009 600.655 165.009 Q595.076 165.009 591.905 161.398 Q588.757 157.764 588.757 151.398 Q588.757 145.009 591.905 141.398 Q595.076 137.787 600.655 137.787 Z\" fill=\"#000000\" fill-rule=\"nonzero\" fill-opacity=\"1\" /><path clip-path=\"url(#clip240)\" d=\"M619.613 128.319 L623.872 128.319 L623.872 164.338 L619.613 164.338 L619.613 128.319 Z\" fill=\"#000000\" fill-rule=\"nonzero\" fill-opacity=\"1\" /><path clip-path=\"url(#clip240)\" d=\"M632.784 138.412 L637.043 138.412 L637.043 164.338 L632.784 164.338 L632.784 138.412 M632.784 128.319 L637.043 128.319 L637.043 133.713 L632.784 133.713 L632.784 128.319 Z\" fill=\"#000000\" fill-rule=\"nonzero\" fill-opacity=\"1\" /><path clip-path=\"url(#clip240)\" d=\"M662.483 139.176 L662.483 143.203 Q660.678 142.277 658.733 141.815 Q656.789 141.352 654.705 141.352 Q651.534 141.352 649.937 142.324 Q648.363 143.296 648.363 145.24 Q648.363 146.722 649.497 147.578 Q650.631 148.412 654.057 149.176 L655.515 149.5 Q660.053 150.472 661.951 152.254 Q663.872 154.014 663.872 157.185 Q663.872 160.796 661.002 162.902 Q658.154 165.009 653.154 165.009 Q651.071 165.009 648.803 164.592 Q646.557 164.199 644.057 163.388 L644.057 158.99 Q646.418 160.217 648.71 160.842 Q651.002 161.444 653.247 161.444 Q656.256 161.444 657.877 160.426 Q659.497 159.384 659.497 157.509 Q659.497 155.773 658.316 154.847 Q657.159 153.921 653.201 153.064 L651.719 152.717 Q647.761 151.884 646.002 150.171 Q644.242 148.435 644.242 145.426 Q644.242 141.768 646.835 139.778 Q649.428 137.787 654.196 137.787 Q656.557 137.787 658.64 138.134 Q660.724 138.481 662.483 139.176 Z\" fill=\"#000000\" fill-rule=\"nonzero\" fill-opacity=\"1\" /></svg>\n"
      ]
     },
     "metadata": {},
     "output_type": "display_data"
    }
   ],
   "source": [
    "# plot histogram\n",
    "using Plots\n",
    "@time histogram(pdf, bins = 100, normed = true, label = \"Metropolis\")"
   ]
  },
  {
   "cell_type": "markdown",
   "metadata": {},
   "source": [
    "## Assign variables"
   ]
  },
  {
   "cell_type": "code",
   "execution_count": 80,
   "metadata": {},
   "outputs": [
    {
     "data": {
      "text/plain": [
       "42"
      ]
     },
     "metadata": {},
     "output_type": "display_data"
    }
   ],
   "source": [
    "a = 42"
   ]
  },
  {
   "cell_type": "code",
   "execution_count": 81,
   "metadata": {},
   "outputs": [],
   "source": [
    "b = 42;"
   ]
  },
  {
   "cell_type": "markdown",
   "metadata": {},
   "source": [
    "you can use math symbols. personal opinion: readability takes a hit. This is because I'm a huge fan of descriptive names. Naming your variable `stopping_tolerance` is so much more descriptive than $\\delta$."
   ]
  },
  {
   "cell_type": "code",
   "execution_count": 82,
   "metadata": {},
   "outputs": [
    {
     "data": {
      "text/plain": [
       "1.4"
      ]
     },
     "metadata": {},
     "output_type": "display_data"
    }
   ],
   "source": [
    "γ = 1.4"
   ]
  },
  {
   "cell_type": "markdown",
   "metadata": {},
   "source": [
    "but also emojis (if you want to torture anyone else who reads your code)"
   ]
  },
  {
   "cell_type": "code",
   "execution_count": 83,
   "metadata": {},
   "outputs": [
    {
     "data": {
      "text/plain": [
       "3"
      ]
     },
     "metadata": {},
     "output_type": "display_data"
    }
   ],
   "source": [
    "😺 = 3"
   ]
  },
  {
   "cell_type": "code",
   "execution_count": 84,
   "metadata": {},
   "outputs": [
    {
     "data": {
      "text/plain": [
       "Int64"
      ]
     },
     "metadata": {},
     "output_type": "display_data"
    }
   ],
   "source": [
    "typeof(😺)"
   ]
  },
  {
   "cell_type": "markdown",
   "metadata": {},
   "source": [
    "### Getting help"
   ]
  },
  {
   "cell_type": "code",
   "execution_count": 90,
   "metadata": {},
   "outputs": [
    {
     "ename": "ErrorException",
     "evalue": "syntax: invalid identifier name \"?\"",
     "output_type": "error",
     "traceback": [
      "syntax: invalid identifier name \"?\"\n",
      "\n",
      "Stacktrace:\n",
      " [1] top-level scope\n",
      "   @ ~/Dropbox/julia_tutorial/base_tutorial.ipynb:2"
     ]
    }
   ],
   "source": [
    "# seems to only work in REPL\n",
    "?typeof"
   ]
  },
  {
   "cell_type": "markdown",
   "metadata": {},
   "source": [
    "## Functions and structs"
   ]
  },
  {
   "cell_type": "code",
   "execution_count": 97,
   "metadata": {},
   "outputs": [],
   "source": [
    "struct Point\n",
    "    x::Int\n",
    "    y\n",
    "end"
   ]
  },
  {
   "cell_type": "code",
   "execution_count": 115,
   "metadata": {},
   "outputs": [
    {
     "data": {
      "text/plain": [
       "Point(1, 2.0)"
      ]
     },
     "metadata": {},
     "output_type": "display_data"
    }
   ],
   "source": [
    "s = Point(1, 2.0)"
   ]
  },
  {
   "cell_type": "code",
   "execution_count": 117,
   "metadata": {},
   "outputs": [
    {
     "name": "stdout",
     "output_type": "stream",
     "text": [
      "s.x: 1 s.y: 2.0\n"
     ]
    }
   ],
   "source": [
    "println(\"s.x: \", s.x, \" s.y: \", s.y)"
   ]
  },
  {
   "cell_type": "markdown",
   "metadata": {},
   "source": [
    "You can choose to or not choose to specify types"
   ]
  },
  {
   "cell_type": "code",
   "execution_count": 100,
   "metadata": {},
   "outputs": [
    {
     "ename": "InexactError",
     "evalue": "InexactError: Int64(3.5)",
     "output_type": "error",
     "traceback": [
      "InexactError: Int64(3.5)\n",
      "\n",
      "Stacktrace:\n",
      " [1] Int64\n",
      "   @ ./float.jl:900 [inlined]\n",
      " [2] convert\n",
      "   @ ./number.jl:7 [inlined]\n",
      " [3] Point(x::Float64, y::Float64)\n",
      "   @ Main ~/Dropbox/julia_tutorial/base_tutorial.ipynb:2\n",
      " [4] top-level scope\n",
      "   @ ~/Dropbox/julia_tutorial/base_tutorial.ipynb:1"
     ]
    }
   ],
   "source": [
    "Point(3.5, 1.0) # raises error"
   ]
  },
  {
   "cell_type": "markdown",
   "metadata": {},
   "source": [
    "You can also add functions to construct the struct"
   ]
  },
  {
   "cell_type": "code",
   "execution_count": 113,
   "metadata": {},
   "outputs": [
    {
     "data": {
      "text/plain": [
       "Point"
      ]
     },
     "metadata": {},
     "output_type": "display_data"
    }
   ],
   "source": [
    "Point() = Point(0, 0)\n",
    "Point(x) = Point(x, 0)\n",
    "\n",
    "function Point(x, y, z)\n",
    "    println(\"last two arguments have been added\")\n",
    "    return Point(x, y+z)\n",
    "end"
   ]
  },
  {
   "cell_type": "code",
   "execution_count": 2,
   "metadata": {},
   "outputs": [
    {
     "ename": "UndefVarError",
     "evalue": "UndefVarError: `Point` not defined",
     "output_type": "error",
     "traceback": [
      "UndefVarError: `Point` not defined\n",
      "\n",
      "Stacktrace:\n",
      " [1] top-level scope\n",
      "   @ ~/Dropbox/julia_tutorial/base_tutorial.ipynb:1"
     ]
    }
   ],
   "source": [
    "println(Point())\n",
    "println(Point(3))\n",
    "println(Point(3, 4, 5))"
   ]
  },
  {
   "cell_type": "markdown",
   "metadata": {},
   "source": [
    "However you cannot change data after an (immutable) struct is constructed. You need to define an mutable struct"
   ]
  },
  {
   "cell_type": "code",
   "execution_count": 119,
   "metadata": {},
   "outputs": [
    {
     "ename": "ErrorException",
     "evalue": "setfield!: immutable struct of type Point cannot be changed",
     "output_type": "error",
     "traceback": [
      "setfield!: immutable struct of type Point cannot be changed\n",
      "\n",
      "Stacktrace:\n",
      " [1] setproperty!(x::Point, f::Symbol, v::Int64)\n",
      "   @ Base ./Base.jl:38\n",
      " [2] top-level scope\n",
      "   @ ~/Dropbox/julia_tutorial/base_tutorial.ipynb:2"
     ]
    }
   ],
   "source": [
    "s = Point(3, 4)\n",
    "s.x += 1 # raises error"
   ]
  },
  {
   "cell_type": "code",
   "execution_count": 121,
   "metadata": {},
   "outputs": [],
   "source": [
    "mutable struct MutablePoint\n",
    "    x::Int\n",
    "    y::Int\n",
    "end # tip: specifying types for mutable structs helps with speed"
   ]
  },
  {
   "cell_type": "code",
   "execution_count": 123,
   "metadata": {},
   "outputs": [
    {
     "name": "stdout",
     "output_type": "stream",
     "text": [
      "MutablePoint(2, 2)\n"
     ]
    }
   ],
   "source": [
    "m = MutablePoint(1, 2)\n",
    "m.x += 1\n",
    "println(m)"
   ]
  },
  {
   "cell_type": "markdown",
   "metadata": {},
   "source": [
    "### Types\n",
    "Refer to [types](https://docs.julialang.org/en/v1/manual/types/) for more info.\n",
    "\n",
    "Everything has a type, for example a 64 bit floating point number is `Float64`.\n",
    "A struct is a composite type, it's made up of a collection of other types, example: `Complex128` is a struct made up of two `Float64`s. In general usually you don't need to specify types, because Julia will infer types and generate optimized code for you.\n",
    "\n",
    "But specifying types is useful in some cases for performance (refer to [performance tips](https://docs.julialang.org/en/v1/manual/performance-tips/)) and also for ensuring correctness (at the cost of flexibility). \n",
    "\n"
   ]
  },
  {
   "cell_type": "markdown",
   "metadata": {},
   "source": [
    "### Abstract Types\n",
    "How do you specify Float64 is a number?\n",
    "\n",
    "```julia\n",
    "abstract type Number end\n",
    "abstract type Real     <: Number end\n",
    "abstract type AbstractFloat <: Real end\n",
    "abstract type Float64 <: AbstractFloat end\n",
    "```"
   ]
  },
  {
   "cell_type": "code",
   "execution_count": 34,
   "metadata": {},
   "outputs": [],
   "source": [
    "struct MyComplex128 <: Number\n",
    "    re::Float64\n",
    "    im::Float64\n",
    "end\n",
    "\n",
    "struct GeneralComplex{T <: Number}\n",
    "    re::T\n",
    "    im::T\n",
    "end"
   ]
  },
  {
   "cell_type": "markdown",
   "metadata": {},
   "source": [
    "In general complex we instantiated this with a parameter `T`, so if you want to do your calculations with a special 500 bit floating point number `Float500`, you can do complex arithmetic with GeneralComplex{Float500}.\n",
    "\n",
    "A lot of this generalizability is useful under the hood. Ex: You can use arbitrary precision arithmetic with Julia's Differential equation solvers \n",
    "\n",
    "(so if you want to figure out whether your calculations are sensitive to numerical precision, you can just change the type of your numbers and see if the results change)"
   ]
  },
  {
   "cell_type": "markdown",
   "metadata": {},
   "source": [
    "## Multiple dispatch\n",
    "Julia chooses functions based on the types of the arguments. (Example from wikipedia)"
   ]
  },
  {
   "cell_type": "code",
   "execution_count": 141,
   "metadata": {},
   "outputs": [],
   "source": [
    "abstract type SpaceObject end\n",
    "\n",
    "struct Asteroid <: SpaceObject\n",
    "    size::Int    \n",
    "end\n",
    "struct Spaceship <: SpaceObject\n",
    "    size::Int                  \n",
    "end\n",
    "\n",
    "struct Astronaut <: SpaceObject\n",
    "    size::Int\n",
    "end\n",
    "\n",
    "collide_with(::Asteroid, ::Spaceship) = \"a/s\"\n",
    "collide_with(::Spaceship, ::Asteroid) = \"s/a\"\n",
    "collide_with(::Spaceship, ::Spaceship) = \"s/s\"\n",
    "collide_with(::Asteroid, ::Asteroid) = \"a/a\"\n",
    "collide_with(::SpaceObject, ::SpaceObject) = \"?\"\n",
    "\n",
    "collide(x::SpaceObject, y::SpaceObject) = (x.size > 100 && y.size > 100) ? \"Big boom!\" : collide_with(x, y);"
   ]
  },
  {
   "cell_type": "code",
   "execution_count": 136,
   "metadata": {},
   "outputs": [
    {
     "data": {
      "text/plain": [
       "\"Big boom!\""
      ]
     },
     "metadata": {},
     "output_type": "display_data"
    }
   ],
   "source": [
    "collide(Asteroid(200), Spaceship(200))"
   ]
  },
  {
   "cell_type": "code",
   "execution_count": 137,
   "metadata": {},
   "outputs": [
    {
     "data": {
      "text/plain": [
       "\"?\""
      ]
     },
     "metadata": {},
     "output_type": "display_data"
    }
   ],
   "source": [
    "collide(Astronaut(10), Astronaut(10))"
   ]
  },
  {
   "cell_type": "code",
   "execution_count": 140,
   "metadata": {},
   "outputs": [
    {
     "data": {
      "text/plain": [
       "\"s/s\""
      ]
     },
     "metadata": {},
     "output_type": "display_data"
    }
   ],
   "source": [
    "collide(Spaceship(10), Spaceship(10))"
   ]
  },
  {
   "cell_type": "markdown",
   "metadata": {},
   "source": [
    "In practice example from [DiffeqBase](https://github.com/SciML/DiffEqBase.jl/blob/782a88b91ea9f7fef5be19a913c8e323fbe87e37/src/internal_euler.jl#L15C1-L16C22)\n",
    "\n",
    "```julia\n",
    "\n",
    "function DiffEqBase.solve(prob::DiffEqBase.AbstractODEProblem{uType, tType, isinplace},\n",
    "    Alg::FwdEulerAlg; args...)\n",
    "```\n",
    "\n",
    "the \"solve\" function specializes to problem and algorithm types"
   ]
  },
  {
   "cell_type": "markdown",
   "metadata": {},
   "source": [
    "### Linear Algebra"
   ]
  },
  {
   "cell_type": "code",
   "execution_count": 1,
   "metadata": {},
   "outputs": [],
   "source": [
    "using LinearAlgebra"
   ]
  },
  {
   "cell_type": "code",
   "execution_count": 18,
   "metadata": {},
   "outputs": [
    {
     "data": {
      "text/plain": [
       "3×3 Matrix{Int64}:\n",
       " 1  2  3\n",
       " 4  5  6\n",
       " 7  8  9"
      ]
     },
     "metadata": {},
     "output_type": "display_data"
    }
   ],
   "source": [
    "A = [1 2 3; 4 5 6; 7 8 9]"
   ]
  },
  {
   "cell_type": "code",
   "execution_count": 26,
   "metadata": {},
   "outputs": [
    {
     "data": {
      "text/plain": [
       "4"
      ]
     },
     "metadata": {},
     "output_type": "display_data"
    }
   ],
   "source": [
    "A[2] # Julia is column major like fortran"
   ]
  },
  {
   "cell_type": "code",
   "execution_count": 23,
   "metadata": {},
   "outputs": [
    {
     "data": {
      "text/plain": [
       "2"
      ]
     },
     "metadata": {},
     "output_type": "display_data"
    }
   ],
   "source": [
    "A[1, 2]"
   ]
  },
  {
   "cell_type": "code",
   "execution_count": 25,
   "metadata": {},
   "outputs": [
    {
     "data": {
      "text/plain": [
       "3-element Vector{Int64}:\n",
       " 1\n",
       " 2\n",
       " 3"
      ]
     },
     "metadata": {},
     "output_type": "display_data"
    }
   ],
   "source": [
    "A[1, :]"
   ]
  },
  {
   "cell_type": "code",
   "execution_count": 13,
   "metadata": {},
   "outputs": [
    {
     "data": {
      "text/plain": [
       "1×3 Matrix{Int64}:\n",
       " 1  2  3"
      ]
     },
     "metadata": {},
     "output_type": "display_data"
    }
   ],
   "source": [
    "B = [1 2 3]"
   ]
  },
  {
   "cell_type": "code",
   "execution_count": 15,
   "metadata": {},
   "outputs": [
    {
     "data": {
      "text/plain": [
       "3-element Vector{Int64}:\n",
       " 1\n",
       " 2\n",
       " 3"
      ]
     },
     "metadata": {},
     "output_type": "display_data"
    }
   ],
   "source": [
    "B = [1;2;3]"
   ]
  },
  {
   "cell_type": "code",
   "execution_count": 14,
   "metadata": {},
   "outputs": [
    {
     "data": {
      "text/plain": [
       "3-element Vector{Int64}:\n",
       " 1\n",
       " 2\n",
       " 3"
      ]
     },
     "metadata": {},
     "output_type": "display_data"
    }
   ],
   "source": [
    "v = [1, 2, 3]"
   ]
  },
  {
   "cell_type": "code",
   "execution_count": 19,
   "metadata": {},
   "outputs": [
    {
     "data": {
      "text/plain": [
       "4"
      ]
     },
     "metadata": {},
     "output_type": "display_data"
    }
   ],
   "source": [
    "A[2]"
   ]
  },
  {
   "cell_type": "code",
   "execution_count": 117,
   "metadata": {},
   "outputs": [
    {
     "data": {
      "text/plain": [
       "4×4 Matrix{Float64}:\n",
       " 0.014379  1.66994   0.908889  1.13838\n",
       " 1.66994   1.79162   0.66366   0.469357\n",
       " 0.908889  0.66366   0.671455  1.58474\n",
       " 1.13838   0.469357  1.58474   1.62492"
      ]
     },
     "metadata": {},
     "output_type": "display_data"
    }
   ],
   "source": [
    "# Solve A x = b\n",
    "problem_dim = 4\n",
    "b = rand(problem_dim)\n",
    "A = rand(problem_dim, problem_dim)\n",
    "A = A + A' # prime is the transpose operator"
   ]
  },
  {
   "cell_type": "code",
   "execution_count": 118,
   "metadata": {},
   "outputs": [
    {
     "name": "stdout",
     "output_type": "stream",
     "text": [
      "  0.000016 seconds (3 allocations: 384 bytes)\n"
     ]
    },
    {
     "data": {
      "text/plain": [
       "4-element Vector{Float64}:\n",
       " -0.014280696993488533\n",
       "  0.18780460647255345\n",
       " -0.7648520077228526\n",
       "  0.7536424238786308"
      ]
     },
     "metadata": {},
     "output_type": "display_data"
    }
   ],
   "source": [
    "@time x = A \\ b"
   ]
  },
  {
   "cell_type": "markdown",
   "metadata": {},
   "source": [
    "### Factorizations"
   ]
  },
  {
   "cell_type": "code",
   "execution_count": 119,
   "metadata": {},
   "outputs": [
    {
     "data": {
      "text/plain": [
       "LinearAlgebra.QRCompactWY{Float64, Matrix{Float64}, Matrix{Float64}}\n",
       "Q factor:\n",
       "4×4 LinearAlgebra.QRCompactWYQ{Float64, Matrix{Float64}, Matrix{Float64}}:\n",
       " -0.00648855   0.934561   -0.353195   -0.0425192\n",
       " -0.753565     0.213805    0.543185    0.302286\n",
       " -0.410138    -0.0592133  -0.0396875  -0.909233\n",
       " -0.513696    -0.278168   -0.760676    0.283037\n",
       "R factor:\n",
       "4×4 Matrix{Float64}:\n",
       " -2.21606  -1.87424  -1.59547   -1.84576\n",
       "  0.0       1.77386   0.510723   0.618396\n",
       "  0.0       0.0      -1.19264   -1.44606\n",
       "  0.0       0.0       0.0       -0.887503"
      ]
     },
     "metadata": {},
     "output_type": "display_data"
    }
   ],
   "source": [
    "Alu = lu(A)\n",
    "Aqr = qr(A)"
   ]
  },
  {
   "cell_type": "markdown",
   "metadata": {},
   "source": [
    "You can also do these \"in-place\" (i.e. without allocating new memory)"
   ]
  },
  {
   "cell_type": "code",
   "execution_count": 120,
   "metadata": {},
   "outputs": [
    {
     "name": "stdout",
     "output_type": "stream",
     "text": [
      "[0.014378987854515968 1.6699427791230539 0.9088891479808758 1.1383800450204742; 1.6699427791230539 1.791620839685183 0.6636602693142357 0.4693568910568081; 0.9088891479808758 0.6636602693142357 0.6714548754346075 1.5847354550606516; 1.1383800450204742 0.4693568910568081 1.5847354550606516 1.6249231192627693]\n",
      "[1.6699427791230539 1.791620839685183 0.6636602693142357 0.4693568910568081; 0.008610467397012779 1.654516086295136 0.9031747228692529 1.1343386628124663; 0.6816880549753195 -0.45449520897997187 1.542814761323323 1.8205196207180045; 0.5442636474395641 -0.18824466338008075 0.31129241845268446 0.9761008057494512]\n"
     ]
    }
   ],
   "source": [
    "display(A)\n",
    "s = lu!(A)\n",
    "display(s)\n",
    "display(A)"
   ]
  },
  {
   "cell_type": "code",
   "execution_count": 116,
   "metadata": {},
   "outputs": [
    {
     "data": {
      "text/plain": [
       "4×4 Matrix{Float64}:\n",
       " 1.9069      0.79296    1.75155    1.25447\n",
       " 0.0501634   0.771404   0.7379    -0.639779\n",
       " 0.0751143   0.966546  -1.40701    1.1\n",
       " 0.0907864  -0.226521   0.573499  -2.30922"
      ]
     },
     "metadata": {},
     "output_type": "display_data"
    }
   ],
   "source": [
    "A"
   ]
  },
  {
   "cell_type": "markdown",
   "metadata": {},
   "source": []
  }
 ],
 "metadata": {
  "kernelspec": {
   "display_name": "Julia 1.9.0",
   "language": "julia",
   "name": "julia-1.9"
  },
  "language_info": {
   "file_extension": ".jl",
   "mimetype": "application/julia",
   "name": "julia",
   "version": "1.9.0"
  },
  "orig_nbformat": 4
 },
 "nbformat": 4,
 "nbformat_minor": 2
}
