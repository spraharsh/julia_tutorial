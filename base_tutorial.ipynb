{
 "cells": [
  {
   "cell_type": "markdown",
   "metadata": {},
   "source": [
    "# Julia Tutorial\n",
    "## Why Julia\n",
    "Not all scientific code is vectorizable for easy writing with python.\n",
    "\n",
    "### Example Problem\n",
    "suppose we want to simulate the random variable $X$ with pdf $P(x) = 2x$ where $x\\in[0,1]$, with Metropolis-Hastings, assuming you have access to a uniform random number generator."
   ]
  },
  {
   "cell_type": "code",
   "execution_count": 1,
   "metadata": {},
   "outputs": [
    {
     "data": {
      "text/plain": [
       "10000000"
      ]
     },
     "metadata": {},
     "output_type": "display_data"
    }
   ],
   "source": [
    "using Random\n",
    "rng = MersenneTwister(1234);\n",
    "\n",
    "function target(x)\n",
    "    if 0 <= x <= 1\n",
    "        return 2x\n",
    "    else\n",
    "        return 0\n",
    "    end\n",
    "end\n",
    "\n",
    "function proposal(x)\n",
    "    return x + 0.1 * (rand(rng) - 0.5)\n",
    "end\n",
    "\n",
    "function metropolis(nsamples)\n",
    "    samples = Float64[]\n",
    "    curr = rand()\n",
    "    for _ = 1:nsamples\n",
    "        next = proposal(curr)\n",
    "        accept_ratio = target(next) / target(curr)\n",
    "        if rand(rng) < accept_ratio\n",
    "            curr = next\n",
    "        end\n",
    "        push!(samples, curr)\n",
    "    end\n",
    "    return samples\n",
    "end\n",
    "\n",
    "n_samples = Int(1e7)"
   ]
  },
  {
   "cell_type": "code",
   "execution_count": 2,
   "metadata": {},
   "outputs": [
    {
     "name": "stdout",
     "output_type": "stream",
     "text": [
      "  0.034923 seconds (28.28 k allocations: 1.899 MiB, 99.74% compilation time)\n"
     ]
    },
    {
     "name": "stdout",
     "output_type": "stream",
     "text": [
      "  1.987784 seconds (89.75 M allocations: 1.347 GiB, 2.46% gc time)\n"
     ]
    }
   ],
   "source": [
    "@time pdf = metropolis(1) # compile\n",
    "@time pdf = metropolis(n_samples); # Much faster than python!"
   ]
  },
  {
   "cell_type": "markdown",
   "metadata": {},
   "source": [
    "Also plots take less time (out of the box)"
   ]
  },
  {
   "cell_type": "code",
   "execution_count": 3,
   "metadata": {},
   "outputs": [
    {
     "name": "stdout",
     "output_type": "stream",
     "text": [
      "  0.674329 seconds (245.49 k allocations: 91.944 MiB, 4.21% gc time, 44.03% compilation time: 6% of which was recompilation)\n"
     ]
    },
    {
     "data": {
      "image/png": "[encoded data removed]",
      "image/svg+xml": [
       "<?xml version=\"1.0\" encoding=\"utf-8\"?>\n",
       "<svg xmlns=\"http://www.w3.org/2000/svg\" xmlns:xlink=\"http://www.w3.org/1999/xlink\" width=\"600\" height=\"400\" viewBox=\"0 0 2400 1600\">\n",
       "<defs>\n",
       "  <clipPath id=\"clip830\">\n",
       "    <rect x=\"0\" y=\"0\" width=\"2400\" height=\"1600\"/>\n",
       "  </clipPath>\n",
       "</defs>\n",
       "<path clip-path=\"url(#clip830)\" d=\"M0 1600 L2400 1600 L2400 0 L0 0  Z\" fill=\"#ffffff\" fill-rule=\"evenodd\" fill-opacity=\"1\"/>\n",
       "<defs>\n",
       "  <clipPath id=\"clip831\">\n",
       "    <rect x=\"480\" y=\"0\" width=\"1681\" height=\"1600\"/>\n",
       "  </clipPath>\n",
       "</defs>\n",
       "<path clip-path=\"url(#clip830)\" d=\"M156.112 1486.45 L2352.76 1486.45 L2352.76 47.2441 L156.112 47.2441  Z\" fill=\"#ffffff\" fill-rule=\"evenodd\" fill-opacity=\"1\"/>\n",
       "<defs>\n",
       "  <clipPath id=\"clip832\">\n",
       "    <rect x=\"156\" y=\"47\" width=\"2198\" height=\"1440\"/>\n",
       "  </clipPath>\n",
       "</defs>\n",
       "<polyline clip-path=\"url(#clip832)\" style=\"stroke:#000000; stroke-linecap:round; stroke-linejoin:round; stroke-width:2; stroke-opacity:0.1; fill:none\" points=\"218.281,1486.45 218.281,47.2441 \"/>\n",
       "<polyline clip-path=\"url(#clip832)\" style=\"stroke:#000000; stroke-linecap:round; stroke-linejoin:round; stroke-width:2; stroke-opacity:0.1; fill:none\" points=\"736.358,1486.45 736.358,47.2441 \"/>\n",
       "<polyline clip-path=\"url(#clip832)\" style=\"stroke:#000000; stroke-linecap:round; stroke-linejoin:round; stroke-width:2; stroke-opacity:0.1; fill:none\" points=\"1254.43,1486.45 1254.43,47.2441 \"/>\n",
       "<polyline clip-path=\"url(#clip832)\" style=\"stroke:#000000; stroke-linecap:round; stroke-linejoin:round; stroke-width:2; stroke-opacity:0.1; fill:none\" points=\"1772.51,1486.45 1772.51,47.2441 \"/>\n",
       "<polyline clip-path=\"url(#clip832)\" style=\"stroke:#000000; stroke-linecap:round; stroke-linejoin:round; stroke-width:2; stroke-opacity:0.1; fill:none\" points=\"2290.59,1486.45 2290.59,47.2441 \"/>\n",
       "<polyline clip-path=\"url(#clip830)\" style=\"stroke:#000000; stroke-linecap:round; stroke-linejoin:round; stroke-width:4; stroke-opacity:1; fill:none\" points=\"156.112,1486.45 2352.76,1486.45 \"/>\n",
       "<polyline clip-path=\"url(#clip830)\" style=\"stroke:#000000; stroke-linecap:round; stroke-linejoin:round; stroke-width:4; stroke-opacity:1; fill:none\" points=\"218.281,1486.45 218.281,1467.55 \"/>\n",
       "<polyline clip-path=\"url(#clip830)\" style=\"stroke:#000000; stroke-linecap:round; stroke-linejoin:round; stroke-width:4; stroke-opacity:1; fill:none\" points=\"736.358,1486.45 736.358,1467.55 \"/>\n",
       "<polyline clip-path=\"url(#clip830)\" style=\"stroke:#000000; stroke-linecap:round; stroke-linejoin:round; stroke-width:4; stroke-opacity:1; fill:none\" points=\"1254.43,1486.45 1254.43,1467.55 \"/>\n",
       "<polyline clip-path=\"url(#clip830)\" style=\"stroke:#000000; stroke-linecap:round; stroke-linejoin:round; stroke-width:4; stroke-opacity:1; fill:none\" points=\"1772.51,1486.45 1772.51,1467.55 \"/>\n",
       "<polyline clip-path=\"url(#clip830)\" style=\"stroke:#000000; stroke-linecap:round; stroke-linejoin:round; stroke-width:4; stroke-opacity:1; fill:none\" points=\"2290.59,1486.45 2290.59,1467.55 \"/>\n",
       "<path clip-path=\"url(#clip830)\" d=\"M180.585 1517.37 Q176.974 1517.37 175.145 1520.93 Q173.339 1524.47 173.339 1531.6 Q173.339 1538.71 175.145 1542.27 Q176.974 1545.82 180.585 1545.82 Q184.219 1545.82 186.025 1542.27 Q187.853 1538.71 187.853 1531.6 Q187.853 1524.47 186.025 1520.93 Q184.219 1517.37 180.585 1517.37 M180.585 1513.66 Q186.395 1513.66 189.45 1518.27 Q192.529 1522.85 192.529 1531.6 Q192.529 1540.33 189.45 1544.94 Q186.395 1549.52 180.585 1549.52 Q174.775 1549.52 171.696 1544.94 Q168.64 1540.33 168.64 1531.6 Q168.64 1522.85 171.696 1518.27 Q174.775 1513.66 180.585 1513.66 Z\" fill=\"#000000\" fill-rule=\"nonzero\" fill-opacity=\"1\" /><path clip-path=\"url(#clip830)\" d=\"M200.747 1542.97 L205.631 1542.97 L205.631 1548.85 L200.747 1548.85 L200.747 1542.97 Z\" fill=\"#000000\" fill-rule=\"nonzero\" fill-opacity=\"1\" /><path clip-path=\"url(#clip830)\" d=\"M225.816 1517.37 Q222.205 1517.37 220.376 1520.93 Q218.571 1524.47 218.571 1531.6 Q218.571 1538.71 220.376 1542.27 Q222.205 1545.82 225.816 1545.82 Q229.45 1545.82 231.256 1542.27 Q233.084 1538.71 233.084 1531.6 Q233.084 1524.47 231.256 1520.93 Q229.45 1517.37 225.816 1517.37 M225.816 1513.66 Q231.626 1513.66 234.682 1518.27 Q237.76 1522.85 237.76 1531.6 Q237.76 1540.33 234.682 1544.94 Q231.626 1549.52 225.816 1549.52 Q220.006 1549.52 216.927 1544.94 Q213.872 1540.33 213.872 1531.6 Q213.872 1522.85 216.927 1518.27 Q220.006 1513.66 225.816 1513.66 Z\" fill=\"#000000\" fill-rule=\"nonzero\" fill-opacity=\"1\" /><path clip-path=\"url(#clip830)\" d=\"M255.978 1517.37 Q252.367 1517.37 250.538 1520.93 Q248.733 1524.47 248.733 1531.6 Q248.733 1538.71 250.538 1542.27 Q252.367 1545.82 255.978 1545.82 Q259.612 1545.82 261.418 1542.27 Q263.246 1538.71 263.246 1531.6 Q263.246 1524.47 261.418 1520.93 Q259.612 1517.37 255.978 1517.37 M255.978 1513.66 Q261.788 1513.66 264.844 1518.27 Q267.922 1522.85 267.922 1531.6 Q267.922 1540.33 264.844 1544.94 Q261.788 1549.52 255.978 1549.52 Q250.168 1549.52 247.089 1544.94 Q244.033 1540.33 244.033 1531.6 Q244.033 1522.85 247.089 1518.27 Q250.168 1513.66 255.978 1513.66 Z\" fill=\"#000000\" fill-rule=\"nonzero\" fill-opacity=\"1\" /><path clip-path=\"url(#clip830)\" d=\"M699.159 1517.37 Q695.548 1517.37 693.719 1520.93 Q691.913 1524.47 691.913 1531.6 Q691.913 1538.71 693.719 1542.27 Q695.548 1545.82 699.159 1545.82 Q702.793 1545.82 704.599 1542.27 Q706.427 1538.71 706.427 1531.6 Q706.427 1524.47 704.599 1520.93 Q702.793 1517.37 699.159 1517.37 M699.159 1513.66 Q704.969 1513.66 708.024 1518.27 Q711.103 1522.85 711.103 1531.6 Q711.103 1540.33 708.024 1544.94 Q704.969 1549.52 699.159 1549.52 Q693.349 1549.52 690.27 1544.94 Q687.214 1540.33 687.214 1531.6 Q687.214 1522.85 690.27 1518.27 Q693.349 1513.66 699.159 1513.66 Z\" fill=\"#000000\" fill-rule=\"nonzero\" fill-opacity=\"1\" /><path clip-path=\"url(#clip830)\" d=\"M719.321 1542.97 L724.205 1542.97 L724.205 1548.85 L719.321 1548.85 L719.321 1542.97 Z\" fill=\"#000000\" fill-rule=\"nonzero\" fill-opacity=\"1\" /><path clip-path=\"url(#clip830)\" d=\"M738.418 1544.91 L754.737 1544.91 L754.737 1548.85 L732.793 1548.85 L732.793 1544.91 Q735.455 1542.16 740.038 1537.53 Q744.645 1532.88 745.825 1531.53 Q748.071 1529.01 748.95 1527.27 Q749.853 1525.51 749.853 1523.82 Q749.853 1521.07 747.909 1519.33 Q745.987 1517.6 742.885 1517.6 Q740.686 1517.6 738.233 1518.36 Q735.802 1519.13 733.024 1520.68 L733.024 1515.95 Q735.848 1514.82 738.302 1514.24 Q740.756 1513.66 742.793 1513.66 Q748.163 1513.66 751.358 1516.35 Q754.552 1519.03 754.552 1523.52 Q754.552 1525.65 753.742 1527.57 Q752.955 1529.47 750.848 1532.07 Q750.27 1532.74 747.168 1535.95 Q744.066 1539.15 738.418 1544.91 Z\" fill=\"#000000\" fill-rule=\"nonzero\" fill-opacity=\"1\" /><path clip-path=\"url(#clip830)\" d=\"M764.598 1514.29 L782.955 1514.29 L782.955 1518.22 L768.881 1518.22 L768.881 1526.7 Q769.899 1526.35 770.918 1526.19 Q771.936 1526 772.955 1526 Q778.742 1526 782.121 1529.17 Q785.501 1532.34 785.501 1537.76 Q785.501 1543.34 782.029 1546.44 Q778.557 1549.52 772.237 1549.52 Q770.061 1549.52 767.793 1549.15 Q765.547 1548.78 763.14 1548.04 L763.14 1543.34 Q765.223 1544.47 767.445 1545.03 Q769.668 1545.58 772.144 1545.58 Q776.149 1545.58 778.487 1543.48 Q780.825 1541.37 780.825 1537.76 Q780.825 1534.15 778.487 1532.04 Q776.149 1529.94 772.144 1529.94 Q770.27 1529.94 768.395 1530.35 Q766.543 1530.77 764.598 1531.65 L764.598 1514.29 Z\" fill=\"#000000\" fill-rule=\"nonzero\" fill-opacity=\"1\" /><path clip-path=\"url(#clip830)\" d=\"M1216.74 1517.37 Q1213.13 1517.37 1211.3 1520.93 Q1209.49 1524.47 1209.49 1531.6 Q1209.49 1538.71 1211.3 1542.27 Q1213.13 1545.82 1216.74 1545.82 Q1220.37 1545.82 1222.18 1542.27 Q1224.01 1538.71 1224.01 1531.6 Q1224.01 1524.47 1222.18 1520.93 Q1220.37 1517.37 1216.74 1517.37 M1216.74 1513.66 Q1222.55 1513.66 1225.6 1518.27 Q1228.68 1522.85 1228.68 1531.6 Q1228.68 1540.33 1225.6 1544.94 Q1222.55 1549.52 1216.74 1549.52 Q1210.93 1549.52 1207.85 1544.94 Q1204.79 1540.33 1204.79 1531.6 Q1204.79 1522.85 1207.85 1518.27 Q1210.93 1513.66 1216.74 1513.66 Z\" fill=\"#000000\" fill-rule=\"nonzero\" fill-opacity=\"1\" /><path clip-path=\"url(#clip830)\" d=\"M1236.9 1542.97 L1241.78 1542.97 L1241.78 1548.85 L1236.9 1548.85 L1236.9 1542.97 Z\" fill=\"#000000\" fill-rule=\"nonzero\" fill-opacity=\"1\" /><path clip-path=\"url(#clip830)\" d=\"M1252.02 1514.29 L1270.37 1514.29 L1270.37 1518.22 L1256.3 1518.22 L1256.3 1526.7 Q1257.32 1526.35 1258.33 1526.19 Q1259.35 1526 1260.37 1526 Q1266.16 1526 1269.54 1529.17 Q1272.92 1532.34 1272.92 1537.76 Q1272.92 1543.34 1269.45 1546.44 Q1265.97 1549.52 1259.65 1549.52 Q1257.48 1549.52 1255.21 1549.15 Q1252.96 1548.78 1250.56 1548.04 L1250.56 1543.34 Q1252.64 1544.47 1254.86 1545.03 Q1257.08 1545.58 1259.56 1545.58 Q1263.57 1545.58 1265.9 1543.48 Q1268.24 1541.37 1268.24 1537.76 Q1268.24 1534.15 1265.9 1532.04 Q1263.57 1529.94 1259.56 1529.94 Q1257.69 1529.94 1255.81 1530.35 Q1253.96 1530.77 1252.02 1531.65 L1252.02 1514.29 Z\" fill=\"#000000\" fill-rule=\"nonzero\" fill-opacity=\"1\" /><path clip-path=\"url(#clip830)\" d=\"M1292.13 1517.37 Q1288.52 1517.37 1286.69 1520.93 Q1284.89 1524.47 1284.89 1531.6 Q1284.89 1538.71 1286.69 1542.27 Q1288.52 1545.82 1292.13 1545.82 Q1295.76 1545.82 1297.57 1542.27 Q1299.4 1538.71 1299.4 1531.6 Q1299.4 1524.47 1297.57 1520.93 Q1295.76 1517.37 1292.13 1517.37 M1292.13 1513.66 Q1297.94 1513.66 1301 1518.27 Q1304.07 1522.85 1304.07 1531.6 Q1304.07 1540.33 1301 1544.94 Q1297.94 1549.52 1292.13 1549.52 Q1286.32 1549.52 1283.24 1544.94 Q1280.19 1540.33 1280.19 1531.6 Q1280.19 1522.85 1283.24 1518.27 Q1286.32 1513.66 1292.13 1513.66 Z\" fill=\"#000000\" fill-rule=\"nonzero\" fill-opacity=\"1\" /><path clip-path=\"url(#clip830)\" d=\"M1735.31 1517.37 Q1731.7 1517.37 1729.87 1520.93 Q1728.07 1524.47 1728.07 1531.6 Q1728.07 1538.71 1729.87 1542.27 Q1731.7 1545.82 1735.31 1545.82 Q1738.95 1545.82 1740.75 1542.27 Q1742.58 1538.71 1742.58 1531.6 Q1742.58 1524.47 1740.75 1520.93 Q1738.95 1517.37 1735.31 1517.37 M1735.31 1513.66 Q1741.12 1513.66 1744.18 1518.27 Q1747.26 1522.85 1747.26 1531.6 Q1747.26 1540.33 1744.18 1544.94 Q1741.12 1549.52 1735.31 1549.52 Q1729.5 1549.52 1726.42 1544.94 Q1723.37 1540.33 1723.37 1531.6 Q1723.37 1522.85 1726.42 1518.27 Q1729.5 1513.66 1735.31 1513.66 Z\" fill=\"#000000\" fill-rule=\"nonzero\" fill-opacity=\"1\" /><path clip-path=\"url(#clip830)\" d=\"M1755.47 1542.97 L1760.36 1542.97 L1760.36 1548.85 L1755.47 1548.85 L1755.47 1542.97 Z\" fill=\"#000000\" fill-rule=\"nonzero\" fill-opacity=\"1\" /><path clip-path=\"url(#clip830)\" d=\"M1769.36 1514.29 L1791.58 1514.29 L1791.58 1516.28 L1779.04 1548.85 L1774.15 1548.85 L1785.96 1518.22 L1769.36 1518.22 L1769.36 1514.29 Z\" fill=\"#000000\" fill-rule=\"nonzero\" fill-opacity=\"1\" /><path clip-path=\"url(#clip830)\" d=\"M1800.75 1514.29 L1819.11 1514.29 L1819.11 1518.22 L1805.03 1518.22 L1805.03 1526.7 Q1806.05 1526.35 1807.07 1526.19 Q1808.09 1526 1809.11 1526 Q1814.89 1526 1818.27 1529.17 Q1821.65 1532.34 1821.65 1537.76 Q1821.65 1543.34 1818.18 1546.44 Q1814.71 1549.52 1808.39 1549.52 Q1806.21 1549.52 1803.95 1549.15 Q1801.7 1548.78 1799.29 1548.04 L1799.29 1543.34 Q1801.38 1544.47 1803.6 1545.03 Q1805.82 1545.58 1808.3 1545.58 Q1812.3 1545.58 1814.64 1543.48 Q1816.98 1541.37 1816.98 1537.76 Q1816.98 1534.15 1814.64 1532.04 Q1812.3 1529.94 1808.3 1529.94 Q1806.42 1529.94 1804.55 1530.35 Q1802.7 1530.77 1800.75 1531.65 L1800.75 1514.29 Z\" fill=\"#000000\" fill-rule=\"nonzero\" fill-opacity=\"1\" /><path clip-path=\"url(#clip830)\" d=\"M2242.66 1544.91 L2250.3 1544.91 L2250.3 1518.55 L2241.99 1520.21 L2241.99 1515.95 L2250.25 1514.29 L2254.93 1514.29 L2254.93 1544.91 L2262.57 1544.91 L2262.57 1548.85 L2242.66 1548.85 L2242.66 1544.91 Z\" fill=\"#000000\" fill-rule=\"nonzero\" fill-opacity=\"1\" /><path clip-path=\"url(#clip830)\" d=\"M2272.01 1542.97 L2276.89 1542.97 L2276.89 1548.85 L2272.01 1548.85 L2272.01 1542.97 Z\" fill=\"#000000\" fill-rule=\"nonzero\" fill-opacity=\"1\" /><path clip-path=\"url(#clip830)\" d=\"M2297.08 1517.37 Q2293.47 1517.37 2291.64 1520.93 Q2289.83 1524.47 2289.83 1531.6 Q2289.83 1538.71 2291.64 1542.27 Q2293.47 1545.82 2297.08 1545.82 Q2300.71 1545.82 2302.52 1542.27 Q2304.35 1538.71 2304.35 1531.6 Q2304.35 1524.47 2302.52 1520.93 Q2300.71 1517.37 2297.08 1517.37 M2297.08 1513.66 Q2302.89 1513.66 2305.95 1518.27 Q2309.02 1522.85 2309.02 1531.6 Q2309.02 1540.33 2305.95 1544.94 Q2302.89 1549.52 2297.08 1549.52 Q2291.27 1549.52 2288.19 1544.94 Q2285.14 1540.33 2285.14 1531.6 Q2285.14 1522.85 2288.19 1518.27 Q2291.27 1513.66 2297.08 1513.66 Z\" fill=\"#000000\" fill-rule=\"nonzero\" fill-opacity=\"1\" /><path clip-path=\"url(#clip830)\" d=\"M2327.24 1517.37 Q2323.63 1517.37 2321.8 1520.93 Q2320 1524.47 2320 1531.6 Q2320 1538.71 2321.8 1542.27 Q2323.63 1545.82 2327.24 1545.82 Q2330.88 1545.82 2332.68 1542.27 Q2334.51 1538.71 2334.51 1531.6 Q2334.51 1524.47 2332.68 1520.93 Q2330.88 1517.37 2327.24 1517.37 M2327.24 1513.66 Q2333.05 1513.66 2336.11 1518.27 Q2339.19 1522.85 2339.19 1531.6 Q2339.19 1540.33 2336.11 1544.94 Q2333.05 1549.52 2327.24 1549.52 Q2321.43 1549.52 2318.35 1544.94 Q2315.3 1540.33 2315.3 1531.6 Q2315.3 1522.85 2318.35 1518.27 Q2321.43 1513.66 2327.24 1513.66 Z\" fill=\"#000000\" fill-rule=\"nonzero\" fill-opacity=\"1\" /><polyline clip-path=\"url(#clip832)\" style=\"stroke:#000000; stroke-linecap:round; stroke-linejoin:round; stroke-width:2; stroke-opacity:0.1; fill:none\" points=\"156.112,1445.72 2352.76,1445.72 \"/>\n",
       "<polyline clip-path=\"url(#clip832)\" style=\"stroke:#000000; stroke-linecap:round; stroke-linejoin:round; stroke-width:2; stroke-opacity:0.1; fill:none\" points=\"156.112,1099.77 2352.76,1099.77 \"/>\n",
       "<polyline clip-path=\"url(#clip832)\" style=\"stroke:#000000; stroke-linecap:round; stroke-linejoin:round; stroke-width:2; stroke-opacity:0.1; fill:none\" points=\"156.112,753.818 2352.76,753.818 \"/>\n",
       "<polyline clip-path=\"url(#clip832)\" style=\"stroke:#000000; stroke-linecap:round; stroke-linejoin:round; stroke-width:2; stroke-opacity:0.1; fill:none\" points=\"156.112,407.868 2352.76,407.868 \"/>\n",
       "<polyline clip-path=\"url(#clip832)\" style=\"stroke:#000000; stroke-linecap:round; stroke-linejoin:round; stroke-width:2; stroke-opacity:0.1; fill:none\" points=\"156.112,61.9194 2352.76,61.9194 \"/>\n",
       "<polyline clip-path=\"url(#clip830)\" style=\"stroke:#000000; stroke-linecap:round; stroke-linejoin:round; stroke-width:4; stroke-opacity:1; fill:none\" points=\"156.112,1486.45 156.112,47.2441 \"/>\n",
       "<polyline clip-path=\"url(#clip830)\" style=\"stroke:#000000; stroke-linecap:round; stroke-linejoin:round; stroke-width:4; stroke-opacity:1; fill:none\" points=\"156.112,1445.72 175.01,1445.72 \"/>\n",
       "<polyline clip-path=\"url(#clip830)\" style=\"stroke:#000000; stroke-linecap:round; stroke-linejoin:round; stroke-width:4; stroke-opacity:1; fill:none\" points=\"156.112,1099.77 175.01,1099.77 \"/>\n",
       "<polyline clip-path=\"url(#clip830)\" style=\"stroke:#000000; stroke-linecap:round; stroke-linejoin:round; stroke-width:4; stroke-opacity:1; fill:none\" points=\"156.112,753.818 175.01,753.818 \"/>\n",
       "<polyline clip-path=\"url(#clip830)\" style=\"stroke:#000000; stroke-linecap:round; stroke-linejoin:round; stroke-width:4; stroke-opacity:1; fill:none\" points=\"156.112,407.868 175.01,407.868 \"/>\n",
       "<polyline clip-path=\"url(#clip830)\" style=\"stroke:#000000; stroke-linecap:round; stroke-linejoin:round; stroke-width:4; stroke-opacity:1; fill:none\" points=\"156.112,61.9194 175.01,61.9194 \"/>\n",
       "<path clip-path=\"url(#clip830)\" d=\"M62.9365 1431.51 Q59.3254 1431.51 57.4967 1435.08 Q55.6912 1438.62 55.6912 1445.75 Q55.6912 1452.86 57.4967 1456.42 Q59.3254 1459.96 62.9365 1459.96 Q66.5707 1459.96 68.3763 1456.42 Q70.205 1452.86 70.205 1445.75 Q70.205 1438.62 68.3763 1435.08 Q66.5707 1431.51 62.9365 1431.51 M62.9365 1427.81 Q68.7467 1427.81 71.8022 1432.42 Q74.8809 1437 74.8809 1445.75 Q74.8809 1454.48 71.8022 1459.08 Q68.7467 1463.67 62.9365 1463.67 Q57.1264 1463.67 54.0477 1459.08 Q50.9921 1454.48 50.9921 1445.75 Q50.9921 1437 54.0477 1432.42 Q57.1264 1427.81 62.9365 1427.81 Z\" fill=\"#000000\" fill-rule=\"nonzero\" fill-opacity=\"1\" /><path clip-path=\"url(#clip830)\" d=\"M83.0984 1457.12 L87.9827 1457.12 L87.9827 1463 L83.0984 1463 L83.0984 1457.12 Z\" fill=\"#000000\" fill-rule=\"nonzero\" fill-opacity=\"1\" /><path clip-path=\"url(#clip830)\" d=\"M108.168 1431.51 Q104.557 1431.51 102.728 1435.08 Q100.922 1438.62 100.922 1445.75 Q100.922 1452.86 102.728 1456.42 Q104.557 1459.96 108.168 1459.96 Q111.802 1459.96 113.608 1456.42 Q115.436 1452.86 115.436 1445.75 Q115.436 1438.62 113.608 1435.08 Q111.802 1431.51 108.168 1431.51 M108.168 1427.81 Q113.978 1427.81 117.033 1432.42 Q120.112 1437 120.112 1445.75 Q120.112 1454.48 117.033 1459.08 Q113.978 1463.67 108.168 1463.67 Q102.358 1463.67 99.2789 1459.08 Q96.2234 1454.48 96.2234 1445.75 Q96.2234 1437 99.2789 1432.42 Q102.358 1427.81 108.168 1427.81 Z\" fill=\"#000000\" fill-rule=\"nonzero\" fill-opacity=\"1\" /><path clip-path=\"url(#clip830)\" d=\"M63.9319 1085.57 Q60.3208 1085.57 58.4921 1089.13 Q56.6865 1092.67 56.6865 1099.8 Q56.6865 1106.91 58.4921 1110.47 Q60.3208 1114.01 63.9319 1114.01 Q67.5661 1114.01 69.3717 1110.47 Q71.2004 1106.91 71.2004 1099.8 Q71.2004 1092.67 69.3717 1089.13 Q67.5661 1085.57 63.9319 1085.57 M63.9319 1081.86 Q69.742 1081.86 72.7976 1086.47 Q75.8763 1091.05 75.8763 1099.8 Q75.8763 1108.53 72.7976 1113.13 Q69.742 1117.72 63.9319 1117.72 Q58.1217 1117.72 55.043 1113.13 Q51.9875 1108.53 51.9875 1099.8 Q51.9875 1091.05 55.043 1086.47 Q58.1217 1081.86 63.9319 1081.86 Z\" fill=\"#000000\" fill-rule=\"nonzero\" fill-opacity=\"1\" /><path clip-path=\"url(#clip830)\" d=\"M84.0938 1111.17 L88.978 1111.17 L88.978 1117.05 L84.0938 1117.05 L84.0938 1111.17 Z\" fill=\"#000000\" fill-rule=\"nonzero\" fill-opacity=\"1\" /><path clip-path=\"url(#clip830)\" d=\"M99.2095 1082.49 L117.566 1082.49 L117.566 1086.42 L103.492 1086.42 L103.492 1094.89 Q104.51 1094.55 105.529 1094.38 Q106.547 1094.2 107.566 1094.2 Q113.353 1094.2 116.733 1097.37 Q120.112 1100.54 120.112 1105.96 Q120.112 1111.54 116.64 1114.64 Q113.168 1117.72 106.848 1117.72 Q104.672 1117.72 102.404 1117.35 Q100.159 1116.98 97.7511 1116.24 L97.7511 1111.54 Q99.8345 1112.67 102.057 1113.23 Q104.279 1113.78 106.756 1113.78 Q110.76 1113.78 113.098 1111.68 Q115.436 1109.57 115.436 1105.96 Q115.436 1102.35 113.098 1100.24 Q110.76 1098.13 106.756 1098.13 Q104.881 1098.13 103.006 1098.55 Q101.154 1098.97 99.2095 1099.85 L99.2095 1082.49 Z\" fill=\"#000000\" fill-rule=\"nonzero\" fill-opacity=\"1\" /><path clip-path=\"url(#clip830)\" d=\"M53.7467 767.162 L61.3856 767.162 L61.3856 740.797 L53.0754 742.463 L53.0754 738.204 L61.3393 736.538 L66.0152 736.538 L66.0152 767.162 L73.654 767.162 L73.654 771.098 L53.7467 771.098 L53.7467 767.162 Z\" fill=\"#000000\" fill-rule=\"nonzero\" fill-opacity=\"1\" /><path clip-path=\"url(#clip830)\" d=\"M83.0984 765.218 L87.9827 765.218 L87.9827 771.098 L83.0984 771.098 L83.0984 765.218 Z\" fill=\"#000000\" fill-rule=\"nonzero\" fill-opacity=\"1\" /><path clip-path=\"url(#clip830)\" d=\"M108.168 739.616 Q104.557 739.616 102.728 743.181 Q100.922 746.723 100.922 753.852 Q100.922 760.959 102.728 764.524 Q104.557 768.065 108.168 768.065 Q111.802 768.065 113.608 764.524 Q115.436 760.959 115.436 753.852 Q115.436 746.723 113.608 743.181 Q111.802 739.616 108.168 739.616 M108.168 735.913 Q113.978 735.913 117.033 740.519 Q120.112 745.102 120.112 753.852 Q120.112 762.579 117.033 767.186 Q113.978 771.769 108.168 771.769 Q102.358 771.769 99.2789 767.186 Q96.2234 762.579 96.2234 753.852 Q96.2234 745.102 99.2789 740.519 Q102.358 735.913 108.168 735.913 Z\" fill=\"#000000\" fill-rule=\"nonzero\" fill-opacity=\"1\" /><path clip-path=\"url(#clip830)\" d=\"M54.7421 421.213 L62.381 421.213 L62.381 394.848 L54.0708 396.514 L54.0708 392.255 L62.3347 390.588 L67.0106 390.588 L67.0106 421.213 L74.6494 421.213 L74.6494 425.148 L54.7421 425.148 L54.7421 421.213 Z\" fill=\"#000000\" fill-rule=\"nonzero\" fill-opacity=\"1\" /><path clip-path=\"url(#clip830)\" d=\"M84.0938 419.269 L88.978 419.269 L88.978 425.148 L84.0938 425.148 L84.0938 419.269 Z\" fill=\"#000000\" fill-rule=\"nonzero\" fill-opacity=\"1\" /><path clip-path=\"url(#clip830)\" d=\"M99.2095 390.588 L117.566 390.588 L117.566 394.524 L103.492 394.524 L103.492 402.996 Q104.51 402.649 105.529 402.487 Q106.547 402.301 107.566 402.301 Q113.353 402.301 116.733 405.473 Q120.112 408.644 120.112 414.061 Q120.112 419.639 116.64 422.741 Q113.168 425.82 106.848 425.82 Q104.672 425.82 102.404 425.449 Q100.159 425.079 97.7511 424.338 L97.7511 419.639 Q99.8345 420.773 102.057 421.329 Q104.279 421.885 106.756 421.885 Q110.76 421.885 113.098 419.778 Q115.436 417.672 115.436 414.061 Q115.436 410.449 113.098 408.343 Q110.76 406.237 106.756 406.237 Q104.881 406.237 103.006 406.653 Q101.154 407.07 99.2095 407.949 L99.2095 390.588 Z\" fill=\"#000000\" fill-rule=\"nonzero\" fill-opacity=\"1\" /><path clip-path=\"url(#clip830)\" d=\"M56.9643 75.2642 L73.2837 75.2642 L73.2837 79.1994 L51.3393 79.1994 L51.3393 75.2642 Q54.0014 72.5096 58.5847 67.88 Q63.1911 63.2273 64.3717 61.8847 Q66.617 59.3615 67.4967 57.6254 Q68.3994 55.8662 68.3994 54.1764 Q68.3994 51.4218 66.455 49.6857 Q64.5337 47.9496 61.4319 47.9496 Q59.2328 47.9496 56.7791 48.7134 Q54.3486 49.4773 51.5708 51.0282 L51.5708 46.3061 Q54.3949 45.1718 56.8486 44.5931 Q59.3023 44.0144 61.3393 44.0144 Q66.7096 44.0144 69.9041 46.6996 Q73.0985 49.3847 73.0985 53.8755 Q73.0985 56.0051 72.2883 57.9264 Q71.5013 59.8245 69.3948 62.4171 Q68.8161 63.0884 65.7143 66.3059 Q62.6124 69.5004 56.9643 75.2642 Z\" fill=\"#000000\" fill-rule=\"nonzero\" fill-opacity=\"1\" /><path clip-path=\"url(#clip830)\" d=\"M83.0984 73.3198 L87.9827 73.3198 L87.9827 79.1994 L83.0984 79.1994 L83.0984 73.3198 Z\" fill=\"#000000\" fill-rule=\"nonzero\" fill-opacity=\"1\" /><path clip-path=\"url(#clip830)\" d=\"M108.168 47.7181 Q104.557 47.7181 102.728 51.2829 Q100.922 54.8245 100.922 61.9541 Q100.922 69.0606 102.728 72.6254 Q104.557 76.167 108.168 76.167 Q111.802 76.167 113.608 72.6254 Q115.436 69.0606 115.436 61.9541 Q115.436 54.8245 113.608 51.2829 Q111.802 47.7181 108.168 47.7181 M108.168 44.0144 Q113.978 44.0144 117.033 48.6209 Q120.112 53.2042 120.112 61.9541 Q120.112 70.6809 117.033 75.2874 Q113.978 79.8707 108.168 79.8707 Q102.358 79.8707 99.2789 75.2874 Q96.2234 70.6809 96.2234 61.9541 Q96.2234 53.2042 99.2789 48.6209 Q102.358 44.0144 108.168 44.0144 Z\" fill=\"#000000\" fill-rule=\"nonzero\" fill-opacity=\"1\" /><polyline clip-path=\"url(#clip832)\" style=\"stroke:#009af9; stroke-linecap:round; stroke-linejoin:round; stroke-width:4; stroke-opacity:1; fill:none\" points=\"218.281,1445.72 218.281,1439.05 239.004,1439.05 239.004,1425.11 259.727,1425.11 259.727,1411.76 280.45,1411.76 280.45,1397.73 301.174,1397.73 301.174,1380.92 321.897,1380.92 321.897,1368.86 342.62,1368.86 342.62,1353.71 363.343,1353.71 363.343,1341.65 384.066,1341.65 384.066,1326.1 404.789,1326.1 404.789,1312.64 425.512,1312.64 425.512,1296.83 446.235,1296.83 446.235,1283.84 466.958,1283.84 466.958,1269.69 487.681,1269.69 487.681,1254.41 508.404,1254.41 508.404,1244.26 529.127,1244.26 529.127,1230.29 549.85,1230.29 549.85,1216.46 570.573,1216.46 570.573,1202.8 591.296,1202.8 591.296,1189.01 612.019,1189.01 612.019,1176.29 632.742,1176.29 632.742,1159.71 653.465,1159.71 653.465,1148.91 674.188,1148.91 674.188,1135.23 694.912,1135.23 694.912,1121.13 715.635,1121.13 715.635,1106.31 736.358,1106.31 736.358,1096.47 757.081,1096.47 757.081,1080.83 777.804,1080.83 777.804,1069.67 798.527,1069.67 798.527,1054.5 819.25,1054.5 819.25,1040.93 839.973,1040.93 839.973,1023.61 860.696,1023.61 860.696,1009.84 881.419,1009.84 881.419,997.013 902.142,997.013 902.142,985.341 922.865,985.341 922.865,967.483 943.588,967.483 943.588,954.226 964.311,954.226 964.311,939.274 985.034,939.274 985.034,927.837 1005.76,927.837 1005.76,908.561 1026.48,908.561 1026.48,896.459 1047.2,896.459 1047.2,884.51 1067.93,884.51 1067.93,870.783 1088.65,870.783 1088.65,854.599 1109.37,854.599 1109.37,836.486 1130.1,836.486 1130.1,827 1150.82,827 1150.82,811.868 1171.54,811.868 1171.54,799.815 1192.26,799.815 1192.26,785.97 1212.99,785.97 1212.99,770.389 1233.71,770.389 1233.71,752.835 1254.43,752.835 1254.43,742.671 1275.16,742.671 1275.16,725.401 1295.88,725.401 1295.88,709.425 1316.6,709.425 1316.6,700.915 1337.33,700.915 1337.33,685.105 1358.05,685.105 1358.05,673.288 1378.77,673.288 1378.77,657.014 1399.5,657.014 1399.5,644.214 1420.22,644.214 1420.22,631.628 1440.94,631.628 1440.94,616.932 1461.66,616.932 1461.66,599.607 1482.39,599.607 1482.39,587.554 1503.11,587.554 1503.11,573.793 1523.83,573.793 1523.83,562.535 1544.56,562.535 1544.56,547.929 1565.28,547.929 1565.28,533.759 1586,533.759 1586,520.994 1606.73,520.994 1606.73,506.45 1627.45,506.45 1627.45,490.661 1648.17,490.661 1648.17,484.655 1668.9,484.655 1668.9,471.087 1689.62,471.087 1689.62,452.994 1710.34,452.994 1710.34,437.15 1731.06,437.15 1731.06,430.5 1751.79,430.5 1751.79,416.635 1772.51,416.635 1772.51,400.998 1793.23,400.998 1793.23,380.898 1813.96,380.898 1813.96,367.953 1834.68,367.953 1834.68,360.57 1855.4,360.57 1855.4,338.319 1876.13,338.319 1876.13,327.671 1896.85,327.671 1896.85,312.352 1917.57,312.352 1917.57,298.957 1938.29,298.957 1938.29,287.983 1959.02,287.983 1959.02,275.1 1979.74,275.1 1979.74,263.096 2000.46,263.096 2000.46,254.482 2021.19,254.482 2021.19,244.76 2041.91,244.76 2041.91,233.379 2062.63,233.379 2062.63,221.693 2083.36,221.693 2083.36,206.042 2104.08,206.042 2104.08,190.308 2124.8,190.308 2124.8,184.593 2145.53,184.593 2145.53,166.188 2166.25,166.188 2166.25,154.329 2186.97,154.329 2186.97,139.516 2207.69,139.516 2207.69,126.577 2228.42,126.577 2228.42,118.143 2249.14,118.143 2249.14,98.0088 2269.86,98.0088 2269.86,87.9763 2290.59,87.9763 2290.59,1445.72 \"/>\n",
       "<path clip-path=\"url(#clip830)\" d=\"M229.334 198.898 L688.279 198.898 L688.279 95.2176 L229.334 95.2176  Z\" fill=\"#ffffff\" fill-rule=\"evenodd\" fill-opacity=\"1\"/>\n",
       "<polyline clip-path=\"url(#clip830)\" style=\"stroke:#000000; stroke-linecap:round; stroke-linejoin:round; stroke-width:4; stroke-opacity:1; fill:none\" points=\"229.334,198.898 688.279,198.898 688.279,95.2176 229.334,95.2176 229.334,198.898 \"/>\n",
       "<polyline clip-path=\"url(#clip830)\" style=\"stroke:#009af9; stroke-linecap:round; stroke-linejoin:round; stroke-width:4; stroke-opacity:1; fill:none\" points=\"253.741,147.058 400.184,147.058 \"/>\n",
       "<path clip-path=\"url(#clip830)\" d=\"M424.591 129.778 L431.558 129.778 L440.378 153.296 L449.243 129.778 L456.211 129.778 L456.211 164.338 L451.651 164.338 L451.651 133.99 L442.739 157.694 L438.04 157.694 L429.128 133.99 L429.128 164.338 L424.591 164.338 L424.591 129.778 Z\" fill=\"#000000\" fill-rule=\"nonzero\" fill-opacity=\"1\" /><path clip-path=\"url(#clip830)\" d=\"M487.484 150.31 L487.484 152.393 L467.901 152.393 Q468.179 156.791 470.54 159.106 Q472.924 161.398 477.16 161.398 Q479.614 161.398 481.905 160.796 Q484.22 160.194 486.489 158.99 L486.489 163.018 Q484.197 163.99 481.79 164.5 Q479.382 165.009 476.905 165.009 Q470.702 165.009 467.067 161.398 Q463.456 157.787 463.456 151.629 Q463.456 145.264 466.882 141.537 Q470.331 137.787 476.165 137.787 Q481.396 137.787 484.428 141.166 Q487.484 144.523 487.484 150.31 M483.225 149.06 Q483.178 145.565 481.257 143.481 Q479.359 141.398 476.211 141.398 Q472.646 141.398 470.493 143.412 Q468.364 145.426 468.04 149.083 L483.225 149.06 Z\" fill=\"#000000\" fill-rule=\"nonzero\" fill-opacity=\"1\" /><path clip-path=\"url(#clip830)\" d=\"M498.688 131.051 L498.688 138.412 L507.461 138.412 L507.461 141.722 L498.688 141.722 L498.688 155.796 Q498.688 158.967 499.544 159.87 Q500.424 160.773 503.086 160.773 L507.461 160.773 L507.461 164.338 L503.086 164.338 Q498.155 164.338 496.28 162.509 Q494.405 160.657 494.405 155.796 L494.405 141.722 L491.28 141.722 L491.28 138.412 L494.405 138.412 L494.405 131.051 L498.688 131.051 Z\" fill=\"#000000\" fill-rule=\"nonzero\" fill-opacity=\"1\" /><path clip-path=\"url(#clip830)\" d=\"M528.086 142.393 Q527.368 141.977 526.512 141.791 Q525.678 141.583 524.66 141.583 Q521.049 141.583 519.104 143.944 Q517.183 146.282 517.183 150.68 L517.183 164.338 L512.901 164.338 L512.901 138.412 L517.183 138.412 L517.183 142.44 Q518.525 140.078 520.678 138.944 Q522.831 137.787 525.91 137.787 Q526.35 137.787 526.882 137.856 Q527.414 137.903 528.062 138.018 L528.086 142.393 Z\" fill=\"#000000\" fill-rule=\"nonzero\" fill-opacity=\"1\" /><path clip-path=\"url(#clip830)\" d=\"M541.558 141.398 Q538.132 141.398 536.141 144.083 Q534.15 146.745 534.15 151.398 Q534.15 156.051 536.118 158.736 Q538.109 161.398 541.558 161.398 Q544.961 161.398 546.951 158.713 Q548.942 156.027 548.942 151.398 Q548.942 146.791 546.951 144.106 Q544.961 141.398 541.558 141.398 M541.558 137.787 Q547.113 137.787 550.285 141.398 Q553.456 145.009 553.456 151.398 Q553.456 157.764 550.285 161.398 Q547.113 165.009 541.558 165.009 Q535.979 165.009 532.808 161.398 Q529.66 157.764 529.66 151.398 Q529.66 145.009 532.808 141.398 Q535.979 137.787 541.558 137.787 Z\" fill=\"#000000\" fill-rule=\"nonzero\" fill-opacity=\"1\" /><path clip-path=\"url(#clip830)\" d=\"M564.636 160.449 L564.636 174.199 L560.354 174.199 L560.354 138.412 L564.636 138.412 L564.636 142.347 Q565.979 140.032 568.016 138.921 Q570.076 137.787 572.923 137.787 Q577.646 137.787 580.585 141.537 Q583.548 145.287 583.548 151.398 Q583.548 157.509 580.585 161.259 Q577.646 165.009 572.923 165.009 Q570.076 165.009 568.016 163.898 Q565.979 162.763 564.636 160.449 M579.127 151.398 Q579.127 146.699 577.183 144.037 Q575.261 141.352 571.882 141.352 Q568.502 141.352 566.558 144.037 Q564.636 146.699 564.636 151.398 Q564.636 156.097 566.558 158.782 Q568.502 161.444 571.882 161.444 Q575.261 161.444 577.183 158.782 Q579.127 156.097 579.127 151.398 Z\" fill=\"#000000\" fill-rule=\"nonzero\" fill-opacity=\"1\" /><path clip-path=\"url(#clip830)\" d=\"M600.655 141.398 Q597.229 141.398 595.238 144.083 Q593.247 146.745 593.247 151.398 Q593.247 156.051 595.215 158.736 Q597.206 161.398 600.655 161.398 Q604.057 161.398 606.048 158.713 Q608.039 156.027 608.039 151.398 Q608.039 146.791 606.048 144.106 Q604.057 141.398 600.655 141.398 M600.655 137.787 Q606.21 137.787 609.381 141.398 Q612.553 145.009 612.553 151.398 Q612.553 157.764 609.381 161.398 Q606.21 165.009 600.655 165.009 Q595.076 165.009 591.905 161.398 Q588.757 157.764 588.757 151.398 Q588.757 145.009 591.905 141.398 Q595.076 137.787 600.655 137.787 Z\" fill=\"#000000\" fill-rule=\"nonzero\" fill-opacity=\"1\" /><path clip-path=\"url(#clip830)\" d=\"M619.613 128.319 L623.872 128.319 L623.872 164.338 L619.613 164.338 L619.613 128.319 Z\" fill=\"#000000\" fill-rule=\"nonzero\" fill-opacity=\"1\" /><path clip-path=\"url(#clip830)\" d=\"M632.784 138.412 L637.043 138.412 L637.043 164.338 L632.784 164.338 L632.784 138.412 M632.784 128.319 L637.043 128.319 L637.043 133.713 L632.784 133.713 L632.784 128.319 Z\" fill=\"#000000\" fill-rule=\"nonzero\" fill-opacity=\"1\" /><path clip-path=\"url(#clip830)\" d=\"M662.483 139.176 L662.483 143.203 Q660.678 142.277 658.733 141.815 Q656.789 141.352 654.705 141.352 Q651.534 141.352 649.937 142.324 Q648.363 143.296 648.363 145.24 Q648.363 146.722 649.497 147.578 Q650.631 148.412 654.057 149.176 L655.515 149.5 Q660.053 150.472 661.951 152.254 Q663.872 154.014 663.872 157.185 Q663.872 160.796 661.002 162.902 Q658.154 165.009 653.154 165.009 Q651.071 165.009 648.803 164.592 Q646.557 164.199 644.057 163.388 L644.057 158.99 Q646.418 160.217 648.71 160.842 Q651.002 161.444 653.247 161.444 Q656.256 161.444 657.877 160.426 Q659.497 159.384 659.497 157.509 Q659.497 155.773 658.316 154.847 Q657.159 153.921 653.201 153.064 L651.719 152.717 Q647.761 151.884 646.002 150.171 Q644.242 148.435 644.242 145.426 Q644.242 141.768 646.835 139.778 Q649.428 137.787 654.196 137.787 Q656.557 137.787 658.64 138.134 Q660.724 138.481 662.483 139.176 Z\" fill=\"#000000\" fill-rule=\"nonzero\" fill-opacity=\"1\" /></svg>\n"
      ],
      "text/html": [
       "<?xml version=\"1.0\" encoding=\"utf-8\"?>\n",
       "<svg xmlns=\"http://www.w3.org/2000/svg\" xmlns:xlink=\"http://www.w3.org/1999/xlink\" width=\"600\" height=\"400\" viewBox=\"0 0 2400 1600\">\n",
       "<defs>\n",
       "  <clipPath id=\"clip880\">\n",
       "    <rect x=\"0\" y=\"0\" width=\"2400\" height=\"1600\"/>\n",
       "  </clipPath>\n",
       "</defs>\n",
       "<path clip-path=\"url(#clip880)\" d=\"M0 1600 L2400 1600 L2400 0 L0 0  Z\" fill=\"#ffffff\" fill-rule=\"evenodd\" fill-opacity=\"1\"/>\n",
       "<defs>\n",
       "  <clipPath id=\"clip881\">\n",
       "    <rect x=\"480\" y=\"0\" width=\"1681\" height=\"1600\"/>\n",
       "  </clipPath>\n",
       "</defs>\n",
       "<path clip-path=\"url(#clip880)\" d=\"M156.112 1486.45 L2352.76 1486.45 L2352.76 47.2441 L156.112 47.2441  Z\" fill=\"#ffffff\" fill-rule=\"evenodd\" fill-opacity=\"1\"/>\n",
       "<defs>\n",
       "  <clipPath id=\"clip882\">\n",
       "    <rect x=\"156\" y=\"47\" width=\"2198\" height=\"1440\"/>\n",
       "  </clipPath>\n",
       "</defs>\n",
       "<polyline clip-path=\"url(#clip882)\" style=\"stroke:#000000; stroke-linecap:round; stroke-linejoin:round; stroke-width:2; stroke-opacity:0.1; fill:none\" points=\"218.281,1486.45 218.281,47.2441 \"/>\n",
       "<polyline clip-path=\"url(#clip882)\" style=\"stroke:#000000; stroke-linecap:round; stroke-linejoin:round; stroke-width:2; stroke-opacity:0.1; fill:none\" points=\"736.358,1486.45 736.358,47.2441 \"/>\n",
       "<polyline clip-path=\"url(#clip882)\" style=\"stroke:#000000; stroke-linecap:round; stroke-linejoin:round; stroke-width:2; stroke-opacity:0.1; fill:none\" points=\"1254.43,1486.45 1254.43,47.2441 \"/>\n",
       "<polyline clip-path=\"url(#clip882)\" style=\"stroke:#000000; stroke-linecap:round; stroke-linejoin:round; stroke-width:2; stroke-opacity:0.1; fill:none\" points=\"1772.51,1486.45 1772.51,47.2441 \"/>\n",
       "<polyline clip-path=\"url(#clip882)\" style=\"stroke:#000000; stroke-linecap:round; stroke-linejoin:round; stroke-width:2; stroke-opacity:0.1; fill:none\" points=\"2290.59,1486.45 2290.59,47.2441 \"/>\n",
       "<polyline clip-path=\"url(#clip880)\" style=\"stroke:#000000; stroke-linecap:round; stroke-linejoin:round; stroke-width:4; stroke-opacity:1; fill:none\" points=\"156.112,1486.45 2352.76,1486.45 \"/>\n",
       "<polyline clip-path=\"url(#clip880)\" style=\"stroke:#000000; stroke-linecap:round; stroke-linejoin:round; stroke-width:4; stroke-opacity:1; fill:none\" points=\"218.281,1486.45 218.281,1467.55 \"/>\n",
       "<polyline clip-path=\"url(#clip880)\" style=\"stroke:#000000; stroke-linecap:round; stroke-linejoin:round; stroke-width:4; stroke-opacity:1; fill:none\" points=\"736.358,1486.45 736.358,1467.55 \"/>\n",
       "<polyline clip-path=\"url(#clip880)\" style=\"stroke:#000000; stroke-linecap:round; stroke-linejoin:round; stroke-width:4; stroke-opacity:1; fill:none\" points=\"1254.43,1486.45 1254.43,1467.55 \"/>\n",
       "<polyline clip-path=\"url(#clip880)\" style=\"stroke:#000000; stroke-linecap:round; stroke-linejoin:round; stroke-width:4; stroke-opacity:1; fill:none\" points=\"1772.51,1486.45 1772.51,1467.55 \"/>\n",
       "<polyline clip-path=\"url(#clip880)\" style=\"stroke:#000000; stroke-linecap:round; stroke-linejoin:round; stroke-width:4; stroke-opacity:1; fill:none\" points=\"2290.59,1486.45 2290.59,1467.55 \"/>\n",
       "<path clip-path=\"url(#clip880)\" d=\"M180.585 1517.37 Q176.974 1517.37 175.145 1520.93 Q173.339 1524.47 173.339 1531.6 Q173.339 1538.71 175.145 1542.27 Q176.974 1545.82 180.585 1545.82 Q184.219 1545.82 186.025 1542.27 Q187.853 1538.71 187.853 1531.6 Q187.853 1524.47 186.025 1520.93 Q184.219 1517.37 180.585 1517.37 M180.585 1513.66 Q186.395 1513.66 189.45 1518.27 Q192.529 1522.85 192.529 1531.6 Q192.529 1540.33 189.45 1544.94 Q186.395 1549.52 180.585 1549.52 Q174.775 1549.52 171.696 1544.94 Q168.64 1540.33 168.64 1531.6 Q168.64 1522.85 171.696 1518.27 Q174.775 1513.66 180.585 1513.66 Z\" fill=\"#000000\" fill-rule=\"nonzero\" fill-opacity=\"1\" /><path clip-path=\"url(#clip880)\" d=\"M200.747 1542.97 L205.631 1542.97 L205.631 1548.85 L200.747 1548.85 L200.747 1542.97 Z\" fill=\"#000000\" fill-rule=\"nonzero\" fill-opacity=\"1\" /><path clip-path=\"url(#clip880)\" d=\"M225.816 1517.37 Q222.205 1517.37 220.376 1520.93 Q218.571 1524.47 218.571 1531.6 Q218.571 1538.71 220.376 1542.27 Q222.205 1545.82 225.816 1545.82 Q229.45 1545.82 231.256 1542.27 Q233.084 1538.71 233.084 1531.6 Q233.084 1524.47 231.256 1520.93 Q229.45 1517.37 225.816 1517.37 M225.816 1513.66 Q231.626 1513.66 234.682 1518.27 Q237.76 1522.85 237.76 1531.6 Q237.76 1540.33 234.682 1544.94 Q231.626 1549.52 225.816 1549.52 Q220.006 1549.52 216.927 1544.94 Q213.872 1540.33 213.872 1531.6 Q213.872 1522.85 216.927 1518.27 Q220.006 1513.66 225.816 1513.66 Z\" fill=\"#000000\" fill-rule=\"nonzero\" fill-opacity=\"1\" /><path clip-path=\"url(#clip880)\" d=\"M255.978 1517.37 Q252.367 1517.37 250.538 1520.93 Q248.733 1524.47 248.733 1531.6 Q248.733 1538.71 250.538 1542.27 Q252.367 1545.82 255.978 1545.82 Q259.612 1545.82 261.418 1542.27 Q263.246 1538.71 263.246 1531.6 Q263.246 1524.47 261.418 1520.93 Q259.612 1517.37 255.978 1517.37 M255.978 1513.66 Q261.788 1513.66 264.844 1518.27 Q267.922 1522.85 267.922 1531.6 Q267.922 1540.33 264.844 1544.94 Q261.788 1549.52 255.978 1549.52 Q250.168 1549.52 247.089 1544.94 Q244.033 1540.33 244.033 1531.6 Q244.033 1522.85 247.089 1518.27 Q250.168 1513.66 255.978 1513.66 Z\" fill=\"#000000\" fill-rule=\"nonzero\" fill-opacity=\"1\" /><path clip-path=\"url(#clip880)\" d=\"M699.159 1517.37 Q695.548 1517.37 693.719 1520.93 Q691.913 1524.47 691.913 1531.6 Q691.913 1538.71 693.719 1542.27 Q695.548 1545.82 699.159 1545.82 Q702.793 1545.82 704.599 1542.27 Q706.427 1538.71 706.427 1531.6 Q706.427 1524.47 704.599 1520.93 Q702.793 1517.37 699.159 1517.37 M699.159 1513.66 Q704.969 1513.66 708.024 1518.27 Q711.103 1522.85 711.103 1531.6 Q711.103 1540.33 708.024 1544.94 Q704.969 1549.52 699.159 1549.52 Q693.349 1549.52 690.27 1544.94 Q687.214 1540.33 687.214 1531.6 Q687.214 1522.85 690.27 1518.27 Q693.349 1513.66 699.159 1513.66 Z\" fill=\"#000000\" fill-rule=\"nonzero\" fill-opacity=\"1\" /><path clip-path=\"url(#clip880)\" d=\"M719.321 1542.97 L724.205 1542.97 L724.205 1548.85 L719.321 1548.85 L719.321 1542.97 Z\" fill=\"#000000\" fill-rule=\"nonzero\" fill-opacity=\"1\" /><path clip-path=\"url(#clip880)\" d=\"M738.418 1544.91 L754.737 1544.91 L754.737 1548.85 L732.793 1548.85 L732.793 1544.91 Q735.455 1542.16 740.038 1537.53 Q744.645 1532.88 745.825 1531.53 Q748.071 1529.01 748.95 1527.27 Q749.853 1525.51 749.853 1523.82 Q749.853 1521.07 747.909 1519.33 Q745.987 1517.6 742.885 1517.6 Q740.686 1517.6 738.233 1518.36 Q735.802 1519.13 733.024 1520.68 L733.024 1515.95 Q735.848 1514.82 738.302 1514.24 Q740.756 1513.66 742.793 1513.66 Q748.163 1513.66 751.358 1516.35 Q754.552 1519.03 754.552 1523.52 Q754.552 1525.65 753.742 1527.57 Q752.955 1529.47 750.848 1532.07 Q750.27 1532.74 747.168 1535.95 Q744.066 1539.15 738.418 1544.91 Z\" fill=\"#000000\" fill-rule=\"nonzero\" fill-opacity=\"1\" /><path clip-path=\"url(#clip880)\" d=\"M764.598 1514.29 L782.955 1514.29 L782.955 1518.22 L768.881 1518.22 L768.881 1526.7 Q769.899 1526.35 770.918 1526.19 Q771.936 1526 772.955 1526 Q778.742 1526 782.121 1529.17 Q785.501 1532.34 785.501 1537.76 Q785.501 1543.34 782.029 1546.44 Q778.557 1549.52 772.237 1549.52 Q770.061 1549.52 767.793 1549.15 Q765.547 1548.78 763.14 1548.04 L763.14 1543.34 Q765.223 1544.47 767.445 1545.03 Q769.668 1545.58 772.144 1545.58 Q776.149 1545.58 778.487 1543.48 Q780.825 1541.37 780.825 1537.76 Q780.825 1534.15 778.487 1532.04 Q776.149 1529.94 772.144 1529.94 Q770.27 1529.94 768.395 1530.35 Q766.543 1530.77 764.598 1531.65 L764.598 1514.29 Z\" fill=\"#000000\" fill-rule=\"nonzero\" fill-opacity=\"1\" /><path clip-path=\"url(#clip880)\" d=\"M1216.74 1517.37 Q1213.13 1517.37 1211.3 1520.93 Q1209.49 1524.47 1209.49 1531.6 Q1209.49 1538.71 1211.3 1542.27 Q1213.13 1545.82 1216.74 1545.82 Q1220.37 1545.82 1222.18 1542.27 Q1224.01 1538.71 1224.01 1531.6 Q1224.01 1524.47 1222.18 1520.93 Q1220.37 1517.37 1216.74 1517.37 M1216.74 1513.66 Q1222.55 1513.66 1225.6 1518.27 Q1228.68 1522.85 1228.68 1531.6 Q1228.68 1540.33 1225.6 1544.94 Q1222.55 1549.52 1216.74 1549.52 Q1210.93 1549.52 1207.85 1544.94 Q1204.79 1540.33 1204.79 1531.6 Q1204.79 1522.85 1207.85 1518.27 Q1210.93 1513.66 1216.74 1513.66 Z\" fill=\"#000000\" fill-rule=\"nonzero\" fill-opacity=\"1\" /><path clip-path=\"url(#clip880)\" d=\"M1236.9 1542.97 L1241.78 1542.97 L1241.78 1548.85 L1236.9 1548.85 L1236.9 1542.97 Z\" fill=\"#000000\" fill-rule=\"nonzero\" fill-opacity=\"1\" /><path clip-path=\"url(#clip880)\" d=\"M1252.02 1514.29 L1270.37 1514.29 L1270.37 1518.22 L1256.3 1518.22 L1256.3 1526.7 Q1257.32 1526.35 1258.33 1526.19 Q1259.35 1526 1260.37 1526 Q1266.16 1526 1269.54 1529.17 Q1272.92 1532.34 1272.92 1537.76 Q1272.92 1543.34 1269.45 1546.44 Q1265.97 1549.52 1259.65 1549.52 Q1257.48 1549.52 1255.21 1549.15 Q1252.96 1548.78 1250.56 1548.04 L1250.56 1543.34 Q1252.64 1544.47 1254.86 1545.03 Q1257.08 1545.58 1259.56 1545.58 Q1263.57 1545.58 1265.9 1543.48 Q1268.24 1541.37 1268.24 1537.76 Q1268.24 1534.15 1265.9 1532.04 Q1263.57 1529.94 1259.56 1529.94 Q1257.69 1529.94 1255.81 1530.35 Q1253.96 1530.77 1252.02 1531.65 L1252.02 1514.29 Z\" fill=\"#000000\" fill-rule=\"nonzero\" fill-opacity=\"1\" /><path clip-path=\"url(#clip880)\" d=\"M1292.13 1517.37 Q1288.52 1517.37 1286.69 1520.93 Q1284.89 1524.47 1284.89 1531.6 Q1284.89 1538.71 1286.69 1542.27 Q1288.52 1545.82 1292.13 1545.82 Q1295.76 1545.82 1297.57 1542.27 Q1299.4 1538.71 1299.4 1531.6 Q1299.4 1524.47 1297.57 1520.93 Q1295.76 1517.37 1292.13 1517.37 M1292.13 1513.66 Q1297.94 1513.66 1301 1518.27 Q1304.07 1522.85 1304.07 1531.6 Q1304.07 1540.33 1301 1544.94 Q1297.94 1549.52 1292.13 1549.52 Q1286.32 1549.52 1283.24 1544.94 Q1280.19 1540.33 1280.19 1531.6 Q1280.19 1522.85 1283.24 1518.27 Q1286.32 1513.66 1292.13 1513.66 Z\" fill=\"#000000\" fill-rule=\"nonzero\" fill-opacity=\"1\" /><path clip-path=\"url(#clip880)\" d=\"M1735.31 1517.37 Q1731.7 1517.37 1729.87 1520.93 Q1728.07 1524.47 1728.07 1531.6 Q1728.07 1538.71 1729.87 1542.27 Q1731.7 1545.82 1735.31 1545.82 Q1738.95 1545.82 1740.75 1542.27 Q1742.58 1538.71 1742.58 1531.6 Q1742.58 1524.47 1740.75 1520.93 Q1738.95 1517.37 1735.31 1517.37 M1735.31 1513.66 Q1741.12 1513.66 1744.18 1518.27 Q1747.26 1522.85 1747.26 1531.6 Q1747.26 1540.33 1744.18 1544.94 Q1741.12 1549.52 1735.31 1549.52 Q1729.5 1549.52 1726.42 1544.94 Q1723.37 1540.33 1723.37 1531.6 Q1723.37 1522.85 1726.42 1518.27 Q1729.5 1513.66 1735.31 1513.66 Z\" fill=\"#000000\" fill-rule=\"nonzero\" fill-opacity=\"1\" /><path clip-path=\"url(#clip880)\" d=\"M1755.47 1542.97 L1760.36 1542.97 L1760.36 1548.85 L1755.47 1548.85 L1755.47 1542.97 Z\" fill=\"#000000\" fill-rule=\"nonzero\" fill-opacity=\"1\" /><path clip-path=\"url(#clip880)\" d=\"M1769.36 1514.29 L1791.58 1514.29 L1791.58 1516.28 L1779.04 1548.85 L1774.15 1548.85 L1785.96 1518.22 L1769.36 1518.22 L1769.36 1514.29 Z\" fill=\"#000000\" fill-rule=\"nonzero\" fill-opacity=\"1\" /><path clip-path=\"url(#clip880)\" d=\"M1800.75 1514.29 L1819.11 1514.29 L1819.11 1518.22 L1805.03 1518.22 L1805.03 1526.7 Q1806.05 1526.35 1807.07 1526.19 Q1808.09 1526 1809.11 1526 Q1814.89 1526 1818.27 1529.17 Q1821.65 1532.34 1821.65 1537.76 Q1821.65 1543.34 1818.18 1546.44 Q1814.71 1549.52 1808.39 1549.52 Q1806.21 1549.52 1803.95 1549.15 Q1801.7 1548.78 1799.29 1548.04 L1799.29 1543.34 Q1801.38 1544.47 1803.6 1545.03 Q1805.82 1545.58 1808.3 1545.58 Q1812.3 1545.58 1814.64 1543.48 Q1816.98 1541.37 1816.98 1537.76 Q1816.98 1534.15 1814.64 1532.04 Q1812.3 1529.94 1808.3 1529.94 Q1806.42 1529.94 1804.55 1530.35 Q1802.7 1530.77 1800.75 1531.65 L1800.75 1514.29 Z\" fill=\"#000000\" fill-rule=\"nonzero\" fill-opacity=\"1\" /><path clip-path=\"url(#clip880)\" d=\"M2242.66 1544.91 L2250.3 1544.91 L2250.3 1518.55 L2241.99 1520.21 L2241.99 1515.95 L2250.25 1514.29 L2254.93 1514.29 L2254.93 1544.91 L2262.57 1544.91 L2262.57 1548.85 L2242.66 1548.85 L2242.66 1544.91 Z\" fill=\"#000000\" fill-rule=\"nonzero\" fill-opacity=\"1\" /><path clip-path=\"url(#clip880)\" d=\"M2272.01 1542.97 L2276.89 1542.97 L2276.89 1548.85 L2272.01 1548.85 L2272.01 1542.97 Z\" fill=\"#000000\" fill-rule=\"nonzero\" fill-opacity=\"1\" /><path clip-path=\"url(#clip880)\" d=\"M2297.08 1517.37 Q2293.47 1517.37 2291.64 1520.93 Q2289.83 1524.47 2289.83 1531.6 Q2289.83 1538.71 2291.64 1542.27 Q2293.47 1545.82 2297.08 1545.82 Q2300.71 1545.82 2302.52 1542.27 Q2304.35 1538.71 2304.35 1531.6 Q2304.35 1524.47 2302.52 1520.93 Q2300.71 1517.37 2297.08 1517.37 M2297.08 1513.66 Q2302.89 1513.66 2305.95 1518.27 Q2309.02 1522.85 2309.02 1531.6 Q2309.02 1540.33 2305.95 1544.94 Q2302.89 1549.52 2297.08 1549.52 Q2291.27 1549.52 2288.19 1544.94 Q2285.14 1540.33 2285.14 1531.6 Q2285.14 1522.85 2288.19 1518.27 Q2291.27 1513.66 2297.08 1513.66 Z\" fill=\"#000000\" fill-rule=\"nonzero\" fill-opacity=\"1\" /><path clip-path=\"url(#clip880)\" d=\"M2327.24 1517.37 Q2323.63 1517.37 2321.8 1520.93 Q2320 1524.47 2320 1531.6 Q2320 1538.71 2321.8 1542.27 Q2323.63 1545.82 2327.24 1545.82 Q2330.88 1545.82 2332.68 1542.27 Q2334.51 1538.71 2334.51 1531.6 Q2334.51 1524.47 2332.68 1520.93 Q2330.88 1517.37 2327.24 1517.37 M2327.24 1513.66 Q2333.05 1513.66 2336.11 1518.27 Q2339.19 1522.85 2339.19 1531.6 Q2339.19 1540.33 2336.11 1544.94 Q2333.05 1549.52 2327.24 1549.52 Q2321.43 1549.52 2318.35 1544.94 Q2315.3 1540.33 2315.3 1531.6 Q2315.3 1522.85 2318.35 1518.27 Q2321.43 1513.66 2327.24 1513.66 Z\" fill=\"#000000\" fill-rule=\"nonzero\" fill-opacity=\"1\" /><polyline clip-path=\"url(#clip882)\" style=\"stroke:#000000; stroke-linecap:round; stroke-linejoin:round; stroke-width:2; stroke-opacity:0.1; fill:none\" points=\"156.112,1445.72 2352.76,1445.72 \"/>\n",
       "<polyline clip-path=\"url(#clip882)\" style=\"stroke:#000000; stroke-linecap:round; stroke-linejoin:round; stroke-width:2; stroke-opacity:0.1; fill:none\" points=\"156.112,1099.77 2352.76,1099.77 \"/>\n",
       "<polyline clip-path=\"url(#clip882)\" style=\"stroke:#000000; stroke-linecap:round; stroke-linejoin:round; stroke-width:2; stroke-opacity:0.1; fill:none\" points=\"156.112,753.818 2352.76,753.818 \"/>\n",
       "<polyline clip-path=\"url(#clip882)\" style=\"stroke:#000000; stroke-linecap:round; stroke-linejoin:round; stroke-width:2; stroke-opacity:0.1; fill:none\" points=\"156.112,407.868 2352.76,407.868 \"/>\n",
       "<polyline clip-path=\"url(#clip882)\" style=\"stroke:#000000; stroke-linecap:round; stroke-linejoin:round; stroke-width:2; stroke-opacity:0.1; fill:none\" points=\"156.112,61.9194 2352.76,61.9194 \"/>\n",
       "<polyline clip-path=\"url(#clip880)\" style=\"stroke:#000000; stroke-linecap:round; stroke-linejoin:round; stroke-width:4; stroke-opacity:1; fill:none\" points=\"156.112,1486.45 156.112,47.2441 \"/>\n",
       "<polyline clip-path=\"url(#clip880)\" style=\"stroke:#000000; stroke-linecap:round; stroke-linejoin:round; stroke-width:4; stroke-opacity:1; fill:none\" points=\"156.112,1445.72 175.01,1445.72 \"/>\n",
       "<polyline clip-path=\"url(#clip880)\" style=\"stroke:#000000; stroke-linecap:round; stroke-linejoin:round; stroke-width:4; stroke-opacity:1; fill:none\" points=\"156.112,1099.77 175.01,1099.77 \"/>\n",
       "<polyline clip-path=\"url(#clip880)\" style=\"stroke:#000000; stroke-linecap:round; stroke-linejoin:round; stroke-width:4; stroke-opacity:1; fill:none\" points=\"156.112,753.818 175.01,753.818 \"/>\n",
       "<polyline clip-path=\"url(#clip880)\" style=\"stroke:#000000; stroke-linecap:round; stroke-linejoin:round; stroke-width:4; stroke-opacity:1; fill:none\" points=\"156.112,407.868 175.01,407.868 \"/>\n",
       "<polyline clip-path=\"url(#clip880)\" style=\"stroke:#000000; stroke-linecap:round; stroke-linejoin:round; stroke-width:4; stroke-opacity:1; fill:none\" points=\"156.112,61.9194 175.01,61.9194 \"/>\n",
       "<path clip-path=\"url(#clip880)\" d=\"M62.9365 1431.51 Q59.3254 1431.51 57.4967 1435.08 Q55.6912 1438.62 55.6912 1445.75 Q55.6912 1452.86 57.4967 1456.42 Q59.3254 1459.96 62.9365 1459.96 Q66.5707 1459.96 68.3763 1456.42 Q70.205 1452.86 70.205 1445.75 Q70.205 1438.62 68.3763 1435.08 Q66.5707 1431.51 62.9365 1431.51 M62.9365 1427.81 Q68.7467 1427.81 71.8022 1432.42 Q74.8809 1437 74.8809 1445.75 Q74.8809 1454.48 71.8022 1459.08 Q68.7467 1463.67 62.9365 1463.67 Q57.1264 1463.67 54.0477 1459.08 Q50.9921 1454.48 50.9921 1445.75 Q50.9921 1437 54.0477 1432.42 Q57.1264 1427.81 62.9365 1427.81 Z\" fill=\"#000000\" fill-rule=\"nonzero\" fill-opacity=\"1\" /><path clip-path=\"url(#clip880)\" d=\"M83.0984 1457.12 L87.9827 1457.12 L87.9827 1463 L83.0984 1463 L83.0984 1457.12 Z\" fill=\"#000000\" fill-rule=\"nonzero\" fill-opacity=\"1\" /><path clip-path=\"url(#clip880)\" d=\"M108.168 1431.51 Q104.557 1431.51 102.728 1435.08 Q100.922 1438.62 100.922 1445.75 Q100.922 1452.86 102.728 1456.42 Q104.557 1459.96 108.168 1459.96 Q111.802 1459.96 113.608 1456.42 Q115.436 1452.86 115.436 1445.75 Q115.436 1438.62 113.608 1435.08 Q111.802 1431.51 108.168 1431.51 M108.168 1427.81 Q113.978 1427.81 117.033 1432.42 Q120.112 1437 120.112 1445.75 Q120.112 1454.48 117.033 1459.08 Q113.978 1463.67 108.168 1463.67 Q102.358 1463.67 99.2789 1459.08 Q96.2234 1454.48 96.2234 1445.75 Q96.2234 1437 99.2789 1432.42 Q102.358 1427.81 108.168 1427.81 Z\" fill=\"#000000\" fill-rule=\"nonzero\" fill-opacity=\"1\" /><path clip-path=\"url(#clip880)\" d=\"M63.9319 1085.57 Q60.3208 1085.57 58.4921 1089.13 Q56.6865 1092.67 56.6865 1099.8 Q56.6865 1106.91 58.4921 1110.47 Q60.3208 1114.01 63.9319 1114.01 Q67.5661 1114.01 69.3717 1110.47 Q71.2004 1106.91 71.2004 1099.8 Q71.2004 1092.67 69.3717 1089.13 Q67.5661 1085.57 63.9319 1085.57 M63.9319 1081.86 Q69.742 1081.86 72.7976 1086.47 Q75.8763 1091.05 75.8763 1099.8 Q75.8763 1108.53 72.7976 1113.13 Q69.742 1117.72 63.9319 1117.72 Q58.1217 1117.72 55.043 1113.13 Q51.9875 1108.53 51.9875 1099.8 Q51.9875 1091.05 55.043 1086.47 Q58.1217 1081.86 63.9319 1081.86 Z\" fill=\"#000000\" fill-rule=\"nonzero\" fill-opacity=\"1\" /><path clip-path=\"url(#clip880)\" d=\"M84.0938 1111.17 L88.978 1111.17 L88.978 1117.05 L84.0938 1117.05 L84.0938 1111.17 Z\" fill=\"#000000\" fill-rule=\"nonzero\" fill-opacity=\"1\" /><path clip-path=\"url(#clip880)\" d=\"M99.2095 1082.49 L117.566 1082.49 L117.566 1086.42 L103.492 1086.42 L103.492 1094.89 Q104.51 1094.55 105.529 1094.38 Q106.547 1094.2 107.566 1094.2 Q113.353 1094.2 116.733 1097.37 Q120.112 1100.54 120.112 1105.96 Q120.112 1111.54 116.64 1114.64 Q113.168 1117.72 106.848 1117.72 Q104.672 1117.72 102.404 1117.35 Q100.159 1116.98 97.7511 1116.24 L97.7511 1111.54 Q99.8345 1112.67 102.057 1113.23 Q104.279 1113.78 106.756 1113.78 Q110.76 1113.78 113.098 1111.68 Q115.436 1109.57 115.436 1105.96 Q115.436 1102.35 113.098 1100.24 Q110.76 1098.13 106.756 1098.13 Q104.881 1098.13 103.006 1098.55 Q101.154 1098.97 99.2095 1099.85 L99.2095 1082.49 Z\" fill=\"#000000\" fill-rule=\"nonzero\" fill-opacity=\"1\" /><path clip-path=\"url(#clip880)\" d=\"M53.7467 767.162 L61.3856 767.162 L61.3856 740.797 L53.0754 742.463 L53.0754 738.204 L61.3393 736.538 L66.0152 736.538 L66.0152 767.162 L73.654 767.162 L73.654 771.098 L53.7467 771.098 L53.7467 767.162 Z\" fill=\"#000000\" fill-rule=\"nonzero\" fill-opacity=\"1\" /><path clip-path=\"url(#clip880)\" d=\"M83.0984 765.218 L87.9827 765.218 L87.9827 771.098 L83.0984 771.098 L83.0984 765.218 Z\" fill=\"#000000\" fill-rule=\"nonzero\" fill-opacity=\"1\" /><path clip-path=\"url(#clip880)\" d=\"M108.168 739.616 Q104.557 739.616 102.728 743.181 Q100.922 746.723 100.922 753.852 Q100.922 760.959 102.728 764.524 Q104.557 768.065 108.168 768.065 Q111.802 768.065 113.608 764.524 Q115.436 760.959 115.436 753.852 Q115.436 746.723 113.608 743.181 Q111.802 739.616 108.168 739.616 M108.168 735.913 Q113.978 735.913 117.033 740.519 Q120.112 745.102 120.112 753.852 Q120.112 762.579 117.033 767.186 Q113.978 771.769 108.168 771.769 Q102.358 771.769 99.2789 767.186 Q96.2234 762.579 96.2234 753.852 Q96.2234 745.102 99.2789 740.519 Q102.358 735.913 108.168 735.913 Z\" fill=\"#000000\" fill-rule=\"nonzero\" fill-opacity=\"1\" /><path clip-path=\"url(#clip880)\" d=\"M54.7421 421.213 L62.381 421.213 L62.381 394.848 L54.0708 396.514 L54.0708 392.255 L62.3347 390.588 L67.0106 390.588 L67.0106 421.213 L74.6494 421.213 L74.6494 425.148 L54.7421 425.148 L54.7421 421.213 Z\" fill=\"#000000\" fill-rule=\"nonzero\" fill-opacity=\"1\" /><path clip-path=\"url(#clip880)\" d=\"M84.0938 419.269 L88.978 419.269 L88.978 425.148 L84.0938 425.148 L84.0938 419.269 Z\" fill=\"#000000\" fill-rule=\"nonzero\" fill-opacity=\"1\" /><path clip-path=\"url(#clip880)\" d=\"M99.2095 390.588 L117.566 390.588 L117.566 394.524 L103.492 394.524 L103.492 402.996 Q104.51 402.649 105.529 402.487 Q106.547 402.301 107.566 402.301 Q113.353 402.301 116.733 405.473 Q120.112 408.644 120.112 414.061 Q120.112 419.639 116.64 422.741 Q113.168 425.82 106.848 425.82 Q104.672 425.82 102.404 425.449 Q100.159 425.079 97.7511 424.338 L97.7511 419.639 Q99.8345 420.773 102.057 421.329 Q104.279 421.885 106.756 421.885 Q110.76 421.885 113.098 419.778 Q115.436 417.672 115.436 414.061 Q115.436 410.449 113.098 408.343 Q110.76 406.237 106.756 406.237 Q104.881 406.237 103.006 406.653 Q101.154 407.07 99.2095 407.949 L99.2095 390.588 Z\" fill=\"#000000\" fill-rule=\"nonzero\" fill-opacity=\"1\" /><path clip-path=\"url(#clip880)\" d=\"M56.9643 75.2642 L73.2837 75.2642 L73.2837 79.1994 L51.3393 79.1994 L51.3393 75.2642 Q54.0014 72.5096 58.5847 67.88 Q63.1911 63.2273 64.3717 61.8847 Q66.617 59.3615 67.4967 57.6254 Q68.3994 55.8662 68.3994 54.1764 Q68.3994 51.4218 66.455 49.6857 Q64.5337 47.9496 61.4319 47.9496 Q59.2328 47.9496 56.7791 48.7134 Q54.3486 49.4773 51.5708 51.0282 L51.5708 46.3061 Q54.3949 45.1718 56.8486 44.5931 Q59.3023 44.0144 61.3393 44.0144 Q66.7096 44.0144 69.9041 46.6996 Q73.0985 49.3847 73.0985 53.8755 Q73.0985 56.0051 72.2883 57.9264 Q71.5013 59.8245 69.3948 62.4171 Q68.8161 63.0884 65.7143 66.3059 Q62.6124 69.5004 56.9643 75.2642 Z\" fill=\"#000000\" fill-rule=\"nonzero\" fill-opacity=\"1\" /><path clip-path=\"url(#clip880)\" d=\"M83.0984 73.3198 L87.9827 73.3198 L87.9827 79.1994 L83.0984 79.1994 L83.0984 73.3198 Z\" fill=\"#000000\" fill-rule=\"nonzero\" fill-opacity=\"1\" /><path clip-path=\"url(#clip880)\" d=\"M108.168 47.7181 Q104.557 47.7181 102.728 51.2829 Q100.922 54.8245 100.922 61.9541 Q100.922 69.0606 102.728 72.6254 Q104.557 76.167 108.168 76.167 Q111.802 76.167 113.608 72.6254 Q115.436 69.0606 115.436 61.9541 Q115.436 54.8245 113.608 51.2829 Q111.802 47.7181 108.168 47.7181 M108.168 44.0144 Q113.978 44.0144 117.033 48.6209 Q120.112 53.2042 120.112 61.9541 Q120.112 70.6809 117.033 75.2874 Q113.978 79.8707 108.168 79.8707 Q102.358 79.8707 99.2789 75.2874 Q96.2234 70.6809 96.2234 61.9541 Q96.2234 53.2042 99.2789 48.6209 Q102.358 44.0144 108.168 44.0144 Z\" fill=\"#000000\" fill-rule=\"nonzero\" fill-opacity=\"1\" /><polyline clip-path=\"url(#clip882)\" style=\"stroke:#009af9; stroke-linecap:round; stroke-linejoin:round; stroke-width:4; stroke-opacity:1; fill:none\" points=\"218.281,1445.72 218.281,1439.05 239.004,1439.05 239.004,1425.11 259.727,1425.11 259.727,1411.76 280.45,1411.76 280.45,1397.73 301.174,1397.73 301.174,1380.92 321.897,1380.92 321.897,1368.86 342.62,1368.86 342.62,1353.71 363.343,1353.71 363.343,1341.65 384.066,1341.65 384.066,1326.1 404.789,1326.1 404.789,1312.64 425.512,1312.64 425.512,1296.83 446.235,1296.83 446.235,1283.84 466.958,1283.84 466.958,1269.69 487.681,1269.69 487.681,1254.41 508.404,1254.41 508.404,1244.26 529.127,1244.26 529.127,1230.29 549.85,1230.29 549.85,1216.46 570.573,1216.46 570.573,1202.8 591.296,1202.8 591.296,1189.01 612.019,1189.01 612.019,1176.29 632.742,1176.29 632.742,1159.71 653.465,1159.71 653.465,1148.91 674.188,1148.91 674.188,1135.23 694.912,1135.23 694.912,1121.13 715.635,1121.13 715.635,1106.31 736.358,1106.31 736.358,1096.47 757.081,1096.47 757.081,1080.83 777.804,1080.83 777.804,1069.67 798.527,1069.67 798.527,1054.5 819.25,1054.5 819.25,1040.93 839.973,1040.93 839.973,1023.61 860.696,1023.61 860.696,1009.84 881.419,1009.84 881.419,997.013 902.142,997.013 902.142,985.341 922.865,985.341 922.865,967.483 943.588,967.483 943.588,954.226 964.311,954.226 964.311,939.274 985.034,939.274 985.034,927.837 1005.76,927.837 1005.76,908.561 1026.48,908.561 1026.48,896.459 1047.2,896.459 1047.2,884.51 1067.93,884.51 1067.93,870.783 1088.65,870.783 1088.65,854.599 1109.37,854.599 1109.37,836.486 1130.1,836.486 1130.1,827 1150.82,827 1150.82,811.868 1171.54,811.868 1171.54,799.815 1192.26,799.815 1192.26,785.97 1212.99,785.97 1212.99,770.389 1233.71,770.389 1233.71,752.835 1254.43,752.835 1254.43,742.671 1275.16,742.671 1275.16,725.401 1295.88,725.401 1295.88,709.425 1316.6,709.425 1316.6,700.915 1337.33,700.915 1337.33,685.105 1358.05,685.105 1358.05,673.288 1378.77,673.288 1378.77,657.014 1399.5,657.014 1399.5,644.214 1420.22,644.214 1420.22,631.628 1440.94,631.628 1440.94,616.932 1461.66,616.932 1461.66,599.607 1482.39,599.607 1482.39,587.554 1503.11,587.554 1503.11,573.793 1523.83,573.793 1523.83,562.535 1544.56,562.535 1544.56,547.929 1565.28,547.929 1565.28,533.759 1586,533.759 1586,520.994 1606.73,520.994 1606.73,506.45 1627.45,506.45 1627.45,490.661 1648.17,490.661 1648.17,484.655 1668.9,484.655 1668.9,471.087 1689.62,471.087 1689.62,452.994 1710.34,452.994 1710.34,437.15 1731.06,437.15 1731.06,430.5 1751.79,430.5 1751.79,416.635 1772.51,416.635 1772.51,400.998 1793.23,400.998 1793.23,380.898 1813.96,380.898 1813.96,367.953 1834.68,367.953 1834.68,360.57 1855.4,360.57 1855.4,338.319 1876.13,338.319 1876.13,327.671 1896.85,327.671 1896.85,312.352 1917.57,312.352 1917.57,298.957 1938.29,298.957 1938.29,287.983 1959.02,287.983 1959.02,275.1 1979.74,275.1 1979.74,263.096 2000.46,263.096 2000.46,254.482 2021.19,254.482 2021.19,244.76 2041.91,244.76 2041.91,233.379 2062.63,233.379 2062.63,221.693 2083.36,221.693 2083.36,206.042 2104.08,206.042 2104.08,190.308 2124.8,190.308 2124.8,184.593 2145.53,184.593 2145.53,166.188 2166.25,166.188 2166.25,154.329 2186.97,154.329 2186.97,139.516 2207.69,139.516 2207.69,126.577 2228.42,126.577 2228.42,118.143 2249.14,118.143 2249.14,98.0088 2269.86,98.0088 2269.86,87.9763 2290.59,87.9763 2290.59,1445.72 \"/>\n",
       "<path clip-path=\"url(#clip880)\" d=\"M229.334 198.898 L688.279 198.898 L688.279 95.2176 L229.334 95.2176  Z\" fill=\"#ffffff\" fill-rule=\"evenodd\" fill-opacity=\"1\"/>\n",
       "<polyline clip-path=\"url(#clip880)\" style=\"stroke:#000000; stroke-linecap:round; stroke-linejoin:round; stroke-width:4; stroke-opacity:1; fill:none\" points=\"229.334,198.898 688.279,198.898 688.279,95.2176 229.334,95.2176 229.334,198.898 \"/>\n",
       "<polyline clip-path=\"url(#clip880)\" style=\"stroke:#009af9; stroke-linecap:round; stroke-linejoin:round; stroke-width:4; stroke-opacity:1; fill:none\" points=\"253.741,147.058 400.184,147.058 \"/>\n",
       "<path clip-path=\"url(#clip880)\" d=\"M424.591 129.778 L431.558 129.778 L440.378 153.296 L449.243 129.778 L456.211 129.778 L456.211 164.338 L451.651 164.338 L451.651 133.99 L442.739 157.694 L438.04 157.694 L429.128 133.99 L429.128 164.338 L424.591 164.338 L424.591 129.778 Z\" fill=\"#000000\" fill-rule=\"nonzero\" fill-opacity=\"1\" /><path clip-path=\"url(#clip880)\" d=\"M487.484 150.31 L487.484 152.393 L467.901 152.393 Q468.179 156.791 470.54 159.106 Q472.924 161.398 477.16 161.398 Q479.614 161.398 481.905 160.796 Q484.22 160.194 486.489 158.99 L486.489 163.018 Q484.197 163.99 481.79 164.5 Q479.382 165.009 476.905 165.009 Q470.702 165.009 467.067 161.398 Q463.456 157.787 463.456 151.629 Q463.456 145.264 466.882 141.537 Q470.331 137.787 476.165 137.787 Q481.396 137.787 484.428 141.166 Q487.484 144.523 487.484 150.31 M483.225 149.06 Q483.178 145.565 481.257 143.481 Q479.359 141.398 476.211 141.398 Q472.646 141.398 470.493 143.412 Q468.364 145.426 468.04 149.083 L483.225 149.06 Z\" fill=\"#000000\" fill-rule=\"nonzero\" fill-opacity=\"1\" /><path clip-path=\"url(#clip880)\" d=\"M498.688 131.051 L498.688 138.412 L507.461 138.412 L507.461 141.722 L498.688 141.722 L498.688 155.796 Q498.688 158.967 499.544 159.87 Q500.424 160.773 503.086 160.773 L507.461 160.773 L507.461 164.338 L503.086 164.338 Q498.155 164.338 496.28 162.509 Q494.405 160.657 494.405 155.796 L494.405 141.722 L491.28 141.722 L491.28 138.412 L494.405 138.412 L494.405 131.051 L498.688 131.051 Z\" fill=\"#000000\" fill-rule=\"nonzero\" fill-opacity=\"1\" /><path clip-path=\"url(#clip880)\" d=\"M528.086 142.393 Q527.368 141.977 526.512 141.791 Q525.678 141.583 524.66 141.583 Q521.049 141.583 519.104 143.944 Q517.183 146.282 517.183 150.68 L517.183 164.338 L512.901 164.338 L512.901 138.412 L517.183 138.412 L517.183 142.44 Q518.525 140.078 520.678 138.944 Q522.831 137.787 525.91 137.787 Q526.35 137.787 526.882 137.856 Q527.414 137.903 528.062 138.018 L528.086 142.393 Z\" fill=\"#000000\" fill-rule=\"nonzero\" fill-opacity=\"1\" /><path clip-path=\"url(#clip880)\" d=\"M541.558 141.398 Q538.132 141.398 536.141 144.083 Q534.15 146.745 534.15 151.398 Q534.15 156.051 536.118 158.736 Q538.109 161.398 541.558 161.398 Q544.961 161.398 546.951 158.713 Q548.942 156.027 548.942 151.398 Q548.942 146.791 546.951 144.106 Q544.961 141.398 541.558 141.398 M541.558 137.787 Q547.113 137.787 550.285 141.398 Q553.456 145.009 553.456 151.398 Q553.456 157.764 550.285 161.398 Q547.113 165.009 541.558 165.009 Q535.979 165.009 532.808 161.398 Q529.66 157.764 529.66 151.398 Q529.66 145.009 532.808 141.398 Q535.979 137.787 541.558 137.787 Z\" fill=\"#000000\" fill-rule=\"nonzero\" fill-opacity=\"1\" /><path clip-path=\"url(#clip880)\" d=\"M564.636 160.449 L564.636 174.199 L560.354 174.199 L560.354 138.412 L564.636 138.412 L564.636 142.347 Q565.979 140.032 568.016 138.921 Q570.076 137.787 572.923 137.787 Q577.646 137.787 580.585 141.537 Q583.548 145.287 583.548 151.398 Q583.548 157.509 580.585 161.259 Q577.646 165.009 572.923 165.009 Q570.076 165.009 568.016 163.898 Q565.979 162.763 564.636 160.449 M579.127 151.398 Q579.127 146.699 577.183 144.037 Q575.261 141.352 571.882 141.352 Q568.502 141.352 566.558 144.037 Q564.636 146.699 564.636 151.398 Q564.636 156.097 566.558 158.782 Q568.502 161.444 571.882 161.444 Q575.261 161.444 577.183 158.782 Q579.127 156.097 579.127 151.398 Z\" fill=\"#000000\" fill-rule=\"nonzero\" fill-opacity=\"1\" /><path clip-path=\"url(#clip880)\" d=\"M600.655 141.398 Q597.229 141.398 595.238 144.083 Q593.247 146.745 593.247 151.398 Q593.247 156.051 595.215 158.736 Q597.206 161.398 600.655 161.398 Q604.057 161.398 606.048 158.713 Q608.039 156.027 608.039 151.398 Q608.039 146.791 606.048 144.106 Q604.057 141.398 600.655 141.398 M600.655 137.787 Q606.21 137.787 609.381 141.398 Q612.553 145.009 612.553 151.398 Q612.553 157.764 609.381 161.398 Q606.21 165.009 600.655 165.009 Q595.076 165.009 591.905 161.398 Q588.757 157.764 588.757 151.398 Q588.757 145.009 591.905 141.398 Q595.076 137.787 600.655 137.787 Z\" fill=\"#000000\" fill-rule=\"nonzero\" fill-opacity=\"1\" /><path clip-path=\"url(#clip880)\" d=\"M619.613 128.319 L623.872 128.319 L623.872 164.338 L619.613 164.338 L619.613 128.319 Z\" fill=\"#000000\" fill-rule=\"nonzero\" fill-opacity=\"1\" /><path clip-path=\"url(#clip880)\" d=\"M632.784 138.412 L637.043 138.412 L637.043 164.338 L632.784 164.338 L632.784 138.412 M632.784 128.319 L637.043 128.319 L637.043 133.713 L632.784 133.713 L632.784 128.319 Z\" fill=\"#000000\" fill-rule=\"nonzero\" fill-opacity=\"1\" /><path clip-path=\"url(#clip880)\" d=\"M662.483 139.176 L662.483 143.203 Q660.678 142.277 658.733 141.815 Q656.789 141.352 654.705 141.352 Q651.534 141.352 649.937 142.324 Q648.363 143.296 648.363 145.24 Q648.363 146.722 649.497 147.578 Q650.631 148.412 654.057 149.176 L655.515 149.5 Q660.053 150.472 661.951 152.254 Q663.872 154.014 663.872 157.185 Q663.872 160.796 661.002 162.902 Q658.154 165.009 653.154 165.009 Q651.071 165.009 648.803 164.592 Q646.557 164.199 644.057 163.388 L644.057 158.99 Q646.418 160.217 648.71 160.842 Q651.002 161.444 653.247 161.444 Q656.256 161.444 657.877 160.426 Q659.497 159.384 659.497 157.509 Q659.497 155.773 658.316 154.847 Q657.159 153.921 653.201 153.064 L651.719 152.717 Q647.761 151.884 646.002 150.171 Q644.242 148.435 644.242 145.426 Q644.242 141.768 646.835 139.778 Q649.428 137.787 654.196 137.787 Q656.557 137.787 658.64 138.134 Q660.724 138.481 662.483 139.176 Z\" fill=\"#000000\" fill-rule=\"nonzero\" fill-opacity=\"1\" /></svg>\n"
      ]
     },
     "metadata": {},
     "output_type": "display_data"
    }
   ],
   "source": [
    "# plot histogram\n",
    "using Plots\n",
    "@time histogram(pdf, bins = 100, normed = true, label = \"Metropolis\")"
   ]
  },
  {
   "cell_type": "markdown",
   "metadata": {},
   "source": [
    "## Assign variables"
   ]
  },
  {
   "cell_type": "code",
   "execution_count": 4,
   "metadata": {},
   "outputs": [
    {
     "data": {
      "text/plain": [
       "42"
      ]
     },
     "metadata": {},
     "output_type": "display_data"
    }
   ],
   "source": [
    "a = 42"
   ]
  },
  {
   "cell_type": "code",
   "execution_count": 5,
   "metadata": {},
   "outputs": [],
   "source": [
    "b = 42;"
   ]
  },
  {
   "cell_type": "markdown",
   "metadata": {},
   "source": [
    "you can use math symbols. personal opinion: readability takes a hit. Naming your variable `stopping_tolerance` is so much more descriptive than $\\delta$. but you could do this in cases where the variable meaning is clear, like $\\psi$ for a wavefunction."
   ]
  },
  {
   "cell_type": "code",
   "execution_count": 6,
   "metadata": {},
   "outputs": [
    {
     "data": {
      "text/plain": [
       "1.4"
      ]
     },
     "metadata": {},
     "output_type": "display_data"
    }
   ],
   "source": [
    "γ = 1.4"
   ]
  },
  {
   "cell_type": "markdown",
   "metadata": {},
   "source": [
    "but also emojis (if you want to torture anyone else who reads your code)"
   ]
  },
  {
   "cell_type": "code",
   "execution_count": 7,
   "metadata": {},
   "outputs": [
    {
     "data": {
      "text/plain": [
       "3"
      ]
     },
     "metadata": {},
     "output_type": "display_data"
    }
   ],
   "source": [
    "😺 = 3"
   ]
  },
  {
   "cell_type": "code",
   "execution_count": 8,
   "metadata": {},
   "outputs": [
    {
     "data": {
      "text/plain": [
       "Int64"
      ]
     },
     "metadata": {},
     "output_type": "display_data"
    }
   ],
   "source": [
    "typeof(😺)"
   ]
  },
  {
   "cell_type": "markdown",
   "metadata": {},
   "source": [
    "### Getting help"
   ]
  },
  {
   "cell_type": "code",
   "execution_count": 9,
   "metadata": {},
   "outputs": [
    {
     "ename": "ErrorException",
     "evalue": "syntax: invalid identifier name \"?\"",
     "output_type": "error",
     "traceback": [
      "syntax: invalid identifier name \"?\"\n",
      "\n",
      "Stacktrace:\n",
      " [1] top-level scope\n",
      "   @ ~/Dropbox/julia_tutorial/base_tutorial.ipynb:2"
     ]
    }
   ],
   "source": [
    "# seems to only work in REPL\n",
    "?typeof"
   ]
  },
  {
   "cell_type": "markdown",
   "metadata": {},
   "source": [
    "### Linear Algebra"
   ]
  },
  {
   "cell_type": "code",
   "execution_count": 10,
   "metadata": {},
   "outputs": [],
   "source": [
    "using LinearAlgebra"
   ]
  },
  {
   "cell_type": "code",
   "execution_count": 11,
   "metadata": {},
   "outputs": [
    {
     "data": {
      "text/plain": [
       "3×3 Matrix{Int64}:\n",
       " 1  2  3\n",
       " 4  5  6\n",
       " 7  8  9"
      ]
     },
     "metadata": {},
     "output_type": "display_data"
    }
   ],
   "source": [
    "A = [1 2 3; 4 5 6; 7 8 9]"
   ]
  },
  {
   "cell_type": "code",
   "execution_count": 12,
   "metadata": {},
   "outputs": [
    {
     "data": {
      "text/plain": [
       "4"
      ]
     },
     "metadata": {},
     "output_type": "display_data"
    }
   ],
   "source": [
    "A[2] # Julia is column major like fortran"
   ]
  },
  {
   "cell_type": "code",
   "execution_count": 13,
   "metadata": {},
   "outputs": [
    {
     "data": {
      "text/plain": [
       "2"
      ]
     },
     "metadata": {},
     "output_type": "display_data"
    }
   ],
   "source": [
    "A[1, 2]"
   ]
  },
  {
   "cell_type": "code",
   "execution_count": 14,
   "metadata": {},
   "outputs": [
    {
     "data": {
      "text/plain": [
       "3-element Vector{Int64}:\n",
       " 1\n",
       " 2\n",
       " 3"
      ]
     },
     "metadata": {},
     "output_type": "display_data"
    }
   ],
   "source": [
    "A[1, :]"
   ]
  },
  {
   "cell_type": "code",
   "execution_count": 15,
   "metadata": {},
   "outputs": [
    {
     "data": {
      "text/plain": [
       "1×3 Matrix{Int64}:\n",
       " 1  2  3"
      ]
     },
     "metadata": {},
     "output_type": "display_data"
    }
   ],
   "source": [
    "B = [1 2 3]"
   ]
  },
  {
   "cell_type": "code",
   "execution_count": 16,
   "metadata": {},
   "outputs": [
    {
     "data": {
      "text/plain": [
       "3-element Vector{Int64}:\n",
       " 1\n",
       " 2\n",
       " 3"
      ]
     },
     "metadata": {},
     "output_type": "display_data"
    }
   ],
   "source": [
    "B = [1;2;3]"
   ]
  },
  {
   "cell_type": "code",
   "execution_count": 17,
   "metadata": {},
   "outputs": [
    {
     "data": {
      "text/plain": [
       "3-element Vector{Int64}:\n",
       " 1\n",
       " 2\n",
       " 3"
      ]
     },
     "metadata": {},
     "output_type": "display_data"
    }
   ],
   "source": [
    "v = [1, 2, 3]"
   ]
  },
  {
   "cell_type": "markdown",
   "metadata": {},
   "source": [
    "Note that for vectorized operations you need to use `.`. Otherwise julia will just matrix multiply"
   ]
  },
  {
   "cell_type": "code",
   "execution_count": 18,
   "metadata": {},
   "outputs": [
    {
     "data": {
      "text/plain": [
       "3-element Vector{Int64}:\n",
       " 14\n",
       " 32\n",
       " 50"
      ]
     },
     "metadata": {},
     "output_type": "display_data"
    },
    {
     "data": {
      "text/plain": [
       "3×3 Matrix{Int64}:\n",
       "  1   2   3\n",
       "  8  10  12\n",
       " 21  24  27"
      ]
     },
     "metadata": {},
     "output_type": "display_data"
    }
   ],
   "source": [
    "s = A*v\n",
    "display(s)\n",
    "broadcast_s = A .* v\n",
    "display(broadcast_s)"
   ]
  },
  {
   "cell_type": "markdown",
   "metadata": {},
   "source": [
    "But you can also do `@.` to vectorize everything"
   ]
  },
  {
   "cell_type": "code",
   "execution_count": 19,
   "metadata": {},
   "outputs": [
    {
     "data": {
      "text/plain": [
       "3×3 Matrix{Int64}:\n",
       "  2   6  10\n",
       " 12  20  28\n",
       " 30  42  54"
      ]
     },
     "metadata": {},
     "output_type": "display_data"
    },
    {
     "data": {
      "text/plain": [
       "3-element Vector{Int64}:\n",
       " 44\n",
       " 68\n",
       " 92"
      ]
     },
     "metadata": {},
     "output_type": "display_data"
    }
   ],
   "source": [
    "broadcast_multiple = @. A * v + A' * v # ' is transpose\n",
    "multiple = A * v + A' * v\n",
    "display(broadcast_multiple)\n",
    "display(multiple)"
   ]
  },
  {
   "cell_type": "markdown",
   "metadata": {},
   "source": [
    "You can also vectorize over functions"
   ]
  },
  {
   "cell_type": "code",
   "execution_count": 20,
   "metadata": {},
   "outputs": [
    {
     "data": {
      "text/plain": [
       "3×3 Matrix{Int64}:\n",
       "  30   36   42\n",
       "  66   81   96\n",
       " 102  126  150"
      ]
     },
     "metadata": {},
     "output_type": "display_data"
    },
    {
     "data": {
      "text/plain": [
       "3×3 Matrix{Int64}:\n",
       "  1   4   9\n",
       " 16  25  36\n",
       " 49  64  81"
      ]
     },
     "metadata": {},
     "output_type": "display_data"
    }
   ],
   "source": [
    "square(x) = x^2\n",
    "display(square(A))\n",
    "display(square.(A))"
   ]
  },
  {
   "cell_type": "code",
   "execution_count": 21,
   "metadata": {},
   "outputs": [
    {
     "data": {
      "text/plain": [
       "4×4 Matrix{Float64}:\n",
       " 0.416412  0.920053  0.435539  1.31392\n",
       " 0.920053  1.06994   0.994337  1.06672\n",
       " 0.435539  0.994337  0.752513  0.862391\n",
       " 1.31392   1.06672   0.862391  1.65515"
      ]
     },
     "metadata": {},
     "output_type": "display_data"
    }
   ],
   "source": [
    "# Solve A x = b\n",
    "problem_dim = 4\n",
    "b = rand(problem_dim)\n",
    "Y = rand(problem_dim, problem_dim)\n",
    "Y = Y + Y' # prime is the transpose operator"
   ]
  },
  {
   "cell_type": "code",
   "execution_count": 22,
   "metadata": {},
   "outputs": [
    {
     "name": "stdout",
     "output_type": "stream",
     "text": [
      "  0.001207 seconds (9 allocations: 768 bytes)\n"
     ]
    },
    {
     "data": {
      "text/plain": [
       "4-element Vector{Float64}:\n",
       "  -4.447491218246091\n",
       " -10.706921556331771\n",
       "  10.562268648987619\n",
       "   5.430917289653832"
      ]
     },
     "metadata": {},
     "output_type": "display_data"
    }
   ],
   "source": [
    "@time x = Y \\ b"
   ]
  },
  {
   "cell_type": "markdown",
   "metadata": {},
   "source": [
    "### Factorizations"
   ]
  },
  {
   "cell_type": "code",
   "execution_count": 23,
   "metadata": {},
   "outputs": [
    {
     "data": {
      "text/plain": [
       "LinearAlgebra.QRCompactWY{Float64, Matrix{Float64}, Matrix{Float64}}\n",
       "Q factor:\n",
       "4×4 LinearAlgebra.QRCompactWYQ{Float64, Matrix{Float64}, Matrix{Float64}}:\n",
       " -0.243023   0.589139    0.681987  -0.358816\n",
       " -0.536954   0.0840533  -0.582135  -0.60476\n",
       " -0.254186   0.656695   -0.326003   0.630764\n",
       " -0.766818  -0.463251    0.299558   0.328106\n",
       "R factor:\n",
       "4×4 Matrix{Float64}:\n",
       " -1.71347  -1.86883   -1.49233   -2.3805\n",
       "  0.0       0.790789   0.434839   0.663319\n",
       "  0.0       0.0       -0.268792   0.489772\n",
       "  0.0       0.0        0.0       -0.0295345"
      ]
     },
     "metadata": {},
     "output_type": "display_data"
    }
   ],
   "source": [
    "Ylu = lu(Y)\n",
    "Yqr = qr(Y)"
   ]
  },
  {
   "cell_type": "markdown",
   "metadata": {},
   "source": [
    "You can also do these \"in-place\" (i.e. without allocating new memory)"
   ]
  },
  {
   "cell_type": "code",
   "execution_count": 24,
   "metadata": {},
   "outputs": [
    {
     "data": {
      "text/plain": [
       "4×4 Matrix{Float64}:\n",
       " 0.416412  0.920053  0.435539  1.31392\n",
       " 0.920053  1.06994   0.994337  1.06672\n",
       " 0.435539  0.994337  0.752513  0.862391\n",
       " 1.31392   1.06672   0.862391  1.65515"
      ]
     },
     "metadata": {},
     "output_type": "display_data"
    },
    {
     "data": {
      "text/plain": [
       "LU{Float64, Matrix{Float64}, Vector{Int64}}\n",
       "L factor:\n",
       "4×4 Matrix{Float64}:\n",
       " 1.0       0.0        0.0       0.0\n",
       " 0.331481  1.0        0.0       0.0\n",
       " 0.316924  0.9083     1.0       0.0\n",
       " 0.700236  0.504087  -0.593319  1.0\n",
       "U factor:\n",
       "4×4 Matrix{Float64}:\n",
       " 1.31392  1.06672   0.862391  1.65515\n",
       " 0.0      0.64074   0.466647  0.313739\n",
       " 0.0      0.0      -0.261629  0.504392\n",
       " 0.0      0.0       0.0       0.0488367"
      ]
     },
     "metadata": {},
     "output_type": "display_data"
    },
    {
     "data": {
      "text/plain": [
       "4×4 Matrix{Float64}:\n",
       " 1.31392   1.06672    0.862391  1.65515\n",
       " 0.331481  0.64074    0.466647  0.313739\n",
       " 0.316924  0.9083    -0.261629  0.504392\n",
       " 0.700236  0.504087  -0.593319  0.0488367"
      ]
     },
     "metadata": {},
     "output_type": "display_data"
    }
   ],
   "source": [
    "display(Y)\n",
    "s = lu!(Y)\n",
    "display(s)\n",
    "display(Y)"
   ]
  },
  {
   "cell_type": "markdown",
   "metadata": {},
   "source": [
    "## Functions and structs"
   ]
  },
  {
   "cell_type": "code",
   "execution_count": 25,
   "metadata": {},
   "outputs": [],
   "source": [
    "struct Point\n",
    "    x::Int\n",
    "    y\n",
    "end"
   ]
  },
  {
   "cell_type": "code",
   "execution_count": 26,
   "metadata": {},
   "outputs": [
    {
     "data": {
      "text/plain": [
       "Point(1, 2.0)"
      ]
     },
     "metadata": {},
     "output_type": "display_data"
    }
   ],
   "source": [
    "s = Point(1, 2.0)"
   ]
  },
  {
   "cell_type": "code",
   "execution_count": 27,
   "metadata": {},
   "outputs": [
    {
     "name": "stdout",
     "output_type": "stream",
     "text": [
      "s.x: 1 s.y: 2.0"
     ]
    },
    {
     "name": "stdout",
     "output_type": "stream",
     "text": [
      "\n"
     ]
    }
   ],
   "source": [
    "println(\"s.x: \", s.x, \" s.y: \", s.y)"
   ]
  },
  {
   "cell_type": "markdown",
   "metadata": {},
   "source": [
    "You can choose to or not choose to specify types"
   ]
  },
  {
   "cell_type": "code",
   "execution_count": 28,
   "metadata": {},
   "outputs": [
    {
     "ename": "InexactError",
     "evalue": "InexactError: Int64(3.5)",
     "output_type": "error",
     "traceback": [
      "InexactError: Int64(3.5)\n",
      "\n",
      "Stacktrace:\n",
      " [1] Int64\n",
      "   @ ./float.jl:900 [inlined]\n",
      " [2] convert\n",
      "   @ ./number.jl:7 [inlined]\n",
      " [3] Point(x::Float64, y::Float64)\n",
      "   @ Main ~/Dropbox/julia_tutorial/base_tutorial.ipynb:2\n",
      " [4] top-level scope\n",
      "   @ ~/Dropbox/julia_tutorial/base_tutorial.ipynb:1"
     ]
    }
   ],
   "source": [
    "Point(3.5, 1.0) # raises error"
   ]
  },
  {
   "cell_type": "markdown",
   "metadata": {},
   "source": [
    "You can also add functions to construct the struct"
   ]
  },
  {
   "cell_type": "code",
   "execution_count": 29,
   "metadata": {},
   "outputs": [
    {
     "data": {
      "text/plain": [
       "Point"
      ]
     },
     "metadata": {},
     "output_type": "display_data"
    }
   ],
   "source": [
    "Point() = Point(0, 0)\n",
    "Point(x) = Point(x, 0)\n",
    "\n",
    "function Point(x, y, z)\n",
    "    println(\"last two arguments have been added\")\n",
    "    return Point(x, y+z)\n",
    "end"
   ]
  },
  {
   "cell_type": "code",
   "execution_count": 30,
   "metadata": {},
   "outputs": [
    {
     "name": "stdout",
     "output_type": "stream",
     "text": [
      "Point(0, 0)\n",
      "Point(3, 0)\n",
      "last two arguments have been added\n",
      "Point(3, 9)\n"
     ]
    }
   ],
   "source": [
    "println(Point())\n",
    "println(Point(3))\n",
    "println(Point(3, 4, 5))"
   ]
  },
  {
   "cell_type": "markdown",
   "metadata": {},
   "source": [
    "However you cannot change data after an (immutable) struct is constructed. You need to define an mutable struct"
   ]
  },
  {
   "cell_type": "code",
   "execution_count": 31,
   "metadata": {},
   "outputs": [
    {
     "ename": "ErrorException",
     "evalue": "setfield!: immutable struct of type Point cannot be changed",
     "output_type": "error",
     "traceback": [
      "setfield!: immutable struct of type Point cannot be changed\n",
      "\n",
      "Stacktrace:\n",
      " [1] setproperty!(x::Point, f::Symbol, v::Int64)\n",
      "   @ Base ./Base.jl:38\n",
      " [2] top-level scope\n",
      "   @ ~/Dropbox/julia_tutorial/base_tutorial.ipynb:2"
     ]
    }
   ],
   "source": [
    "s = Point(3, 4)\n",
    "s.x += 1 # raises error"
   ]
  },
  {
   "cell_type": "code",
   "execution_count": 32,
   "metadata": {},
   "outputs": [],
   "source": [
    "mutable struct MutablePoint\n",
    "    x::Int\n",
    "    y::Int\n",
    "end # tip: specifying types for mutable structs helps with speed"
   ]
  },
  {
   "cell_type": "code",
   "execution_count": 33,
   "metadata": {},
   "outputs": [
    {
     "name": "stdout",
     "output_type": "stream",
     "text": [
      "MutablePoint(2, 2)\n"
     ]
    }
   ],
   "source": [
    "m = MutablePoint(1, 2)\n",
    "m.x += 1\n",
    "println(m)"
   ]
  },
  {
   "cell_type": "markdown",
   "metadata": {},
   "source": [
    "### Types\n",
    "Refer to [types](https://docs.julialang.org/en/v1/manual/types/) for more info.\n",
    "\n",
    "Everything has a type, for example a 64 bit floating point number is `Float64`.\n",
    "A struct is a composite type, it's made up of a collection of other types, example: `Complex128` is a struct made up of two `Float64`s. In general usually you don't need to specify types, because Julia will infer types and generate optimized code for you.\n",
    "\n",
    "But specifying types is useful in some cases for performance (refer to [performance tips](https://docs.julialang.org/en/v1/manual/performance-tips/)) and also for ensuring correctness (at the cost of flexibility). \n",
    "\n"
   ]
  },
  {
   "cell_type": "markdown",
   "metadata": {},
   "source": [
    "### Abstract Types\n",
    "How do you specify Float64 is a number?\n",
    "\n",
    "```julia\n",
    "abstract type Number end\n",
    "abstract type Real     <: Number end\n",
    "abstract type AbstractFloat <: Real end\n",
    "abstract type Float64 <: AbstractFloat end\n",
    "```"
   ]
  },
  {
   "cell_type": "code",
   "execution_count": 34,
   "metadata": {},
   "outputs": [],
   "source": [
    "struct MyComplex128 <: Number\n",
    "    re::Float64\n",
    "    im::Float64\n",
    "end\n",
    "\n",
    "struct GeneralComplex{T <: Number}\n",
    "    re::T\n",
    "    im::T\n",
    "end"
   ]
  },
  {
   "cell_type": "markdown",
   "metadata": {},
   "source": [
    "In general complex we instantiated this with a parameter `T`, so if you want to do your calculations with a special 500 bit floating point number `Float500`, you can do complex arithmetic with GeneralComplex{Float500}. or If you feel like Float8s are enough, you can do GeneralComplex{Float8}.\n",
    "\n",
    "A lot of this generalizability is useful under the hood. Ex: You can use arbitrary precision arithmetic with Julia's Differential equation solvers (which is shown in `useful_packages.ipynb`)\n",
    "\n",
    "(so if you want to figure out whether your calculations are sensitive to numerical precision, you can just change the type of your numbers and see if the results change)"
   ]
  },
  {
   "cell_type": "markdown",
   "metadata": {},
   "source": [
    "## Multiple dispatch\n",
    "Julia chooses functions based on the types of the arguments. (Example from wikipedia)"
   ]
  },
  {
   "cell_type": "code",
   "execution_count": 35,
   "metadata": {},
   "outputs": [],
   "source": [
    "abstract type SpaceObject end\n",
    "\n",
    "struct Asteroid <: SpaceObject\n",
    "    size::Int    \n",
    "end\n",
    "struct Spaceship <: SpaceObject\n",
    "    size::Int                  \n",
    "end\n",
    "\n",
    "struct Astronaut <: SpaceObject\n",
    "    size::Int\n",
    "end\n",
    "\n",
    "collide_with(::Asteroid, ::Spaceship) = \"a/s\"\n",
    "collide_with(::Spaceship, ::Asteroid) = \"s/a\"\n",
    "collide_with(::Spaceship, ::Spaceship) = \"s/s\"\n",
    "collide_with(::Asteroid, ::Asteroid) = \"a/a\"\n",
    "collide_with(::SpaceObject, ::SpaceObject) = \"?\"\n",
    "\n",
    "collide(x::SpaceObject, y::SpaceObject) = (x.size > 100 && y.size > 100) ? \"Big boom!\" : collide_with(x, y);"
   ]
  },
  {
   "cell_type": "code",
   "execution_count": 36,
   "metadata": {},
   "outputs": [
    {
     "data": {
      "text/plain": [
       "\"Big boom!\""
      ]
     },
     "metadata": {},
     "output_type": "display_data"
    }
   ],
   "source": [
    "collide(Asteroid(200), Spaceship(200))"
   ]
  },
  {
   "cell_type": "code",
   "execution_count": 37,
   "metadata": {},
   "outputs": [
    {
     "data": {
      "text/plain": [
       "\"?\""
      ]
     },
     "metadata": {},
     "output_type": "display_data"
    }
   ],
   "source": [
    "collide(Astronaut(10), Astronaut(10))"
   ]
  },
  {
   "cell_type": "code",
   "execution_count": 38,
   "metadata": {},
   "outputs": [
    {
     "data": {
      "text/plain": [
       "\"s/s\""
      ]
     },
     "metadata": {},
     "output_type": "display_data"
    }
   ],
   "source": [
    "collide(Spaceship(10), Spaceship(10))"
   ]
  },
  {
   "cell_type": "markdown",
   "metadata": {},
   "source": [
    "In practice example from [DiffeqBase](https://github.com/SciML/DiffEqBase.jl/blob/782a88b91ea9f7fef5be19a913c8e323fbe87e37/src/internal_euler.jl#L15C1-L16C22)\n",
    "\n",
    "```julia\n",
    "\n",
    "function DiffEqBase.solve(prob::DiffEqBase.AbstractODEProblem{uType, tType, isinplace},\n",
    "    Alg::FwdEulerAlg; args...)\n",
    "```\n",
    "\n",
    "the \"solve\" function specializes to problem and algorithm types"
   ]
  },
  {
   "cell_type": "markdown",
   "metadata": {},
   "source": [
    "### Calling Python within julia"
   ]
  },
  {
   "cell_type": "code",
   "execution_count": 39,
   "metadata": {},
   "outputs": [],
   "source": [
    "using PyCall"
   ]
  },
  {
   "cell_type": "code",
   "execution_count": 40,
   "metadata": {},
   "outputs": [
    {
     "data": {
      "text/plain": [
       "PyObject <module 'scipy.stats' from '/home/praharsh/anaconda3/envs/cb3-3.9/lib/python3.9/site-packages/scipy/stats/__init__.py'>"
      ]
     },
     "metadata": {},
     "output_type": "display_data"
    }
   ],
   "source": [
    "stats = pyimport(\"scipy.stats\")"
   ]
  },
  {
   "cell_type": "code",
   "execution_count": 41,
   "metadata": {},
   "outputs": [
    {
     "data": {
      "text/plain": [
       "101-element Vector{Float64}:\n",
       " 1.4867195147342979e-6\n",
       " 2.438960745893352e-6\n",
       " 3.961299091032075e-6\n",
       " 6.36982517886709e-6\n",
       " 1.014085206548676e-5\n",
       " 1.5983741106905478e-5\n",
       " 2.4942471290053535e-5\n",
       " 3.853519674208713e-5\n",
       " 5.8943067756539855e-5\n",
       " 8.926165717713293e-5\n",
       " ⋮\n",
       " 5.8943067756539855e-5\n",
       " 3.853519674208713e-5\n",
       " 2.4942471290053535e-5\n",
       " 1.5983741106905478e-5\n",
       " 1.014085206548676e-5\n",
       " 6.36982517886709e-6\n",
       " 3.961299091032075e-6\n",
       " 2.438960745893352e-6\n",
       " 1.4867195147342979e-6"
      ]
     },
     "metadata": {},
     "output_type": "display_data"
    }
   ],
   "source": [
    "xrange = -5:0.1:5\n",
    "\n",
    "pdf = stats.norm.pdf.(xrange) # pdf of normal distribution"
   ]
  },
  {
   "cell_type": "code",
   "execution_count": 42,
   "metadata": {},
   "outputs": [
    {
     "data": {
      "image/png": "[encoded data removed]",
      "image/svg+xml": [
       "<?xml version=\"1.0\" encoding=\"utf-8\"?>\n",
       "<svg xmlns=\"http://www.w3.org/2000/svg\" xmlns:xlink=\"http://www.w3.org/1999/xlink\" width=\"600\" height=\"400\" viewBox=\"0 0 2400 1600\">\n",
       "<defs>\n",
       "  <clipPath id=\"clip920\">\n",
       "    <rect x=\"0\" y=\"0\" width=\"2400\" height=\"1600\"/>\n",
       "  </clipPath>\n",
       "</defs>\n",
       "<path clip-path=\"url(#clip920)\" d=\"M0 1600 L2400 1600 L2400 0 L0 0  Z\" fill=\"#ffffff\" fill-rule=\"evenodd\" fill-opacity=\"1\"/>\n",
       "<defs>\n",
       "  <clipPath id=\"clip921\">\n",
       "    <rect x=\"480\" y=\"0\" width=\"1681\" height=\"1600\"/>\n",
       "  </clipPath>\n",
       "</defs>\n",
       "<path clip-path=\"url(#clip920)\" d=\"M156.598 1486.45 L2352.76 1486.45 L2352.76 47.2441 L156.598 47.2441  Z\" fill=\"#ffffff\" fill-rule=\"evenodd\" fill-opacity=\"1\"/>\n",
       "<defs>\n",
       "  <clipPath id=\"clip922\">\n",
       "    <rect x=\"156\" y=\"47\" width=\"2197\" height=\"1440\"/>\n",
       "  </clipPath>\n",
       "</defs>\n",
       "<polyline clip-path=\"url(#clip922)\" style=\"stroke:#000000; stroke-linecap:round; stroke-linejoin:round; stroke-width:2; stroke-opacity:0.1; fill:none\" points=\"425.938,1486.45 425.938,47.2441 \"/>\n",
       "<polyline clip-path=\"url(#clip922)\" style=\"stroke:#000000; stroke-linecap:round; stroke-linejoin:round; stroke-width:2; stroke-opacity:0.1; fill:none\" points=\"840.308,1486.45 840.308,47.2441 \"/>\n",
       "<polyline clip-path=\"url(#clip922)\" style=\"stroke:#000000; stroke-linecap:round; stroke-linejoin:round; stroke-width:2; stroke-opacity:0.1; fill:none\" points=\"1254.68,1486.45 1254.68,47.2441 \"/>\n",
       "<polyline clip-path=\"url(#clip922)\" style=\"stroke:#000000; stroke-linecap:round; stroke-linejoin:round; stroke-width:2; stroke-opacity:0.1; fill:none\" points=\"1669.05,1486.45 1669.05,47.2441 \"/>\n",
       "<polyline clip-path=\"url(#clip922)\" style=\"stroke:#000000; stroke-linecap:round; stroke-linejoin:round; stroke-width:2; stroke-opacity:0.1; fill:none\" points=\"2083.42,1486.45 2083.42,47.2441 \"/>\n",
       "<polyline clip-path=\"url(#clip920)\" style=\"stroke:#000000; stroke-linecap:round; stroke-linejoin:round; stroke-width:4; stroke-opacity:1; fill:none\" points=\"156.598,1486.45 2352.76,1486.45 \"/>\n",
       "<polyline clip-path=\"url(#clip920)\" style=\"stroke:#000000; stroke-linecap:round; stroke-linejoin:round; stroke-width:4; stroke-opacity:1; fill:none\" points=\"425.938,1486.45 425.938,1467.55 \"/>\n",
       "<polyline clip-path=\"url(#clip920)\" style=\"stroke:#000000; stroke-linecap:round; stroke-linejoin:round; stroke-width:4; stroke-opacity:1; fill:none\" points=\"840.308,1486.45 840.308,1467.55 \"/>\n",
       "<polyline clip-path=\"url(#clip920)\" style=\"stroke:#000000; stroke-linecap:round; stroke-linejoin:round; stroke-width:4; stroke-opacity:1; fill:none\" points=\"1254.68,1486.45 1254.68,1467.55 \"/>\n",
       "<polyline clip-path=\"url(#clip920)\" style=\"stroke:#000000; stroke-linecap:round; stroke-linejoin:round; stroke-width:4; stroke-opacity:1; fill:none\" points=\"1669.05,1486.45 1669.05,1467.55 \"/>\n",
       "<polyline clip-path=\"url(#clip920)\" style=\"stroke:#000000; stroke-linecap:round; stroke-linejoin:round; stroke-width:4; stroke-opacity:1; fill:none\" points=\"2083.42,1486.45 2083.42,1467.55 \"/>\n",
       "<path clip-path=\"url(#clip920)\" d=\"M394.839 1532.02 L424.515 1532.02 L424.515 1535.95 L394.839 1535.95 L394.839 1532.02 Z\" fill=\"#000000\" fill-rule=\"nonzero\" fill-opacity=\"1\" /><path clip-path=\"url(#clip920)\" d=\"M447.454 1518.36 L435.649 1536.81 L447.454 1536.81 L447.454 1518.36 M446.228 1514.29 L452.107 1514.29 L452.107 1536.81 L457.038 1536.81 L457.038 1540.7 L452.107 1540.7 L452.107 1548.85 L447.454 1548.85 L447.454 1540.7 L431.853 1540.7 L431.853 1536.19 L446.228 1514.29 Z\" fill=\"#000000\" fill-rule=\"nonzero\" fill-opacity=\"1\" /><path clip-path=\"url(#clip920)\" d=\"M810.25 1532.02 L839.926 1532.02 L839.926 1535.95 L810.25 1535.95 L810.25 1532.02 Z\" fill=\"#000000\" fill-rule=\"nonzero\" fill-opacity=\"1\" /><path clip-path=\"url(#clip920)\" d=\"M854.046 1544.91 L870.365 1544.91 L870.365 1548.85 L848.421 1548.85 L848.421 1544.91 Q851.083 1542.16 855.666 1537.53 Q860.273 1532.88 861.453 1531.53 Q863.699 1529.01 864.578 1527.27 Q865.481 1525.51 865.481 1523.82 Q865.481 1521.07 863.537 1519.33 Q861.615 1517.6 858.514 1517.6 Q856.315 1517.6 853.861 1518.36 Q851.43 1519.13 848.653 1520.68 L848.653 1515.95 Q851.477 1514.82 853.93 1514.24 Q856.384 1513.66 858.421 1513.66 Q863.791 1513.66 866.986 1516.35 Q870.18 1519.03 870.18 1523.52 Q870.18 1525.65 869.37 1527.57 Q868.583 1529.47 866.477 1532.07 Q865.898 1532.74 862.796 1535.95 Q859.694 1539.15 854.046 1544.91 Z\" fill=\"#000000\" fill-rule=\"nonzero\" fill-opacity=\"1\" /><path clip-path=\"url(#clip920)\" d=\"M1254.68 1517.37 Q1251.07 1517.37 1249.24 1520.93 Q1247.43 1524.47 1247.43 1531.6 Q1247.43 1538.71 1249.24 1542.27 Q1251.07 1545.82 1254.68 1545.82 Q1258.31 1545.82 1260.12 1542.27 Q1261.95 1538.71 1261.95 1531.6 Q1261.95 1524.47 1260.12 1520.93 Q1258.31 1517.37 1254.68 1517.37 M1254.68 1513.66 Q1260.49 1513.66 1263.54 1518.27 Q1266.62 1522.85 1266.62 1531.6 Q1266.62 1540.33 1263.54 1544.94 Q1260.49 1549.52 1254.68 1549.52 Q1248.87 1549.52 1245.79 1544.94 Q1242.73 1540.33 1242.73 1531.6 Q1242.73 1522.85 1245.79 1518.27 Q1248.87 1513.66 1254.68 1513.66 Z\" fill=\"#000000\" fill-rule=\"nonzero\" fill-opacity=\"1\" /><path clip-path=\"url(#clip920)\" d=\"M1663.7 1544.91 L1680.02 1544.91 L1680.02 1548.85 L1658.07 1548.85 L1658.07 1544.91 Q1660.74 1542.16 1665.32 1537.53 Q1669.93 1532.88 1671.11 1531.53 Q1673.35 1529.01 1674.23 1527.27 Q1675.13 1525.51 1675.13 1523.82 Q1675.13 1521.07 1673.19 1519.33 Q1671.27 1517.6 1668.17 1517.6 Q1665.97 1517.6 1663.51 1518.36 Q1661.08 1519.13 1658.31 1520.68 L1658.31 1515.95 Q1661.13 1514.82 1663.58 1514.24 Q1666.04 1513.66 1668.07 1513.66 Q1673.44 1513.66 1676.64 1516.35 Q1679.83 1519.03 1679.83 1523.52 Q1679.83 1525.65 1679.02 1527.57 Q1678.24 1529.47 1676.13 1532.07 Q1675.55 1532.74 1672.45 1535.95 Q1669.35 1539.15 1663.7 1544.91 Z\" fill=\"#000000\" fill-rule=\"nonzero\" fill-opacity=\"1\" /><path clip-path=\"url(#clip920)\" d=\"M2086.43 1518.36 L2074.62 1536.81 L2086.43 1536.81 L2086.43 1518.36 M2085.2 1514.29 L2091.08 1514.29 L2091.08 1536.81 L2096.01 1536.81 L2096.01 1540.7 L2091.08 1540.7 L2091.08 1548.85 L2086.43 1548.85 L2086.43 1540.7 L2070.82 1540.7 L2070.82 1536.19 L2085.2 1514.29 Z\" fill=\"#000000\" fill-rule=\"nonzero\" fill-opacity=\"1\" /><polyline clip-path=\"url(#clip922)\" style=\"stroke:#000000; stroke-linecap:round; stroke-linejoin:round; stroke-width:2; stroke-opacity:0.1; fill:none\" points=\"156.598,1445.72 2352.76,1445.72 \"/>\n",
       "<polyline clip-path=\"url(#clip922)\" style=\"stroke:#000000; stroke-linecap:round; stroke-linejoin:round; stroke-width:2; stroke-opacity:0.1; fill:none\" points=\"156.598,1105.38 2352.76,1105.38 \"/>\n",
       "<polyline clip-path=\"url(#clip922)\" style=\"stroke:#000000; stroke-linecap:round; stroke-linejoin:round; stroke-width:2; stroke-opacity:0.1; fill:none\" points=\"156.598,765.049 2352.76,765.049 \"/>\n",
       "<polyline clip-path=\"url(#clip922)\" style=\"stroke:#000000; stroke-linecap:round; stroke-linejoin:round; stroke-width:2; stroke-opacity:0.1; fill:none\" points=\"156.598,424.713 2352.76,424.713 \"/>\n",
       "<polyline clip-path=\"url(#clip922)\" style=\"stroke:#000000; stroke-linecap:round; stroke-linejoin:round; stroke-width:2; stroke-opacity:0.1; fill:none\" points=\"156.598,84.3765 2352.76,84.3765 \"/>\n",
       "<polyline clip-path=\"url(#clip920)\" style=\"stroke:#000000; stroke-linecap:round; stroke-linejoin:round; stroke-width:4; stroke-opacity:1; fill:none\" points=\"156.598,1486.45 156.598,47.2441 \"/>\n",
       "<polyline clip-path=\"url(#clip920)\" style=\"stroke:#000000; stroke-linecap:round; stroke-linejoin:round; stroke-width:4; stroke-opacity:1; fill:none\" points=\"156.598,1445.72 175.496,1445.72 \"/>\n",
       "<polyline clip-path=\"url(#clip920)\" style=\"stroke:#000000; stroke-linecap:round; stroke-linejoin:round; stroke-width:4; stroke-opacity:1; fill:none\" points=\"156.598,1105.38 175.496,1105.38 \"/>\n",
       "<polyline clip-path=\"url(#clip920)\" style=\"stroke:#000000; stroke-linecap:round; stroke-linejoin:round; stroke-width:4; stroke-opacity:1; fill:none\" points=\"156.598,765.049 175.496,765.049 \"/>\n",
       "<polyline clip-path=\"url(#clip920)\" style=\"stroke:#000000; stroke-linecap:round; stroke-linejoin:round; stroke-width:4; stroke-opacity:1; fill:none\" points=\"156.598,424.713 175.496,424.713 \"/>\n",
       "<polyline clip-path=\"url(#clip920)\" style=\"stroke:#000000; stroke-linecap:round; stroke-linejoin:round; stroke-width:4; stroke-opacity:1; fill:none\" points=\"156.598,84.3765 175.496,84.3765 \"/>\n",
       "<path clip-path=\"url(#clip920)\" d=\"M63.4226 1431.52 Q59.8115 1431.52 57.9828 1435.08 Q56.1773 1438.63 56.1773 1445.76 Q56.1773 1452.86 57.9828 1456.43 Q59.8115 1459.97 63.4226 1459.97 Q67.0569 1459.97 68.8624 1456.43 Q70.6911 1452.86 70.6911 1445.76 Q70.6911 1438.63 68.8624 1435.08 Q67.0569 1431.52 63.4226 1431.52 M63.4226 1427.82 Q69.2328 1427.82 72.2883 1432.42 Q75.367 1437.01 75.367 1445.76 Q75.367 1454.48 72.2883 1459.09 Q69.2328 1463.67 63.4226 1463.67 Q57.6125 1463.67 54.5338 1459.09 Q51.4782 1454.48 51.4782 1445.76 Q51.4782 1437.01 54.5338 1432.42 Q57.6125 1427.82 63.4226 1427.82 Z\" fill=\"#000000\" fill-rule=\"nonzero\" fill-opacity=\"1\" /><path clip-path=\"url(#clip920)\" d=\"M83.5845 1457.12 L88.4688 1457.12 L88.4688 1463 L83.5845 1463 L83.5845 1457.12 Z\" fill=\"#000000\" fill-rule=\"nonzero\" fill-opacity=\"1\" /><path clip-path=\"url(#clip920)\" d=\"M108.654 1431.52 Q105.043 1431.52 103.214 1435.08 Q101.409 1438.63 101.409 1445.76 Q101.409 1452.86 103.214 1456.43 Q105.043 1459.97 108.654 1459.97 Q112.288 1459.97 114.094 1456.43 Q115.922 1452.86 115.922 1445.76 Q115.922 1438.63 114.094 1435.08 Q112.288 1431.52 108.654 1431.52 M108.654 1427.82 Q114.464 1427.82 117.52 1432.42 Q120.598 1437.01 120.598 1445.76 Q120.598 1454.48 117.52 1459.09 Q114.464 1463.67 108.654 1463.67 Q102.844 1463.67 99.765 1459.09 Q96.7095 1454.48 96.7095 1445.76 Q96.7095 1437.01 99.765 1432.42 Q102.844 1427.82 108.654 1427.82 Z\" fill=\"#000000\" fill-rule=\"nonzero\" fill-opacity=\"1\" /><path clip-path=\"url(#clip920)\" d=\"M64.6495 1091.18 Q61.0384 1091.18 59.2097 1094.75 Q57.4041 1098.29 57.4041 1105.42 Q57.4041 1112.53 59.2097 1116.09 Q61.0384 1119.63 64.6495 1119.63 Q68.2837 1119.63 70.0892 1116.09 Q71.9179 1112.53 71.9179 1105.42 Q71.9179 1098.29 70.0892 1094.75 Q68.2837 1091.18 64.6495 1091.18 M64.6495 1087.48 Q70.4596 1087.48 73.5152 1092.09 Q76.5938 1096.67 76.5938 1105.42 Q76.5938 1114.15 73.5152 1118.75 Q70.4596 1123.34 64.6495 1123.34 Q58.8393 1123.34 55.7606 1118.75 Q52.7051 1114.15 52.7051 1105.42 Q52.7051 1096.67 55.7606 1092.09 Q58.8393 1087.48 64.6495 1087.48 Z\" fill=\"#000000\" fill-rule=\"nonzero\" fill-opacity=\"1\" /><path clip-path=\"url(#clip920)\" d=\"M84.8114 1116.79 L89.6956 1116.79 L89.6956 1122.66 L84.8114 1122.66 L84.8114 1116.79 Z\" fill=\"#000000\" fill-rule=\"nonzero\" fill-opacity=\"1\" /><path clip-path=\"url(#clip920)\" d=\"M100.691 1118.73 L108.33 1118.73 L108.33 1092.36 L100.02 1094.03 L100.02 1089.77 L108.283 1088.1 L112.959 1088.1 L112.959 1118.73 L120.598 1118.73 L120.598 1122.66 L100.691 1122.66 L100.691 1118.73 Z\" fill=\"#000000\" fill-rule=\"nonzero\" fill-opacity=\"1\" /><path clip-path=\"url(#clip920)\" d=\"M65.0198 750.847 Q61.4087 750.847 59.58 754.412 Q57.7745 757.954 57.7745 765.083 Q57.7745 772.19 59.58 775.755 Q61.4087 779.296 65.0198 779.296 Q68.6541 779.296 70.4596 775.755 Q72.2883 772.19 72.2883 765.083 Q72.2883 757.954 70.4596 754.412 Q68.6541 750.847 65.0198 750.847 M65.0198 747.144 Q70.83 747.144 73.8855 751.75 Q76.9642 756.333 76.9642 765.083 Q76.9642 773.81 73.8855 778.417 Q70.83 783 65.0198 783 Q59.2097 783 56.131 778.417 Q53.0754 773.81 53.0754 765.083 Q53.0754 756.333 56.131 751.75 Q59.2097 747.144 65.0198 747.144 Z\" fill=\"#000000\" fill-rule=\"nonzero\" fill-opacity=\"1\" /><path clip-path=\"url(#clip920)\" d=\"M85.1818 776.449 L90.066 776.449 L90.066 782.329 L85.1818 782.329 L85.1818 776.449 Z\" fill=\"#000000\" fill-rule=\"nonzero\" fill-opacity=\"1\" /><path clip-path=\"url(#clip920)\" d=\"M104.279 778.393 L120.598 778.393 L120.598 782.329 L98.6539 782.329 L98.6539 778.393 Q101.316 775.639 105.899 771.009 Q110.506 766.356 111.686 765.014 Q113.932 762.491 114.811 760.755 Q115.714 758.995 115.714 757.306 Q115.714 754.551 113.77 752.815 Q111.848 751.079 108.746 751.079 Q106.547 751.079 104.094 751.843 Q101.663 752.607 98.8854 754.157 L98.8854 749.435 Q101.709 748.301 104.163 747.722 Q106.617 747.144 108.654 747.144 Q114.024 747.144 117.219 749.829 Q120.413 752.514 120.413 757.005 Q120.413 759.134 119.603 761.056 Q118.816 762.954 116.709 765.546 Q116.131 766.218 113.029 769.435 Q109.927 772.63 104.279 778.393 Z\" fill=\"#000000\" fill-rule=\"nonzero\" fill-opacity=\"1\" /><path clip-path=\"url(#clip920)\" d=\"M64.0708 410.511 Q60.4597 410.511 58.631 414.076 Q56.8254 417.618 56.8254 424.747 Q56.8254 431.854 58.631 435.419 Q60.4597 438.96 64.0708 438.96 Q67.705 438.96 69.5105 435.419 Q71.3392 431.854 71.3392 424.747 Q71.3392 417.618 69.5105 414.076 Q67.705 410.511 64.0708 410.511 M64.0708 406.808 Q69.8809 406.808 72.9365 411.414 Q76.0151 415.997 76.0151 424.747 Q76.0151 433.474 72.9365 438.081 Q69.8809 442.664 64.0708 442.664 Q58.2606 442.664 55.1819 438.081 Q52.1264 433.474 52.1264 424.747 Q52.1264 415.997 55.1819 411.414 Q58.2606 406.808 64.0708 406.808 Z\" fill=\"#000000\" fill-rule=\"nonzero\" fill-opacity=\"1\" /><path clip-path=\"url(#clip920)\" d=\"M84.2327 436.113 L89.1169 436.113 L89.1169 441.993 L84.2327 441.993 L84.2327 436.113 Z\" fill=\"#000000\" fill-rule=\"nonzero\" fill-opacity=\"1\" /><path clip-path=\"url(#clip920)\" d=\"M113.469 423.358 Q116.825 424.076 118.7 426.344 Q120.598 428.613 120.598 431.946 Q120.598 437.062 117.08 439.863 Q113.561 442.664 107.08 442.664 Q104.904 442.664 102.589 442.224 Q100.297 441.807 97.8437 440.951 L97.8437 436.437 Q99.7882 437.571 102.103 438.15 Q104.418 438.729 106.941 438.729 Q111.339 438.729 113.631 436.993 Q115.945 435.256 115.945 431.946 Q115.945 428.891 113.793 427.178 Q111.663 425.442 107.844 425.442 L103.816 425.442 L103.816 421.599 L108.029 421.599 Q111.478 421.599 113.307 420.233 Q115.135 418.845 115.135 416.252 Q115.135 413.59 113.237 412.178 Q111.362 410.743 107.844 410.743 Q105.922 410.743 103.723 411.159 Q101.524 411.576 98.8854 412.456 L98.8854 408.289 Q101.547 407.548 103.862 407.178 Q106.2 406.808 108.26 406.808 Q113.584 406.808 116.686 409.238 Q119.788 411.645 119.788 415.766 Q119.788 418.636 118.145 420.627 Q116.501 422.595 113.469 423.358 Z\" fill=\"#000000\" fill-rule=\"nonzero\" fill-opacity=\"1\" /><path clip-path=\"url(#clip920)\" d=\"M62.9365 70.1752 Q59.3254 70.1752 57.4967 73.74 Q55.6912 77.2816 55.6912 84.4112 Q55.6912 91.5176 57.4967 95.0824 Q59.3254 98.6241 62.9365 98.6241 Q66.5707 98.6241 68.3763 95.0824 Q70.205 91.5176 70.205 84.4112 Q70.205 77.2816 68.3763 73.74 Q66.5707 70.1752 62.9365 70.1752 M62.9365 66.4715 Q68.7467 66.4715 71.8022 71.0779 Q74.8809 75.6612 74.8809 84.4112 Q74.8809 93.138 71.8022 97.7445 Q68.7467 102.328 62.9365 102.328 Q57.1264 102.328 54.0477 97.7445 Q50.9921 93.138 50.9921 84.4112 Q50.9921 75.6612 54.0477 71.0779 Q57.1264 66.4715 62.9365 66.4715 Z\" fill=\"#000000\" fill-rule=\"nonzero\" fill-opacity=\"1\" /><path clip-path=\"url(#clip920)\" d=\"M83.0984 95.7769 L87.9827 95.7769 L87.9827 101.656 L83.0984 101.656 L83.0984 95.7769 Z\" fill=\"#000000\" fill-rule=\"nonzero\" fill-opacity=\"1\" /><path clip-path=\"url(#clip920)\" d=\"M111.015 71.1705 L99.2095 89.6195 L111.015 89.6195 L111.015 71.1705 M109.788 67.0965 L115.668 67.0965 L115.668 89.6195 L120.598 89.6195 L120.598 93.5084 L115.668 93.5084 L115.668 101.656 L111.015 101.656 L111.015 93.5084 L95.4132 93.5084 L95.4132 88.9945 L109.788 67.0965 Z\" fill=\"#000000\" fill-rule=\"nonzero\" fill-opacity=\"1\" /><polyline clip-path=\"url(#clip922)\" style=\"stroke:#009af9; stroke-linecap:round; stroke-linejoin:round; stroke-width:4; stroke-opacity:1; fill:none\" points=\"218.754,1445.72 239.472,1445.71 260.191,1445.71 280.909,1445.7 301.628,1445.69 322.346,1445.67 343.064,1445.64 363.783,1445.59 384.501,1445.52 405.22,1445.42 425.938,1445.27 446.657,1445.04 467.375,1444.73 488.094,1444.28 508.812,1443.64 529.531,1442.75 550.249,1441.53 570.968,1439.86 591.686,1437.61 612.405,1434.6 633.123,1430.64 653.841,1425.46 674.56,1418.78 695.278,1410.25 715.997,1399.49 736.715,1386.07 757.434,1369.5 778.152,1349.31 798.871,1324.99 819.589,1296.03 840.308,1261.97 861.026,1222.41 881.745,1177.02 902.463,1125.64 923.182,1068.22 943.9,1004.93 964.619,936.144 985.337,862.492 1006.06,784.836 1026.77,704.291 1047.49,622.207 1068.21,540.137 1088.93,459.796 1109.65,383.008 1130.37,311.637 1151.08,247.515 1171.8,192.365 1192.52,147.72 1213.24,114.861 1233.96,94.7481 1254.68,87.9763 1275.4,94.7481 1296.11,114.861 1316.83,147.72 1337.55,192.365 1358.27,247.515 1378.99,311.637 1399.71,383.008 1420.42,459.796 1441.14,540.137 1461.86,622.207 1482.58,704.291 1503.3,784.836 1524.02,862.492 1544.74,936.144 1565.45,1004.93 1586.17,1068.22 1606.89,1125.64 1627.61,1177.02 1648.33,1222.41 1669.05,1261.97 1689.76,1296.03 1710.48,1324.99 1731.2,1349.31 1751.92,1369.5 1772.64,1386.07 1793.36,1399.49 1814.08,1410.25 1834.79,1418.78 1855.51,1425.46 1876.23,1430.64 1896.95,1434.6 1917.67,1437.61 1938.39,1439.86 1959.11,1441.53 1979.82,1442.75 2000.54,1443.64 2021.26,1444.28 2041.98,1444.73 2062.7,1445.04 2083.42,1445.27 2104.13,1445.42 2124.85,1445.52 2145.57,1445.59 2166.29,1445.64 2187.01,1445.67 2207.73,1445.69 2228.45,1445.7 2249.16,1445.71 2269.88,1445.71 2290.6,1445.72 \"/>\n",
       "<path clip-path=\"url(#clip920)\" d=\"M1788.39 198.898 L2279.55 198.898 L2279.55 95.2176 L1788.39 95.2176  Z\" fill=\"#ffffff\" fill-rule=\"evenodd\" fill-opacity=\"1\"/>\n",
       "<polyline clip-path=\"url(#clip920)\" style=\"stroke:#000000; stroke-linecap:round; stroke-linejoin:round; stroke-width:4; stroke-opacity:1; fill:none\" points=\"1788.39,198.898 2279.55,198.898 2279.55,95.2176 1788.39,95.2176 1788.39,198.898 \"/>\n",
       "<polyline clip-path=\"url(#clip920)\" style=\"stroke:#009af9; stroke-linecap:round; stroke-linejoin:round; stroke-width:4; stroke-opacity:1; fill:none\" points=\"1812.79,147.058 1959.2,147.058 \"/>\n",
       "<path clip-path=\"url(#clip920)\" d=\"M1983.6 129.778 L1989.9 129.778 L2005.22 158.689 L2005.22 129.778 L2009.76 129.778 L2009.76 164.338 L2003.46 164.338 L1988.14 135.426 L1988.14 164.338 L1983.6 164.338 L1983.6 129.778 Z\" fill=\"#000000\" fill-rule=\"nonzero\" fill-opacity=\"1\" /><path clip-path=\"url(#clip920)\" d=\"M2028.92 141.398 Q2025.5 141.398 2023.51 144.083 Q2021.52 146.745 2021.52 151.398 Q2021.52 156.051 2023.48 158.736 Q2025.47 161.398 2028.92 161.398 Q2032.33 161.398 2034.32 158.713 Q2036.31 156.027 2036.31 151.398 Q2036.31 146.791 2034.32 144.106 Q2032.33 141.398 2028.92 141.398 M2028.92 137.787 Q2034.48 137.787 2037.65 141.398 Q2040.82 145.009 2040.82 151.398 Q2040.82 157.764 2037.65 161.398 Q2034.48 165.009 2028.92 165.009 Q2023.34 165.009 2020.17 161.398 Q2017.03 157.764 2017.03 151.398 Q2017.03 145.009 2020.17 141.398 Q2023.34 137.787 2028.92 137.787 Z\" fill=\"#000000\" fill-rule=\"nonzero\" fill-opacity=\"1\" /><path clip-path=\"url(#clip920)\" d=\"M2062.9 142.393 Q2062.19 141.977 2061.33 141.791 Q2060.5 141.583 2059.48 141.583 Q2055.87 141.583 2053.92 143.944 Q2052 146.282 2052 150.68 L2052 164.338 L2047.72 164.338 L2047.72 138.412 L2052 138.412 L2052 142.44 Q2053.34 140.078 2055.5 138.944 Q2057.65 137.787 2060.73 137.787 Q2061.17 137.787 2061.7 137.856 Q2062.23 137.903 2062.88 138.018 L2062.9 142.393 Z\" fill=\"#000000\" fill-rule=\"nonzero\" fill-opacity=\"1\" /><path clip-path=\"url(#clip920)\" d=\"M2086.72 143.389 Q2088.32 140.518 2090.54 139.153 Q2092.77 137.787 2095.77 137.787 Q2099.83 137.787 2102.02 140.634 Q2104.22 143.458 2104.22 148.689 L2104.22 164.338 L2099.94 164.338 L2099.94 148.828 Q2099.94 145.102 2098.62 143.296 Q2097.3 141.49 2094.59 141.49 Q2091.28 141.49 2089.36 143.69 Q2087.44 145.889 2087.44 149.685 L2087.44 164.338 L2083.16 164.338 L2083.16 148.828 Q2083.16 145.078 2081.84 143.296 Q2080.52 141.49 2077.77 141.49 Q2074.5 141.49 2072.58 143.713 Q2070.66 145.912 2070.66 149.685 L2070.66 164.338 L2066.38 164.338 L2066.38 138.412 L2070.66 138.412 L2070.66 142.44 Q2072.12 140.055 2074.15 138.921 Q2076.19 137.787 2078.99 137.787 Q2081.82 137.787 2083.78 139.222 Q2085.77 140.657 2086.72 143.389 Z\" fill=\"#000000\" fill-rule=\"nonzero\" fill-opacity=\"1\" /><path clip-path=\"url(#clip920)\" d=\"M2124.5 151.305 Q2119.34 151.305 2117.35 152.486 Q2115.36 153.666 2115.36 156.514 Q2115.36 158.782 2116.84 160.125 Q2118.34 161.444 2120.91 161.444 Q2124.46 161.444 2126.58 158.944 Q2128.74 156.421 2128.74 152.254 L2128.74 151.305 L2124.5 151.305 M2133 149.546 L2133 164.338 L2128.74 164.338 L2128.74 160.402 Q2127.28 162.763 2125.1 163.898 Q2122.93 165.009 2119.78 165.009 Q2115.8 165.009 2113.44 162.787 Q2111.1 160.541 2111.1 156.791 Q2111.1 152.416 2114.02 150.194 Q2116.96 147.972 2122.77 147.972 L2128.74 147.972 L2128.74 147.555 Q2128.74 144.615 2126.79 143.018 Q2124.87 141.398 2121.38 141.398 Q2119.15 141.398 2117.05 141.93 Q2114.94 142.463 2113 143.527 L2113 139.592 Q2115.33 138.69 2117.53 138.25 Q2119.73 137.787 2121.82 137.787 Q2127.44 137.787 2130.22 140.703 Q2133 143.62 2133 149.546 Z\" fill=\"#000000\" fill-rule=\"nonzero\" fill-opacity=\"1\" /><path clip-path=\"url(#clip920)\" d=\"M2141.77 128.319 L2146.03 128.319 L2146.03 164.338 L2141.77 164.338 L2141.77 128.319 Z\" fill=\"#000000\" fill-rule=\"nonzero\" fill-opacity=\"1\" /><path clip-path=\"url(#clip920)\" d=\"M2174.87 133.62 L2174.87 146.606 L2180.75 146.606 Q2184.02 146.606 2185.8 144.916 Q2187.58 143.227 2187.58 140.102 Q2187.58 137 2185.8 135.31 Q2184.02 133.62 2180.75 133.62 L2174.87 133.62 M2170.2 129.778 L2180.75 129.778 Q2186.56 129.778 2189.52 132.416 Q2192.51 135.032 2192.51 140.102 Q2192.51 145.217 2189.52 147.833 Q2186.56 150.449 2180.75 150.449 L2174.87 150.449 L2174.87 164.338 L2170.2 164.338 L2170.2 129.778 Z\" fill=\"#000000\" fill-rule=\"nonzero\" fill-opacity=\"1\" /><path clip-path=\"url(#clip920)\" d=\"M2203.46 133.62 L2203.46 160.495 L2209.11 160.495 Q2216.26 160.495 2219.57 157.254 Q2222.9 154.014 2222.9 147.023 Q2222.9 140.078 2219.57 136.861 Q2216.26 133.62 2209.11 133.62 L2203.46 133.62 M2198.78 129.778 L2208.39 129.778 Q2218.44 129.778 2223.14 133.967 Q2227.83 138.134 2227.83 147.023 Q2227.83 155.958 2223.11 160.148 Q2218.39 164.338 2208.39 164.338 L2198.78 164.338 L2198.78 129.778 Z\" fill=\"#000000\" fill-rule=\"nonzero\" fill-opacity=\"1\" /><path clip-path=\"url(#clip920)\" d=\"M2235.29 129.778 L2255.15 129.778 L2255.15 133.713 L2239.96 133.713 L2239.96 143.898 L2253.67 143.898 L2253.67 147.833 L2239.96 147.833 L2239.96 164.338 L2235.29 164.338 L2235.29 129.778 Z\" fill=\"#000000\" fill-rule=\"nonzero\" fill-opacity=\"1\" /></svg>\n"
      ],
      "text/html": [
       "<?xml version=\"1.0\" encoding=\"utf-8\"?>\n",
       "<svg xmlns=\"http://www.w3.org/2000/svg\" xmlns:xlink=\"http://www.w3.org/1999/xlink\" width=\"600\" height=\"400\" viewBox=\"0 0 2400 1600\">\n",
       "<defs>\n",
       "  <clipPath id=\"clip970\">\n",
       "    <rect x=\"0\" y=\"0\" width=\"2400\" height=\"1600\"/>\n",
       "  </clipPath>\n",
       "</defs>\n",
       "<path clip-path=\"url(#clip970)\" d=\"M0 1600 L2400 1600 L2400 0 L0 0  Z\" fill=\"#ffffff\" fill-rule=\"evenodd\" fill-opacity=\"1\"/>\n",
       "<defs>\n",
       "  <clipPath id=\"clip971\">\n",
       "    <rect x=\"480\" y=\"0\" width=\"1681\" height=\"1600\"/>\n",
       "  </clipPath>\n",
       "</defs>\n",
       "<path clip-path=\"url(#clip970)\" d=\"M156.598 1486.45 L2352.76 1486.45 L2352.76 47.2441 L156.598 47.2441  Z\" fill=\"#ffffff\" fill-rule=\"evenodd\" fill-opacity=\"1\"/>\n",
       "<defs>\n",
       "  <clipPath id=\"clip972\">\n",
       "    <rect x=\"156\" y=\"47\" width=\"2197\" height=\"1440\"/>\n",
       "  </clipPath>\n",
       "</defs>\n",
       "<polyline clip-path=\"url(#clip972)\" style=\"stroke:#000000; stroke-linecap:round; stroke-linejoin:round; stroke-width:2; stroke-opacity:0.1; fill:none\" points=\"425.938,1486.45 425.938,47.2441 \"/>\n",
       "<polyline clip-path=\"url(#clip972)\" style=\"stroke:#000000; stroke-linecap:round; stroke-linejoin:round; stroke-width:2; stroke-opacity:0.1; fill:none\" points=\"840.308,1486.45 840.308,47.2441 \"/>\n",
       "<polyline clip-path=\"url(#clip972)\" style=\"stroke:#000000; stroke-linecap:round; stroke-linejoin:round; stroke-width:2; stroke-opacity:0.1; fill:none\" points=\"1254.68,1486.45 1254.68,47.2441 \"/>\n",
       "<polyline clip-path=\"url(#clip972)\" style=\"stroke:#000000; stroke-linecap:round; stroke-linejoin:round; stroke-width:2; stroke-opacity:0.1; fill:none\" points=\"1669.05,1486.45 1669.05,47.2441 \"/>\n",
       "<polyline clip-path=\"url(#clip972)\" style=\"stroke:#000000; stroke-linecap:round; stroke-linejoin:round; stroke-width:2; stroke-opacity:0.1; fill:none\" points=\"2083.42,1486.45 2083.42,47.2441 \"/>\n",
       "<polyline clip-path=\"url(#clip970)\" style=\"stroke:#000000; stroke-linecap:round; stroke-linejoin:round; stroke-width:4; stroke-opacity:1; fill:none\" points=\"156.598,1486.45 2352.76,1486.45 \"/>\n",
       "<polyline clip-path=\"url(#clip970)\" style=\"stroke:#000000; stroke-linecap:round; stroke-linejoin:round; stroke-width:4; stroke-opacity:1; fill:none\" points=\"425.938,1486.45 425.938,1467.55 \"/>\n",
       "<polyline clip-path=\"url(#clip970)\" style=\"stroke:#000000; stroke-linecap:round; stroke-linejoin:round; stroke-width:4; stroke-opacity:1; fill:none\" points=\"840.308,1486.45 840.308,1467.55 \"/>\n",
       "<polyline clip-path=\"url(#clip970)\" style=\"stroke:#000000; stroke-linecap:round; stroke-linejoin:round; stroke-width:4; stroke-opacity:1; fill:none\" points=\"1254.68,1486.45 1254.68,1467.55 \"/>\n",
       "<polyline clip-path=\"url(#clip970)\" style=\"stroke:#000000; stroke-linecap:round; stroke-linejoin:round; stroke-width:4; stroke-opacity:1; fill:none\" points=\"1669.05,1486.45 1669.05,1467.55 \"/>\n",
       "<polyline clip-path=\"url(#clip970)\" style=\"stroke:#000000; stroke-linecap:round; stroke-linejoin:round; stroke-width:4; stroke-opacity:1; fill:none\" points=\"2083.42,1486.45 2083.42,1467.55 \"/>\n",
       "<path clip-path=\"url(#clip970)\" d=\"M394.839 1532.02 L424.515 1532.02 L424.515 1535.95 L394.839 1535.95 L394.839 1532.02 Z\" fill=\"#000000\" fill-rule=\"nonzero\" fill-opacity=\"1\" /><path clip-path=\"url(#clip970)\" d=\"M447.454 1518.36 L435.649 1536.81 L447.454 1536.81 L447.454 1518.36 M446.228 1514.29 L452.107 1514.29 L452.107 1536.81 L457.038 1536.81 L457.038 1540.7 L452.107 1540.7 L452.107 1548.85 L447.454 1548.85 L447.454 1540.7 L431.853 1540.7 L431.853 1536.19 L446.228 1514.29 Z\" fill=\"#000000\" fill-rule=\"nonzero\" fill-opacity=\"1\" /><path clip-path=\"url(#clip970)\" d=\"M810.25 1532.02 L839.926 1532.02 L839.926 1535.95 L810.25 1535.95 L810.25 1532.02 Z\" fill=\"#000000\" fill-rule=\"nonzero\" fill-opacity=\"1\" /><path clip-path=\"url(#clip970)\" d=\"M854.046 1544.91 L870.365 1544.91 L870.365 1548.85 L848.421 1548.85 L848.421 1544.91 Q851.083 1542.16 855.666 1537.53 Q860.273 1532.88 861.453 1531.53 Q863.699 1529.01 864.578 1527.27 Q865.481 1525.51 865.481 1523.82 Q865.481 1521.07 863.537 1519.33 Q861.615 1517.6 858.514 1517.6 Q856.315 1517.6 853.861 1518.36 Q851.43 1519.13 848.653 1520.68 L848.653 1515.95 Q851.477 1514.82 853.93 1514.24 Q856.384 1513.66 858.421 1513.66 Q863.791 1513.66 866.986 1516.35 Q870.18 1519.03 870.18 1523.52 Q870.18 1525.65 869.37 1527.57 Q868.583 1529.47 866.477 1532.07 Q865.898 1532.74 862.796 1535.95 Q859.694 1539.15 854.046 1544.91 Z\" fill=\"#000000\" fill-rule=\"nonzero\" fill-opacity=\"1\" /><path clip-path=\"url(#clip970)\" d=\"M1254.68 1517.37 Q1251.07 1517.37 1249.24 1520.93 Q1247.43 1524.47 1247.43 1531.6 Q1247.43 1538.71 1249.24 1542.27 Q1251.07 1545.82 1254.68 1545.82 Q1258.31 1545.82 1260.12 1542.27 Q1261.95 1538.71 1261.95 1531.6 Q1261.95 1524.47 1260.12 1520.93 Q1258.31 1517.37 1254.68 1517.37 M1254.68 1513.66 Q1260.49 1513.66 1263.54 1518.27 Q1266.62 1522.85 1266.62 1531.6 Q1266.62 1540.33 1263.54 1544.94 Q1260.49 1549.52 1254.68 1549.52 Q1248.87 1549.52 1245.79 1544.94 Q1242.73 1540.33 1242.73 1531.6 Q1242.73 1522.85 1245.79 1518.27 Q1248.87 1513.66 1254.68 1513.66 Z\" fill=\"#000000\" fill-rule=\"nonzero\" fill-opacity=\"1\" /><path clip-path=\"url(#clip970)\" d=\"M1663.7 1544.91 L1680.02 1544.91 L1680.02 1548.85 L1658.07 1548.85 L1658.07 1544.91 Q1660.74 1542.16 1665.32 1537.53 Q1669.93 1532.88 1671.11 1531.53 Q1673.35 1529.01 1674.23 1527.27 Q1675.13 1525.51 1675.13 1523.82 Q1675.13 1521.07 1673.19 1519.33 Q1671.27 1517.6 1668.17 1517.6 Q1665.97 1517.6 1663.51 1518.36 Q1661.08 1519.13 1658.31 1520.68 L1658.31 1515.95 Q1661.13 1514.82 1663.58 1514.24 Q1666.04 1513.66 1668.07 1513.66 Q1673.44 1513.66 1676.64 1516.35 Q1679.83 1519.03 1679.83 1523.52 Q1679.83 1525.65 1679.02 1527.57 Q1678.24 1529.47 1676.13 1532.07 Q1675.55 1532.74 1672.45 1535.95 Q1669.35 1539.15 1663.7 1544.91 Z\" fill=\"#000000\" fill-rule=\"nonzero\" fill-opacity=\"1\" /><path clip-path=\"url(#clip970)\" d=\"M2086.43 1518.36 L2074.62 1536.81 L2086.43 1536.81 L2086.43 1518.36 M2085.2 1514.29 L2091.08 1514.29 L2091.08 1536.81 L2096.01 1536.81 L2096.01 1540.7 L2091.08 1540.7 L2091.08 1548.85 L2086.43 1548.85 L2086.43 1540.7 L2070.82 1540.7 L2070.82 1536.19 L2085.2 1514.29 Z\" fill=\"#000000\" fill-rule=\"nonzero\" fill-opacity=\"1\" /><polyline clip-path=\"url(#clip972)\" style=\"stroke:#000000; stroke-linecap:round; stroke-linejoin:round; stroke-width:2; stroke-opacity:0.1; fill:none\" points=\"156.598,1445.72 2352.76,1445.72 \"/>\n",
       "<polyline clip-path=\"url(#clip972)\" style=\"stroke:#000000; stroke-linecap:round; stroke-linejoin:round; stroke-width:2; stroke-opacity:0.1; fill:none\" points=\"156.598,1105.38 2352.76,1105.38 \"/>\n",
       "<polyline clip-path=\"url(#clip972)\" style=\"stroke:#000000; stroke-linecap:round; stroke-linejoin:round; stroke-width:2; stroke-opacity:0.1; fill:none\" points=\"156.598,765.049 2352.76,765.049 \"/>\n",
       "<polyline clip-path=\"url(#clip972)\" style=\"stroke:#000000; stroke-linecap:round; stroke-linejoin:round; stroke-width:2; stroke-opacity:0.1; fill:none\" points=\"156.598,424.713 2352.76,424.713 \"/>\n",
       "<polyline clip-path=\"url(#clip972)\" style=\"stroke:#000000; stroke-linecap:round; stroke-linejoin:round; stroke-width:2; stroke-opacity:0.1; fill:none\" points=\"156.598,84.3765 2352.76,84.3765 \"/>\n",
       "<polyline clip-path=\"url(#clip970)\" style=\"stroke:#000000; stroke-linecap:round; stroke-linejoin:round; stroke-width:4; stroke-opacity:1; fill:none\" points=\"156.598,1486.45 156.598,47.2441 \"/>\n",
       "<polyline clip-path=\"url(#clip970)\" style=\"stroke:#000000; stroke-linecap:round; stroke-linejoin:round; stroke-width:4; stroke-opacity:1; fill:none\" points=\"156.598,1445.72 175.496,1445.72 \"/>\n",
       "<polyline clip-path=\"url(#clip970)\" style=\"stroke:#000000; stroke-linecap:round; stroke-linejoin:round; stroke-width:4; stroke-opacity:1; fill:none\" points=\"156.598,1105.38 175.496,1105.38 \"/>\n",
       "<polyline clip-path=\"url(#clip970)\" style=\"stroke:#000000; stroke-linecap:round; stroke-linejoin:round; stroke-width:4; stroke-opacity:1; fill:none\" points=\"156.598,765.049 175.496,765.049 \"/>\n",
       "<polyline clip-path=\"url(#clip970)\" style=\"stroke:#000000; stroke-linecap:round; stroke-linejoin:round; stroke-width:4; stroke-opacity:1; fill:none\" points=\"156.598,424.713 175.496,424.713 \"/>\n",
       "<polyline clip-path=\"url(#clip970)\" style=\"stroke:#000000; stroke-linecap:round; stroke-linejoin:round; stroke-width:4; stroke-opacity:1; fill:none\" points=\"156.598,84.3765 175.496,84.3765 \"/>\n",
       "<path clip-path=\"url(#clip970)\" d=\"M63.4226 1431.52 Q59.8115 1431.52 57.9828 1435.08 Q56.1773 1438.63 56.1773 1445.76 Q56.1773 1452.86 57.9828 1456.43 Q59.8115 1459.97 63.4226 1459.97 Q67.0569 1459.97 68.8624 1456.43 Q70.6911 1452.86 70.6911 1445.76 Q70.6911 1438.63 68.8624 1435.08 Q67.0569 1431.52 63.4226 1431.52 M63.4226 1427.82 Q69.2328 1427.82 72.2883 1432.42 Q75.367 1437.01 75.367 1445.76 Q75.367 1454.48 72.2883 1459.09 Q69.2328 1463.67 63.4226 1463.67 Q57.6125 1463.67 54.5338 1459.09 Q51.4782 1454.48 51.4782 1445.76 Q51.4782 1437.01 54.5338 1432.42 Q57.6125 1427.82 63.4226 1427.82 Z\" fill=\"#000000\" fill-rule=\"nonzero\" fill-opacity=\"1\" /><path clip-path=\"url(#clip970)\" d=\"M83.5845 1457.12 L88.4688 1457.12 L88.4688 1463 L83.5845 1463 L83.5845 1457.12 Z\" fill=\"#000000\" fill-rule=\"nonzero\" fill-opacity=\"1\" /><path clip-path=\"url(#clip970)\" d=\"M108.654 1431.52 Q105.043 1431.52 103.214 1435.08 Q101.409 1438.63 101.409 1445.76 Q101.409 1452.86 103.214 1456.43 Q105.043 1459.97 108.654 1459.97 Q112.288 1459.97 114.094 1456.43 Q115.922 1452.86 115.922 1445.76 Q115.922 1438.63 114.094 1435.08 Q112.288 1431.52 108.654 1431.52 M108.654 1427.82 Q114.464 1427.82 117.52 1432.42 Q120.598 1437.01 120.598 1445.76 Q120.598 1454.48 117.52 1459.09 Q114.464 1463.67 108.654 1463.67 Q102.844 1463.67 99.765 1459.09 Q96.7095 1454.48 96.7095 1445.76 Q96.7095 1437.01 99.765 1432.42 Q102.844 1427.82 108.654 1427.82 Z\" fill=\"#000000\" fill-rule=\"nonzero\" fill-opacity=\"1\" /><path clip-path=\"url(#clip970)\" d=\"M64.6495 1091.18 Q61.0384 1091.18 59.2097 1094.75 Q57.4041 1098.29 57.4041 1105.42 Q57.4041 1112.53 59.2097 1116.09 Q61.0384 1119.63 64.6495 1119.63 Q68.2837 1119.63 70.0892 1116.09 Q71.9179 1112.53 71.9179 1105.42 Q71.9179 1098.29 70.0892 1094.75 Q68.2837 1091.18 64.6495 1091.18 M64.6495 1087.48 Q70.4596 1087.48 73.5152 1092.09 Q76.5938 1096.67 76.5938 1105.42 Q76.5938 1114.15 73.5152 1118.75 Q70.4596 1123.34 64.6495 1123.34 Q58.8393 1123.34 55.7606 1118.75 Q52.7051 1114.15 52.7051 1105.42 Q52.7051 1096.67 55.7606 1092.09 Q58.8393 1087.48 64.6495 1087.48 Z\" fill=\"#000000\" fill-rule=\"nonzero\" fill-opacity=\"1\" /><path clip-path=\"url(#clip970)\" d=\"M84.8114 1116.79 L89.6956 1116.79 L89.6956 1122.66 L84.8114 1122.66 L84.8114 1116.79 Z\" fill=\"#000000\" fill-rule=\"nonzero\" fill-opacity=\"1\" /><path clip-path=\"url(#clip970)\" d=\"M100.691 1118.73 L108.33 1118.73 L108.33 1092.36 L100.02 1094.03 L100.02 1089.77 L108.283 1088.1 L112.959 1088.1 L112.959 1118.73 L120.598 1118.73 L120.598 1122.66 L100.691 1122.66 L100.691 1118.73 Z\" fill=\"#000000\" fill-rule=\"nonzero\" fill-opacity=\"1\" /><path clip-path=\"url(#clip970)\" d=\"M65.0198 750.847 Q61.4087 750.847 59.58 754.412 Q57.7745 757.954 57.7745 765.083 Q57.7745 772.19 59.58 775.755 Q61.4087 779.296 65.0198 779.296 Q68.6541 779.296 70.4596 775.755 Q72.2883 772.19 72.2883 765.083 Q72.2883 757.954 70.4596 754.412 Q68.6541 750.847 65.0198 750.847 M65.0198 747.144 Q70.83 747.144 73.8855 751.75 Q76.9642 756.333 76.9642 765.083 Q76.9642 773.81 73.8855 778.417 Q70.83 783 65.0198 783 Q59.2097 783 56.131 778.417 Q53.0754 773.81 53.0754 765.083 Q53.0754 756.333 56.131 751.75 Q59.2097 747.144 65.0198 747.144 Z\" fill=\"#000000\" fill-rule=\"nonzero\" fill-opacity=\"1\" /><path clip-path=\"url(#clip970)\" d=\"M85.1818 776.449 L90.066 776.449 L90.066 782.329 L85.1818 782.329 L85.1818 776.449 Z\" fill=\"#000000\" fill-rule=\"nonzero\" fill-opacity=\"1\" /><path clip-path=\"url(#clip970)\" d=\"M104.279 778.393 L120.598 778.393 L120.598 782.329 L98.6539 782.329 L98.6539 778.393 Q101.316 775.639 105.899 771.009 Q110.506 766.356 111.686 765.014 Q113.932 762.491 114.811 760.755 Q115.714 758.995 115.714 757.306 Q115.714 754.551 113.77 752.815 Q111.848 751.079 108.746 751.079 Q106.547 751.079 104.094 751.843 Q101.663 752.607 98.8854 754.157 L98.8854 749.435 Q101.709 748.301 104.163 747.722 Q106.617 747.144 108.654 747.144 Q114.024 747.144 117.219 749.829 Q120.413 752.514 120.413 757.005 Q120.413 759.134 119.603 761.056 Q118.816 762.954 116.709 765.546 Q116.131 766.218 113.029 769.435 Q109.927 772.63 104.279 778.393 Z\" fill=\"#000000\" fill-rule=\"nonzero\" fill-opacity=\"1\" /><path clip-path=\"url(#clip970)\" d=\"M64.0708 410.511 Q60.4597 410.511 58.631 414.076 Q56.8254 417.618 56.8254 424.747 Q56.8254 431.854 58.631 435.419 Q60.4597 438.96 64.0708 438.96 Q67.705 438.96 69.5105 435.419 Q71.3392 431.854 71.3392 424.747 Q71.3392 417.618 69.5105 414.076 Q67.705 410.511 64.0708 410.511 M64.0708 406.808 Q69.8809 406.808 72.9365 411.414 Q76.0151 415.997 76.0151 424.747 Q76.0151 433.474 72.9365 438.081 Q69.8809 442.664 64.0708 442.664 Q58.2606 442.664 55.1819 438.081 Q52.1264 433.474 52.1264 424.747 Q52.1264 415.997 55.1819 411.414 Q58.2606 406.808 64.0708 406.808 Z\" fill=\"#000000\" fill-rule=\"nonzero\" fill-opacity=\"1\" /><path clip-path=\"url(#clip970)\" d=\"M84.2327 436.113 L89.1169 436.113 L89.1169 441.993 L84.2327 441.993 L84.2327 436.113 Z\" fill=\"#000000\" fill-rule=\"nonzero\" fill-opacity=\"1\" /><path clip-path=\"url(#clip970)\" d=\"M113.469 423.358 Q116.825 424.076 118.7 426.344 Q120.598 428.613 120.598 431.946 Q120.598 437.062 117.08 439.863 Q113.561 442.664 107.08 442.664 Q104.904 442.664 102.589 442.224 Q100.297 441.807 97.8437 440.951 L97.8437 436.437 Q99.7882 437.571 102.103 438.15 Q104.418 438.729 106.941 438.729 Q111.339 438.729 113.631 436.993 Q115.945 435.256 115.945 431.946 Q115.945 428.891 113.793 427.178 Q111.663 425.442 107.844 425.442 L103.816 425.442 L103.816 421.599 L108.029 421.599 Q111.478 421.599 113.307 420.233 Q115.135 418.845 115.135 416.252 Q115.135 413.59 113.237 412.178 Q111.362 410.743 107.844 410.743 Q105.922 410.743 103.723 411.159 Q101.524 411.576 98.8854 412.456 L98.8854 408.289 Q101.547 407.548 103.862 407.178 Q106.2 406.808 108.26 406.808 Q113.584 406.808 116.686 409.238 Q119.788 411.645 119.788 415.766 Q119.788 418.636 118.145 420.627 Q116.501 422.595 113.469 423.358 Z\" fill=\"#000000\" fill-rule=\"nonzero\" fill-opacity=\"1\" /><path clip-path=\"url(#clip970)\" d=\"M62.9365 70.1752 Q59.3254 70.1752 57.4967 73.74 Q55.6912 77.2816 55.6912 84.4112 Q55.6912 91.5176 57.4967 95.0824 Q59.3254 98.6241 62.9365 98.6241 Q66.5707 98.6241 68.3763 95.0824 Q70.205 91.5176 70.205 84.4112 Q70.205 77.2816 68.3763 73.74 Q66.5707 70.1752 62.9365 70.1752 M62.9365 66.4715 Q68.7467 66.4715 71.8022 71.0779 Q74.8809 75.6612 74.8809 84.4112 Q74.8809 93.138 71.8022 97.7445 Q68.7467 102.328 62.9365 102.328 Q57.1264 102.328 54.0477 97.7445 Q50.9921 93.138 50.9921 84.4112 Q50.9921 75.6612 54.0477 71.0779 Q57.1264 66.4715 62.9365 66.4715 Z\" fill=\"#000000\" fill-rule=\"nonzero\" fill-opacity=\"1\" /><path clip-path=\"url(#clip970)\" d=\"M83.0984 95.7769 L87.9827 95.7769 L87.9827 101.656 L83.0984 101.656 L83.0984 95.7769 Z\" fill=\"#000000\" fill-rule=\"nonzero\" fill-opacity=\"1\" /><path clip-path=\"url(#clip970)\" d=\"M111.015 71.1705 L99.2095 89.6195 L111.015 89.6195 L111.015 71.1705 M109.788 67.0965 L115.668 67.0965 L115.668 89.6195 L120.598 89.6195 L120.598 93.5084 L115.668 93.5084 L115.668 101.656 L111.015 101.656 L111.015 93.5084 L95.4132 93.5084 L95.4132 88.9945 L109.788 67.0965 Z\" fill=\"#000000\" fill-rule=\"nonzero\" fill-opacity=\"1\" /><polyline clip-path=\"url(#clip972)\" style=\"stroke:#009af9; stroke-linecap:round; stroke-linejoin:round; stroke-width:4; stroke-opacity:1; fill:none\" points=\"218.754,1445.72 239.472,1445.71 260.191,1445.71 280.909,1445.7 301.628,1445.69 322.346,1445.67 343.064,1445.64 363.783,1445.59 384.501,1445.52 405.22,1445.42 425.938,1445.27 446.657,1445.04 467.375,1444.73 488.094,1444.28 508.812,1443.64 529.531,1442.75 550.249,1441.53 570.968,1439.86 591.686,1437.61 612.405,1434.6 633.123,1430.64 653.841,1425.46 674.56,1418.78 695.278,1410.25 715.997,1399.49 736.715,1386.07 757.434,1369.5 778.152,1349.31 798.871,1324.99 819.589,1296.03 840.308,1261.97 861.026,1222.41 881.745,1177.02 902.463,1125.64 923.182,1068.22 943.9,1004.93 964.619,936.144 985.337,862.492 1006.06,784.836 1026.77,704.291 1047.49,622.207 1068.21,540.137 1088.93,459.796 1109.65,383.008 1130.37,311.637 1151.08,247.515 1171.8,192.365 1192.52,147.72 1213.24,114.861 1233.96,94.7481 1254.68,87.9763 1275.4,94.7481 1296.11,114.861 1316.83,147.72 1337.55,192.365 1358.27,247.515 1378.99,311.637 1399.71,383.008 1420.42,459.796 1441.14,540.137 1461.86,622.207 1482.58,704.291 1503.3,784.836 1524.02,862.492 1544.74,936.144 1565.45,1004.93 1586.17,1068.22 1606.89,1125.64 1627.61,1177.02 1648.33,1222.41 1669.05,1261.97 1689.76,1296.03 1710.48,1324.99 1731.2,1349.31 1751.92,1369.5 1772.64,1386.07 1793.36,1399.49 1814.08,1410.25 1834.79,1418.78 1855.51,1425.46 1876.23,1430.64 1896.95,1434.6 1917.67,1437.61 1938.39,1439.86 1959.11,1441.53 1979.82,1442.75 2000.54,1443.64 2021.26,1444.28 2041.98,1444.73 2062.7,1445.04 2083.42,1445.27 2104.13,1445.42 2124.85,1445.52 2145.57,1445.59 2166.29,1445.64 2187.01,1445.67 2207.73,1445.69 2228.45,1445.7 2249.16,1445.71 2269.88,1445.71 2290.6,1445.72 \"/>\n",
       "<path clip-path=\"url(#clip970)\" d=\"M1788.39 198.898 L2279.55 198.898 L2279.55 95.2176 L1788.39 95.2176  Z\" fill=\"#ffffff\" fill-rule=\"evenodd\" fill-opacity=\"1\"/>\n",
       "<polyline clip-path=\"url(#clip970)\" style=\"stroke:#000000; stroke-linecap:round; stroke-linejoin:round; stroke-width:4; stroke-opacity:1; fill:none\" points=\"1788.39,198.898 2279.55,198.898 2279.55,95.2176 1788.39,95.2176 1788.39,198.898 \"/>\n",
       "<polyline clip-path=\"url(#clip970)\" style=\"stroke:#009af9; stroke-linecap:round; stroke-linejoin:round; stroke-width:4; stroke-opacity:1; fill:none\" points=\"1812.79,147.058 1959.2,147.058 \"/>\n",
       "<path clip-path=\"url(#clip970)\" d=\"M1983.6 129.778 L1989.9 129.778 L2005.22 158.689 L2005.22 129.778 L2009.76 129.778 L2009.76 164.338 L2003.46 164.338 L1988.14 135.426 L1988.14 164.338 L1983.6 164.338 L1983.6 129.778 Z\" fill=\"#000000\" fill-rule=\"nonzero\" fill-opacity=\"1\" /><path clip-path=\"url(#clip970)\" d=\"M2028.92 141.398 Q2025.5 141.398 2023.51 144.083 Q2021.52 146.745 2021.52 151.398 Q2021.52 156.051 2023.48 158.736 Q2025.47 161.398 2028.92 161.398 Q2032.33 161.398 2034.32 158.713 Q2036.31 156.027 2036.31 151.398 Q2036.31 146.791 2034.32 144.106 Q2032.33 141.398 2028.92 141.398 M2028.92 137.787 Q2034.48 137.787 2037.65 141.398 Q2040.82 145.009 2040.82 151.398 Q2040.82 157.764 2037.65 161.398 Q2034.48 165.009 2028.92 165.009 Q2023.34 165.009 2020.17 161.398 Q2017.03 157.764 2017.03 151.398 Q2017.03 145.009 2020.17 141.398 Q2023.34 137.787 2028.92 137.787 Z\" fill=\"#000000\" fill-rule=\"nonzero\" fill-opacity=\"1\" /><path clip-path=\"url(#clip970)\" d=\"M2062.9 142.393 Q2062.19 141.977 2061.33 141.791 Q2060.5 141.583 2059.48 141.583 Q2055.87 141.583 2053.92 143.944 Q2052 146.282 2052 150.68 L2052 164.338 L2047.72 164.338 L2047.72 138.412 L2052 138.412 L2052 142.44 Q2053.34 140.078 2055.5 138.944 Q2057.65 137.787 2060.73 137.787 Q2061.17 137.787 2061.7 137.856 Q2062.23 137.903 2062.88 138.018 L2062.9 142.393 Z\" fill=\"#000000\" fill-rule=\"nonzero\" fill-opacity=\"1\" /><path clip-path=\"url(#clip970)\" d=\"M2086.72 143.389 Q2088.32 140.518 2090.54 139.153 Q2092.77 137.787 2095.77 137.787 Q2099.83 137.787 2102.02 140.634 Q2104.22 143.458 2104.22 148.689 L2104.22 164.338 L2099.94 164.338 L2099.94 148.828 Q2099.94 145.102 2098.62 143.296 Q2097.3 141.49 2094.59 141.49 Q2091.28 141.49 2089.36 143.69 Q2087.44 145.889 2087.44 149.685 L2087.44 164.338 L2083.16 164.338 L2083.16 148.828 Q2083.16 145.078 2081.84 143.296 Q2080.52 141.49 2077.77 141.49 Q2074.5 141.49 2072.58 143.713 Q2070.66 145.912 2070.66 149.685 L2070.66 164.338 L2066.38 164.338 L2066.38 138.412 L2070.66 138.412 L2070.66 142.44 Q2072.12 140.055 2074.15 138.921 Q2076.19 137.787 2078.99 137.787 Q2081.82 137.787 2083.78 139.222 Q2085.77 140.657 2086.72 143.389 Z\" fill=\"#000000\" fill-rule=\"nonzero\" fill-opacity=\"1\" /><path clip-path=\"url(#clip970)\" d=\"M2124.5 151.305 Q2119.34 151.305 2117.35 152.486 Q2115.36 153.666 2115.36 156.514 Q2115.36 158.782 2116.84 160.125 Q2118.34 161.444 2120.91 161.444 Q2124.46 161.444 2126.58 158.944 Q2128.74 156.421 2128.74 152.254 L2128.74 151.305 L2124.5 151.305 M2133 149.546 L2133 164.338 L2128.74 164.338 L2128.74 160.402 Q2127.28 162.763 2125.1 163.898 Q2122.93 165.009 2119.78 165.009 Q2115.8 165.009 2113.44 162.787 Q2111.1 160.541 2111.1 156.791 Q2111.1 152.416 2114.02 150.194 Q2116.96 147.972 2122.77 147.972 L2128.74 147.972 L2128.74 147.555 Q2128.74 144.615 2126.79 143.018 Q2124.87 141.398 2121.38 141.398 Q2119.15 141.398 2117.05 141.93 Q2114.94 142.463 2113 143.527 L2113 139.592 Q2115.33 138.69 2117.53 138.25 Q2119.73 137.787 2121.82 137.787 Q2127.44 137.787 2130.22 140.703 Q2133 143.62 2133 149.546 Z\" fill=\"#000000\" fill-rule=\"nonzero\" fill-opacity=\"1\" /><path clip-path=\"url(#clip970)\" d=\"M2141.77 128.319 L2146.03 128.319 L2146.03 164.338 L2141.77 164.338 L2141.77 128.319 Z\" fill=\"#000000\" fill-rule=\"nonzero\" fill-opacity=\"1\" /><path clip-path=\"url(#clip970)\" d=\"M2174.87 133.62 L2174.87 146.606 L2180.75 146.606 Q2184.02 146.606 2185.8 144.916 Q2187.58 143.227 2187.58 140.102 Q2187.58 137 2185.8 135.31 Q2184.02 133.62 2180.75 133.62 L2174.87 133.62 M2170.2 129.778 L2180.75 129.778 Q2186.56 129.778 2189.52 132.416 Q2192.51 135.032 2192.51 140.102 Q2192.51 145.217 2189.52 147.833 Q2186.56 150.449 2180.75 150.449 L2174.87 150.449 L2174.87 164.338 L2170.2 164.338 L2170.2 129.778 Z\" fill=\"#000000\" fill-rule=\"nonzero\" fill-opacity=\"1\" /><path clip-path=\"url(#clip970)\" d=\"M2203.46 133.62 L2203.46 160.495 L2209.11 160.495 Q2216.26 160.495 2219.57 157.254 Q2222.9 154.014 2222.9 147.023 Q2222.9 140.078 2219.57 136.861 Q2216.26 133.62 2209.11 133.62 L2203.46 133.62 M2198.78 129.778 L2208.39 129.778 Q2218.44 129.778 2223.14 133.967 Q2227.83 138.134 2227.83 147.023 Q2227.83 155.958 2223.11 160.148 Q2218.39 164.338 2208.39 164.338 L2198.78 164.338 L2198.78 129.778 Z\" fill=\"#000000\" fill-rule=\"nonzero\" fill-opacity=\"1\" /><path clip-path=\"url(#clip970)\" d=\"M2235.29 129.778 L2255.15 129.778 L2255.15 133.713 L2239.96 133.713 L2239.96 143.898 L2253.67 143.898 L2253.67 147.833 L2239.96 147.833 L2239.96 164.338 L2235.29 164.338 L2235.29 129.778 Z\" fill=\"#000000\" fill-rule=\"nonzero\" fill-opacity=\"1\" /></svg>\n"
      ]
     },
     "metadata": {},
     "output_type": "display_data"
    }
   ],
   "source": [
    "plot(xrange, pdf, label = \"Normal PDF\")"
   ]
  }
 ],
 "metadata": {
  "kernelspec": {
   "display_name": "Julia 1.9.0",
   "language": "julia",
   "name": "julia-1.9"
  },
  "language_info": {
   "file_extension": ".jl",
   "mimetype": "application/julia",
   "name": "julia",
   "version": "1.9.0"
  },
  "orig_nbformat": 4
 },
 "nbformat": 4,
 "nbformat_minor": 2
}
