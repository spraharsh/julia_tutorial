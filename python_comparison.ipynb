{
 "cells": [
  {
   "cell_type": "code",
   "execution_count": 16,
   "metadata": {},
   "outputs": [],
   "source": [
    "import random\n",
    "import numpy as np\n",
    "\n",
    "def target(x):\n",
    "    if 0 <= x <= 1:\n",
    "        return 2 * x\n",
    "    else:\n",
    "        return 0.0\n",
    "\n",
    "def proposal(x):\n",
    "    return x + random.uniform(-0.1, 0.1)\n",
    "\n",
    "def metropolis_hastings(n_samples):\n",
    "    samples = []\n",
    "    curr = random.random()  # Start from a random position in [0, 1]\n",
    "    \n",
    "    for i in range(n_samples):\n",
    "        next_ = proposal(curr)\n",
    "        acceptance_ratio = target(next_) / target(curr)\n",
    "        if random.random() < acceptance_ratio:\n",
    "            curr = next_\n",
    "        samples.append(curr)\n",
    "    return samples"
   ]
  },
  {
   "cell_type": "code",
   "execution_count": 17,
   "metadata": {},
   "outputs": [
    {
     "name": "stdout",
     "output_type": "stream",
     "text": [
      "CPU times: user 6.76 s, sys: 72 ms, total: 6.83 s\n",
      "Wall time: 6.83 s\n"
     ]
    }
   ],
   "source": [
    "%time s = metropolis_hastings(int(1e7));"
   ]
  },
  {
   "cell_type": "code",
   "execution_count": 3,
   "metadata": {},
   "outputs": [],
   "source": [
    "# plot normed histogram of samples to double check\n",
    "import matplotlib.pyplot as plt\n",
    "%matplotlib inline"
   ]
  },
  {
   "cell_type": "code",
   "execution_count": 19,
   "metadata": {},
   "outputs": [
    {
     "name": "stdout",
     "output_type": "stream",
     "text": [
      "CPU times: user 18.6 s, sys: 708 ms, total: 19.3 s\n",
      "Wall time: 19.3 s\n"
     ]
    },
    {
     "data": {
      "text/plain": [
       "(array([0.01089165, 0.02979451, 0.04969753, 0.07349114, 0.09377421,\n",
       "        0.11404728, 0.13450038, 0.15345325, 0.17614669, 0.19636975,\n",
       "        0.2165028 , 0.23685589, 0.2560888 , 0.28060252, 0.2983152 ,\n",
       "        0.31781816, 0.33932141, 0.35866434, 0.37869738, 0.40102076,\n",
       "        0.41620306, 0.44145689, 0.45638915, 0.47795242, 0.49460494,\n",
       "        0.52314927, 0.54078194, 0.55608426, 0.57633733, 0.59821064,\n",
       "        0.61339294, 0.63740658, 0.65899985, 0.67853281, 0.69123473,\n",
       "        0.71531838, 0.73209092, 0.74660312, 0.7695566 , 0.79114987,\n",
       "        0.81195303, 0.83187604, 0.84530808, 0.87049189, 0.8830738 ,\n",
       "        0.90035642, 0.92619033, 0.94713351, 0.97112714, 0.98476921,\n",
       "        1.00553236, 1.02979603, 1.03875739, 1.06280103, 1.08642461,\n",
       "        1.10653766, 1.12282013, 1.14389332, 1.16906713, 1.18715988,\n",
       "        1.20367238, 1.23056645, 1.23867768, 1.27332293, 1.28138415,\n",
       "        1.30834824, 1.32087014, 1.34562389, 1.37040764, 1.38872042,\n",
       "        1.41381422, 1.42860646, 1.44677921, 1.47596363, 1.49021579,\n",
       "        1.51257918, 1.52605122, 1.54386392, 1.56324686, 1.59245128,\n",
       "        1.6070535 , 1.62814669, 1.65353054, 1.66880285, 1.68423519,\n",
       "        1.69756721, 1.72135081, 1.7450044 , 1.76440734, 1.78715078,\n",
       "        1.80092287, 1.83002728, 1.84166905, 1.87510411, 1.88109502,\n",
       "        1.91014942, 1.92287135, 1.93814366, 1.97265889, 1.97351902]),\n",
       " array([1.51198113e-04, 1.01496829e-02, 2.01481678e-02, 3.01466526e-02,\n",
       "        4.01451374e-02, 5.01436222e-02, 6.01421071e-02, 7.01405919e-02,\n",
       "        8.01390767e-02, 9.01375615e-02, 1.00136046e-01, 1.10134531e-01,\n",
       "        1.20133016e-01, 1.30131501e-01, 1.40129986e-01, 1.50128470e-01,\n",
       "        1.60126955e-01, 1.70125440e-01, 1.80123925e-01, 1.90122410e-01,\n",
       "        2.00120895e-01, 2.10119379e-01, 2.20117864e-01, 2.30116349e-01,\n",
       "        2.40114834e-01, 2.50113319e-01, 2.60111804e-01, 2.70110288e-01,\n",
       "        2.80108773e-01, 2.90107258e-01, 3.00105743e-01, 3.10104228e-01,\n",
       "        3.20102712e-01, 3.30101197e-01, 3.40099682e-01, 3.50098167e-01,\n",
       "        3.60096652e-01, 3.70095137e-01, 3.80093621e-01, 3.90092106e-01,\n",
       "        4.00090591e-01, 4.10089076e-01, 4.20087561e-01, 4.30086046e-01,\n",
       "        4.40084530e-01, 4.50083015e-01, 4.60081500e-01, 4.70079985e-01,\n",
       "        4.80078470e-01, 4.90076955e-01, 5.00075439e-01, 5.10073924e-01,\n",
       "        5.20072409e-01, 5.30070894e-01, 5.40069379e-01, 5.50067863e-01,\n",
       "        5.60066348e-01, 5.70064833e-01, 5.80063318e-01, 5.90061803e-01,\n",
       "        6.00060288e-01, 6.10058772e-01, 6.20057257e-01, 6.30055742e-01,\n",
       "        6.40054227e-01, 6.50052712e-01, 6.60051197e-01, 6.70049681e-01,\n",
       "        6.80048166e-01, 6.90046651e-01, 7.00045136e-01, 7.10043621e-01,\n",
       "        7.20042105e-01, 7.30040590e-01, 7.40039075e-01, 7.50037560e-01,\n",
       "        7.60036045e-01, 7.70034530e-01, 7.80033014e-01, 7.90031499e-01,\n",
       "        8.00029984e-01, 8.10028469e-01, 8.20026954e-01, 8.30025439e-01,\n",
       "        8.40023923e-01, 8.50022408e-01, 8.60020893e-01, 8.70019378e-01,\n",
       "        8.80017863e-01, 8.90016347e-01, 9.00014832e-01, 9.10013317e-01,\n",
       "        9.20011802e-01, 9.30010287e-01, 9.40008772e-01, 9.50007256e-01,\n",
       "        9.60005741e-01, 9.70004226e-01, 9.80002711e-01, 9.90001196e-01,\n",
       "        9.99999681e-01]),\n",
       " <BarContainer object of 100 artists>)"
      ]
     },
     "execution_count": 19,
     "metadata": {},
     "output_type": "execute_result"
    },
    {
     "data": {
      "image/png": "[encoded data removed]",
      "text/plain": [
       "<Figure size 640x480 with 1 Axes>"
      ]
     },
     "metadata": {},
     "output_type": "display_data"
    }
   ],
   "source": [
    "%time plt.hist(s, bins=100, density=True)"
   ]
  },
  {
   "cell_type": "markdown",
   "metadata": {},
   "source": [
    "### attempt to make faster with numpy (numpy random makes it slower)"
   ]
  },
  {
   "cell_type": "code",
   "execution_count": 11,
   "metadata": {},
   "outputs": [],
   "source": [
    "import random\n",
    "import numpy as np\n",
    "\n",
    "def target(x):\n",
    "    if 0 <= x <= 1:\n",
    "        return 2 * x\n",
    "    else:\n",
    "        return 0.0\n",
    "\n",
    "def proposal(x):\n",
    "    return x + random.uniform(-0.1, 0.1)\n",
    "\n",
    "def metropolis_hastings(n_samples):\n",
    "    samples = np.zeros(n_samples)\n",
    "    curr = random.random()  # Start from a random position in [0, 1]\n",
    "    \n",
    "    for i in range(n_samples):\n",
    "        next_ = proposal(curr)\n",
    "        acceptance_ratio = target(next_) / target(curr)\n",
    "        if random.random() < acceptance_ratio:\n",
    "            curr = next_\n",
    "        samples[i] = (curr)\n",
    "    return samples"
   ]
  },
  {
   "cell_type": "code",
   "execution_count": 15,
   "metadata": {},
   "outputs": [
    {
     "name": "stdout",
     "output_type": "stream",
     "text": [
      "CPU times: user 6.8 s, sys: 64 ms, total: 6.87 s\n",
      "Wall time: 6.87 s\n"
     ]
    }
   ],
   "source": [
    "%time s = metropolis_hastings(int(1e7));"
   ]
  },
  {
   "cell_type": "code",
   "execution_count": null,
   "metadata": {},
   "outputs": [],
   "source": []
  }
 ],
 "metadata": {
  "kernelspec": {
   "display_name": "cb3-3.9",
   "language": "python",
   "name": "python3"
  },
  "language_info": {
   "codemirror_mode": {
    "name": "ipython",
    "version": 3
   },
   "file_extension": ".py",
   "mimetype": "text/x-python",
   "name": "python",
   "nbconvert_exporter": "python",
   "pygments_lexer": "ipython3",
   "version": "3.9.13"
  },
  "orig_nbformat": 4
 },
 "nbformat": 4,
 "nbformat_minor": 2
}
