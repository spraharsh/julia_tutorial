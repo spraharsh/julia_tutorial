{
 "cells": [
  {
   "cell_type": "code",
   "execution_count": 14,
   "metadata": {},
   "outputs": [],
   "source": [
    "import random\n",
    "import numpy as np\n",
    "\n",
    "def target(x):\n",
    "    if 0 <= x <= 1:\n",
    "        return 2 * x\n",
    "    else:\n",
    "        return 0.0\n",
    "\n",
    "def proposal(x):\n",
    "    return x + random.uniform(-0.1, 0.1)\n",
    "\n",
    "def metropolis_hastings(n_samples):\n",
    "    samples = []\n",
    "    curr = random.random()  # Start from a random position in [0, 1]\n",
    "    \n",
    "    for i in range(n_samples):\n",
    "        next_ = proposal(curr)\n",
    "        acceptance_ratio = target(next_) / target(curr)\n",
    "        if random.random() < acceptance_ratio:\n",
    "            curr = next_\n",
    "        samples.append(curr)\n",
    "    return samples"
   ]
  },
  {
   "cell_type": "code",
   "execution_count": 8,
   "metadata": {},
   "outputs": [
    {
     "name": "stdout",
     "output_type": "stream",
     "text": [
      "CPU times: user 37.8 s, sys: 24.2 ms, total: 37.9 s\n",
      "Wall time: 37.9 s\n"
     ]
    }
   ],
   "source": [
    "%time s = metropolis_hastings(int(1e7));"
   ]
  },
  {
   "cell_type": "code",
   "execution_count": 3,
   "metadata": {},
   "outputs": [],
   "source": [
    "# plot normed histogram of samples to double check\n",
    "import matplotlib.pyplot as plt\n",
    "%matplotlib inline"
   ]
  },
  {
   "cell_type": "code",
   "execution_count": 4,
   "metadata": {},
   "outputs": [
    {
     "data": {
      "text/plain": [
       "(array([0.01089675, 0.03150952, 0.05258257, 0.07008341, 0.09256734,\n",
       "        0.11255972, 0.12851961, 0.15312485, 0.17297715, 0.19377003,\n",
       "        0.21254165, 0.23658655, 0.25207614, 0.27203851, 0.29508278,\n",
       "        0.31615583, 0.3353077 , 0.35544017, 0.3708297 , 0.3932636 ,\n",
       "        0.41245548, 0.43309827, 0.44869793, 0.47419373, 0.49120426,\n",
       "        0.51174699, 0.53043857, 0.54923021, 0.56737144, 0.59696978,\n",
       "        0.61295968, 0.6289696 , 0.65025278, 0.67025517, 0.6911181 ,\n",
       "        0.71313173, 0.73701653, 0.74983447, 0.77149788, 0.79807435,\n",
       "        0.81232317, 0.83371642, 0.85470943, 0.87175999, 0.89896684,\n",
       "        0.91284544, 0.93620991, 0.95720291, 0.97200208, 0.99106389,\n",
       "        1.01221699, 1.03399048, 1.05144129, 1.07096338, 1.0889145 ,\n",
       "        1.11473049, 1.13249149, 1.15248388, 1.17234618, 1.19006716,\n",
       "        1.21260111, 1.23302376, 1.25624815, 1.27299853, 1.29421167,\n",
       "        1.30289705, 1.33047413, 1.34554346, 1.36487544, 1.38530809,\n",
       "        1.40681141, 1.42285135, 1.44620582, 1.47230198, 1.48704111,\n",
       "        1.50574269, 1.52452433, 1.5554735 , 1.56260792, 1.58750334,\n",
       "        1.60456391, 1.62675765, 1.64554929, 1.66519146, 1.68813567,\n",
       "        1.70911867, 1.72453822, 1.74737236, 1.76305208, 1.78639654,\n",
       "        1.80265661, 1.83132437, 1.84907536, 1.85943178, 1.88969052,\n",
       "        1.90706128, 1.92641327, 1.94926742, 1.96236554, 1.99789755]),\n",
       " array([6.19266907e-04, 1.06130727e-02, 2.06068784e-02, 3.06006842e-02,\n",
       "        4.05944899e-02, 5.05882957e-02, 6.05821014e-02, 7.05759072e-02,\n",
       "        8.05697130e-02, 9.05635187e-02, 1.00557324e-01, 1.10551130e-01,\n",
       "        1.20544936e-01, 1.30538742e-01, 1.40532548e-01, 1.50526353e-01,\n",
       "        1.60520159e-01, 1.70513965e-01, 1.80507771e-01, 1.90501576e-01,\n",
       "        2.00495382e-01, 2.10489188e-01, 2.20482994e-01, 2.30476799e-01,\n",
       "        2.40470605e-01, 2.50464411e-01, 2.60458217e-01, 2.70452022e-01,\n",
       "        2.80445828e-01, 2.90439634e-01, 3.00433440e-01, 3.10427245e-01,\n",
       "        3.20421051e-01, 3.30414857e-01, 3.40408663e-01, 3.50402468e-01,\n",
       "        3.60396274e-01, 3.70390080e-01, 3.80383886e-01, 3.90377691e-01,\n",
       "        4.00371497e-01, 4.10365303e-01, 4.20359109e-01, 4.30352914e-01,\n",
       "        4.40346720e-01, 4.50340526e-01, 4.60334332e-01, 4.70328137e-01,\n",
       "        4.80321943e-01, 4.90315749e-01, 5.00309555e-01, 5.10303361e-01,\n",
       "        5.20297166e-01, 5.30290972e-01, 5.40284778e-01, 5.50278584e-01,\n",
       "        5.60272389e-01, 5.70266195e-01, 5.80260001e-01, 5.90253807e-01,\n",
       "        6.00247612e-01, 6.10241418e-01, 6.20235224e-01, 6.30229030e-01,\n",
       "        6.40222835e-01, 6.50216641e-01, 6.60210447e-01, 6.70204253e-01,\n",
       "        6.80198058e-01, 6.90191864e-01, 7.00185670e-01, 7.10179476e-01,\n",
       "        7.20173281e-01, 7.30167087e-01, 7.40160893e-01, 7.50154699e-01,\n",
       "        7.60148504e-01, 7.70142310e-01, 7.80136116e-01, 7.90129922e-01,\n",
       "        8.00123727e-01, 8.10117533e-01, 8.20111339e-01, 8.30105145e-01,\n",
       "        8.40098951e-01, 8.50092756e-01, 8.60086562e-01, 8.70080368e-01,\n",
       "        8.80074174e-01, 8.90067979e-01, 9.00061785e-01, 9.10055591e-01,\n",
       "        9.20049397e-01, 9.30043202e-01, 9.40037008e-01, 9.50030814e-01,\n",
       "        9.60024620e-01, 9.70018425e-01, 9.80012231e-01, 9.90006037e-01,\n",
       "        9.99999843e-01]),\n",
       " <BarContainer object of 100 artists>)"
      ]
     },
     "execution_count": 4,
     "metadata": {},
     "output_type": "execute_result"
    },
    {
     "data": {
      "image/png": "[encoded data removed]",
      "text/plain": [
       "<Figure size 640x480 with 1 Axes>"
      ]
     },
     "metadata": {},
     "output_type": "display_data"
    }
   ],
   "source": [
    "plt.hist(s, bins=100, density=True)"
   ]
  },
  {
   "cell_type": "markdown",
   "metadata": {},
   "source": [
    "### attempt to make faster with numpy (numpy random makes it slower)"
   ]
  },
  {
   "cell_type": "code",
   "execution_count": 11,
   "metadata": {},
   "outputs": [],
   "source": [
    "import random\n",
    "import numpy as np\n",
    "\n",
    "def target(x):\n",
    "    if 0 <= x <= 1:\n",
    "        return 2 * x\n",
    "    else:\n",
    "        return 0.0\n",
    "\n",
    "def proposal(x):\n",
    "    return x + random.uniform(-0.1, 0.1)\n",
    "\n",
    "def metropolis_hastings(n_samples):\n",
    "    samples = np.zeros(n_samples)\n",
    "    curr = random.random()  # Start from a random position in [0, 1]\n",
    "    \n",
    "    for i in range(n_samples):\n",
    "        next_ = proposal(curr)\n",
    "        acceptance_ratio = target(next_) / target(curr)\n",
    "        if random.random() < acceptance_ratio:\n",
    "            curr = next_\n",
    "        samples[i] = (curr)\n",
    "    return samples"
   ]
  },
  {
   "cell_type": "code",
   "execution_count": 15,
   "metadata": {},
   "outputs": [],
   "source": [
    "%time s = metropolis_hastings(int(1e7));"
   ]
  },
  {
   "cell_type": "code",
   "execution_count": null,
   "metadata": {},
   "outputs": [],
   "source": []
  }
 ],
 "metadata": {
  "kernelspec": {
   "display_name": "cb3-3.9",
   "language": "python",
   "name": "python3"
  },
  "language_info": {
   "codemirror_mode": {
    "name": "ipython",
    "version": 3
   },
   "file_extension": ".py",
   "mimetype": "text/x-python",
   "name": "python",
   "nbconvert_exporter": "python",
   "pygments_lexer": "ipython3",
   "version": "3.9.13"
  },
  "orig_nbformat": 4
 },
 "nbformat": 4,
 "nbformat_minor": 2
}
